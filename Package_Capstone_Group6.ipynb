{
  "nbformat": 4,
  "nbformat_minor": 0,
  "metadata": {
    "colab": {
      "provenance": [],
      "include_colab_link": true
    },
    "kernelspec": {
      "name": "python3",
      "display_name": "Python 3"
    },
    "language_info": {
      "name": "python"
    }
  },
  "cells": [
    {
      "cell_type": "markdown",
      "metadata": {
        "id": "view-in-github",
        "colab_type": "text"
      },
      "source": [
        "<a href=\"https://colab.research.google.com/github/iisc-ts-group6/capstone/blob/siri/Package_Capstone_Group6.ipynb\" target=\"_parent\"><img src=\"https://colab.research.google.com/assets/colab-badge.svg\" alt=\"Open In Colab\"/></a>"
      ]
    },
    {
      "cell_type": "markdown",
      "source": [
        "# Automated answer evaluation"
      ],
      "metadata": {
        "id": "uldzzwqgO-Fz"
      }
    },
    {
      "cell_type": "markdown",
      "source": [
        "**1. Installing and importing packages**"
      ],
      "metadata": {
        "id": "N8_c3epBPFxl"
      }
    },
    {
      "cell_type": "code",
      "execution_count": null,
      "metadata": {
        "colab": {
          "base_uri": "https://localhost:8080/"
        },
        "collapsed": true,
        "id": "yQfgNt-vO0r5",
        "outputId": "3a801c01-7c77-44a2-e228-65ec108307d4"
      },
      "outputs": [
        {
          "output_type": "stream",
          "name": "stdout",
          "text": [
            "Requirement already satisfied: openai in /usr/local/lib/python3.10/dist-packages (1.35.3)\n",
            "Requirement already satisfied: anyio<5,>=3.5.0 in /usr/local/lib/python3.10/dist-packages (from openai) (3.7.1)\n",
            "Requirement already satisfied: distro<2,>=1.7.0 in /usr/lib/python3/dist-packages (from openai) (1.7.0)\n",
            "Requirement already satisfied: httpx<1,>=0.23.0 in /usr/local/lib/python3.10/dist-packages (from openai) (0.27.0)\n",
            "Requirement already satisfied: pydantic<3,>=1.9.0 in /usr/local/lib/python3.10/dist-packages (from openai) (2.7.4)\n",
            "Requirement already satisfied: sniffio in /usr/local/lib/python3.10/dist-packages (from openai) (1.3.1)\n",
            "Requirement already satisfied: tqdm>4 in /usr/local/lib/python3.10/dist-packages (from openai) (4.66.4)\n",
            "Requirement already satisfied: typing-extensions<5,>=4.7 in /usr/local/lib/python3.10/dist-packages (from openai) (4.12.2)\n",
            "Requirement already satisfied: idna>=2.8 in /usr/local/lib/python3.10/dist-packages (from anyio<5,>=3.5.0->openai) (3.7)\n",
            "Requirement already satisfied: exceptiongroup in /usr/local/lib/python3.10/dist-packages (from anyio<5,>=3.5.0->openai) (1.2.1)\n",
            "Requirement already satisfied: certifi in /usr/local/lib/python3.10/dist-packages (from httpx<1,>=0.23.0->openai) (2024.6.2)\n",
            "Requirement already satisfied: httpcore==1.* in /usr/local/lib/python3.10/dist-packages (from httpx<1,>=0.23.0->openai) (1.0.5)\n",
            "Requirement already satisfied: h11<0.15,>=0.13 in /usr/local/lib/python3.10/dist-packages (from httpcore==1.*->httpx<1,>=0.23.0->openai) (0.14.0)\n",
            "Requirement already satisfied: annotated-types>=0.4.0 in /usr/local/lib/python3.10/dist-packages (from pydantic<3,>=1.9.0->openai) (0.7.0)\n",
            "Requirement already satisfied: pydantic-core==2.18.4 in /usr/local/lib/python3.10/dist-packages (from pydantic<3,>=1.9.0->openai) (2.18.4)\n",
            "Requirement already satisfied: langchain in /usr/local/lib/python3.10/dist-packages (0.2.5)\n",
            "Requirement already satisfied: PyYAML>=5.3 in /usr/local/lib/python3.10/dist-packages (from langchain) (6.0.1)\n",
            "Requirement already satisfied: SQLAlchemy<3,>=1.4 in /usr/local/lib/python3.10/dist-packages (from langchain) (2.0.30)\n",
            "Requirement already satisfied: aiohttp<4.0.0,>=3.8.3 in /usr/local/lib/python3.10/dist-packages (from langchain) (3.9.5)\n",
            "Requirement already satisfied: async-timeout<5.0.0,>=4.0.0 in /usr/local/lib/python3.10/dist-packages (from langchain) (4.0.3)\n",
            "Requirement already satisfied: langchain-core<0.3.0,>=0.2.7 in /usr/local/lib/python3.10/dist-packages (from langchain) (0.2.9)\n",
            "Requirement already satisfied: langchain-text-splitters<0.3.0,>=0.2.0 in /usr/local/lib/python3.10/dist-packages (from langchain) (0.2.1)\n",
            "Requirement already satisfied: langsmith<0.2.0,>=0.1.17 in /usr/local/lib/python3.10/dist-packages (from langchain) (0.1.81)\n",
            "Requirement already satisfied: numpy<2,>=1 in /usr/local/lib/python3.10/dist-packages (from langchain) (1.25.2)\n",
            "Requirement already satisfied: pydantic<3,>=1 in /usr/local/lib/python3.10/dist-packages (from langchain) (2.7.4)\n",
            "Requirement already satisfied: requests<3,>=2 in /usr/local/lib/python3.10/dist-packages (from langchain) (2.31.0)\n",
            "Requirement already satisfied: tenacity<9.0.0,>=8.1.0 in /usr/local/lib/python3.10/dist-packages (from langchain) (8.4.1)\n",
            "Requirement already satisfied: aiosignal>=1.1.2 in /usr/local/lib/python3.10/dist-packages (from aiohttp<4.0.0,>=3.8.3->langchain) (1.3.1)\n",
            "Requirement already satisfied: attrs>=17.3.0 in /usr/local/lib/python3.10/dist-packages (from aiohttp<4.0.0,>=3.8.3->langchain) (23.2.0)\n",
            "Requirement already satisfied: frozenlist>=1.1.1 in /usr/local/lib/python3.10/dist-packages (from aiohttp<4.0.0,>=3.8.3->langchain) (1.4.1)\n",
            "Requirement already satisfied: multidict<7.0,>=4.5 in /usr/local/lib/python3.10/dist-packages (from aiohttp<4.0.0,>=3.8.3->langchain) (6.0.5)\n",
            "Requirement already satisfied: yarl<2.0,>=1.0 in /usr/local/lib/python3.10/dist-packages (from aiohttp<4.0.0,>=3.8.3->langchain) (1.9.4)\n",
            "Requirement already satisfied: jsonpatch<2.0,>=1.33 in /usr/local/lib/python3.10/dist-packages (from langchain-core<0.3.0,>=0.2.7->langchain) (1.33)\n",
            "Requirement already satisfied: packaging<25,>=23.2 in /usr/local/lib/python3.10/dist-packages (from langchain-core<0.3.0,>=0.2.7->langchain) (24.1)\n",
            "Requirement already satisfied: orjson<4.0.0,>=3.9.14 in /usr/local/lib/python3.10/dist-packages (from langsmith<0.2.0,>=0.1.17->langchain) (3.10.5)\n",
            "Requirement already satisfied: annotated-types>=0.4.0 in /usr/local/lib/python3.10/dist-packages (from pydantic<3,>=1->langchain) (0.7.0)\n",
            "Requirement already satisfied: pydantic-core==2.18.4 in /usr/local/lib/python3.10/dist-packages (from pydantic<3,>=1->langchain) (2.18.4)\n",
            "Requirement already satisfied: typing-extensions>=4.6.1 in /usr/local/lib/python3.10/dist-packages (from pydantic<3,>=1->langchain) (4.12.2)\n",
            "Requirement already satisfied: charset-normalizer<4,>=2 in /usr/local/lib/python3.10/dist-packages (from requests<3,>=2->langchain) (3.3.2)\n",
            "Requirement already satisfied: idna<4,>=2.5 in /usr/local/lib/python3.10/dist-packages (from requests<3,>=2->langchain) (3.7)\n",
            "Requirement already satisfied: urllib3<3,>=1.21.1 in /usr/local/lib/python3.10/dist-packages (from requests<3,>=2->langchain) (2.0.7)\n",
            "Requirement already satisfied: certifi>=2017.4.17 in /usr/local/lib/python3.10/dist-packages (from requests<3,>=2->langchain) (2024.6.2)\n",
            "Requirement already satisfied: greenlet!=0.4.17 in /usr/local/lib/python3.10/dist-packages (from SQLAlchemy<3,>=1.4->langchain) (3.0.3)\n",
            "Requirement already satisfied: jsonpointer>=1.9 in /usr/local/lib/python3.10/dist-packages (from jsonpatch<2.0,>=1.33->langchain-core<0.3.0,>=0.2.7->langchain) (3.0.0)\n",
            "Requirement already satisfied: langchain-openai in /usr/local/lib/python3.10/dist-packages (0.1.9)\n",
            "Requirement already satisfied: langchain-core<0.3,>=0.2.2 in /usr/local/lib/python3.10/dist-packages (from langchain-openai) (0.2.9)\n",
            "Requirement already satisfied: openai<2.0.0,>=1.26.0 in /usr/local/lib/python3.10/dist-packages (from langchain-openai) (1.35.3)\n",
            "Requirement already satisfied: tiktoken<1,>=0.7 in /usr/local/lib/python3.10/dist-packages (from langchain-openai) (0.7.0)\n",
            "Requirement already satisfied: PyYAML>=5.3 in /usr/local/lib/python3.10/dist-packages (from langchain-core<0.3,>=0.2.2->langchain-openai) (6.0.1)\n",
            "Requirement already satisfied: jsonpatch<2.0,>=1.33 in /usr/local/lib/python3.10/dist-packages (from langchain-core<0.3,>=0.2.2->langchain-openai) (1.33)\n",
            "Requirement already satisfied: langsmith<0.2.0,>=0.1.75 in /usr/local/lib/python3.10/dist-packages (from langchain-core<0.3,>=0.2.2->langchain-openai) (0.1.81)\n",
            "Requirement already satisfied: packaging<25,>=23.2 in /usr/local/lib/python3.10/dist-packages (from langchain-core<0.3,>=0.2.2->langchain-openai) (24.1)\n",
            "Requirement already satisfied: pydantic<3,>=1 in /usr/local/lib/python3.10/dist-packages (from langchain-core<0.3,>=0.2.2->langchain-openai) (2.7.4)\n",
            "Requirement already satisfied: tenacity!=8.4.0,<9.0.0,>=8.1.0 in /usr/local/lib/python3.10/dist-packages (from langchain-core<0.3,>=0.2.2->langchain-openai) (8.4.1)\n",
            "Requirement already satisfied: anyio<5,>=3.5.0 in /usr/local/lib/python3.10/dist-packages (from openai<2.0.0,>=1.26.0->langchain-openai) (3.7.1)\n",
            "Requirement already satisfied: distro<2,>=1.7.0 in /usr/lib/python3/dist-packages (from openai<2.0.0,>=1.26.0->langchain-openai) (1.7.0)\n",
            "Requirement already satisfied: httpx<1,>=0.23.0 in /usr/local/lib/python3.10/dist-packages (from openai<2.0.0,>=1.26.0->langchain-openai) (0.27.0)\n",
            "Requirement already satisfied: sniffio in /usr/local/lib/python3.10/dist-packages (from openai<2.0.0,>=1.26.0->langchain-openai) (1.3.1)\n",
            "Requirement already satisfied: tqdm>4 in /usr/local/lib/python3.10/dist-packages (from openai<2.0.0,>=1.26.0->langchain-openai) (4.66.4)\n",
            "Requirement already satisfied: typing-extensions<5,>=4.7 in /usr/local/lib/python3.10/dist-packages (from openai<2.0.0,>=1.26.0->langchain-openai) (4.12.2)\n",
            "Requirement already satisfied: regex>=2022.1.18 in /usr/local/lib/python3.10/dist-packages (from tiktoken<1,>=0.7->langchain-openai) (2024.5.15)\n",
            "Requirement already satisfied: requests>=2.26.0 in /usr/local/lib/python3.10/dist-packages (from tiktoken<1,>=0.7->langchain-openai) (2.31.0)\n",
            "Requirement already satisfied: idna>=2.8 in /usr/local/lib/python3.10/dist-packages (from anyio<5,>=3.5.0->openai<2.0.0,>=1.26.0->langchain-openai) (3.7)\n",
            "Requirement already satisfied: exceptiongroup in /usr/local/lib/python3.10/dist-packages (from anyio<5,>=3.5.0->openai<2.0.0,>=1.26.0->langchain-openai) (1.2.1)\n",
            "Requirement already satisfied: certifi in /usr/local/lib/python3.10/dist-packages (from httpx<1,>=0.23.0->openai<2.0.0,>=1.26.0->langchain-openai) (2024.6.2)\n",
            "Requirement already satisfied: httpcore==1.* in /usr/local/lib/python3.10/dist-packages (from httpx<1,>=0.23.0->openai<2.0.0,>=1.26.0->langchain-openai) (1.0.5)\n",
            "Requirement already satisfied: h11<0.15,>=0.13 in /usr/local/lib/python3.10/dist-packages (from httpcore==1.*->httpx<1,>=0.23.0->openai<2.0.0,>=1.26.0->langchain-openai) (0.14.0)\n",
            "Requirement already satisfied: jsonpointer>=1.9 in /usr/local/lib/python3.10/dist-packages (from jsonpatch<2.0,>=1.33->langchain-core<0.3,>=0.2.2->langchain-openai) (3.0.0)\n",
            "Requirement already satisfied: orjson<4.0.0,>=3.9.14 in /usr/local/lib/python3.10/dist-packages (from langsmith<0.2.0,>=0.1.75->langchain-core<0.3,>=0.2.2->langchain-openai) (3.10.5)\n",
            "Requirement already satisfied: annotated-types>=0.4.0 in /usr/local/lib/python3.10/dist-packages (from pydantic<3,>=1->langchain-core<0.3,>=0.2.2->langchain-openai) (0.7.0)\n",
            "Requirement already satisfied: pydantic-core==2.18.4 in /usr/local/lib/python3.10/dist-packages (from pydantic<3,>=1->langchain-core<0.3,>=0.2.2->langchain-openai) (2.18.4)\n",
            "Requirement already satisfied: charset-normalizer<4,>=2 in /usr/local/lib/python3.10/dist-packages (from requests>=2.26.0->tiktoken<1,>=0.7->langchain-openai) (3.3.2)\n",
            "Requirement already satisfied: urllib3<3,>=1.21.1 in /usr/local/lib/python3.10/dist-packages (from requests>=2.26.0->tiktoken<1,>=0.7->langchain-openai) (2.0.7)\n",
            "Requirement already satisfied: pypdf in /usr/local/lib/python3.10/dist-packages (4.2.0)\n",
            "Requirement already satisfied: typing_extensions>=4.0 in /usr/local/lib/python3.10/dist-packages (from pypdf) (4.12.2)\n",
            "Requirement already satisfied: chromadb in /usr/local/lib/python3.10/dist-packages (0.5.3)\n",
            "Requirement already satisfied: build>=1.0.3 in /usr/local/lib/python3.10/dist-packages (from chromadb) (1.2.1)\n",
            "Requirement already satisfied: requests>=2.28 in /usr/local/lib/python3.10/dist-packages (from chromadb) (2.31.0)\n",
            "Requirement already satisfied: pydantic>=1.9 in /usr/local/lib/python3.10/dist-packages (from chromadb) (2.7.4)\n",
            "Requirement already satisfied: chroma-hnswlib==0.7.3 in /usr/local/lib/python3.10/dist-packages (from chromadb) (0.7.3)\n",
            "Requirement already satisfied: fastapi>=0.95.2 in /usr/local/lib/python3.10/dist-packages (from chromadb) (0.111.0)\n",
            "Requirement already satisfied: uvicorn[standard]>=0.18.3 in /usr/local/lib/python3.10/dist-packages (from chromadb) (0.30.1)\n",
            "Requirement already satisfied: numpy<2.0.0,>=1.22.5 in /usr/local/lib/python3.10/dist-packages (from chromadb) (1.25.2)\n",
            "Requirement already satisfied: posthog>=2.4.0 in /usr/local/lib/python3.10/dist-packages (from chromadb) (3.5.0)\n",
            "Requirement already satisfied: typing-extensions>=4.5.0 in /usr/local/lib/python3.10/dist-packages (from chromadb) (4.12.2)\n",
            "Requirement already satisfied: onnxruntime>=1.14.1 in /usr/local/lib/python3.10/dist-packages (from chromadb) (1.18.0)\n",
            "Requirement already satisfied: opentelemetry-api>=1.2.0 in /usr/local/lib/python3.10/dist-packages (from chromadb) (1.25.0)\n",
            "Requirement already satisfied: opentelemetry-exporter-otlp-proto-grpc>=1.2.0 in /usr/local/lib/python3.10/dist-packages (from chromadb) (1.25.0)\n",
            "Requirement already satisfied: opentelemetry-instrumentation-fastapi>=0.41b0 in /usr/local/lib/python3.10/dist-packages (from chromadb) (0.46b0)\n",
            "Requirement already satisfied: opentelemetry-sdk>=1.2.0 in /usr/local/lib/python3.10/dist-packages (from chromadb) (1.25.0)\n",
            "Requirement already satisfied: tokenizers>=0.13.2 in /usr/local/lib/python3.10/dist-packages (from chromadb) (0.19.1)\n",
            "Requirement already satisfied: pypika>=0.48.9 in /usr/local/lib/python3.10/dist-packages (from chromadb) (0.48.9)\n",
            "Requirement already satisfied: tqdm>=4.65.0 in /usr/local/lib/python3.10/dist-packages (from chromadb) (4.66.4)\n",
            "Requirement already satisfied: overrides>=7.3.1 in /usr/local/lib/python3.10/dist-packages (from chromadb) (7.7.0)\n",
            "Requirement already satisfied: importlib-resources in /usr/local/lib/python3.10/dist-packages (from chromadb) (6.4.0)\n",
            "Requirement already satisfied: grpcio>=1.58.0 in /usr/local/lib/python3.10/dist-packages (from chromadb) (1.64.1)\n",
            "Requirement already satisfied: bcrypt>=4.0.1 in /usr/local/lib/python3.10/dist-packages (from chromadb) (4.1.3)\n",
            "Requirement already satisfied: typer>=0.9.0 in /usr/local/lib/python3.10/dist-packages (from chromadb) (0.12.3)\n",
            "Requirement already satisfied: kubernetes>=28.1.0 in /usr/local/lib/python3.10/dist-packages (from chromadb) (30.1.0)\n",
            "Requirement already satisfied: tenacity>=8.2.3 in /usr/local/lib/python3.10/dist-packages (from chromadb) (8.4.1)\n",
            "Requirement already satisfied: PyYAML>=6.0.0 in /usr/local/lib/python3.10/dist-packages (from chromadb) (6.0.1)\n",
            "Requirement already satisfied: mmh3>=4.0.1 in /usr/local/lib/python3.10/dist-packages (from chromadb) (4.1.0)\n",
            "Requirement already satisfied: orjson>=3.9.12 in /usr/local/lib/python3.10/dist-packages (from chromadb) (3.10.5)\n",
            "Requirement already satisfied: httpx>=0.27.0 in /usr/local/lib/python3.10/dist-packages (from chromadb) (0.27.0)\n",
            "Requirement already satisfied: packaging>=19.1 in /usr/local/lib/python3.10/dist-packages (from build>=1.0.3->chromadb) (24.1)\n",
            "Requirement already satisfied: pyproject_hooks in /usr/local/lib/python3.10/dist-packages (from build>=1.0.3->chromadb) (1.1.0)\n",
            "Requirement already satisfied: tomli>=1.1.0 in /usr/local/lib/python3.10/dist-packages (from build>=1.0.3->chromadb) (2.0.1)\n",
            "Requirement already satisfied: starlette<0.38.0,>=0.37.2 in /usr/local/lib/python3.10/dist-packages (from fastapi>=0.95.2->chromadb) (0.37.2)\n",
            "Requirement already satisfied: fastapi-cli>=0.0.2 in /usr/local/lib/python3.10/dist-packages (from fastapi>=0.95.2->chromadb) (0.0.4)\n",
            "Requirement already satisfied: jinja2>=2.11.2 in /usr/local/lib/python3.10/dist-packages (from fastapi>=0.95.2->chromadb) (3.1.4)\n",
            "Requirement already satisfied: python-multipart>=0.0.7 in /usr/local/lib/python3.10/dist-packages (from fastapi>=0.95.2->chromadb) (0.0.9)\n",
            "Requirement already satisfied: ujson!=4.0.2,!=4.1.0,!=4.2.0,!=4.3.0,!=5.0.0,!=5.1.0,>=4.0.1 in /usr/local/lib/python3.10/dist-packages (from fastapi>=0.95.2->chromadb) (5.10.0)\n",
            "Requirement already satisfied: email_validator>=2.0.0 in /usr/local/lib/python3.10/dist-packages (from fastapi>=0.95.2->chromadb) (2.2.0)\n",
            "Requirement already satisfied: anyio in /usr/local/lib/python3.10/dist-packages (from httpx>=0.27.0->chromadb) (3.7.1)\n",
            "Requirement already satisfied: certifi in /usr/local/lib/python3.10/dist-packages (from httpx>=0.27.0->chromadb) (2024.6.2)\n",
            "Requirement already satisfied: httpcore==1.* in /usr/local/lib/python3.10/dist-packages (from httpx>=0.27.0->chromadb) (1.0.5)\n",
            "Requirement already satisfied: idna in /usr/local/lib/python3.10/dist-packages (from httpx>=0.27.0->chromadb) (3.7)\n",
            "Requirement already satisfied: sniffio in /usr/local/lib/python3.10/dist-packages (from httpx>=0.27.0->chromadb) (1.3.1)\n",
            "Requirement already satisfied: h11<0.15,>=0.13 in /usr/local/lib/python3.10/dist-packages (from httpcore==1.*->httpx>=0.27.0->chromadb) (0.14.0)\n",
            "Requirement already satisfied: six>=1.9.0 in /usr/local/lib/python3.10/dist-packages (from kubernetes>=28.1.0->chromadb) (1.16.0)\n",
            "Requirement already satisfied: python-dateutil>=2.5.3 in /usr/local/lib/python3.10/dist-packages (from kubernetes>=28.1.0->chromadb) (2.8.2)\n",
            "Requirement already satisfied: google-auth>=1.0.1 in /usr/local/lib/python3.10/dist-packages (from kubernetes>=28.1.0->chromadb) (2.27.0)\n",
            "Requirement already satisfied: websocket-client!=0.40.0,!=0.41.*,!=0.42.*,>=0.32.0 in /usr/local/lib/python3.10/dist-packages (from kubernetes>=28.1.0->chromadb) (1.8.0)\n",
            "Requirement already satisfied: requests-oauthlib in /usr/local/lib/python3.10/dist-packages (from kubernetes>=28.1.0->chromadb) (1.3.1)\n",
            "Requirement already satisfied: oauthlib>=3.2.2 in /usr/local/lib/python3.10/dist-packages (from kubernetes>=28.1.0->chromadb) (3.2.2)\n",
            "Requirement already satisfied: urllib3>=1.24.2 in /usr/local/lib/python3.10/dist-packages (from kubernetes>=28.1.0->chromadb) (2.0.7)\n",
            "Requirement already satisfied: coloredlogs in /usr/local/lib/python3.10/dist-packages (from onnxruntime>=1.14.1->chromadb) (15.0.1)\n",
            "Requirement already satisfied: flatbuffers in /usr/local/lib/python3.10/dist-packages (from onnxruntime>=1.14.1->chromadb) (24.3.25)\n",
            "Requirement already satisfied: protobuf in /usr/local/lib/python3.10/dist-packages (from onnxruntime>=1.14.1->chromadb) (3.20.3)\n",
            "Requirement already satisfied: sympy in /usr/local/lib/python3.10/dist-packages (from onnxruntime>=1.14.1->chromadb) (1.12.1)\n",
            "Requirement already satisfied: deprecated>=1.2.6 in /usr/local/lib/python3.10/dist-packages (from opentelemetry-api>=1.2.0->chromadb) (1.2.14)\n",
            "Requirement already satisfied: importlib-metadata<=7.1,>=6.0 in /usr/local/lib/python3.10/dist-packages (from opentelemetry-api>=1.2.0->chromadb) (7.1.0)\n",
            "Requirement already satisfied: googleapis-common-protos~=1.52 in /usr/local/lib/python3.10/dist-packages (from opentelemetry-exporter-otlp-proto-grpc>=1.2.0->chromadb) (1.63.1)\n",
            "Requirement already satisfied: opentelemetry-exporter-otlp-proto-common==1.25.0 in /usr/local/lib/python3.10/dist-packages (from opentelemetry-exporter-otlp-proto-grpc>=1.2.0->chromadb) (1.25.0)\n",
            "Requirement already satisfied: opentelemetry-proto==1.25.0 in /usr/local/lib/python3.10/dist-packages (from opentelemetry-exporter-otlp-proto-grpc>=1.2.0->chromadb) (1.25.0)\n",
            "Requirement already satisfied: opentelemetry-instrumentation-asgi==0.46b0 in /usr/local/lib/python3.10/dist-packages (from opentelemetry-instrumentation-fastapi>=0.41b0->chromadb) (0.46b0)\n",
            "Requirement already satisfied: opentelemetry-instrumentation==0.46b0 in /usr/local/lib/python3.10/dist-packages (from opentelemetry-instrumentation-fastapi>=0.41b0->chromadb) (0.46b0)\n",
            "Requirement already satisfied: opentelemetry-semantic-conventions==0.46b0 in /usr/local/lib/python3.10/dist-packages (from opentelemetry-instrumentation-fastapi>=0.41b0->chromadb) (0.46b0)\n",
            "Requirement already satisfied: opentelemetry-util-http==0.46b0 in /usr/local/lib/python3.10/dist-packages (from opentelemetry-instrumentation-fastapi>=0.41b0->chromadb) (0.46b0)\n",
            "Requirement already satisfied: setuptools>=16.0 in /usr/local/lib/python3.10/dist-packages (from opentelemetry-instrumentation==0.46b0->opentelemetry-instrumentation-fastapi>=0.41b0->chromadb) (67.7.2)\n",
            "Requirement already satisfied: wrapt<2.0.0,>=1.0.0 in /usr/local/lib/python3.10/dist-packages (from opentelemetry-instrumentation==0.46b0->opentelemetry-instrumentation-fastapi>=0.41b0->chromadb) (1.14.1)\n",
            "Requirement already satisfied: asgiref~=3.0 in /usr/local/lib/python3.10/dist-packages (from opentelemetry-instrumentation-asgi==0.46b0->opentelemetry-instrumentation-fastapi>=0.41b0->chromadb) (3.8.1)\n",
            "Requirement already satisfied: monotonic>=1.5 in /usr/local/lib/python3.10/dist-packages (from posthog>=2.4.0->chromadb) (1.6)\n",
            "Requirement already satisfied: backoff>=1.10.0 in /usr/local/lib/python3.10/dist-packages (from posthog>=2.4.0->chromadb) (2.2.1)\n",
            "Requirement already satisfied: annotated-types>=0.4.0 in /usr/local/lib/python3.10/dist-packages (from pydantic>=1.9->chromadb) (0.7.0)\n",
            "Requirement already satisfied: pydantic-core==2.18.4 in /usr/local/lib/python3.10/dist-packages (from pydantic>=1.9->chromadb) (2.18.4)\n",
            "Requirement already satisfied: charset-normalizer<4,>=2 in /usr/local/lib/python3.10/dist-packages (from requests>=2.28->chromadb) (3.3.2)\n",
            "Requirement already satisfied: huggingface-hub<1.0,>=0.16.4 in /usr/local/lib/python3.10/dist-packages (from tokenizers>=0.13.2->chromadb) (0.23.4)\n",
            "Requirement already satisfied: click>=8.0.0 in /usr/local/lib/python3.10/dist-packages (from typer>=0.9.0->chromadb) (8.1.7)\n",
            "Requirement already satisfied: shellingham>=1.3.0 in /usr/local/lib/python3.10/dist-packages (from typer>=0.9.0->chromadb) (1.5.4)\n",
            "Requirement already satisfied: rich>=10.11.0 in /usr/local/lib/python3.10/dist-packages (from typer>=0.9.0->chromadb) (13.7.1)\n",
            "Requirement already satisfied: httptools>=0.5.0 in /usr/local/lib/python3.10/dist-packages (from uvicorn[standard]>=0.18.3->chromadb) (0.6.1)\n",
            "Requirement already satisfied: python-dotenv>=0.13 in /usr/local/lib/python3.10/dist-packages (from uvicorn[standard]>=0.18.3->chromadb) (1.0.1)\n",
            "Requirement already satisfied: uvloop!=0.15.0,!=0.15.1,>=0.14.0 in /usr/local/lib/python3.10/dist-packages (from uvicorn[standard]>=0.18.3->chromadb) (0.19.0)\n",
            "Requirement already satisfied: watchfiles>=0.13 in /usr/local/lib/python3.10/dist-packages (from uvicorn[standard]>=0.18.3->chromadb) (0.22.0)\n",
            "Requirement already satisfied: websockets>=10.4 in /usr/local/lib/python3.10/dist-packages (from uvicorn[standard]>=0.18.3->chromadb) (12.0)\n",
            "Requirement already satisfied: dnspython>=2.0.0 in /usr/local/lib/python3.10/dist-packages (from email_validator>=2.0.0->fastapi>=0.95.2->chromadb) (2.6.1)\n",
            "Requirement already satisfied: cachetools<6.0,>=2.0.0 in /usr/local/lib/python3.10/dist-packages (from google-auth>=1.0.1->kubernetes>=28.1.0->chromadb) (5.3.3)\n",
            "Requirement already satisfied: pyasn1-modules>=0.2.1 in /usr/local/lib/python3.10/dist-packages (from google-auth>=1.0.1->kubernetes>=28.1.0->chromadb) (0.4.0)\n",
            "Requirement already satisfied: rsa<5,>=3.1.4 in /usr/local/lib/python3.10/dist-packages (from google-auth>=1.0.1->kubernetes>=28.1.0->chromadb) (4.9)\n",
            "Requirement already satisfied: filelock in /usr/local/lib/python3.10/dist-packages (from huggingface-hub<1.0,>=0.16.4->tokenizers>=0.13.2->chromadb) (3.15.1)\n",
            "Requirement already satisfied: fsspec>=2023.5.0 in /usr/local/lib/python3.10/dist-packages (from huggingface-hub<1.0,>=0.16.4->tokenizers>=0.13.2->chromadb) (2023.6.0)\n",
            "Requirement already satisfied: zipp>=0.5 in /usr/local/lib/python3.10/dist-packages (from importlib-metadata<=7.1,>=6.0->opentelemetry-api>=1.2.0->chromadb) (3.19.2)\n",
            "Requirement already satisfied: MarkupSafe>=2.0 in /usr/local/lib/python3.10/dist-packages (from jinja2>=2.11.2->fastapi>=0.95.2->chromadb) (2.1.5)\n",
            "Requirement already satisfied: markdown-it-py>=2.2.0 in /usr/local/lib/python3.10/dist-packages (from rich>=10.11.0->typer>=0.9.0->chromadb) (3.0.0)\n",
            "Requirement already satisfied: pygments<3.0.0,>=2.13.0 in /usr/local/lib/python3.10/dist-packages (from rich>=10.11.0->typer>=0.9.0->chromadb) (2.16.1)\n",
            "Requirement already satisfied: exceptiongroup in /usr/local/lib/python3.10/dist-packages (from anyio->httpx>=0.27.0->chromadb) (1.2.1)\n",
            "Requirement already satisfied: humanfriendly>=9.1 in /usr/local/lib/python3.10/dist-packages (from coloredlogs->onnxruntime>=1.14.1->chromadb) (10.0)\n",
            "Requirement already satisfied: mpmath<1.4.0,>=1.1.0 in /usr/local/lib/python3.10/dist-packages (from sympy->onnxruntime>=1.14.1->chromadb) (1.3.0)\n",
            "Requirement already satisfied: mdurl~=0.1 in /usr/local/lib/python3.10/dist-packages (from markdown-it-py>=2.2.0->rich>=10.11.0->typer>=0.9.0->chromadb) (0.1.2)\n",
            "Requirement already satisfied: pyasn1<0.7.0,>=0.4.6 in /usr/local/lib/python3.10/dist-packages (from pyasn1-modules>=0.2.1->google-auth>=1.0.1->kubernetes>=28.1.0->chromadb) (0.6.0)\n",
            "Requirement already satisfied: tiktoken in /usr/local/lib/python3.10/dist-packages (0.7.0)\n",
            "Requirement already satisfied: regex>=2022.1.18 in /usr/local/lib/python3.10/dist-packages (from tiktoken) (2024.5.15)\n",
            "Requirement already satisfied: requests>=2.26.0 in /usr/local/lib/python3.10/dist-packages (from tiktoken) (2.31.0)\n",
            "Requirement already satisfied: charset-normalizer<4,>=2 in /usr/local/lib/python3.10/dist-packages (from requests>=2.26.0->tiktoken) (3.3.2)\n",
            "Requirement already satisfied: idna<4,>=2.5 in /usr/local/lib/python3.10/dist-packages (from requests>=2.26.0->tiktoken) (3.7)\n",
            "Requirement already satisfied: urllib3<3,>=1.21.1 in /usr/local/lib/python3.10/dist-packages (from requests>=2.26.0->tiktoken) (2.0.7)\n",
            "Requirement already satisfied: certifi>=2017.4.17 in /usr/local/lib/python3.10/dist-packages (from requests>=2.26.0->tiktoken) (2024.6.2)\n",
            "\u001b[31mERROR: Could not find a version that satisfies the requirement langchain-communityv (from versions: none)\u001b[0m\u001b[31m\n",
            "\u001b[0m\u001b[31mERROR: No matching distribution found for langchain-communityv\u001b[0m\u001b[31m\n",
            "\u001b[0m"
          ]
        }
      ],
      "source": [
        "!pip install openai\n",
        "!pip install langchain\n",
        "!pip install langchain-openai\n",
        "!pip install pypdf\n",
        "!pip install chromadb\n",
        "!pip install tiktoken\n",
        "!pip install langchain-community"
      ]
    },
    {
      "cell_type": "code",
      "source": [
        "!pip install langchain-community"
      ],
      "metadata": {
        "colab": {
          "base_uri": "https://localhost:8080/"
        },
        "collapsed": true,
        "id": "_OwyxoxIrD6D",
        "outputId": "5846498d-4d11-4f67-863a-7f80926abcdc"
      },
      "execution_count": null,
      "outputs": [
        {
          "output_type": "stream",
          "name": "stdout",
          "text": [
            "Collecting langchain-community\n",
            "  Downloading langchain_community-0.2.5-py3-none-any.whl (2.2 MB)\n",
            "\u001b[2K     \u001b[90m━━━━━━━━━━━━━━━━━━━━━━━━━━━━━━━━━━━━━━━━\u001b[0m \u001b[32m2.2/2.2 MB\u001b[0m \u001b[31m10.0 MB/s\u001b[0m eta \u001b[36m0:00:00\u001b[0m\n",
            "\u001b[?25hRequirement already satisfied: PyYAML>=5.3 in /usr/local/lib/python3.10/dist-packages (from langchain-community) (6.0.1)\n",
            "Requirement already satisfied: SQLAlchemy<3,>=1.4 in /usr/local/lib/python3.10/dist-packages (from langchain-community) (2.0.30)\n",
            "Requirement already satisfied: aiohttp<4.0.0,>=3.8.3 in /usr/local/lib/python3.10/dist-packages (from langchain-community) (3.9.5)\n",
            "Collecting dataclasses-json<0.7,>=0.5.7 (from langchain-community)\n",
            "  Downloading dataclasses_json-0.6.7-py3-none-any.whl (28 kB)\n",
            "Requirement already satisfied: langchain<0.3.0,>=0.2.5 in /usr/local/lib/python3.10/dist-packages (from langchain-community) (0.2.5)\n",
            "Requirement already satisfied: langchain-core<0.3.0,>=0.2.7 in /usr/local/lib/python3.10/dist-packages (from langchain-community) (0.2.9)\n",
            "Requirement already satisfied: langsmith<0.2.0,>=0.1.0 in /usr/local/lib/python3.10/dist-packages (from langchain-community) (0.1.81)\n",
            "Requirement already satisfied: numpy<2,>=1 in /usr/local/lib/python3.10/dist-packages (from langchain-community) (1.25.2)\n",
            "Requirement already satisfied: requests<3,>=2 in /usr/local/lib/python3.10/dist-packages (from langchain-community) (2.31.0)\n",
            "Requirement already satisfied: tenacity<9.0.0,>=8.1.0 in /usr/local/lib/python3.10/dist-packages (from langchain-community) (8.4.1)\n",
            "Requirement already satisfied: aiosignal>=1.1.2 in /usr/local/lib/python3.10/dist-packages (from aiohttp<4.0.0,>=3.8.3->langchain-community) (1.3.1)\n",
            "Requirement already satisfied: attrs>=17.3.0 in /usr/local/lib/python3.10/dist-packages (from aiohttp<4.0.0,>=3.8.3->langchain-community) (23.2.0)\n",
            "Requirement already satisfied: frozenlist>=1.1.1 in /usr/local/lib/python3.10/dist-packages (from aiohttp<4.0.0,>=3.8.3->langchain-community) (1.4.1)\n",
            "Requirement already satisfied: multidict<7.0,>=4.5 in /usr/local/lib/python3.10/dist-packages (from aiohttp<4.0.0,>=3.8.3->langchain-community) (6.0.5)\n",
            "Requirement already satisfied: yarl<2.0,>=1.0 in /usr/local/lib/python3.10/dist-packages (from aiohttp<4.0.0,>=3.8.3->langchain-community) (1.9.4)\n",
            "Requirement already satisfied: async-timeout<5.0,>=4.0 in /usr/local/lib/python3.10/dist-packages (from aiohttp<4.0.0,>=3.8.3->langchain-community) (4.0.3)\n",
            "Collecting marshmallow<4.0.0,>=3.18.0 (from dataclasses-json<0.7,>=0.5.7->langchain-community)\n",
            "  Downloading marshmallow-3.21.3-py3-none-any.whl (49 kB)\n",
            "\u001b[2K     \u001b[90m━━━━━━━━━━━━━━━━━━━━━━━━━━━━━━━━━━━━━━━━\u001b[0m \u001b[32m49.2/49.2 kB\u001b[0m \u001b[31m5.7 MB/s\u001b[0m eta \u001b[36m0:00:00\u001b[0m\n",
            "\u001b[?25hCollecting typing-inspect<1,>=0.4.0 (from dataclasses-json<0.7,>=0.5.7->langchain-community)\n",
            "  Downloading typing_inspect-0.9.0-py3-none-any.whl (8.8 kB)\n",
            "Requirement already satisfied: langchain-text-splitters<0.3.0,>=0.2.0 in /usr/local/lib/python3.10/dist-packages (from langchain<0.3.0,>=0.2.5->langchain-community) (0.2.1)\n",
            "Requirement already satisfied: pydantic<3,>=1 in /usr/local/lib/python3.10/dist-packages (from langchain<0.3.0,>=0.2.5->langchain-community) (2.7.4)\n",
            "Requirement already satisfied: jsonpatch<2.0,>=1.33 in /usr/local/lib/python3.10/dist-packages (from langchain-core<0.3.0,>=0.2.7->langchain-community) (1.33)\n",
            "Requirement already satisfied: packaging<25,>=23.2 in /usr/local/lib/python3.10/dist-packages (from langchain-core<0.3.0,>=0.2.7->langchain-community) (24.1)\n",
            "Requirement already satisfied: orjson<4.0.0,>=3.9.14 in /usr/local/lib/python3.10/dist-packages (from langsmith<0.2.0,>=0.1.0->langchain-community) (3.10.5)\n",
            "Requirement already satisfied: charset-normalizer<4,>=2 in /usr/local/lib/python3.10/dist-packages (from requests<3,>=2->langchain-community) (3.3.2)\n",
            "Requirement already satisfied: idna<4,>=2.5 in /usr/local/lib/python3.10/dist-packages (from requests<3,>=2->langchain-community) (3.7)\n",
            "Requirement already satisfied: urllib3<3,>=1.21.1 in /usr/local/lib/python3.10/dist-packages (from requests<3,>=2->langchain-community) (2.0.7)\n",
            "Requirement already satisfied: certifi>=2017.4.17 in /usr/local/lib/python3.10/dist-packages (from requests<3,>=2->langchain-community) (2024.6.2)\n",
            "Requirement already satisfied: typing-extensions>=4.6.0 in /usr/local/lib/python3.10/dist-packages (from SQLAlchemy<3,>=1.4->langchain-community) (4.12.2)\n",
            "Requirement already satisfied: greenlet!=0.4.17 in /usr/local/lib/python3.10/dist-packages (from SQLAlchemy<3,>=1.4->langchain-community) (3.0.3)\n",
            "Requirement already satisfied: jsonpointer>=1.9 in /usr/local/lib/python3.10/dist-packages (from jsonpatch<2.0,>=1.33->langchain-core<0.3.0,>=0.2.7->langchain-community) (3.0.0)\n",
            "Requirement already satisfied: annotated-types>=0.4.0 in /usr/local/lib/python3.10/dist-packages (from pydantic<3,>=1->langchain<0.3.0,>=0.2.5->langchain-community) (0.7.0)\n",
            "Requirement already satisfied: pydantic-core==2.18.4 in /usr/local/lib/python3.10/dist-packages (from pydantic<3,>=1->langchain<0.3.0,>=0.2.5->langchain-community) (2.18.4)\n",
            "Collecting mypy-extensions>=0.3.0 (from typing-inspect<1,>=0.4.0->dataclasses-json<0.7,>=0.5.7->langchain-community)\n",
            "  Downloading mypy_extensions-1.0.0-py3-none-any.whl (4.7 kB)\n",
            "Installing collected packages: mypy-extensions, marshmallow, typing-inspect, dataclasses-json, langchain-community\n",
            "Successfully installed dataclasses-json-0.6.7 langchain-community-0.2.5 marshmallow-3.21.3 mypy-extensions-1.0.0 typing-inspect-0.9.0\n"
          ]
        }
      ]
    },
    {
      "cell_type": "code",
      "source": [
        "!pip install langchainhub"
      ],
      "metadata": {
        "colab": {
          "base_uri": "https://localhost:8080/"
        },
        "id": "ei9NZcOKwCTF",
        "outputId": "fbd55fcf-0fe9-4614-aaf8-0f3b34e7cbfa"
      },
      "execution_count": null,
      "outputs": [
        {
          "output_type": "stream",
          "name": "stdout",
          "text": [
            "Collecting langchainhub\n",
            "  Downloading langchainhub-0.1.20-py3-none-any.whl (5.0 kB)\n",
            "Requirement already satisfied: packaging<25,>=23.2 in /usr/local/lib/python3.10/dist-packages (from langchainhub) (24.1)\n",
            "Requirement already satisfied: requests<3,>=2 in /usr/local/lib/python3.10/dist-packages (from langchainhub) (2.31.0)\n",
            "Collecting types-requests<3.0.0.0,>=2.31.0.2 (from langchainhub)\n",
            "  Downloading types_requests-2.32.0.20240622-py3-none-any.whl (15 kB)\n",
            "Requirement already satisfied: charset-normalizer<4,>=2 in /usr/local/lib/python3.10/dist-packages (from requests<3,>=2->langchainhub) (3.3.2)\n",
            "Requirement already satisfied: idna<4,>=2.5 in /usr/local/lib/python3.10/dist-packages (from requests<3,>=2->langchainhub) (3.7)\n",
            "Requirement already satisfied: urllib3<3,>=1.21.1 in /usr/local/lib/python3.10/dist-packages (from requests<3,>=2->langchainhub) (2.0.7)\n",
            "Requirement already satisfied: certifi>=2017.4.17 in /usr/local/lib/python3.10/dist-packages (from requests<3,>=2->langchainhub) (2024.6.2)\n",
            "Installing collected packages: types-requests, langchainhub\n",
            "Successfully installed langchainhub-0.1.20 types-requests-2.32.0.20240622\n"
          ]
        }
      ]
    },
    {
      "cell_type": "markdown",
      "source": [
        "Imports"
      ],
      "metadata": {
        "id": "MOZm6nMFPWei"
      }
    },
    {
      "cell_type": "code",
      "source": [
        "import os\n",
        "import openai\n",
        "import numpy as np"
      ],
      "metadata": {
        "id": "t0mDibKUPaKr"
      },
      "execution_count": null,
      "outputs": []
    },
    {
      "cell_type": "markdown",
      "source": [
        "**Authentication for OpenAI API**"
      ],
      "metadata": {
        "id": "xz_-IlowPbP9"
      }
    },
    {
      "cell_type": "code",
      "source": [
        "f = open('/content/openapi_key.txt')\n",
        "api_key = f.read()\n",
        "os.environ['OPENAI_API_KEY'] = api_key\n",
        "openai.api_key= os.getenv('OPENAI_API_KEY')"
      ],
      "metadata": {
        "id": "Vv3IKqCnPe-T"
      },
      "execution_count": null,
      "outputs": []
    },
    {
      "cell_type": "markdown",
      "source": [
        "**Loading the documents**"
      ],
      "metadata": {
        "id": "bH7mR86mPgto"
      }
    },
    {
      "cell_type": "code",
      "source": [
        "from langchain_community.document_loaders import PyPDFLoader\n",
        "\n",
        "# Load PDF pypdf2\n",
        "loaders = [\n",
        "    # Duplicate documents on purpose\n",
        "    PyPDFLoader(\"/content/ncertbio.pdf\"),\n",
        "\n",
        "]\n",
        "docs = []\n",
        "for loader in loaders:\n",
        "    docs.extend(loader.load())"
      ],
      "metadata": {
        "id": "MOL5qdCbPjzH"
      },
      "execution_count": null,
      "outputs": []
    },
    {
      "cell_type": "markdown",
      "source": [
        "**print them**"
      ],
      "metadata": {
        "id": "D69Cig3gPlf_"
      }
    },
    {
      "cell_type": "code",
      "source": [
        "print(docs[0].page_content)"
      ],
      "metadata": {
        "colab": {
          "base_uri": "https://localhost:8080/"
        },
        "collapsed": true,
        "id": "r5M3hqjpPqCy",
        "outputId": "ccc295de-bac1-42d1-9a7f-9cb7a77f479c"
      },
      "execution_count": null,
      "outputs": [
        {
          "output_type": "stream",
          "name": "stdout",
          "text": [
            "As we look at our surr oundings, we see a lar ge\n",
            "variety of things with dif ferent shapes, sizes\n",
            "and textures. Everything in this universe is\n",
            "made up of material which scientists have\n",
            "named “matter”. The air we br eathe, the food\n",
            "we eat, stones, clouds, stars, plants and\n",
            "animals, even a small dr op of water or a\n",
            "particle of sand — every thing is matter . We\n",
            "can also see as we look around that all the\n",
            "things mentioned above occupy space and\n",
            "have mass. In other words, they have both\n",
            "mass* and volume**.\n",
            "Since early times, human beings have\n",
            "been trying to understand their surr oundings.\n",
            "Early Indian philosophers  classified matter in\n",
            "the form of five basic elements — the “Panch\n",
            "Tatva” — air , earth, fir e, sky and water .\n",
            "Accor\n",
            "ding to them everything, living or non-\n",
            "living, was made up of these five basic\n",
            "elements. Ancient Gr eek philosophers had\n",
            "arrived at a similar classification of matter .\n",
            "Moder n day scientists have evolved two\n",
            "types of classification of matter based on their\n",
            "physical properties and chemical natur e.\n",
            "In this chapter we shall lear n about\n",
            "matter based on its physical pr operties.\n",
            "Chemical aspects of matter will be taken up\n",
            "in subsequent chapters.\n",
            "1.1  Physical Nature of Matter\n",
            "1.1.1 M ATTER  IS MADE  UP OF PARTICLES\n",
            "For a long time, two schools of thought prevailed\n",
            "regarding the natur e of matter . One school\n",
            "believed matter to be continuous like a block\n",
            "of wood, wher eas, the other thought that matter\n",
            "was made up of particles like sand. Let us\n",
            "perform an activity to decide about the natur e\n",
            "of matter  — is it continuous or particulate?Activity ______________ 1.1\n",
            "•Take a 100 mL beaker .\n",
            "•Fill half the beaker with water and\n",
            "mark the level of water .\n",
            "•Dissolve some salt/ sugar with the help\n",
            "of a glass r od.\n",
            "•Observe any change in water level.\n",
            "•What do you think has happened to\n",
            "the salt?\n",
            "•Wher e does it disappear?\n",
            "•Does the level of water change?\n",
            "In or der to answer these questions we\n",
            "need to use the idea that matter is made up\n",
            "of particles. What was ther e in the spoon,  salt\n",
            "or sugar , has now spr ead thr oughout  water .\n",
            "This is  illustrated in Fig. 1.1.\n",
            "1.1.2 HOW SMALL  ARE THESE  PARTICLES\n",
            "OF MATTER ?\n",
            "Activity ______________ 1.2\n",
            "•Take 2–3 crystals of potassium\n",
            "permanganate and dissolve them in\n",
            "100 mL of water .Fig. 1.1: When we dissolve salt in water , the particles\n",
            "of salt get into the spaces between particles\n",
            "of water .\n",
            "*The SI unit of mass is kilogram (kg).\n",
            "**The SI unit of volume is cubic metr e (m3). The common unit of measuring volume is\n",
            "litre (L) such that 1L = 1 dm3, 1L = 1000 mL, 1 mL = 1 cm3.1\n",
            "M MM MMATTERATTERATTER\n",
            "ATTERATTER     IN ININ ININ O  O O  O OUR URUR URUR S  S S  S SURROUNDINGSURROUNDINGSURROUNDINGSURROUNDINGSURROUNDINGSChapter\n",
            "2024-25\n",
            "\n"
          ]
        }
      ]
    },
    {
      "cell_type": "markdown",
      "source": [
        "# Splitting of document"
      ],
      "metadata": {
        "id": "gCG_WyBHPr9v"
      }
    },
    {
      "cell_type": "code",
      "source": [
        "from langchain_text_splitters import RecursiveCharacterTextSplitter"
      ],
      "metadata": {
        "id": "8hYnSzNiPvkB"
      },
      "execution_count": null,
      "outputs": []
    },
    {
      "cell_type": "code",
      "source": [
        "# Split\n",
        "#from langchain.text_splitter import RecursiveCharacterTextSplitter\n",
        "text_splitter = RecursiveCharacterTextSplitter(\n",
        "    chunk_size = 500,\n",
        "    chunk_overlap = 50\n",
        ")"
      ],
      "metadata": {
        "id": "MCUJ4AEbsOM3"
      },
      "execution_count": null,
      "outputs": []
    },
    {
      "cell_type": "code",
      "source": [
        "splits = text_splitter.split_documents(docs)\n",
        "print(len(splits))\n",
        "splits"
      ],
      "metadata": {
        "collapsed": true,
        "colab": {
          "base_uri": "https://localhost:8080/"
        },
        "id": "5JcYJx44sSSM",
        "outputId": "fa81e4f1-ea96-4361-c74e-c0c9bb2f7e27"
      },
      "execution_count": null,
      "outputs": [
        {
          "output_type": "stream",
          "name": "stdout",
          "text": [
            "73\n"
          ]
        },
        {
          "output_type": "execute_result",
          "data": {
            "text/plain": [
              "[Document(page_content='As we look at our surr oundings, we see a lar ge\\nvariety of things with dif ferent shapes, sizes\\nand textures. Everything in this universe is\\nmade up of material which scientists have\\nnamed “matter”. The air we br eathe, the food\\nwe eat, stones, clouds, stars, plants and\\nanimals, even a small dr op of water or a\\nparticle of sand — every thing is matter . We\\ncan also see as we look around that all the\\nthings mentioned above occupy space and\\nhave mass. In other words, they have both', metadata={'source': '/content/ncertbio.pdf', 'page': 0}),\n",
              " Document(page_content='have mass. In other words, they have both\\nmass* and volume**.\\nSince early times, human beings have\\nbeen trying to understand their surr oundings.\\nEarly Indian philosophers  classified matter in\\nthe form of five basic elements — the “Panch\\nTatva” — air , earth, fir e, sky and water .\\nAccor\\nding to them everything, living or non-\\nliving, was made up of these five basic\\nelements. Ancient Gr eek philosophers had\\narrived at a similar classification of matter .\\nModer n day scientists have evolved two', metadata={'source': '/content/ncertbio.pdf', 'page': 0}),\n",
              " Document(page_content='Moder n day scientists have evolved two\\ntypes of classification of matter based on their\\nphysical properties and chemical natur e.\\nIn this chapter we shall lear n about\\nmatter based on its physical pr operties.\\nChemical aspects of matter will be taken up\\nin subsequent chapters.\\n1.1  Physical Nature of Matter\\n1.1.1 M ATTER  IS MADE  UP OF PARTICLES\\nFor a long time, two schools of thought prevailed\\nregarding the natur e of matter . One school\\nbelieved matter to be continuous like a block', metadata={'source': '/content/ncertbio.pdf', 'page': 0}),\n",
              " Document(page_content='believed matter to be continuous like a block\\nof wood, wher eas, the other thought that matter\\nwas made up of particles like sand. Let us\\nperform an activity to decide about the natur e\\nof matter  — is it continuous or particulate?Activity ______________ 1.1\\n•Take a 100 mL beaker .\\n•Fill half the beaker with water and\\nmark the level of water .\\n•Dissolve some salt/ sugar with the help\\nof a glass r od.\\n•Observe any change in water level.\\n•What do you think has happened to\\nthe salt?', metadata={'source': '/content/ncertbio.pdf', 'page': 0}),\n",
              " Document(page_content='•What do you think has happened to\\nthe salt?\\n•Wher e does it disappear?\\n•Does the level of water change?\\nIn or der to answer these questions we\\nneed to use the idea that matter is made up\\nof particles. What was ther e in the spoon,  salt\\nor sugar , has now spr ead thr oughout  water .\\nThis is  illustrated in Fig. 1.1.\\n1.1.2 HOW SMALL  ARE THESE  PARTICLES\\nOF MATTER ?\\nActivity ______________ 1.2\\n•Take 2–3 crystals of potassium\\npermanganate and dissolve them in', metadata={'source': '/content/ncertbio.pdf', 'page': 0}),\n",
              " Document(page_content='permanganate and dissolve them in\\n100 mL of water .Fig. 1.1: When we dissolve salt in water , the particles\\nof salt get into the spaces between particles\\nof water .\\n*The SI unit of mass is kilogram (kg).\\n**The SI unit of volume is cubic metr e (m3). The common unit of measuring volume is\\nlitre (L) such that 1L = 1 dm3, 1L = 1000 mL, 1 mL = 1 cm3.1\\nM MM MMATTERATTERATTER\\nATTERATTER     IN ININ ININ O  O O  O OUR URUR URUR S  S S  S SURROUNDINGSURROUNDINGSURROUNDINGSURROUNDINGSURROUNDINGSChapter', metadata={'source': '/content/ncertbio.pdf', 'page': 0}),\n",
              " Document(page_content='2024-25', metadata={'source': '/content/ncertbio.pdf', 'page': 0}),\n",
              " Document(page_content='SCIENCE 2•Take out approximately 10 mL of this\\nsolution and put it into 90 mL of clear\\nwater .\\n•Take out 10 mL of this solution and\\nput it into another 90 mL of clear water .\\n•Keep diluting the solution like this 5 to\\n8 times.\\n•Is the water still colour ed ?1.2.2 PARTICLES  OF MATTER  ARE\\nCONTINUOUSLY  MOVING\\nActivity Activity Activity Activity Activity 1.3 1.31.3 1.31.3\\n•Put an unlit incense stick in a corner\\nof your class. How close do you have to\\ngo near it so as to get its smell?', metadata={'source': '/content/ncertbio.pdf', 'page': 1}),\n",
              " Document(page_content='go near it so as to get its smell?\\n•Now light the incense stick. What\\nhappens? Do you get the smell sitting\\nat a distance?\\n•Record your observations.\\nActivity Activity Activity Activity Activity 1.4 1.41.4 1.41.4\\n•Take two glasses/beakers filled with\\nwater .\\n•Put a dr op of blue or r ed ink slowly\\nand car efully along the sides of the first\\nbeaker and honey in the same way in\\nthe second beaker .\\n•Leave them undisturbed in your house\\nor in a cor ner of the class.\\n•Recor d your observations.', metadata={'source': '/content/ncertbio.pdf', 'page': 1}),\n",
              " Document(page_content='•Recor d your observations.\\n•What do you observe immediately after\\nadding the ink dr op?\\n•What do you observe immediately after\\nadding a dr op of honey?\\n•How many hours or days does it take\\nfor the colour of ink to spr ead evenly\\nthroughout the water?\\nActivity Activity Activity Activity Activity  1.5  1.5 1.5  1.5 1.5\\n•Drop a crystal of copper sulphate or\\npotassium per manganate into a glass\\nof hot water and another containing\\ncold water . Do not stir the solution.', metadata={'source': '/content/ncertbio.pdf', 'page': 1}),\n",
              " Document(page_content='cold water . Do not stir the solution.\\nAllow the crystals to settle at the\\nbottom.\\n•What do you observe just above the\\nsolid crystal in the glass?\\n•What happens as time passes?\\n•What does this suggest about the\\nparticles of solid and liquid?\\n•Does the rate of mixing change with\\ntemperatur e? Why and how?\\nFrom the above thr ee activities (1.3, 1.4 and\\n1.5), we can conclude the following:Fig. 1.2:  Estimating how small ar e the particles of\\nmatter . With every dilution, though the colour', metadata={'source': '/content/ncertbio.pdf', 'page': 1}),\n",
              " Document(page_content='matter . With every dilution, though the colour\\nbecomes light, it is still visible.\\nThis experiment shows that just a few\\ncrystals of potassium per manganate can\\ncolour a lar ge volume of water (about\\n1000 L). So we conclude that there must be\\nmillions of tiny particles in just one crystal\\nof potassium permanganate, which keep\\non dividing themselves into smaller and\\nsmaller particles.\\nThe same activity can be done using 2 mL\\nof Dettol instead of potassium permanganate.', metadata={'source': '/content/ncertbio.pdf', 'page': 1}),\n",
              " Document(page_content='of Dettol instead of potassium permanganate.\\nThe smell can be detected even on\\nrepeated dilution.\\nThe particles of matter are very small –\\nthey ar e small beyond our imagination!!!!\\n1.2Characteristics of Particles of\\nMatter\\n1.2.1 PARTICLES OF MATTER  HAVE  SPACE\\nBETWEEN THEM\\nIn activities 1.1 and 1.2 we saw that particles\\nof sugar , salt, Dettol, or potassium\\npermanganate got evenly distributed in water .\\nSimilarly, when we make tea, cof fee or\\nlemonade ( nimbu paani ), particles of one type', metadata={'source': '/content/ncertbio.pdf', 'page': 1}),\n",
              " Document(page_content='lemonade ( nimbu paani ), particles of one type\\nof matter get into the spaces between particles\\nof the other . This shows that ther e is enough\\nspace between particles of matter .\\n2024-25', metadata={'source': '/content/ncertbio.pdf', 'page': 1}),\n",
              " Document(page_content='MATTER IN OUR SURROUNDING S 3•If we consider each student as a\\nparticle of matter , then in which gr oup\\nthe particles held each other with the\\nmaximum force?\\nActivity ______________ 1.7\\n•Take an iron nail, a piece of chalk and\\na rubber band.\\n•Try breaking them by hammering,\\ncutting or stretching.\\n•In which of the above three\\nsubstances do you think the particles\\nare held together with greater force?\\nActivity ______________ 1.8\\n•Take some water in a container , try', metadata={'source': '/content/ncertbio.pdf', 'page': 2}),\n",
              " Document(page_content='•Take some water in a container , try\\ncutting the surface of water with your\\nfingers.\\n•Were you able to cut the sur face of\\nwater?\\n•What could be the reason behind the\\nsurface of water remaining together?\\nThe above three activities (1.6, 1.7 and 1.8)\\nsuggest that particles of matter have force\\nacting between them. This force keeps the\\nparticles together . The str ength of this for ce of\\nattraction varies from one kind of matter to\\nanother .\\nuestions\\n1.Which of the following are\\nmatter?', metadata={'source': '/content/ncertbio.pdf', 'page': 2}),\n",
              " Document(page_content='uestions\\n1.Which of the following are\\nmatter?\\nChair , air, love, smell, hate,\\nalmonds, thought, cold, lemon\\nwater , smell of per fume.\\n2.Give reasons for the following\\nobservation:\\nThe smell of hot sizzling food\\nreaches you several metres\\naway, but to get the smell from\\ncold food you have to go close.\\n3.A diver is able to cut through\\nwater in a swimming pool. Which\\nproperty of matter does this\\nobservation show?\\n4.What are the characteristics of', metadata={'source': '/content/ncertbio.pdf', 'page': 2}),\n",
              " Document(page_content='4.What are the characteristics of\\nthe particles of matter?Particles of matter are continuously\\nmoving, that is, they possess what we call\\nthe kinetic ener gy. As the temperatur e rises,\\nparticles move faster . So, we can say that with\\nincrease in temperatur e the kinetic ener gy of\\nthe particles also incr eases.\\nIn the above thr ee activities we observe\\nthat particles of matter inter mix on their own\\nwith each other . They do so by getting into\\nthe spaces between the particles. This', metadata={'source': '/content/ncertbio.pdf', 'page': 2}),\n",
              " Document(page_content='the spaces between the particles. This\\nintermixing of particles of two dif ferent types\\nof matter on their own is called dif fusion. W e\\nalso observe that on heating, dif fusion\\nbecomes faster . Why does this happen?\\n1.2.3 PARTICLES  OF MATTER  ATTRACT\\nEACH OTHER\\nActivity ______________ 1.6\\n•Play this  game in the field— make four\\ngroups and for m human chains as\\nsuggested:\\n•The first group should hold each\\nother from the back and lock arms\\nlike Idu-Mishmi dancers (Fig. 1.3).\\nFig. 1.3', metadata={'source': '/content/ncertbio.pdf', 'page': 2}),\n",
              " Document(page_content='like Idu-Mishmi dancers (Fig. 1.3).\\nFig. 1.3\\n•The second group should hold hands\\nto for m a human chain.\\n•The third gr oup should for m a chain\\nby touching each other with only their\\nfinger tips.\\n•Now, the fourth gr oup of students\\nshould run ar ound and try to br eak the\\nthree human chains one by one  into\\nas many small gr oups as possible.\\n•Which gr oup was the easiest to br eak?\\nWhy?Q\\n2024-25', metadata={'source': '/content/ncertbio.pdf', 'page': 2}),\n",
              " Document(page_content='SCIENCE 41.3States of Matter\\nObserve different types of matter around you.\\nWhat ar e its dif ferent states? W e can see that\\nmatter ar ound us exists in thr ee dif ferent\\nstates– solid, liquid and gas. These states of\\nmatter arise due to the variation in the\\ncharacteristics of the particles of matter .\\nNow, let us study about the pr operties of\\nthese thr ee states of matter in detail.\\n1.3.1 THE SOLID  STATE\\nActivity _____________  1.9\\n•Collect the following articles — a pen,', metadata={'source': '/content/ncertbio.pdf', 'page': 3}),\n",
              " Document(page_content='•Collect the following articles — a pen,\\na book, a needle and a piece of wooden\\nstick.\\n•Sketch the shape of the above articles\\nin your notebook by moving a pencil\\naround them.\\n•Do all these have a definite shape,\\ndistinct boundaries and a fixed volume?\\n•What happens if they are hammered,\\npulled or dr opped?\\n•Are these capable of dif fusing into each\\nother?\\n•Try compr essing them by applying\\nforce. Ar e you able to compr ess them?\\nAll the above ar e examples of solids. W e', metadata={'source': '/content/ncertbio.pdf', 'page': 3}),\n",
              " Document(page_content='All the above ar e examples of solids. W e\\ncan observe that all these have a definite\\nshape, distinct boundaries and fixed volumes,\\nthat is, have negligible compr essibility. Solids\\nhave a tendency to maintain their shape when\\nsubjected to outside for ce. Solids may br eak\\nunder for ce but it is dif ficult to change their\\nshape, so they ar e rigid.\\nConsider the following:\\n(a)What about a rubber band, can it\\nchange its shape on str etching? Is it\\na solid?\\n(b)What about sugar and salt? When', metadata={'source': '/content/ncertbio.pdf', 'page': 3}),\n",
              " Document(page_content='a solid?\\n(b)What about sugar and salt? When\\nkept in dif ferent jars these take the\\nshape of the jar . Are they solid?\\n(c)What about a sponge? It is a solid\\nyet we ar e able to compr ess it. Why?\\nAll the above ar e solids as:\\n•A rubber band changes shape under\\nforce and regains the same shape whenthe force is removed. If excessive force is\\napplied, it breaks.\\n•The shape of each individual sugar or\\nsalt crystal r emains fixed, whether we\\ntake it in our hand, put it in a plate or in\\na jar.', metadata={'source': '/content/ncertbio.pdf', 'page': 3}),\n",
              " Document(page_content='a jar.\\n•A sponge has minute holes, in which\\nair is trapped, when we pr ess it, the air\\nis expelled out and we ar e able to\\ncompr ess it.\\n1.3.2 THE LIQUID  STATE\\nActivity _____________ 1.10\\n•Collect the following:\\n(a)water , cooking oil, milk, juice, a\\ncold drink.\\n(b)containers of dif ferent shapes. Put\\na 50 mL mark on these containers\\nusing a measuring cylinder fr om\\nthe laboratory.\\n•What will happen if these liquids ar e\\nspilt on the floor?\\n•Measur e 50 mL of any one liquid and', metadata={'source': '/content/ncertbio.pdf', 'page': 3}),\n",
              " Document(page_content='•Measur e 50 mL of any one liquid and\\ntransfer it into dif ferent containers one\\nby one. Does the volume r emain the\\nsame?\\n•Does the shape of the liquid r emain the\\nsame ?\\n•When you pour the liquid fr om one\\ncontainer into another , does it flow\\neasily?\\nWe observe that liquids have no fixed\\nshape but have a fixed volume. They take up\\nthe shape of the container in which they ar e\\nkept. Liquids flow and change shape, so they\\nare not rigid but can be called fluid.', metadata={'source': '/content/ncertbio.pdf', 'page': 3}),\n",
              " Document(page_content='are not rigid but can be called fluid.\\nRefer  to activities 1.4 and 1.5 wher e we\\nsaw that solids and liquids can dif fuse into\\nliquids. The gases fr om the atmospher\\ne\\ndiffuse and dissolve in water . These gases,\\nespecially oxygen and carbon dioxide, ar e\\nessential for the survival of aquatic animals\\nand plants.\\nAll living cr eatur es need to br eathe for\\nsurvival. The aquatic animals can br eathe\\nunder water due to the pr esence of dissolved\\noxygen  in water . Thus, we may conclude that', metadata={'source': '/content/ncertbio.pdf', 'page': 3}),\n",
              " Document(page_content='oxygen  in water . Thus, we may conclude that\\nsolids, liquids and gases can diffuse into\\nliquids. The rate of diffusion of liquids is\\n2024-25', metadata={'source': '/content/ncertbio.pdf', 'page': 3}),\n",
              " Document(page_content='MATTER IN OUR SURROUNDING S 5higher  than that of solids.  This is due to the\\nfact that in the liquid state, particles move\\nfreely and have greater space between each\\nother as compared to particles in the solid\\nstate.\\n1.3.3 THE GASEOUS  STATE\\nHave you ever observed a balloon seller filling\\na lar ge number of balloons fr om a single\\ncylinder of gas? Enquire fr om him how many\\nballoons is he able to fill fr om one cylinder .\\nAsk him which gas does he have in the cylinder .', metadata={'source': '/content/ncertbio.pdf', 'page': 4}),\n",
              " Document(page_content='Ask him which gas does he have in the cylinder .\\nActivity _____________ 1.11\\n•Take thr ee 100 mL syringes and close\\ntheir nozzles by  rubber corks, as\\nshown in Fig.1.4.\\n•Remove the pistons fr om all the\\nsyringes.\\n•Leaving one syringe untouched, fill\\nwater in the second and pieces of chalk\\nin the third.\\n•Insert the pistons back into the\\nsyringes. Y ou may apply some vaseline\\non the pistons befor e inserting them\\ninto the syringes for their smooth\\nmovement.\\n•Now, try to compr ess the content by', metadata={'source': '/content/ncertbio.pdf', 'page': 4}),\n",
              " Document(page_content='movement.\\n•Now, try to compr ess the content by\\npushing the piston in each syringe.We have observed that gases ar e highly\\ncompr essible as compared to solids and\\nliquids. The liquefied petr oleum gas (LPG)\\ncylinder that we get in our home for cooking\\nor the oxygen supplied to hospitals in\\ncylinders is compr essed gas. Compressed\\nnatural gas (CNG) is used as fuel these days\\nin vehicles. Due to its high compr essibility,\\nlarge volumes of a gas can be compr essed', metadata={'source': '/content/ncertbio.pdf', 'page': 4}),\n",
              " Document(page_content='large volumes of a gas can be compr essed\\ninto a small cylinder and transported easily.\\nWe  come to know of what is being cooked\\nin the kitchen without even entering ther e,\\nby the smell that r eaches our nostrils. How\\ndoes this smell r\\neach us? The particles of the\\naroma of food mix with the particles of air\\nspread fr om the kitchen, r each us and even\\nfarther away. The smell of hot cooked food\\nreaches us in seconds; compare this with the\\nrate of dif fusion of solids and liquids. Due to', metadata={'source': '/content/ncertbio.pdf', 'page': 4}),\n",
              " Document(page_content='rate of dif fusion of solids and liquids. Due to\\nhigh speed of particles and lar ge space\\nbetween   them, gases show the pr operty of\\ndiffusing very fast into other gases.\\nIn the gaseous state, the particles move\\nabout randomly at high speed. Due to this\\nrandom movement, the particles hit each\\nother and also the walls of the container . The\\npressur e exerted by the gas is because of this\\nforce exerted by gas particles per unit ar ea\\non the walls of the container .\\nFig. 1.4', metadata={'source': '/content/ncertbio.pdf', 'page': 4}),\n",
              " Document(page_content='on the walls of the container .\\nFig. 1.4\\n•What do you observe? In which case\\nwas the piston easily pushed in?\\n•What do you infer fr om your\\nobservations?\\nFig.1.5: a, b and c show the magnified schematic\\npictur es of the thr ee states of matter . The\\nmotion of the particles can be seen and\\ncompar ed in the thr ee states of matter .\\n2024-25', metadata={'source': '/content/ncertbio.pdf', 'page': 4}),\n",
              " Document(page_content='SCIENCE 61.4.1 EFFECT  OF CHANGE  OF TEMPERATURE\\nActivity _____________ 1.12\\n•Take about 150 g of ice in a beaker and\\nsuspend a laboratory ther mometer so\\nthat its bulb is in contact with the ice,\\nas in Fig. 1.6.uestions\\n1.The mass per unit volume of a\\nsubstance is called density.\\n(density = mass/volume).\\nArrange the following in or der of\\nincreasing density – air , exhaust\\nfrom chimneys, honey, water ,\\nchalk, cotton and ir on.\\n2.(a)Tabulate the dif ferences in\\nthe characterisitcs of states', metadata={'source': '/content/ncertbio.pdf', 'page': 5}),\n",
              " Document(page_content='the characterisitcs of states\\nof matter .\\n(b)Comment upon the following:\\nrigidity, compr essibility,\\nfluidity, filling a gas\\ncontainer , shape, kinetic\\nenergy and density.\\n3.Give r easons\\n(a)A gas fills completely the\\nvessel in which it is kept.\\n(b)A gas exerts pr essur e on the\\nwalls of the container .\\n(c)A wooden table should be\\ncalled a solid.\\n(d)We can easily move our hand\\nin air but to do the same\\nthrough a solid block of wood\\nwe need a karate expert.\\n4.Liquids generally have lower', metadata={'source': '/content/ncertbio.pdf', 'page': 5}),\n",
              " Document(page_content='4.Liquids generally have lower\\ndensity as compar ed to solids.\\nBut you must have observed that\\nice floats on water . Find out why.\\n1.4Can Matter Change its State?\\nWe all know fr om our observation that water\\ncan exist in thr ee states of matter–\\n•solid, as ice,\\n•liquid, as the familiar water , and\\n•gas, as water vapour .\\nWhat happens inside the matter during\\nthis change of state? What happens to the\\nparticles of matter during the change of\\nstates? How does this change of state take', metadata={'source': '/content/ncertbio.pdf', 'page': 5}),\n",
              " Document(page_content='states? How does this change of state take\\nplace? W e need answers to these questions,\\nisn’t it?Q\\n(a)\\n(b)\\nFig. 1.6: (a) Conversion of ice to water , (b) conversion\\nof water to water vapour\\n2024-25', metadata={'source': '/content/ncertbio.pdf', 'page': 5}),\n",
              " Document(page_content='MATTER IN OUR SURROUNDING S 7•Start heating the beaker on a low flame.\\n•Note the temperature when the ice\\nstarts melting.\\n•Note the temperatur e when all the ice\\nhas converted into water .\\n•Recor d your observations for this\\nconversion of solid to liquid state.\\n•Now, put a glass r od in the beaker and\\nheat while stirring till the water starts\\nboiling.\\n•Keep a car eful eye on the ther mometer\\nreading till most of the water has\\nvaporised.\\n•Recor d your observations for the', metadata={'source': '/content/ncertbio.pdf', 'page': 6}),\n",
              " Document(page_content='vaporised.\\n•Recor d your observations for the\\nconversion of water in the liquid state\\nto the gaseous state.\\nOn increasing the temperatur e of solids,\\nthe kinetic ener gy of the particles increases.\\nDue to the incr ease in kinetic ener gy, the\\nparticles start vibrating with gr eater speed.\\nThe ener gy supplied by heat over\\ncomes the\\nforces of attraction between the particles. The\\nparticles leave their fixed positions and start\\nmoving mor e freely. A stage is reached when', metadata={'source': '/content/ncertbio.pdf', 'page': 6}),\n",
              " Document(page_content='moving mor e freely. A stage is reached when\\nthe solid melts and is converted to a liquid.\\nThe minimum temperature at which a solid\\nmelts to become a liquid at the atmospheric\\npressure is called its melting point.\\nThe melting point of a solid is an indication\\nof the strength of the force of attraction\\nbetween its particles.\\nThe melting point of ice is 273.15 K *. The\\nprocess of melting, that is, change of solid\\nstate into liquid state is also known as fusion.\\nWhen a solid melts, its temperature', metadata={'source': '/content/ncertbio.pdf', 'page': 6}),\n",
              " Document(page_content='When a solid melts, its temperature\\nremains the same, so where does the heat\\nenergy go?\\nYou must have observed, during the\\nexperiment of melting, that the temperatur e\\nof the system does not change after the\\nmelting point is reached, till all the ice melts.\\nThis happens even though we continue to\\nheat the beaker, that is, we continue to supply\\nheat. This heat gets used up in changing thestate by overcoming the forces of attraction\\nbetween the particles. As this heat energy is', metadata={'source': '/content/ncertbio.pdf', 'page': 6}),\n",
              " Document(page_content='between the particles. As this heat energy is\\nabsorbed by ice without showing any rise in\\ntemperatur e, it is consider ed that it gets\\nhidden into the contents of the beaker and is\\nknown as the latent heat. The wor d latent\\nmeans hidden. The amount of heat ener gy\\nthat is r equir ed to change 1 kg of a solid into\\nliquid at atmospheric pr essur e at its melting\\npoint is known as the latent heat of fusion.\\nSo, particles in water at 0oC (273 K) have more', metadata={'source': '/content/ncertbio.pdf', 'page': 6}),\n",
              " Document(page_content='So, particles in water at 0oC (273 K) have more\\nenergy as compared to particles in ice at the\\nsame temperature.\\nWhen we supply heat ener gy to water ,\\nparticles start moving even faster .  At a certain\\ntemperatur e, a point is r eached when the\\nparticles have enough energy to break fr ee\\nfrom the forces of attraction of each other . At\\nthis temperatur e the liquid starts changing\\ninto gas. The temperature at which a liquid\\nstarts boiling at the atmospheric pr essur e is', metadata={'source': '/content/ncertbio.pdf', 'page': 6}),\n",
              " Document(page_content='starts boiling at the atmospheric pr essur e is\\nknown as its boiling point. Boiling is a bulk\\nphenomenon. Particles fr om the bulk of the\\nliquid gain enough ener gy to change into the\\nvapour state.\\nFor water this temperature is 373 K\\n(100oC = 273 + 100 = 373 K).\\nCan you define the latent heat of\\nvaporisation? Do it in the same way as we\\nhave defined the latent heat of fusion.\\nParticles in steam, that is, water vapour at\\n373 K (1000 C) have mor e ener gy than water', metadata={'source': '/content/ncertbio.pdf', 'page': 6}),\n",
              " Document(page_content='373 K (1000 C) have mor e ener gy than water\\nat the same temperatur e. This is because\\nparticles in steam have absorbed extra ener gy\\nin the for m of latent heat of vaporisation.\\n*Note: Kelvin is the SI unit of temperature, 0o C =273.15 K. For convenience, we take 0o C = 273 K after\\nrounding off the decimal. To change a temperature on the Kelvin scale to the Celsius scale you\\nhave to subtract 273 from the given temperature, and to convert a temperature on the Celsius', metadata={'source': '/content/ncertbio.pdf', 'page': 6}),\n",
              " Document(page_content='scale to the Kelvin scale you have to add 273 to the given temperature.So, we infer that the state of matter can\\nbe changed into another state by changing\\nthe temperature.\\nWe have lear nt that substances ar ound\\nus change state fr om solid to liquid and fr om\\nliquid to gas on application of heat. But there\\n2024-25', metadata={'source': '/content/ncertbio.pdf', 'page': 6}),\n",
              " Document(page_content='SCIENCE 8enclosed in a cylinder? Will the particles come\\ncloser? Do you think that increasing or\\ndecreasing the pressure can change the state\\nof matter?are some that change directly from solid state\\nto gaseous state and vice versa without\\nchanging into the liquid state.\\nActivity _____________ 1.13\\n•Take some camphor . Crush it and put\\nit in a china dish.\\n•Put an inverted funnel over the china\\ndish.\\n•Put a cotton plug on the stem of the\\nfunnel, as shown in Fig. 1.7.', metadata={'source': '/content/ncertbio.pdf', 'page': 7}),\n",
              " Document(page_content='funnel, as shown in Fig. 1.7.\\n* atmospher e (atm) is a unit of measuring pr essur e exerted by a gas. The unit of pr essur e is Pascal (Pa):\\n1 atmospher e = 1.01 × 105 Pa. The pr essur e of air in atmospher e is called atmospheric pr essur e. The\\natmospheric pr essur e at sea level is 1 atmospher e, and is taken as the nor mal atmospheric pr essur e.\\nFig. 1.7: Sublimation of camphorFig. 1.8: By applying pressure, particles of matter\\ncan be brought close together\\nApplying pressure and reducing', metadata={'source': '/content/ncertbio.pdf', 'page': 7}),\n",
              " Document(page_content='Applying pressure and reducing\\ntemperatur e can liquefy gases.\\nHave you hear d of solid carbon dioxide\\n(CO2)? It is stor ed  under high pr essur e. Solid\\nCO2 gets converted directly into gaseous state\\non decr ease of pr essur e to 1 atmospher e*\\nwithout coming into liquid state. This is the\\nreason that solid carbon dioxide is also known\\nas dry ice.\\nThus, we can say that pr essur e and\\ntemperature deter mine the state of a\\nsubstance, whether it will be solid, liquid', metadata={'source': '/content/ncertbio.pdf', 'page': 7}),\n",
              " Document(page_content='substance, whether it will be solid, liquid\\nor gas.•Now, heat slowly and observe.\\n•What do you infer from the above\\nactivity?\\nA change of state directly from solid to gas\\nwithout changing into liquid state is called\\nsublimation and the direct change of gas to\\nsolid without changing into liquid is called\\ndeposition.\\n1.4.2 EFFECT  OF CHANGE  OF\\n PRESSURE\\nWe have alr eady lear nt that the dif ference in\\nvarious states of matter is due to the\\ndifference in the distances between the', metadata={'source': '/content/ncertbio.pdf', 'page': 7}),\n",
              " Document(page_content='difference in the distances between the\\nconstituent particles. What will happen when\\nwe start putting pressure and compress a gas Fig. 1.9: Interconversion of the three states of matterDeposition\\n2024-25', metadata={'source': '/content/ncertbio.pdf', 'page': 7}),\n",
              " Document(page_content='MATTER IN OUR SURROUNDING S 9dish and keep it inside a cupboard or\\non a shelf in your class.\\n•Record the room temperature.\\n•Recor d the time or days taken for the\\nevaporation pr ocess in the above cases.\\n•Repeat the above thr ee steps of activity\\non a rainy day and r ecord your\\nobservations.\\n•What do you infer about the ef fect of\\ntemperatur e, sur face ar ea and wind\\nvelocity (speed) on evaporation?\\nYou must have observed that the rate of\\nevaporation increases with–', metadata={'source': '/content/ncertbio.pdf', 'page': 8}),\n",
              " Document(page_content='evaporation increases with–\\n•an incr ease of sur face ar ea:\\nWe know that evaporation is a sur face\\nphenomenon. If the sur face ar ea is\\nincreased, the rate of evaporation\\nincreases. For example, while putting\\nclothes for drying up we spr ead them out.\\n•an incr ease of temperature:\\nWith the incr ease of temperatur e, mor e\\nnumber of particles get enough kinetic\\nenergy to go into the vapour state.\\n•a decr ease in humidity:\\nHumidity is the amount of water vapour', metadata={'source': '/content/ncertbio.pdf', 'page': 8}),\n",
              " Document(page_content='Humidity is the amount of water vapour\\npresent in air . The air ar ound us cannot\\nhold mor e than a definite amount of\\nwater vapour at a given temperatur e. If\\nthe amount of water in air is alr eady high,\\nthe rate of evaporation decr eases.\\n•an incr ease in wind speed:\\nIt is a common observation that clothes\\ndry faster on a windy day. W ith the\\nincr\\nease in wind speed, the particles of\\nwater vapour move away with the wind,\\ndecreasing the amount of water vapour\\nin the surr ounding.', metadata={'source': '/content/ncertbio.pdf', 'page': 8}),\n",
              " Document(page_content='in the surr ounding.\\n1.5.2 HOW DOES EVAPORATION  CAUSE\\nCOOLING?\\nIn an open vessel, the liquid keeps on\\nevaporating. The particles of liquid absorb\\nenergy from the surr ounding to regain the\\nenergy lost during evaporation. This\\nabsorption of energy from the surroundings\\nmake the surroundings cold.uestions\\n1.Convert the following temperature\\nto celsius scale:\\na.  300 K b.   573 K\\n2.What is the physical state of\\nwater at:\\na.  250oC b.   100oC ?\\n3.For any substance, why does the', metadata={'source': '/content/ncertbio.pdf', 'page': 8}),\n",
              " Document(page_content='3.For any substance, why does the\\ntemperature remain constant\\nduring the change of state?\\n4.Suggest a method to liquefy\\natmospheric gases.\\n1.5 Evaporation\\nDo we always need to heat or change pressure\\nfor changing the state of matter? Can you\\nquote some examples from everyday life where\\nchange of state from liquid to vapour takes\\nplace without the liquid reaching the boiling\\npoint? W ater, when left uncovered, slowly\\nchanges into vapour . Wet clothes dry up. What', metadata={'source': '/content/ncertbio.pdf', 'page': 8}),\n",
              " Document(page_content='changes into vapour . Wet clothes dry up. What\\nhappens to water in the above two examples?\\nWe know that particles of matter ar e\\nalways moving and are never at rest. At a given\\ntemperature in any gas, liquid or solid, there\\nare particles with different amounts of kinetic\\nenergy. In the case of liquids, a small fraction\\nof particles at the surface, having higher\\nkinetic energy, is able to break away from the\\nforces of attraction of other particles and gets', metadata={'source': '/content/ncertbio.pdf', 'page': 8}),\n",
              " Document(page_content='forces of attraction of other particles and gets\\nconverted into vapour . This phenomenon of\\nchange of  liquid into vapours at any\\ntemperature below its boiling point is called\\nevaporation.\\n1.5.1 FACTORS AFFECTING\\nEVAPORATION\\nLet us understand this with an activity.\\nActivity _____________ 1.14\\n•Take 5 mL of water in a test tube and\\nkeep it near a window or under a fan.\\n•Take 5 mL of water in an open china\\ndish and keep it near a window or\\nunder a fan.\\n•Take 5 mL of water in an open chinaQ', metadata={'source': '/content/ncertbio.pdf', 'page': 8}),\n",
              " Document(page_content='•Take 5 mL of water in an open chinaQ\\n2024-25', metadata={'source': '/content/ncertbio.pdf', 'page': 8}),\n",
              " Document(page_content='SCIENCE 10What\\nyou have\\nlearnt\\n• Matter is made up of small particles.\\n• The matter around us exists in three states—solid, liquid\\nand gas.\\n• The forces of attraction between the particles are maximum in\\nsolids, inter mediate in liquids and minimum in gases.\\n• The spaces in between the constituent particles and kinetic\\nenergy of the particles ar e minimum in the case of solids,\\nintermediate in liquids and maximum in gases.What happens when you pour some', metadata={'source': '/content/ncertbio.pdf', 'page': 9}),\n",
              " Document(page_content='acetone (nail polish remover) on your palm?\\nThe particles gain energy from your palm or\\nsurroundings and evaporate causing the palm\\nto feel cool.\\nAfter a hot sunny day, people sprinkle\\nwater on the r oof or open gr ound because\\nthe large latent heat of vaporisation of water\\nhelps to cool the hot sur face.\\nCan you cite some mor e examples fr om\\ndaily life wher e we can feel the ef fect of cooling\\ndue to evaporation?\\nWhy should we wear cotton clothes in\\nsummer?\\nDuring summer , we perspir e mor e', metadata={'source': '/content/ncertbio.pdf', 'page': 9}),\n",
              " Document(page_content='summer?\\nDuring summer , we perspir e mor e\\nbecause of the mechanism of our body which\\nkeeps us cool. W e know that during\\nevaporation, the particles at the sur face of\\nthe liquid gain ener\\ngy from the surr oundings\\nor body sur face and change into vapour . The\\nheat ener gy equal to the latent heat of\\nvaporisation is absorbed fr om the body\\nleaving the body cool. Cotton, being a good\\nabsorber of water helps in absorbing the\\nsweat and exposing it to the atmosphere for', metadata={'source': '/content/ncertbio.pdf', 'page': 9}),\n",
              " Document(page_content='sweat and exposing it to the atmosphere for\\neasy evaporation.Why do we see water droplets on the outer\\nsurface of a glass containing ice-cold\\nwater?\\nLet us take some ice-cold water in a\\ntumbler . Soon we will see water dr oplets on\\nthe outer sur face of the tumbler . The water\\nvapour present in air , on coming in contact\\nwith the cold glass of water , loses ener gy and\\ngets converted to liquid state, which we see\\nas water dr oplets.\\nuestions\\n1.Why does a desert cooler cool', metadata={'source': '/content/ncertbio.pdf', 'page': 9}),\n",
              " Document(page_content='uestions\\n1.Why does a desert cooler cool\\nbetter on a hot dry day?\\n2.How does the water kept in an\\nearthen pot (matka) become cool\\nduring summer?\\n3.Why does our palm feel cold\\nwhen we put some acetone or\\npetrol or per fume on it?\\n4.Why ar e we able to sip hot tea or\\nmilk faster fr om a saucer rather\\nthan a cup?\\n5.What type of clothes should we\\nwear in summer?Q\\n2024-25', metadata={'source': '/content/ncertbio.pdf', 'page': 9}),\n",
              " Document(page_content='MATTER IN OUR SURROUNDING S 11• The arrangement of particles is most ordered in the case of\\nsolids, in the case of liquids layers of particles can slip and\\nslide over each other while for gases, ther e is no or der,\\nparticles just move about randomly.\\n• The states of matter are inter -convertible. The state of matter\\ncan be changed by changing temperature or pressure.\\n• Sublimation is the change of solid state directly to gaseous\\nstate without going through liquid state.', metadata={'source': '/content/ncertbio.pdf', 'page': 10}),\n",
              " Document(page_content='state without going through liquid state.\\n• Deposition is the change of gaseous state directly to solid\\nstate without going through liquid state.\\n• Boiling is a bulk phenomenon. Particles from the bulk\\n(whole) of the liquid change into vapour state.\\n• Evaporation is a surface phenomenon. Particles from the\\nsurface gain enough ener gy to over come the for ces of attraction\\npresent in the liquid and change into the vapour state.\\n• The rate of evaporation depends upon the sur face ar ea exposed', metadata={'source': '/content/ncertbio.pdf', 'page': 10}),\n",
              " Document(page_content='to the atmospher e, the temperatur e, the humidity and the\\nwind speed.\\n• Evaporation causes cooling.\\n• Latent heat of vaporisation is the heat ener gy requir ed to change\\n1 kg of a liquid to gas at atmospheric pressure at its\\nboiling point.\\n• Latent heat of fusion is the amount of heat energy required\\nto change 1 kg of solid into liquid at its melting point.\\n• Some measurable quantities and their units to remember:\\nQuantity Unit Symbol\\nTemperature kelvin K\\nLength metre m\\nMass kilogram kg', metadata={'source': '/content/ncertbio.pdf', 'page': 10}),\n",
              " Document(page_content='Length metre m\\nMass kilogram kg\\nWeight newton N\\nVolume cubic metre m3\\nDensity kilogram per cubic metre kg m–3\\nPressure pascal Pa\\n2024-25', metadata={'source': '/content/ncertbio.pdf', 'page': 10}),\n",
              " Document(page_content='SCIENCE 121.Convert the following temperatures to the celsius scale.\\n(a)293 K (b)470 K\\n2.Convert the following temperatures to the kelvin scale.\\n(a)25o°C (b)373o°C\\n3.Give reason for the following observations.\\n(a)Naphthalene balls disappear with time without leaving\\nany solid.\\n(b)We can get the smell of perfume sitting several metres\\naway.\\n4.Arrange the following substances in increasing order of  forces\\nof attraction between the particles— water , sugar , oxygen.', metadata={'source': '/content/ncertbio.pdf', 'page': 11}),\n",
              " Document(page_content='5.What is the physical state of water at—\\n(a)25o°C (b)0o°C (c)100o°C ?\\n6.Give two reasons to justify—\\n(a)water at room temperature is a liquid.\\n(b)an iron almirah is a solid at room temperature.\\n7.Why is ice at 273 K more effective in cooling than water at the\\nsame temperatur e?\\n8.What produces more severe burns, boiling water or steam?\\n9.Name A,B,C,D,E and F in the following diagram showing\\nchange in its stateExercises\\n2024-25', metadata={'source': '/content/ncertbio.pdf', 'page': 11}),\n",
              " Document(page_content='MATTER IN OUR SURROUNDING S 13Group Activity\\nPrepare a model to demonstrate movement of particles in solids,\\nliquids and gases.\\nFor making this model you will need\\n• A transparent jar\\n• A big rubber balloon or piece of str etchable rubber sheet\\n• A string\\n• Few chickpeas or black gram or dry green peas.\\nHow to make?\\n• Put the seeds in the jar .\\n• Sew the string to the centr e of the rubber sheet and put some\\ntape to keep it tied securely.', metadata={'source': '/content/ncertbio.pdf', 'page': 12}),\n",
              " Document(page_content='tape to keep it tied securely.\\n• Stretch and tie the rubber sheet on the mouth of the jar .\\n• Your model is ready. Now run your fingers up and down the\\nstring by first tugging at it slowly and then rapidly.\\nFig. 1.10: A model for converting of solid to liquid  and liquid to gas.\\n2024-25', metadata={'source': '/content/ncertbio.pdf', 'page': 12})]"
            ]
          },
          "metadata": {},
          "execution_count": 16
        }
      ]
    },
    {
      "cell_type": "markdown",
      "source": [
        "# Embeddings"
      ],
      "metadata": {
        "id": "a2mjo2yPPxCg"
      }
    },
    {
      "cell_type": "code",
      "source": [
        "from langchain_openai import OpenAIEmbeddings\n",
        "embedding = OpenAIEmbeddings()"
      ],
      "metadata": {
        "id": "o54StfVCP2tD"
      },
      "execution_count": null,
      "outputs": []
    },
    {
      "cell_type": "code",
      "source": [
        "embedding"
      ],
      "metadata": {
        "colab": {
          "base_uri": "https://localhost:8080/"
        },
        "id": "qnYAmVbssYg_",
        "outputId": "d5eb6894-d913-45d0-bfa2-66b4f87401f2"
      },
      "execution_count": null,
      "outputs": [
        {
          "output_type": "execute_result",
          "data": {
            "text/plain": [
              "OpenAIEmbeddings(client=<openai.resources.embeddings.Embeddings object at 0x7f948e4925c0>, async_client=<openai.resources.embeddings.AsyncEmbeddings object at 0x7f948e4e3190>, model='text-embedding-ada-002', dimensions=None, deployment='text-embedding-ada-002', openai_api_version='', openai_api_base=None, openai_api_type='', openai_proxy='', embedding_ctx_length=8191, openai_api_key=SecretStr('**********'), openai_organization=None, allowed_special=None, disallowed_special=None, chunk_size=1000, max_retries=2, request_timeout=None, headers=None, tiktoken_enabled=True, tiktoken_model_name=None, show_progress_bar=False, model_kwargs={}, skip_empty=False, default_headers=None, default_query=None, retry_min_seconds=4, retry_max_seconds=20, http_client=None, http_async_client=None, check_embedding_ctx_length=True)"
            ]
          },
          "metadata": {},
          "execution_count": 18
        }
      ]
    },
    {
      "cell_type": "markdown",
      "source": [
        "**Understanding similarity search with a toy example**"
      ],
      "metadata": {
        "id": "lHUoVy-AsxJd"
      }
    },
    {
      "cell_type": "code",
      "source": [
        "sentence1 = \"i like dogs\"\n",
        "sentence2 = \"i like cats\"\n",
        "sentence3 = \"the weather is ugly, too hot outside\""
      ],
      "metadata": {
        "id": "1aw4qEmeszjZ"
      },
      "execution_count": null,
      "outputs": []
    },
    {
      "cell_type": "code",
      "source": [
        "embedding1 = embedding.embed_query(sentence1)\n",
        "embedding2 = embedding.embed_query(sentence2)\n",
        "embedding3 = embedding.embed_query(sentence3)"
      ],
      "metadata": {
        "id": "DvZ02jGzs1L2"
      },
      "execution_count": null,
      "outputs": []
    },
    {
      "cell_type": "code",
      "source": [
        "len(embedding1), len(embedding2), len(embedding3)"
      ],
      "metadata": {
        "colab": {
          "base_uri": "https://localhost:8080/"
        },
        "id": "P1n3danus3-v",
        "outputId": "ad02c1f1-e27c-40b9-f342-a5d2c84cc864"
      },
      "execution_count": null,
      "outputs": [
        {
          "output_type": "execute_result",
          "data": {
            "text/plain": [
              "(1536, 1536, 1536)"
            ]
          },
          "metadata": {},
          "execution_count": 15
        }
      ]
    },
    {
      "cell_type": "code",
      "source": [
        "np.dot(embedding1, embedding2), np.dot(embedding1, embedding3),np.dot(embedding2, embedding3)"
      ],
      "metadata": {
        "colab": {
          "base_uri": "https://localhost:8080/"
        },
        "id": "hFPv7W1bs5b_",
        "outputId": "8f4a88cc-43a0-4ce0-bc3b-07d2143fcb54"
      },
      "execution_count": null,
      "outputs": [
        {
          "output_type": "execute_result",
          "data": {
            "text/plain": [
              "(0.920009825736222, 0.7636469559970651, 0.7583392710131898)"
            ]
          },
          "metadata": {},
          "execution_count": 16
        }
      ]
    },
    {
      "cell_type": "markdown",
      "source": [
        "#Vectorstores"
      ],
      "metadata": {
        "id": "G_iPD93MP1q3"
      }
    },
    {
      "cell_type": "code",
      "source": [
        "from langchain_community.vectorstores import Chroma # Light-weight and in memory"
      ],
      "metadata": {
        "id": "mtmg5jUQP77i"
      },
      "execution_count": null,
      "outputs": []
    },
    {
      "cell_type": "code",
      "source": [
        "persist_directory = 'docs/chroma/'\n",
        "!rm -rf ./docs/chroma  # remove old database files if any"
      ],
      "metadata": {
        "id": "seP5R0Pts-Z6"
      },
      "execution_count": null,
      "outputs": []
    },
    {
      "cell_type": "code",
      "source": [
        "vectordb = Chroma.from_documents(\n",
        "    documents=splits, # splits we created earlier\n",
        "    embedding=embedding,\n",
        "    persist_directory=persist_directory # save the directory\n",
        ")"
      ],
      "metadata": {
        "id": "J91csuGGtCZB"
      },
      "execution_count": null,
      "outputs": []
    },
    {
      "cell_type": "code",
      "source": [
        "vectordb.persist() # Let's **save vectordb** so we can use it later!"
      ],
      "metadata": {
        "colab": {
          "base_uri": "https://localhost:8080/"
        },
        "id": "yxRw5vkhtEVA",
        "outputId": "0dd1ed5b-8ed2-4384-93e1-dba2b6584e10"
      },
      "execution_count": null,
      "outputs": [
        {
          "output_type": "stream",
          "name": "stderr",
          "text": [
            "/usr/local/lib/python3.10/dist-packages/langchain_core/_api/deprecation.py:139: LangChainDeprecationWarning: Since Chroma 0.4.x the manual persistence method is no longer supported as docs are automatically persisted.\n",
            "  warn_deprecated(\n"
          ]
        }
      ]
    },
    {
      "cell_type": "code",
      "source": [
        "print(vectordb._collection.count()) # same as number of splits"
      ],
      "metadata": {
        "colab": {
          "base_uri": "https://localhost:8080/"
        },
        "id": "FQeJRg0JtFT0",
        "outputId": "bbbb0ce0-d048-4e62-838d-112ebd4dfd38"
      },
      "execution_count": null,
      "outputs": [
        {
          "output_type": "stream",
          "name": "stdout",
          "text": [
            "73\n"
          ]
        }
      ]
    },
    {
      "cell_type": "markdown",
      "source": [
        "# Retrieval + Question Answering : Connecting with LLMs"
      ],
      "metadata": {
        "id": "VKYq_B6oP8N5"
      }
    },
    {
      "cell_type": "code",
      "source": [
        "llm_name = \"gpt-3.5-turbo\"\n",
        "print(llm_name)"
      ],
      "metadata": {
        "colab": {
          "base_uri": "https://localhost:8080/"
        },
        "id": "WZzSS-HPQB8_",
        "outputId": "924ee055-c15a-42b4-8e00-282bcc724224"
      },
      "execution_count": null,
      "outputs": [
        {
          "output_type": "stream",
          "name": "stdout",
          "text": [
            "gpt-3.5-turbo\n"
          ]
        }
      ]
    },
    {
      "cell_type": "code",
      "source": [
        "question = \"what are Characteristics of Particles of Matter?\"\n",
        "docs = vectordb.max_marginal_relevance_search(question, k=2, fetch_k=3)\n",
        "len(docs)"
      ],
      "metadata": {
        "colab": {
          "base_uri": "https://localhost:8080/"
        },
        "id": "h7Zk23LRtVWu",
        "outputId": "4207b750-f09f-44cd-dd18-27e8f3b848ae"
      },
      "execution_count": null,
      "outputs": [
        {
          "output_type": "execute_result",
          "data": {
            "text/plain": [
              "2"
            ]
          },
          "metadata": {},
          "execution_count": 24
        }
      ]
    },
    {
      "cell_type": "code",
      "source": [
        "docs[0]"
      ],
      "metadata": {
        "colab": {
          "base_uri": "https://localhost:8080/"
        },
        "id": "oCfl_TU9t2Lf",
        "outputId": "5ef91a4b-db11-4481-e7b0-41aa18dc38f9"
      },
      "execution_count": null,
      "outputs": [
        {
          "output_type": "execute_result",
          "data": {
            "text/plain": [
              "Document(page_content='4.What are the characteristics of\\nthe particles of matter?Particles of matter are continuously\\nmoving, that is, they possess what we call\\nthe kinetic ener gy. As the temperatur e rises,\\nparticles move faster . So, we can say that with\\nincrease in temperatur e the kinetic ener gy of\\nthe particles also incr eases.\\nIn the above thr ee activities we observe\\nthat particles of matter inter mix on their own\\nwith each other . They do so by getting into\\nthe spaces between the particles. This', metadata={'page': 2, 'source': '/content/ncertbio.pdf'})"
            ]
          },
          "metadata": {},
          "execution_count": 25
        }
      ]
    },
    {
      "cell_type": "code",
      "source": [
        "docs[1]"
      ],
      "metadata": {
        "colab": {
          "base_uri": "https://localhost:8080/"
        },
        "id": "knr-2idNt692",
        "outputId": "f95c2b34-9be9-4fcc-d18c-58ca37cc9fee"
      },
      "execution_count": null,
      "outputs": [
        {
          "output_type": "execute_result",
          "data": {
            "text/plain": [
              "Document(page_content='As we look at our surr oundings, we see a lar ge\\nvariety of things with dif ferent shapes, sizes\\nand textures. Everything in this universe is\\nmade up of material which scientists have\\nnamed “matter”. The air we br eathe, the food\\nwe eat, stones, clouds, stars, plants and\\nanimals, even a small dr op of water or a\\nparticle of sand — every thing is matter . We\\ncan also see as we look around that all the\\nthings mentioned above occupy space and\\nhave mass. In other words, they have both', metadata={'page': 0, 'source': '/content/ncertbio.pdf'})"
            ]
          },
          "metadata": {},
          "execution_count": 26
        }
      ]
    },
    {
      "cell_type": "markdown",
      "source": [
        "**Vector store-backed retriever**"
      ],
      "metadata": {
        "id": "7shOc9ohQCbm"
      }
    },
    {
      "cell_type": "code",
      "source": [
        "from langchain_openai import ChatOpenAI\n",
        "llm = ChatOpenAI(model_name=llm_name, temperature=0)"
      ],
      "metadata": {
        "id": "MJs6PE1eQGr5"
      },
      "execution_count": null,
      "outputs": []
    },
    {
      "cell_type": "code",
      "source": [
        "from langchain.chains import RetrievalQA"
      ],
      "metadata": {
        "id": "18d9iskvukFr"
      },
      "execution_count": null,
      "outputs": []
    },
    {
      "cell_type": "code",
      "source": [
        "question = \"A diver is able to cut through water in a swimming pool. Which property of matter does this observation show?\"\n",
        "\n",
        "qa_chain = RetrievalQA.from_chain_type(llm, retriever=vectordb.as_retriever(), return_source_documents=True)\n",
        "\n",
        "result = qa_chain.invoke({\"query\": question})"
      ],
      "metadata": {
        "id": "7nQ9NP2xuocK"
      },
      "execution_count": null,
      "outputs": []
    },
    {
      "cell_type": "code",
      "source": [
        "result[\"result\"]"
      ],
      "metadata": {
        "colab": {
          "base_uri": "https://localhost:8080/",
          "height": 36
        },
        "id": "l7YYepIZu3EQ",
        "outputId": "a9d3c2eb-239b-40a0-f52e-0dc6a84cfa7d"
      },
      "execution_count": null,
      "outputs": [
        {
          "output_type": "execute_result",
          "data": {
            "text/plain": [
              "'The observation of a diver cutting through water in a swimming pool shows the property of fluidity in matter.'"
            ],
            "application/vnd.google.colaboratory.intrinsic+json": {
              "type": "string"
            }
          },
          "metadata": {},
          "execution_count": 30
        }
      ]
    },
    {
      "cell_type": "code",
      "source": [
        "result[\"source_documents\"]"
      ],
      "metadata": {
        "colab": {
          "base_uri": "https://localhost:8080/"
        },
        "id": "1fvcqABwvbHx",
        "outputId": "1a5ff3bc-72f5-4795-b51c-6c79697e44bc"
      },
      "execution_count": null,
      "outputs": [
        {
          "output_type": "execute_result",
          "data": {
            "text/plain": [
              "[Document(page_content='uestions\\n1.Which of the following are\\nmatter?\\nChair , air, love, smell, hate,\\nalmonds, thought, cold, lemon\\nwater , smell of per fume.\\n2.Give reasons for the following\\nobservation:\\nThe smell of hot sizzling food\\nreaches you several metres\\naway, but to get the smell from\\ncold food you have to go close.\\n3.A diver is able to cut through\\nwater in a swimming pool. Which\\nproperty of matter does this\\nobservation show?\\n4.What are the characteristics of', metadata={'page': 2, 'source': '/content/ncertbio.pdf'}),\n",
              " Document(page_content='4.Liquids generally have lower\\ndensity as compar ed to solids.\\nBut you must have observed that\\nice floats on water . Find out why.\\n1.4Can Matter Change its State?\\nWe all know fr om our observation that water\\ncan exist in thr ee states of matter–\\n•solid, as ice,\\n•liquid, as the familiar water , and\\n•gas, as water vapour .\\nWhat happens inside the matter during\\nthis change of state? What happens to the\\nparticles of matter during the change of\\nstates? How does this change of state take', metadata={'page': 5, 'source': '/content/ncertbio.pdf'}),\n",
              " Document(page_content='•Take some water in a container , try\\ncutting the surface of water with your\\nfingers.\\n•Were you able to cut the sur face of\\nwater?\\n•What could be the reason behind the\\nsurface of water remaining together?\\nThe above three activities (1.6, 1.7 and 1.8)\\nsuggest that particles of matter have force\\nacting between them. This force keeps the\\nparticles together . The str ength of this for ce of\\nattraction varies from one kind of matter to\\nanother .\\nuestions\\n1.Which of the following are\\nmatter?', metadata={'page': 2, 'source': '/content/ncertbio.pdf'}),\n",
              " Document(page_content='believed matter to be continuous like a block\\nof wood, wher eas, the other thought that matter\\nwas made up of particles like sand. Let us\\nperform an activity to decide about the natur e\\nof matter  — is it continuous or particulate?Activity ______________ 1.1\\n•Take a 100 mL beaker .\\n•Fill half the beaker with water and\\nmark the level of water .\\n•Dissolve some salt/ sugar with the help\\nof a glass r od.\\n•Observe any change in water level.\\n•What do you think has happened to\\nthe salt?', metadata={'page': 0, 'source': '/content/ncertbio.pdf'})]"
            ]
          },
          "metadata": {},
          "execution_count": 31
        }
      ]
    },
    {
      "cell_type": "code",
      "source": [
        "from langchain import hub\n",
        "prompt = hub.pull(\"rlm/rag-prompt\")\n",
        "prompt"
      ],
      "metadata": {
        "colab": {
          "base_uri": "https://localhost:8080/"
        },
        "id": "S_MNwbx-wFM3",
        "outputId": "6beaf873-b1a9-430c-d0ca-9a1f41549268"
      },
      "execution_count": null,
      "outputs": [
        {
          "output_type": "execute_result",
          "data": {
            "text/plain": [
              "ChatPromptTemplate(input_variables=['context', 'question'], metadata={'lc_hub_owner': 'rlm', 'lc_hub_repo': 'rag-prompt', 'lc_hub_commit_hash': '50442af133e61576e74536c6556cefe1fac147cad032f4377b60c436e6cdcb6e'}, messages=[HumanMessagePromptTemplate(prompt=PromptTemplate(input_variables=['context', 'question'], template=\"You are an assistant for question-answering tasks. Use the following pieces of retrieved context to answer the question. If you don't know the answer, just say that you don't know. Use three sentences maximum and keep the answer concise.\\nQuestion: {question} \\nContext: {context} \\nAnswer:\"))])"
            ]
          },
          "metadata": {},
          "execution_count": 33
        }
      ]
    },
    {
      "cell_type": "code",
      "source": [
        "# Build prompt\n",
        "from langchain.prompts import PromptTemplate\n",
        "template = \"\"\"Use the following pieces of context to answer the question at the end.\n",
        "If you don't know the answer, just say that you don't know, don't try to make up an answer.\n",
        "\n",
        "{context}\n",
        "Question: {question}\n",
        "Helpful Answer:\"\"\"\n",
        "QA_CHAIN_PROMPT = PromptTemplate(input_variables=[\"context\", \"question\"],template=template,)"
      ],
      "metadata": {
        "id": "cCRt-QDowOkP"
      },
      "execution_count": null,
      "outputs": []
    },
    {
      "cell_type": "code",
      "source": [
        "QA_CHAIN_PROMPT"
      ],
      "metadata": {
        "colab": {
          "base_uri": "https://localhost:8080/"
        },
        "id": "orbfTyaRwSxL",
        "outputId": "e104b27f-e734-44b8-977b-885d4d957cc7"
      },
      "execution_count": null,
      "outputs": [
        {
          "output_type": "execute_result",
          "data": {
            "text/plain": [
              "PromptTemplate(input_variables=['context', 'question'], template=\"Use the following pieces of context to answer the question at the end.\\nIf you don't know the answer, just say that you don't know, don't try to make up an answer.\\n\\n{context}\\nQuestion: {question}\\nHelpful Answer:\")"
            ]
          },
          "metadata": {},
          "execution_count": 177
        }
      ]
    },
    {
      "cell_type": "code",
      "source": [
        "# Run chain\n",
        "from langchain.chains import RetrievalQA\n",
        "qa_chain = RetrievalQA.from_chain_type(llm,\n",
        "                                       retriever=vectordb.as_retriever(search_type=\"mmr\",search_kwargs={\"k\": 2, \"fetch_k\":6} ), # \"k\":2, \"fetch_k\":3\n",
        "                                       chain_type_kwargs={\"prompt\": QA_CHAIN_PROMPT},\n",
        "                                       return_source_documents=True\n",
        "                                       )"
      ],
      "metadata": {
        "id": "iFdepsw4wUJc"
      },
      "execution_count": null,
      "outputs": []
    },
    {
      "cell_type": "code",
      "source": [
        "qa_chain"
      ],
      "metadata": {
        "colab": {
          "base_uri": "https://localhost:8080/"
        },
        "id": "Kgx_hayswZZj",
        "outputId": "465bfe6b-4b85-42b5-ab0b-d78559135dbb"
      },
      "execution_count": null,
      "outputs": [
        {
          "output_type": "execute_result",
          "data": {
            "text/plain": [
              "RetrievalQA(combine_documents_chain=StuffDocumentsChain(llm_chain=LLMChain(prompt=PromptTemplate(input_variables=['context', 'question'], template=\"Use the following pieces of context to answer the question at the end.\\nIf you don't know the answer, just say that you don't know, don't try to make up an answer.\\n\\n{context}\\nQuestion: {question}\\nHelpful Answer:\"), llm=ChatOpenAI(client=<openai.resources.chat.completions.Completions object at 0x7dbacf9e8b20>, async_client=<openai.resources.chat.completions.AsyncCompletions object at 0x7dbacf9eb6a0>, temperature=0.0, openai_api_key=SecretStr('**********'), openai_proxy='')), document_variable_name='context'), return_source_documents=True, retriever=VectorStoreRetriever(tags=['Chroma', 'OpenAIEmbeddings'], vectorstore=<langchain_community.vectorstores.chroma.Chroma object at 0x7dbabdb44130>, search_type='mmr', search_kwargs={'k': 2, 'fetch_k': 6}))"
            ]
          },
          "metadata": {},
          "execution_count": 179
        }
      ]
    },
    {
      "cell_type": "code",
      "source": [
        "question = \"For any substance, why does the temperature remain constant during the change of state?\"\n",
        "result = qa_chain.invoke({\"query\": question})\n",
        "result[\"source_documents\"]"
      ],
      "metadata": {
        "colab": {
          "base_uri": "https://localhost:8080/"
        },
        "id": "RV3133UOwmzB",
        "outputId": "10862f78-70f0-4a1f-fdfa-19f0c258424f"
      },
      "execution_count": null,
      "outputs": [
        {
          "output_type": "execute_result",
          "data": {
            "text/plain": [
              "[Document(page_content='3.For any substance, why does the\\ntemperature remain constant\\nduring the change of state?\\n4.Suggest a method to liquefy\\natmospheric gases.\\n1.5 Evaporation\\nDo we always need to heat or change pressure\\nfor changing the state of matter? Can you\\nquote some examples from everyday life where\\nchange of state from liquid to vapour takes\\nplace without the liquid reaching the boiling\\npoint? W ater, when left uncovered, slowly\\nchanges into vapour . Wet clothes dry up. What', metadata={'page': 8, 'source': '/content/ncertbio.pdf'}),\n",
              " Document(page_content='When a solid melts, its temperature\\nremains the same, so where does the heat\\nenergy go?\\nYou must have observed, during the\\nexperiment of melting, that the temperatur e\\nof the system does not change after the\\nmelting point is reached, till all the ice melts.\\nThis happens even though we continue to\\nheat the beaker, that is, we continue to supply\\nheat. This heat gets used up in changing thestate by overcoming the forces of attraction\\nbetween the particles. As this heat energy is', metadata={'page': 6, 'source': '/content/ncertbio.pdf'})]"
            ]
          },
          "metadata": {},
          "execution_count": 38
        }
      ]
    },
    {
      "cell_type": "code",
      "source": [
        "result[\"result\"]"
      ],
      "metadata": {
        "colab": {
          "base_uri": "https://localhost:8080/",
          "height": 53
        },
        "id": "SXyr_rGQxX4W",
        "outputId": "8bb713e9-8bbd-4aee-e743-759a066614d5"
      },
      "execution_count": null,
      "outputs": [
        {
          "output_type": "execute_result",
          "data": {
            "text/plain": [
              "'During a change of state, the temperature remains constant because the heat energy being supplied is used to overcome the forces of attraction between particles, rather than increasing the temperature. This allows the substance to change its state without a change in temperature. Thanks for asking!'"
            ],
            "application/vnd.google.colaboratory.intrinsic+json": {
              "type": "string"
            }
          },
          "metadata": {},
          "execution_count": 39
        }
      ]
    },
    {
      "cell_type": "code",
      "source": [
        "question = \"Convert the following temperature to celsius scale: a. 300 K b. 573 K\"\n",
        "result = qa_chain.invoke({\"query\": question})\n",
        "result[\"result\"]\n",
        "result[\"source_documents\"]"
      ],
      "metadata": {
        "colab": {
          "base_uri": "https://localhost:8080/"
        },
        "id": "nCl5gqr_yRwA",
        "outputId": "40489fe5-961b-4cbf-e61a-4b36efc7c525"
      },
      "execution_count": null,
      "outputs": [
        {
          "output_type": "execute_result",
          "data": {
            "text/plain": [
              "[Document(page_content='SCIENCE 121.Convert the following temperatures to the celsius scale.\\n(a)293 K (b)470 K\\n2.Convert the following temperatures to the kelvin scale.\\n(a)25o°C (b)373o°C\\n3.Give reason for the following observations.\\n(a)Naphthalene balls disappear with time without leaving\\nany solid.\\n(b)We can get the smell of perfume sitting several metres\\naway.\\n4.Arrange the following substances in increasing order of  forces\\nof attraction between the particles— water , sugar , oxygen.', metadata={'page': 11, 'source': '/content/ncertbio.pdf'}),\n",
              " Document(page_content='373 K (1000 C) have mor e ener gy than water\\nat the same temperatur e. This is because\\nparticles in steam have absorbed extra ener gy\\nin the for m of latent heat of vaporisation.\\n*Note: Kelvin is the SI unit of temperature, 0o C =273.15 K. For convenience, we take 0o C = 273 K after\\nrounding off the decimal. To change a temperature on the Kelvin scale to the Celsius scale you\\nhave to subtract 273 from the given temperature, and to convert a temperature on the Celsius', metadata={'page': 6, 'source': '/content/ncertbio.pdf'})]"
            ]
          },
          "metadata": {},
          "execution_count": 180
        }
      ]
    },
    {
      "cell_type": "code",
      "source": [
        "result[\"result\"]"
      ],
      "metadata": {
        "colab": {
          "base_uri": "https://localhost:8080/",
          "height": 36
        },
        "id": "ygUOTAQ9yZAK",
        "outputId": "27ceed47-985d-44d5-e173-96ced1760941"
      },
      "execution_count": null,
      "outputs": [
        {
          "output_type": "execute_result",
          "data": {
            "text/plain": [
              "'a. 300 K = 27°C\\nb. 573 K = 300°C'"
            ],
            "application/vnd.google.colaboratory.intrinsic+json": {
              "type": "string"
            }
          },
          "metadata": {},
          "execution_count": 181
        }
      ]
    },
    {
      "cell_type": "code",
      "source": [
        "student_answer = \"(a)300 K = 22°C\\n (b) 573 K = 250°C\"\n",
        "llm_answer = result[\"result\"]"
      ],
      "metadata": {
        "id": "QKIaYst9zS7E"
      },
      "execution_count": null,
      "outputs": []
    },
    {
      "cell_type": "code",
      "source": [
        "!pip install --upgrade openai"
      ],
      "metadata": {
        "colab": {
          "base_uri": "https://localhost:8080/"
        },
        "collapsed": true,
        "id": "nTfDnkJT5uem",
        "outputId": "643dd5b1-a9fa-4baf-a0c6-3bea93b7ceb2"
      },
      "execution_count": null,
      "outputs": [
        {
          "output_type": "stream",
          "name": "stdout",
          "text": [
            "Requirement already satisfied: openai in /usr/local/lib/python3.10/dist-packages (1.35.1)\n",
            "Requirement already satisfied: anyio<5,>=3.5.0 in /usr/local/lib/python3.10/dist-packages (from openai) (3.7.1)\n",
            "Requirement already satisfied: distro<2,>=1.7.0 in /usr/lib/python3/dist-packages (from openai) (1.7.0)\n",
            "Requirement already satisfied: httpx<1,>=0.23.0 in /usr/local/lib/python3.10/dist-packages (from openai) (0.27.0)\n",
            "Requirement already satisfied: pydantic<3,>=1.9.0 in /usr/local/lib/python3.10/dist-packages (from openai) (2.7.3)\n",
            "Requirement already satisfied: sniffio in /usr/local/lib/python3.10/dist-packages (from openai) (1.3.1)\n",
            "Requirement already satisfied: tqdm>4 in /usr/local/lib/python3.10/dist-packages (from openai) (4.66.4)\n",
            "Requirement already satisfied: typing-extensions<5,>=4.7 in /usr/local/lib/python3.10/dist-packages (from openai) (4.12.2)\n",
            "Requirement already satisfied: idna>=2.8 in /usr/local/lib/python3.10/dist-packages (from anyio<5,>=3.5.0->openai) (3.7)\n",
            "Requirement already satisfied: exceptiongroup in /usr/local/lib/python3.10/dist-packages (from anyio<5,>=3.5.0->openai) (1.2.1)\n",
            "Requirement already satisfied: certifi in /usr/local/lib/python3.10/dist-packages (from httpx<1,>=0.23.0->openai) (2024.6.2)\n",
            "Requirement already satisfied: httpcore==1.* in /usr/local/lib/python3.10/dist-packages (from httpx<1,>=0.23.0->openai) (1.0.5)\n",
            "Requirement already satisfied: h11<0.15,>=0.13 in /usr/local/lib/python3.10/dist-packages (from httpcore==1.*->httpx<1,>=0.23.0->openai) (0.14.0)\n",
            "Requirement already satisfied: annotated-types>=0.4.0 in /usr/local/lib/python3.10/dist-packages (from pydantic<3,>=1.9.0->openai) (0.7.0)\n",
            "Requirement already satisfied: pydantic-core==2.18.4 in /usr/local/lib/python3.10/dist-packages (from pydantic<3,>=1.9.0->openai) (2.18.4)\n"
          ]
        }
      ]
    },
    {
      "cell_type": "markdown",
      "source": [
        "# Compare two sentences using GPT\n"
      ],
      "metadata": {
        "id": "kiZqVhDbQHJa"
      }
    },
    {
      "cell_type": "code",
      "source": [
        "from openai import OpenAI\n",
        "\n",
        "client = OpenAI()\n",
        "# Function to get the comparison and similarity score from GPT\n",
        "def compare_sentences(question, student_answer, llm_answer):\n",
        "    prompt = f\"\"\"\n",
        "    You are an assistant that evaluate a student's answer to a reference answer.\n",
        "\n",
        "    question: \"{question}\"\n",
        "    Student's answer: \"{student_answer}\"\n",
        "    Reference answer: \"{llm_answer}\"\n",
        "\n",
        "    for the question the correct answer is the \"{llm_answer}\"\n",
        "    based on this fact evaluate the \"{student_answer}\" to be Correct, Partially correct or Incorrect\n",
        "    \"\"\"\n",
        "\n",
        "    response = client.chat.completions.create(\n",
        "        model=\"gpt-3.5-turbo\",  # or \"gpt-4\" if you have access\n",
        "        messages=[\n",
        "            {\"role\": \"system\", \"content\": \"You are a helpful assistant.\"},\n",
        "            {\"role\": \"user\", \"content\": prompt}\n",
        "        ],\n",
        "        max_tokens=150,\n",
        "        temperature=0\n",
        "    )\n",
        "\n",
        "\n",
        "    # Print the raw response for debugging\n",
        "    #print(\"Raw response:\", response)\n",
        "\n",
        "    #score = float(response.choices[0].message['content'].strip())\n",
        "    result = response.choices[0].message\n",
        "    print(result)\n",
        "    # Print the extracted result for debugging\n",
        "    print(\"Extracted result:\", result)\n",
        "\n",
        "    return response"
      ],
      "metadata": {
        "id": "AzGkpfYWpP_X"
      },
      "execution_count": null,
      "outputs": []
    },
    {
      "cell_type": "code",
      "source": [
        "\n",
        "# Example sentences\n",
        "question = \"what is needed for photsynthesis?\"\n",
        "student_answer = \"photsynthesis process needs corbondioxide and sun light\"\n",
        "llm_answer = \"photsynthesis process needs corbondioxide and sun light\"\n"
      ],
      "metadata": {
        "id": "6HjGsFMFkfzG"
      },
      "execution_count": null,
      "outputs": []
    }
  ]
}