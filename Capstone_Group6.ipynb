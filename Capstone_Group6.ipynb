{
  "cells": [
    {
      "cell_type": "markdown",
      "metadata": {
        "id": "uldzzwqgO-Fz"
      },
      "source": [
        "# Automated answer evaluation"
      ]
    },
    {
      "cell_type": "markdown",
      "metadata": {
        "id": "N8_c3epBPFxl"
      },
      "source": [
        "**1. Installing and importing packages**"
      ]
    },
    {
      "cell_type": "code",
      "execution_count": null,
      "metadata": {
        "colab": {
          "base_uri": "https://localhost:8080/"
        },
        "collapsed": true,
        "id": "yQfgNt-vO0r5",
        "outputId": "3024ae5a-0cde-4a5d-e769-42c8f21c35d0"
      },
      "outputs": [
        {
          "output_type": "stream",
          "name": "stdout",
          "text": [
            "Collecting openai\n",
            "  Downloading openai-1.35.7-py3-none-any.whl (327 kB)\n",
            "\u001b[2K     \u001b[90m━━━━━━━━━━━━━━━━━━━━━━━━━━━━━━━━━━━━━━━━\u001b[0m \u001b[32m327.5/327.5 kB\u001b[0m \u001b[31m2.0 MB/s\u001b[0m eta \u001b[36m0:00:00\u001b[0m\n",
            "\u001b[?25hRequirement already satisfied: anyio<5,>=3.5.0 in /usr/local/lib/python3.10/dist-packages (from openai) (3.7.1)\n",
            "Requirement already satisfied: distro<2,>=1.7.0 in /usr/lib/python3/dist-packages (from openai) (1.7.0)\n",
            "Collecting httpx<1,>=0.23.0 (from openai)\n",
            "  Downloading httpx-0.27.0-py3-none-any.whl (75 kB)\n",
            "\u001b[2K     \u001b[90m━━━━━━━━━━━━━━━━━━━━━━━━━━━━━━━━━━━━━━━━\u001b[0m \u001b[32m75.6/75.6 kB\u001b[0m \u001b[31m3.5 MB/s\u001b[0m eta \u001b[36m0:00:00\u001b[0m\n",
            "\u001b[?25hRequirement already satisfied: pydantic<3,>=1.9.0 in /usr/local/lib/python3.10/dist-packages (from openai) (2.7.4)\n",
            "Requirement already satisfied: sniffio in /usr/local/lib/python3.10/dist-packages (from openai) (1.3.1)\n",
            "Requirement already satisfied: tqdm>4 in /usr/local/lib/python3.10/dist-packages (from openai) (4.66.4)\n",
            "Requirement already satisfied: typing-extensions<5,>=4.7 in /usr/local/lib/python3.10/dist-packages (from openai) (4.12.2)\n",
            "Requirement already satisfied: idna>=2.8 in /usr/local/lib/python3.10/dist-packages (from anyio<5,>=3.5.0->openai) (3.7)\n",
            "Requirement already satisfied: exceptiongroup in /usr/local/lib/python3.10/dist-packages (from anyio<5,>=3.5.0->openai) (1.2.1)\n",
            "Requirement already satisfied: certifi in /usr/local/lib/python3.10/dist-packages (from httpx<1,>=0.23.0->openai) (2024.6.2)\n",
            "Collecting httpcore==1.* (from httpx<1,>=0.23.0->openai)\n",
            "  Downloading httpcore-1.0.5-py3-none-any.whl (77 kB)\n",
            "\u001b[2K     \u001b[90m━━━━━━━━━━━━━━━━━━━━━━━━━━━━━━━━━━━━━━━━\u001b[0m \u001b[32m77.9/77.9 kB\u001b[0m \u001b[31m4.8 MB/s\u001b[0m eta \u001b[36m0:00:00\u001b[0m\n",
            "\u001b[?25hCollecting h11<0.15,>=0.13 (from httpcore==1.*->httpx<1,>=0.23.0->openai)\n",
            "  Downloading h11-0.14.0-py3-none-any.whl (58 kB)\n",
            "\u001b[2K     \u001b[90m━━━━━━━━━━━━━━━━━━━━━━━━━━━━━━━━━━━━━━━━\u001b[0m \u001b[32m58.3/58.3 kB\u001b[0m \u001b[31m3.1 MB/s\u001b[0m eta \u001b[36m0:00:00\u001b[0m\n",
            "\u001b[?25hRequirement already satisfied: annotated-types>=0.4.0 in /usr/local/lib/python3.10/dist-packages (from pydantic<3,>=1.9.0->openai) (0.7.0)\n",
            "Requirement already satisfied: pydantic-core==2.18.4 in /usr/local/lib/python3.10/dist-packages (from pydantic<3,>=1.9.0->openai) (2.18.4)\n",
            "Installing collected packages: h11, httpcore, httpx, openai\n",
            "Successfully installed h11-0.14.0 httpcore-1.0.5 httpx-0.27.0 openai-1.35.7\n",
            "Collecting langchain\n",
            "  Downloading langchain-0.2.6-py3-none-any.whl (975 kB)\n",
            "\u001b[2K     \u001b[90m━━━━━━━━━━━━━━━━━━━━━━━━━━━━━━━━━━━━━━━━\u001b[0m \u001b[32m975.5/975.5 kB\u001b[0m \u001b[31m2.9 MB/s\u001b[0m eta \u001b[36m0:00:00\u001b[0m\n",
            "\u001b[?25hRequirement already satisfied: PyYAML>=5.3 in /usr/local/lib/python3.10/dist-packages (from langchain) (6.0.1)\n",
            "Requirement already satisfied: SQLAlchemy<3,>=1.4 in /usr/local/lib/python3.10/dist-packages (from langchain) (2.0.31)\n",
            "Requirement already satisfied: aiohttp<4.0.0,>=3.8.3 in /usr/local/lib/python3.10/dist-packages (from langchain) (3.9.5)\n",
            "Requirement already satisfied: async-timeout<5.0.0,>=4.0.0 in /usr/local/lib/python3.10/dist-packages (from langchain) (4.0.3)\n",
            "Collecting langchain-core<0.3.0,>=0.2.10 (from langchain)\n",
            "  Downloading langchain_core-0.2.10-py3-none-any.whl (332 kB)\n",
            "\u001b[2K     \u001b[90m━━━━━━━━━━━━━━━━━━━━━━━━━━━━━━━━━━━━━━━━\u001b[0m \u001b[32m332.8/332.8 kB\u001b[0m \u001b[31m3.6 MB/s\u001b[0m eta \u001b[36m0:00:00\u001b[0m\n",
            "\u001b[?25hCollecting langchain-text-splitters<0.3.0,>=0.2.0 (from langchain)\n",
            "  Downloading langchain_text_splitters-0.2.2-py3-none-any.whl (25 kB)\n",
            "Collecting langsmith<0.2.0,>=0.1.17 (from langchain)\n",
            "  Downloading langsmith-0.1.82-py3-none-any.whl (127 kB)\n",
            "\u001b[2K     \u001b[90m━━━━━━━━━━━━━━━━━━━━━━━━━━━━━━━━━━━━━━━━\u001b[0m \u001b[32m127.4/127.4 kB\u001b[0m \u001b[31m3.1 MB/s\u001b[0m eta \u001b[36m0:00:00\u001b[0m\n",
            "\u001b[?25hRequirement already satisfied: numpy<2,>=1 in /usr/local/lib/python3.10/dist-packages (from langchain) (1.25.2)\n",
            "Requirement already satisfied: pydantic<3,>=1 in /usr/local/lib/python3.10/dist-packages (from langchain) (2.7.4)\n",
            "Requirement already satisfied: requests<3,>=2 in /usr/local/lib/python3.10/dist-packages (from langchain) (2.31.0)\n",
            "Requirement already satisfied: tenacity!=8.4.0,<9.0.0,>=8.1.0 in /usr/local/lib/python3.10/dist-packages (from langchain) (8.4.1)\n",
            "Requirement already satisfied: aiosignal>=1.1.2 in /usr/local/lib/python3.10/dist-packages (from aiohttp<4.0.0,>=3.8.3->langchain) (1.3.1)\n",
            "Requirement already satisfied: attrs>=17.3.0 in /usr/local/lib/python3.10/dist-packages (from aiohttp<4.0.0,>=3.8.3->langchain) (23.2.0)\n",
            "Requirement already satisfied: frozenlist>=1.1.1 in /usr/local/lib/python3.10/dist-packages (from aiohttp<4.0.0,>=3.8.3->langchain) (1.4.1)\n",
            "Requirement already satisfied: multidict<7.0,>=4.5 in /usr/local/lib/python3.10/dist-packages (from aiohttp<4.0.0,>=3.8.3->langchain) (6.0.5)\n",
            "Requirement already satisfied: yarl<2.0,>=1.0 in /usr/local/lib/python3.10/dist-packages (from aiohttp<4.0.0,>=3.8.3->langchain) (1.9.4)\n",
            "Collecting jsonpatch<2.0,>=1.33 (from langchain-core<0.3.0,>=0.2.10->langchain)\n",
            "  Downloading jsonpatch-1.33-py2.py3-none-any.whl (12 kB)\n",
            "Requirement already satisfied: packaging<25,>=23.2 in /usr/local/lib/python3.10/dist-packages (from langchain-core<0.3.0,>=0.2.10->langchain) (24.1)\n",
            "Collecting orjson<4.0.0,>=3.9.14 (from langsmith<0.2.0,>=0.1.17->langchain)\n",
            "  Downloading orjson-3.10.5-cp310-cp310-manylinux_2_17_x86_64.manylinux2014_x86_64.whl (144 kB)\n",
            "\u001b[2K     \u001b[90m━━━━━━━━━━━━━━━━━━━━━━━━━━━━━━━━━━━━━━━━\u001b[0m \u001b[32m145.0/145.0 kB\u001b[0m \u001b[31m2.0 MB/s\u001b[0m eta \u001b[36m0:00:00\u001b[0m\n",
            "\u001b[?25hRequirement already satisfied: annotated-types>=0.4.0 in /usr/local/lib/python3.10/dist-packages (from pydantic<3,>=1->langchain) (0.7.0)\n",
            "Requirement already satisfied: pydantic-core==2.18.4 in /usr/local/lib/python3.10/dist-packages (from pydantic<3,>=1->langchain) (2.18.4)\n",
            "Requirement already satisfied: typing-extensions>=4.6.1 in /usr/local/lib/python3.10/dist-packages (from pydantic<3,>=1->langchain) (4.12.2)\n",
            "Requirement already satisfied: charset-normalizer<4,>=2 in /usr/local/lib/python3.10/dist-packages (from requests<3,>=2->langchain) (3.3.2)\n",
            "Requirement already satisfied: idna<4,>=2.5 in /usr/local/lib/python3.10/dist-packages (from requests<3,>=2->langchain) (3.7)\n",
            "Requirement already satisfied: urllib3<3,>=1.21.1 in /usr/local/lib/python3.10/dist-packages (from requests<3,>=2->langchain) (2.0.7)\n",
            "Requirement already satisfied: certifi>=2017.4.17 in /usr/local/lib/python3.10/dist-packages (from requests<3,>=2->langchain) (2024.6.2)\n",
            "Requirement already satisfied: greenlet!=0.4.17 in /usr/local/lib/python3.10/dist-packages (from SQLAlchemy<3,>=1.4->langchain) (3.0.3)\n",
            "Collecting jsonpointer>=1.9 (from jsonpatch<2.0,>=1.33->langchain-core<0.3.0,>=0.2.10->langchain)\n",
            "  Downloading jsonpointer-3.0.0-py2.py3-none-any.whl (7.6 kB)\n",
            "Installing collected packages: orjson, jsonpointer, jsonpatch, langsmith, langchain-core, langchain-text-splitters, langchain\n",
            "Successfully installed jsonpatch-1.33 jsonpointer-3.0.0 langchain-0.2.6 langchain-core-0.2.10 langchain-text-splitters-0.2.2 langsmith-0.1.82 orjson-3.10.5\n",
            "Collecting langchain-openai\n",
            "  Downloading langchain_openai-0.1.13-py3-none-any.whl (45 kB)\n",
            "\u001b[2K     \u001b[90m━━━━━━━━━━━━━━━━━━━━━━━━━━━━━━━━━━━━━━━━\u001b[0m \u001b[32m45.9/45.9 kB\u001b[0m \u001b[31m743.6 kB/s\u001b[0m eta \u001b[36m0:00:00\u001b[0m\n",
            "\u001b[?25hRequirement already satisfied: langchain-core<0.3,>=0.2.2 in /usr/local/lib/python3.10/dist-packages (from langchain-openai) (0.2.10)\n",
            "Requirement already satisfied: openai<2.0.0,>=1.32.0 in /usr/local/lib/python3.10/dist-packages (from langchain-openai) (1.35.7)\n",
            "Collecting tiktoken<1,>=0.7 (from langchain-openai)\n",
            "  Downloading tiktoken-0.7.0-cp310-cp310-manylinux_2_17_x86_64.manylinux2014_x86_64.whl (1.1 MB)\n",
            "\u001b[2K     \u001b[90m━━━━━━━━━━━━━━━━━━━━━━━━━━━━━━━━━━━━━━━━\u001b[0m \u001b[32m1.1/1.1 MB\u001b[0m \u001b[31m6.5 MB/s\u001b[0m eta \u001b[36m0:00:00\u001b[0m\n",
            "\u001b[?25hRequirement already satisfied: PyYAML>=5.3 in /usr/local/lib/python3.10/dist-packages (from langchain-core<0.3,>=0.2.2->langchain-openai) (6.0.1)\n",
            "Requirement already satisfied: jsonpatch<2.0,>=1.33 in /usr/local/lib/python3.10/dist-packages (from langchain-core<0.3,>=0.2.2->langchain-openai) (1.33)\n",
            "Requirement already satisfied: langsmith<0.2.0,>=0.1.75 in /usr/local/lib/python3.10/dist-packages (from langchain-core<0.3,>=0.2.2->langchain-openai) (0.1.82)\n",
            "Requirement already satisfied: packaging<25,>=23.2 in /usr/local/lib/python3.10/dist-packages (from langchain-core<0.3,>=0.2.2->langchain-openai) (24.1)\n",
            "Requirement already satisfied: pydantic<3,>=1 in /usr/local/lib/python3.10/dist-packages (from langchain-core<0.3,>=0.2.2->langchain-openai) (2.7.4)\n",
            "Requirement already satisfied: tenacity!=8.4.0,<9.0.0,>=8.1.0 in /usr/local/lib/python3.10/dist-packages (from langchain-core<0.3,>=0.2.2->langchain-openai) (8.4.1)\n",
            "Requirement already satisfied: anyio<5,>=3.5.0 in /usr/local/lib/python3.10/dist-packages (from openai<2.0.0,>=1.32.0->langchain-openai) (3.7.1)\n",
            "Requirement already satisfied: distro<2,>=1.7.0 in /usr/lib/python3/dist-packages (from openai<2.0.0,>=1.32.0->langchain-openai) (1.7.0)\n",
            "Requirement already satisfied: httpx<1,>=0.23.0 in /usr/local/lib/python3.10/dist-packages (from openai<2.0.0,>=1.32.0->langchain-openai) (0.27.0)\n",
            "Requirement already satisfied: sniffio in /usr/local/lib/python3.10/dist-packages (from openai<2.0.0,>=1.32.0->langchain-openai) (1.3.1)\n",
            "Requirement already satisfied: tqdm>4 in /usr/local/lib/python3.10/dist-packages (from openai<2.0.0,>=1.32.0->langchain-openai) (4.66.4)\n",
            "Requirement already satisfied: typing-extensions<5,>=4.7 in /usr/local/lib/python3.10/dist-packages (from openai<2.0.0,>=1.32.0->langchain-openai) (4.12.2)\n",
            "Requirement already satisfied: regex>=2022.1.18 in /usr/local/lib/python3.10/dist-packages (from tiktoken<1,>=0.7->langchain-openai) (2024.5.15)\n",
            "Requirement already satisfied: requests>=2.26.0 in /usr/local/lib/python3.10/dist-packages (from tiktoken<1,>=0.7->langchain-openai) (2.31.0)\n",
            "Requirement already satisfied: idna>=2.8 in /usr/local/lib/python3.10/dist-packages (from anyio<5,>=3.5.0->openai<2.0.0,>=1.32.0->langchain-openai) (3.7)\n",
            "Requirement already satisfied: exceptiongroup in /usr/local/lib/python3.10/dist-packages (from anyio<5,>=3.5.0->openai<2.0.0,>=1.32.0->langchain-openai) (1.2.1)\n",
            "Requirement already satisfied: certifi in /usr/local/lib/python3.10/dist-packages (from httpx<1,>=0.23.0->openai<2.0.0,>=1.32.0->langchain-openai) (2024.6.2)\n",
            "Requirement already satisfied: httpcore==1.* in /usr/local/lib/python3.10/dist-packages (from httpx<1,>=0.23.0->openai<2.0.0,>=1.32.0->langchain-openai) (1.0.5)\n",
            "Requirement already satisfied: h11<0.15,>=0.13 in /usr/local/lib/python3.10/dist-packages (from httpcore==1.*->httpx<1,>=0.23.0->openai<2.0.0,>=1.32.0->langchain-openai) (0.14.0)\n",
            "Requirement already satisfied: jsonpointer>=1.9 in /usr/local/lib/python3.10/dist-packages (from jsonpatch<2.0,>=1.33->langchain-core<0.3,>=0.2.2->langchain-openai) (3.0.0)\n",
            "Requirement already satisfied: orjson<4.0.0,>=3.9.14 in /usr/local/lib/python3.10/dist-packages (from langsmith<0.2.0,>=0.1.75->langchain-core<0.3,>=0.2.2->langchain-openai) (3.10.5)\n",
            "Requirement already satisfied: annotated-types>=0.4.0 in /usr/local/lib/python3.10/dist-packages (from pydantic<3,>=1->langchain-core<0.3,>=0.2.2->langchain-openai) (0.7.0)\n",
            "Requirement already satisfied: pydantic-core==2.18.4 in /usr/local/lib/python3.10/dist-packages (from pydantic<3,>=1->langchain-core<0.3,>=0.2.2->langchain-openai) (2.18.4)\n",
            "Requirement already satisfied: charset-normalizer<4,>=2 in /usr/local/lib/python3.10/dist-packages (from requests>=2.26.0->tiktoken<1,>=0.7->langchain-openai) (3.3.2)\n",
            "Requirement already satisfied: urllib3<3,>=1.21.1 in /usr/local/lib/python3.10/dist-packages (from requests>=2.26.0->tiktoken<1,>=0.7->langchain-openai) (2.0.7)\n",
            "Installing collected packages: tiktoken, langchain-openai\n",
            "Successfully installed langchain-openai-0.1.13 tiktoken-0.7.0\n",
            "Collecting pypdf\n",
            "  Downloading pypdf-4.2.0-py3-none-any.whl (290 kB)\n",
            "\u001b[2K     \u001b[90m━━━━━━━━━━━━━━━━━━━━━━━━━━━━━━━━━━━━━━━━\u001b[0m \u001b[32m290.4/290.4 kB\u001b[0m \u001b[31m2.4 MB/s\u001b[0m eta \u001b[36m0:00:00\u001b[0m\n",
            "\u001b[?25hRequirement already satisfied: typing_extensions>=4.0 in /usr/local/lib/python3.10/dist-packages (from pypdf) (4.12.2)\n",
            "Installing collected packages: pypdf\n",
            "Successfully installed pypdf-4.2.0\n",
            "Collecting chromadb\n",
            "  Downloading chromadb-0.5.3-py3-none-any.whl (559 kB)\n",
            "\u001b[2K     \u001b[90m━━━━━━━━━━━━━━━━━━━━━━━━━━━━━━━━━━━━━━━━\u001b[0m \u001b[32m559.5/559.5 kB\u001b[0m \u001b[31m3.7 MB/s\u001b[0m eta \u001b[36m0:00:00\u001b[0m\n",
            "\u001b[?25hRequirement already satisfied: build>=1.0.3 in /usr/local/lib/python3.10/dist-packages (from chromadb) (1.2.1)\n",
            "Requirement already satisfied: requests>=2.28 in /usr/local/lib/python3.10/dist-packages (from chromadb) (2.31.0)\n",
            "Requirement already satisfied: pydantic>=1.9 in /usr/local/lib/python3.10/dist-packages (from chromadb) (2.7.4)\n",
            "Collecting chroma-hnswlib==0.7.3 (from chromadb)\n",
            "  Downloading chroma_hnswlib-0.7.3-cp310-cp310-manylinux_2_17_x86_64.manylinux2014_x86_64.whl (2.4 MB)\n",
            "\u001b[2K     \u001b[90m━━━━━━━━━━━━━━━━━━━━━━━━━━━━━━━━━━━━━━━━\u001b[0m \u001b[32m2.4/2.4 MB\u001b[0m \u001b[31m25.0 MB/s\u001b[0m eta \u001b[36m0:00:00\u001b[0m\n",
            "\u001b[?25hCollecting fastapi>=0.95.2 (from chromadb)\n",
            "  Downloading fastapi-0.111.0-py3-none-any.whl (91 kB)\n",
            "\u001b[2K     \u001b[90m━━━━━━━━━━━━━━━━━━━━━━━━━━━━━━━━━━━━━━━━\u001b[0m \u001b[32m92.0/92.0 kB\u001b[0m \u001b[31m1.5 MB/s\u001b[0m eta \u001b[36m0:00:00\u001b[0m\n",
            "\u001b[?25hCollecting uvicorn[standard]>=0.18.3 (from chromadb)\n",
            "  Downloading uvicorn-0.30.1-py3-none-any.whl (62 kB)\n",
            "\u001b[2K     \u001b[90m━━━━━━━━━━━━━━━━━━━━━━━━━━━━━━━━━━━━━━━━\u001b[0m \u001b[32m62.4/62.4 kB\u001b[0m \u001b[31m6.6 MB/s\u001b[0m eta \u001b[36m0:00:00\u001b[0m\n",
            "\u001b[?25hRequirement already satisfied: numpy<2.0.0,>=1.22.5 in /usr/local/lib/python3.10/dist-packages (from chromadb) (1.25.2)\n",
            "Collecting posthog>=2.4.0 (from chromadb)\n",
            "  Downloading posthog-3.5.0-py2.py3-none-any.whl (41 kB)\n",
            "\u001b[2K     \u001b[90m━━━━━━━━━━━━━━━━━━━━━━━━━━━━━━━━━━━━━━━━\u001b[0m \u001b[32m41.3/41.3 kB\u001b[0m \u001b[31m4.4 MB/s\u001b[0m eta \u001b[36m0:00:00\u001b[0m\n",
            "\u001b[?25hRequirement already satisfied: typing-extensions>=4.5.0 in /usr/local/lib/python3.10/dist-packages (from chromadb) (4.12.2)\n",
            "Collecting onnxruntime>=1.14.1 (from chromadb)\n",
            "  Downloading onnxruntime-1.18.1-cp310-cp310-manylinux_2_27_x86_64.manylinux_2_28_x86_64.whl (6.8 MB)\n",
            "\u001b[2K     \u001b[90m━━━━━━━━━━━━━━━━━━━━━━━━━━━━━━━━━━━━━━━━\u001b[0m \u001b[32m6.8/6.8 MB\u001b[0m \u001b[31m59.3 MB/s\u001b[0m eta \u001b[36m0:00:00\u001b[0m\n",
            "\u001b[?25hCollecting opentelemetry-api>=1.2.0 (from chromadb)\n",
            "  Downloading opentelemetry_api-1.25.0-py3-none-any.whl (59 kB)\n",
            "\u001b[2K     \u001b[90m━━━━━━━━━━━━━━━━━━━━━━━━━━━━━━━━━━━━━━━━\u001b[0m \u001b[32m59.9/59.9 kB\u001b[0m \u001b[31m6.3 MB/s\u001b[0m eta \u001b[36m0:00:00\u001b[0m\n",
            "\u001b[?25hCollecting opentelemetry-exporter-otlp-proto-grpc>=1.2.0 (from chromadb)\n",
            "  Downloading opentelemetry_exporter_otlp_proto_grpc-1.25.0-py3-none-any.whl (18 kB)\n",
            "Collecting opentelemetry-instrumentation-fastapi>=0.41b0 (from chromadb)\n",
            "  Downloading opentelemetry_instrumentation_fastapi-0.46b0-py3-none-any.whl (11 kB)\n",
            "Collecting opentelemetry-sdk>=1.2.0 (from chromadb)\n",
            "  Downloading opentelemetry_sdk-1.25.0-py3-none-any.whl (107 kB)\n",
            "\u001b[2K     \u001b[90m━━━━━━━━━━━━━━━━━━━━━━━━━━━━━━━━━━━━━━━━\u001b[0m \u001b[32m107.0/107.0 kB\u001b[0m \u001b[31m13.4 MB/s\u001b[0m eta \u001b[36m0:00:00\u001b[0m\n",
            "\u001b[?25hRequirement already satisfied: tokenizers>=0.13.2 in /usr/local/lib/python3.10/dist-packages (from chromadb) (0.19.1)\n",
            "Collecting pypika>=0.48.9 (from chromadb)\n",
            "  Downloading PyPika-0.48.9.tar.gz (67 kB)\n",
            "\u001b[2K     \u001b[90m━━━━━━━━━━━━━━━━━━━━━━━━━━━━━━━━━━━━━━━━\u001b[0m \u001b[32m67.3/67.3 kB\u001b[0m \u001b[31m8.0 MB/s\u001b[0m eta \u001b[36m0:00:00\u001b[0m\n",
            "\u001b[?25h  Installing build dependencies ... \u001b[?25l\u001b[?25hdone\n",
            "  Getting requirements to build wheel ... \u001b[?25l\u001b[?25hdone\n",
            "  Preparing metadata (pyproject.toml) ... \u001b[?25l\u001b[?25hdone\n",
            "Requirement already satisfied: tqdm>=4.65.0 in /usr/local/lib/python3.10/dist-packages (from chromadb) (4.66.4)\n",
            "Collecting overrides>=7.3.1 (from chromadb)\n",
            "  Downloading overrides-7.7.0-py3-none-any.whl (17 kB)\n",
            "Requirement already satisfied: importlib-resources in /usr/local/lib/python3.10/dist-packages (from chromadb) (6.4.0)\n",
            "Requirement already satisfied: grpcio>=1.58.0 in /usr/local/lib/python3.10/dist-packages (from chromadb) (1.64.1)\n",
            "Collecting bcrypt>=4.0.1 (from chromadb)\n",
            "  Downloading bcrypt-4.1.3-cp39-abi3-manylinux_2_28_x86_64.whl (283 kB)\n",
            "\u001b[2K     \u001b[90m━━━━━━━━━━━━━━━━━━━━━━━━━━━━━━━━━━━━━━━━\u001b[0m \u001b[32m283.7/283.7 kB\u001b[0m \u001b[31m27.5 MB/s\u001b[0m eta \u001b[36m0:00:00\u001b[0m\n",
            "\u001b[?25hRequirement already satisfied: typer>=0.9.0 in /usr/local/lib/python3.10/dist-packages (from chromadb) (0.12.3)\n",
            "Collecting kubernetes>=28.1.0 (from chromadb)\n",
            "  Downloading kubernetes-30.1.0-py2.py3-none-any.whl (1.7 MB)\n",
            "\u001b[2K     \u001b[90m━━━━━━━━━━━━━━━━━━━━━━━━━━━━━━━━━━━━━━━━\u001b[0m \u001b[32m1.7/1.7 MB\u001b[0m \u001b[31m40.2 MB/s\u001b[0m eta \u001b[36m0:00:00\u001b[0m\n",
            "\u001b[?25hRequirement already satisfied: tenacity>=8.2.3 in /usr/local/lib/python3.10/dist-packages (from chromadb) (8.4.1)\n",
            "Requirement already satisfied: PyYAML>=6.0.0 in /usr/local/lib/python3.10/dist-packages (from chromadb) (6.0.1)\n",
            "Collecting mmh3>=4.0.1 (from chromadb)\n",
            "  Downloading mmh3-4.1.0-cp310-cp310-manylinux_2_5_x86_64.manylinux1_x86_64.manylinux_2_17_x86_64.manylinux2014_x86_64.whl (67 kB)\n",
            "\u001b[2K     \u001b[90m━━━━━━━━━━━━━━━━━━━━━━━━━━━━━━━━━━━━━━━━\u001b[0m \u001b[32m67.6/67.6 kB\u001b[0m \u001b[31m6.5 MB/s\u001b[0m eta \u001b[36m0:00:00\u001b[0m\n",
            "\u001b[?25hRequirement already satisfied: orjson>=3.9.12 in /usr/local/lib/python3.10/dist-packages (from chromadb) (3.10.5)\n",
            "Requirement already satisfied: httpx>=0.27.0 in /usr/local/lib/python3.10/dist-packages (from chromadb) (0.27.0)\n",
            "Requirement already satisfied: packaging>=19.1 in /usr/local/lib/python3.10/dist-packages (from build>=1.0.3->chromadb) (24.1)\n",
            "Requirement already satisfied: pyproject_hooks in /usr/local/lib/python3.10/dist-packages (from build>=1.0.3->chromadb) (1.1.0)\n",
            "Requirement already satisfied: tomli>=1.1.0 in /usr/local/lib/python3.10/dist-packages (from build>=1.0.3->chromadb) (2.0.1)\n",
            "Collecting starlette<0.38.0,>=0.37.2 (from fastapi>=0.95.2->chromadb)\n",
            "  Downloading starlette-0.37.2-py3-none-any.whl (71 kB)\n",
            "\u001b[2K     \u001b[90m━━━━━━━━━━━━━━━━━━━━━━━━━━━━━━━━━━━━━━━━\u001b[0m \u001b[32m71.9/71.9 kB\u001b[0m \u001b[31m8.6 MB/s\u001b[0m eta \u001b[36m0:00:00\u001b[0m\n",
            "\u001b[?25hCollecting fastapi-cli>=0.0.2 (from fastapi>=0.95.2->chromadb)\n",
            "  Downloading fastapi_cli-0.0.4-py3-none-any.whl (9.5 kB)\n",
            "Requirement already satisfied: jinja2>=2.11.2 in /usr/local/lib/python3.10/dist-packages (from fastapi>=0.95.2->chromadb) (3.1.4)\n",
            "Collecting python-multipart>=0.0.7 (from fastapi>=0.95.2->chromadb)\n",
            "  Downloading python_multipart-0.0.9-py3-none-any.whl (22 kB)\n",
            "Collecting ujson!=4.0.2,!=4.1.0,!=4.2.0,!=4.3.0,!=5.0.0,!=5.1.0,>=4.0.1 (from fastapi>=0.95.2->chromadb)\n",
            "  Downloading ujson-5.10.0-cp310-cp310-manylinux_2_17_x86_64.manylinux2014_x86_64.whl (53 kB)\n",
            "\u001b[2K     \u001b[90m━━━━━━━━━━━━━━━━━━━━━━━━━━━━━━━━━━━━━━━━\u001b[0m \u001b[32m53.6/53.6 kB\u001b[0m \u001b[31m6.2 MB/s\u001b[0m eta \u001b[36m0:00:00\u001b[0m\n",
            "\u001b[?25hCollecting email_validator>=2.0.0 (from fastapi>=0.95.2->chromadb)\n",
            "  Downloading email_validator-2.2.0-py3-none-any.whl (33 kB)\n",
            "Requirement already satisfied: anyio in /usr/local/lib/python3.10/dist-packages (from httpx>=0.27.0->chromadb) (3.7.1)\n",
            "Requirement already satisfied: certifi in /usr/local/lib/python3.10/dist-packages (from httpx>=0.27.0->chromadb) (2024.6.2)\n",
            "Requirement already satisfied: httpcore==1.* in /usr/local/lib/python3.10/dist-packages (from httpx>=0.27.0->chromadb) (1.0.5)\n",
            "Requirement already satisfied: idna in /usr/local/lib/python3.10/dist-packages (from httpx>=0.27.0->chromadb) (3.7)\n",
            "Requirement already satisfied: sniffio in /usr/local/lib/python3.10/dist-packages (from httpx>=0.27.0->chromadb) (1.3.1)\n",
            "Requirement already satisfied: h11<0.15,>=0.13 in /usr/local/lib/python3.10/dist-packages (from httpcore==1.*->httpx>=0.27.0->chromadb) (0.14.0)\n",
            "Requirement already satisfied: six>=1.9.0 in /usr/local/lib/python3.10/dist-packages (from kubernetes>=28.1.0->chromadb) (1.16.0)\n",
            "Requirement already satisfied: python-dateutil>=2.5.3 in /usr/local/lib/python3.10/dist-packages (from kubernetes>=28.1.0->chromadb) (2.8.2)\n",
            "Requirement already satisfied: google-auth>=1.0.1 in /usr/local/lib/python3.10/dist-packages (from kubernetes>=28.1.0->chromadb) (2.27.0)\n",
            "Requirement already satisfied: websocket-client!=0.40.0,!=0.41.*,!=0.42.*,>=0.32.0 in /usr/local/lib/python3.10/dist-packages (from kubernetes>=28.1.0->chromadb) (1.8.0)\n",
            "Requirement already satisfied: requests-oauthlib in /usr/local/lib/python3.10/dist-packages (from kubernetes>=28.1.0->chromadb) (1.3.1)\n",
            "Requirement already satisfied: oauthlib>=3.2.2 in /usr/local/lib/python3.10/dist-packages (from kubernetes>=28.1.0->chromadb) (3.2.2)\n",
            "Requirement already satisfied: urllib3>=1.24.2 in /usr/local/lib/python3.10/dist-packages (from kubernetes>=28.1.0->chromadb) (2.0.7)\n",
            "Collecting coloredlogs (from onnxruntime>=1.14.1->chromadb)\n",
            "  Downloading coloredlogs-15.0.1-py2.py3-none-any.whl (46 kB)\n",
            "\u001b[2K     \u001b[90m━━━━━━━━━━━━━━━━━━━━━━━━━━━━━━━━━━━━━━━━\u001b[0m \u001b[32m46.0/46.0 kB\u001b[0m \u001b[31m5.3 MB/s\u001b[0m eta \u001b[36m0:00:00\u001b[0m\n",
            "\u001b[?25hRequirement already satisfied: flatbuffers in /usr/local/lib/python3.10/dist-packages (from onnxruntime>=1.14.1->chromadb) (24.3.25)\n",
            "Requirement already satisfied: protobuf in /usr/local/lib/python3.10/dist-packages (from onnxruntime>=1.14.1->chromadb) (3.20.3)\n",
            "Requirement already satisfied: sympy in /usr/local/lib/python3.10/dist-packages (from onnxruntime>=1.14.1->chromadb) (1.12.1)\n",
            "Collecting deprecated>=1.2.6 (from opentelemetry-api>=1.2.0->chromadb)\n",
            "  Downloading Deprecated-1.2.14-py2.py3-none-any.whl (9.6 kB)\n",
            "Collecting importlib-metadata<=7.1,>=6.0 (from opentelemetry-api>=1.2.0->chromadb)\n",
            "  Downloading importlib_metadata-7.1.0-py3-none-any.whl (24 kB)\n",
            "Requirement already satisfied: googleapis-common-protos~=1.52 in /usr/local/lib/python3.10/dist-packages (from opentelemetry-exporter-otlp-proto-grpc>=1.2.0->chromadb) (1.63.1)\n",
            "Collecting opentelemetry-exporter-otlp-proto-common==1.25.0 (from opentelemetry-exporter-otlp-proto-grpc>=1.2.0->chromadb)\n",
            "  Downloading opentelemetry_exporter_otlp_proto_common-1.25.0-py3-none-any.whl (17 kB)\n",
            "Collecting opentelemetry-proto==1.25.0 (from opentelemetry-exporter-otlp-proto-grpc>=1.2.0->chromadb)\n",
            "  Downloading opentelemetry_proto-1.25.0-py3-none-any.whl (52 kB)\n",
            "\u001b[2K     \u001b[90m━━━━━━━━━━━━━━━━━━━━━━━━━━━━━━━━━━━━━━━━\u001b[0m \u001b[32m52.5/52.5 kB\u001b[0m \u001b[31m6.0 MB/s\u001b[0m eta \u001b[36m0:00:00\u001b[0m\n",
            "\u001b[?25hCollecting opentelemetry-instrumentation-asgi==0.46b0 (from opentelemetry-instrumentation-fastapi>=0.41b0->chromadb)\n",
            "  Downloading opentelemetry_instrumentation_asgi-0.46b0-py3-none-any.whl (14 kB)\n",
            "Collecting opentelemetry-instrumentation==0.46b0 (from opentelemetry-instrumentation-fastapi>=0.41b0->chromadb)\n",
            "  Downloading opentelemetry_instrumentation-0.46b0-py3-none-any.whl (29 kB)\n",
            "Collecting opentelemetry-semantic-conventions==0.46b0 (from opentelemetry-instrumentation-fastapi>=0.41b0->chromadb)\n",
            "  Downloading opentelemetry_semantic_conventions-0.46b0-py3-none-any.whl (130 kB)\n",
            "\u001b[2K     \u001b[90m━━━━━━━━━━━━━━━━━━━━━━━━━━━━━━━━━━━━━━━━\u001b[0m \u001b[32m130.5/130.5 kB\u001b[0m \u001b[31m13.3 MB/s\u001b[0m eta \u001b[36m0:00:00\u001b[0m\n",
            "\u001b[?25hCollecting opentelemetry-util-http==0.46b0 (from opentelemetry-instrumentation-fastapi>=0.41b0->chromadb)\n",
            "  Downloading opentelemetry_util_http-0.46b0-py3-none-any.whl (6.9 kB)\n",
            "Requirement already satisfied: setuptools>=16.0 in /usr/local/lib/python3.10/dist-packages (from opentelemetry-instrumentation==0.46b0->opentelemetry-instrumentation-fastapi>=0.41b0->chromadb) (67.7.2)\n",
            "Requirement already satisfied: wrapt<2.0.0,>=1.0.0 in /usr/local/lib/python3.10/dist-packages (from opentelemetry-instrumentation==0.46b0->opentelemetry-instrumentation-fastapi>=0.41b0->chromadb) (1.14.1)\n",
            "Collecting asgiref~=3.0 (from opentelemetry-instrumentation-asgi==0.46b0->opentelemetry-instrumentation-fastapi>=0.41b0->chromadb)\n",
            "  Downloading asgiref-3.8.1-py3-none-any.whl (23 kB)\n",
            "Collecting monotonic>=1.5 (from posthog>=2.4.0->chromadb)\n",
            "  Downloading monotonic-1.6-py2.py3-none-any.whl (8.2 kB)\n",
            "Collecting backoff>=1.10.0 (from posthog>=2.4.0->chromadb)\n",
            "  Downloading backoff-2.2.1-py3-none-any.whl (15 kB)\n",
            "Requirement already satisfied: annotated-types>=0.4.0 in /usr/local/lib/python3.10/dist-packages (from pydantic>=1.9->chromadb) (0.7.0)\n",
            "Requirement already satisfied: pydantic-core==2.18.4 in /usr/local/lib/python3.10/dist-packages (from pydantic>=1.9->chromadb) (2.18.4)\n",
            "Requirement already satisfied: charset-normalizer<4,>=2 in /usr/local/lib/python3.10/dist-packages (from requests>=2.28->chromadb) (3.3.2)\n",
            "Requirement already satisfied: huggingface-hub<1.0,>=0.16.4 in /usr/local/lib/python3.10/dist-packages (from tokenizers>=0.13.2->chromadb) (0.23.4)\n",
            "Requirement already satisfied: click>=8.0.0 in /usr/local/lib/python3.10/dist-packages (from typer>=0.9.0->chromadb) (8.1.7)\n",
            "Requirement already satisfied: shellingham>=1.3.0 in /usr/local/lib/python3.10/dist-packages (from typer>=0.9.0->chromadb) (1.5.4)\n",
            "Requirement already satisfied: rich>=10.11.0 in /usr/local/lib/python3.10/dist-packages (from typer>=0.9.0->chromadb) (13.7.1)\n",
            "Collecting httptools>=0.5.0 (from uvicorn[standard]>=0.18.3->chromadb)\n",
            "  Downloading httptools-0.6.1-cp310-cp310-manylinux_2_5_x86_64.manylinux1_x86_64.manylinux_2_17_x86_64.manylinux2014_x86_64.whl (341 kB)\n",
            "\u001b[2K     \u001b[90m━━━━━━━━━━━━━━━━━━━━━━━━━━━━━━━━━━━━━━━━\u001b[0m \u001b[32m341.4/341.4 kB\u001b[0m \u001b[31m31.5 MB/s\u001b[0m eta \u001b[36m0:00:00\u001b[0m\n",
            "\u001b[?25hCollecting python-dotenv>=0.13 (from uvicorn[standard]>=0.18.3->chromadb)\n",
            "  Downloading python_dotenv-1.0.1-py3-none-any.whl (19 kB)\n",
            "Collecting uvloop!=0.15.0,!=0.15.1,>=0.14.0 (from uvicorn[standard]>=0.18.3->chromadb)\n",
            "  Downloading uvloop-0.19.0-cp310-cp310-manylinux_2_17_x86_64.manylinux2014_x86_64.whl (3.4 MB)\n",
            "\u001b[2K     \u001b[90m━━━━━━━━━━━━━━━━━━━━━━━━━━━━━━━━━━━━━━━━\u001b[0m \u001b[32m3.4/3.4 MB\u001b[0m \u001b[31m84.4 MB/s\u001b[0m eta \u001b[36m0:00:00\u001b[0m\n",
            "\u001b[?25hCollecting watchfiles>=0.13 (from uvicorn[standard]>=0.18.3->chromadb)\n",
            "  Downloading watchfiles-0.22.0-cp310-cp310-manylinux_2_17_x86_64.manylinux2014_x86_64.whl (1.2 MB)\n",
            "\u001b[2K     \u001b[90m━━━━━━━━━━━━━━━━━━━━━━━━━━━━━━━━━━━━━━━━\u001b[0m \u001b[32m1.2/1.2 MB\u001b[0m \u001b[31m50.7 MB/s\u001b[0m eta \u001b[36m0:00:00\u001b[0m\n",
            "\u001b[?25hCollecting websockets>=10.4 (from uvicorn[standard]>=0.18.3->chromadb)\n",
            "  Downloading websockets-12.0-cp310-cp310-manylinux_2_5_x86_64.manylinux1_x86_64.manylinux_2_17_x86_64.manylinux2014_x86_64.whl (130 kB)\n",
            "\u001b[2K     \u001b[90m━━━━━━━━━━━━━━━━━━━━━━━━━━━━━━━━━━━━━━━━\u001b[0m \u001b[32m130.2/130.2 kB\u001b[0m \u001b[31m15.8 MB/s\u001b[0m eta \u001b[36m0:00:00\u001b[0m\n",
            "\u001b[?25hCollecting dnspython>=2.0.0 (from email_validator>=2.0.0->fastapi>=0.95.2->chromadb)\n",
            "  Downloading dnspython-2.6.1-py3-none-any.whl (307 kB)\n",
            "\u001b[2K     \u001b[90m━━━━━━━━━━━━━━━━━━━━━━━━━━━━━━━━━━━━━━━━\u001b[0m \u001b[32m307.7/307.7 kB\u001b[0m \u001b[31m31.6 MB/s\u001b[0m eta \u001b[36m0:00:00\u001b[0m\n",
            "\u001b[?25hRequirement already satisfied: cachetools<6.0,>=2.0.0 in /usr/local/lib/python3.10/dist-packages (from google-auth>=1.0.1->kubernetes>=28.1.0->chromadb) (5.3.3)\n",
            "Requirement already satisfied: pyasn1-modules>=0.2.1 in /usr/local/lib/python3.10/dist-packages (from google-auth>=1.0.1->kubernetes>=28.1.0->chromadb) (0.4.0)\n",
            "Requirement already satisfied: rsa<5,>=3.1.4 in /usr/local/lib/python3.10/dist-packages (from google-auth>=1.0.1->kubernetes>=28.1.0->chromadb) (4.9)\n",
            "Requirement already satisfied: filelock in /usr/local/lib/python3.10/dist-packages (from huggingface-hub<1.0,>=0.16.4->tokenizers>=0.13.2->chromadb) (3.15.3)\n",
            "Requirement already satisfied: fsspec>=2023.5.0 in /usr/local/lib/python3.10/dist-packages (from huggingface-hub<1.0,>=0.16.4->tokenizers>=0.13.2->chromadb) (2023.6.0)\n",
            "Requirement already satisfied: zipp>=0.5 in /usr/local/lib/python3.10/dist-packages (from importlib-metadata<=7.1,>=6.0->opentelemetry-api>=1.2.0->chromadb) (3.19.2)\n",
            "Requirement already satisfied: MarkupSafe>=2.0 in /usr/local/lib/python3.10/dist-packages (from jinja2>=2.11.2->fastapi>=0.95.2->chromadb) (2.1.5)\n",
            "Requirement already satisfied: markdown-it-py>=2.2.0 in /usr/local/lib/python3.10/dist-packages (from rich>=10.11.0->typer>=0.9.0->chromadb) (3.0.0)\n",
            "Requirement already satisfied: pygments<3.0.0,>=2.13.0 in /usr/local/lib/python3.10/dist-packages (from rich>=10.11.0->typer>=0.9.0->chromadb) (2.16.1)\n",
            "Requirement already satisfied: exceptiongroup in /usr/local/lib/python3.10/dist-packages (from anyio->httpx>=0.27.0->chromadb) (1.2.1)\n",
            "Collecting humanfriendly>=9.1 (from coloredlogs->onnxruntime>=1.14.1->chromadb)\n",
            "  Downloading humanfriendly-10.0-py2.py3-none-any.whl (86 kB)\n",
            "\u001b[2K     \u001b[90m━━━━━━━━━━━━━━━━━━━━━━━━━━━━━━━━━━━━━━━━\u001b[0m \u001b[32m86.8/86.8 kB\u001b[0m \u001b[31m10.4 MB/s\u001b[0m eta \u001b[36m0:00:00\u001b[0m\n",
            "\u001b[?25hRequirement already satisfied: mpmath<1.4.0,>=1.1.0 in /usr/local/lib/python3.10/dist-packages (from sympy->onnxruntime>=1.14.1->chromadb) (1.3.0)\n",
            "Requirement already satisfied: mdurl~=0.1 in /usr/local/lib/python3.10/dist-packages (from markdown-it-py>=2.2.0->rich>=10.11.0->typer>=0.9.0->chromadb) (0.1.2)\n",
            "Requirement already satisfied: pyasn1<0.7.0,>=0.4.6 in /usr/local/lib/python3.10/dist-packages (from pyasn1-modules>=0.2.1->google-auth>=1.0.1->kubernetes>=28.1.0->chromadb) (0.6.0)\n",
            "Building wheels for collected packages: pypika\n",
            "  Building wheel for pypika (pyproject.toml) ... \u001b[?25l\u001b[?25hdone\n",
            "  Created wheel for pypika: filename=PyPika-0.48.9-py2.py3-none-any.whl size=53726 sha256=0ce4fc1cb6c38b4bfba04be2015cd2fd0720a0d70a7116a955876de62f4e815f\n",
            "  Stored in directory: /root/.cache/pip/wheels/e1/26/51/d0bffb3d2fd82256676d7ad3003faea3bd6dddc9577af665f4\n",
            "Successfully built pypika\n",
            "Installing collected packages: pypika, monotonic, mmh3, websockets, uvloop, uvicorn, ujson, python-multipart, python-dotenv, overrides, opentelemetry-util-http, opentelemetry-proto, importlib-metadata, humanfriendly, httptools, dnspython, deprecated, chroma-hnswlib, bcrypt, backoff, asgiref, watchfiles, starlette, posthog, opentelemetry-exporter-otlp-proto-common, opentelemetry-api, email_validator, coloredlogs, opentelemetry-semantic-conventions, opentelemetry-instrumentation, onnxruntime, kubernetes, opentelemetry-sdk, opentelemetry-instrumentation-asgi, fastapi-cli, opentelemetry-instrumentation-fastapi, opentelemetry-exporter-otlp-proto-grpc, fastapi, chromadb\n",
            "  Attempting uninstall: importlib-metadata\n",
            "    Found existing installation: importlib_metadata 7.2.0\n",
            "    Uninstalling importlib_metadata-7.2.0:\n",
            "      Successfully uninstalled importlib_metadata-7.2.0\n",
            "Successfully installed asgiref-3.8.1 backoff-2.2.1 bcrypt-4.1.3 chroma-hnswlib-0.7.3 chromadb-0.5.3 coloredlogs-15.0.1 deprecated-1.2.14 dnspython-2.6.1 email_validator-2.2.0 fastapi-0.111.0 fastapi-cli-0.0.4 httptools-0.6.1 humanfriendly-10.0 importlib-metadata-7.1.0 kubernetes-30.1.0 mmh3-4.1.0 monotonic-1.6 onnxruntime-1.18.1 opentelemetry-api-1.25.0 opentelemetry-exporter-otlp-proto-common-1.25.0 opentelemetry-exporter-otlp-proto-grpc-1.25.0 opentelemetry-instrumentation-0.46b0 opentelemetry-instrumentation-asgi-0.46b0 opentelemetry-instrumentation-fastapi-0.46b0 opentelemetry-proto-1.25.0 opentelemetry-sdk-1.25.0 opentelemetry-semantic-conventions-0.46b0 opentelemetry-util-http-0.46b0 overrides-7.7.0 posthog-3.5.0 pypika-0.48.9 python-dotenv-1.0.1 python-multipart-0.0.9 starlette-0.37.2 ujson-5.10.0 uvicorn-0.30.1 uvloop-0.19.0 watchfiles-0.22.0 websockets-12.0\n",
            "Requirement already satisfied: tiktoken in /usr/local/lib/python3.10/dist-packages (0.7.0)\n",
            "Requirement already satisfied: regex>=2022.1.18 in /usr/local/lib/python3.10/dist-packages (from tiktoken) (2024.5.15)\n",
            "Requirement already satisfied: requests>=2.26.0 in /usr/local/lib/python3.10/dist-packages (from tiktoken) (2.31.0)\n",
            "Requirement already satisfied: charset-normalizer<4,>=2 in /usr/local/lib/python3.10/dist-packages (from requests>=2.26.0->tiktoken) (3.3.2)\n",
            "Requirement already satisfied: idna<4,>=2.5 in /usr/local/lib/python3.10/dist-packages (from requests>=2.26.0->tiktoken) (3.7)\n",
            "Requirement already satisfied: urllib3<3,>=1.21.1 in /usr/local/lib/python3.10/dist-packages (from requests>=2.26.0->tiktoken) (2.0.7)\n",
            "Requirement already satisfied: certifi>=2017.4.17 in /usr/local/lib/python3.10/dist-packages (from requests>=2.26.0->tiktoken) (2024.6.2)\n"
          ]
        }
      ],
      "source": [
        "!pip install openai\n",
        "!pip install langchain\n",
        "!pip install langchain-openai\n",
        "!pip install pypdf\n",
        "!pip install chromadb\n",
        "!pip install tiktoken\n"
      ]
    },
    {
      "cell_type": "markdown",
      "metadata": {
        "id": "MOZm6nMFPWei"
      },
      "source": [
        "**Imports**"
      ]
    },
    {
      "cell_type": "code",
      "execution_count": null,
      "metadata": {
        "id": "t0mDibKUPaKr"
      },
      "outputs": [],
      "source": [
        "import os\n",
        "import openai\n",
        "import numpy as np"
      ]
    },
    {
      "cell_type": "markdown",
      "metadata": {
        "id": "xz_-IlowPbP9"
      },
      "source": [
        "**Authentication for OpenAI API**"
      ]
    },
    {
      "cell_type": "code",
      "execution_count": null,
      "metadata": {
        "id": "Vv3IKqCnPe-T"
      },
      "outputs": [],
      "source": [
        "f = open('/content/openapi_key_team.txt')\n",
        "api_key = f.read()\n",
        "os.environ['OPENAI_API_KEY'] = api_key\n",
        "openai.api_key= os.getenv('OPENAI_API_KEY')"
      ]
    },
    {
      "cell_type": "code",
      "execution_count": null,
      "metadata": {
        "colab": {
          "base_uri": "https://localhost:8080/"
        },
        "collapsed": true,
        "id": "7kHialkCUBP8",
        "outputId": "48e183f7-cfde-4f42-b752-2aac6e1c456c"
      },
      "outputs": [
        {
          "output_type": "stream",
          "name": "stdout",
          "text": [
            "Collecting langchain-community\n",
            "  Downloading langchain_community-0.2.6-py3-none-any.whl (2.2 MB)\n",
            "\u001b[2K     \u001b[90m━━━━━━━━━━━━━━━━━━━━━━━━━━━━━━━━━━━━━━━━\u001b[0m \u001b[32m2.2/2.2 MB\u001b[0m \u001b[31m8.3 MB/s\u001b[0m eta \u001b[36m0:00:00\u001b[0m\n",
            "\u001b[?25hRequirement already satisfied: PyYAML>=5.3 in /usr/local/lib/python3.10/dist-packages (from langchain-community) (6.0.1)\n",
            "Requirement already satisfied: SQLAlchemy<3,>=1.4 in /usr/local/lib/python3.10/dist-packages (from langchain-community) (2.0.31)\n",
            "Requirement already satisfied: aiohttp<4.0.0,>=3.8.3 in /usr/local/lib/python3.10/dist-packages (from langchain-community) (3.9.5)\n",
            "Collecting dataclasses-json<0.7,>=0.5.7 (from langchain-community)\n",
            "  Downloading dataclasses_json-0.6.7-py3-none-any.whl (28 kB)\n",
            "Requirement already satisfied: langchain<0.3.0,>=0.2.6 in /usr/local/lib/python3.10/dist-packages (from langchain-community) (0.2.6)\n",
            "Requirement already satisfied: langchain-core<0.3.0,>=0.2.10 in /usr/local/lib/python3.10/dist-packages (from langchain-community) (0.2.10)\n",
            "Requirement already satisfied: langsmith<0.2.0,>=0.1.0 in /usr/local/lib/python3.10/dist-packages (from langchain-community) (0.1.82)\n",
            "Requirement already satisfied: numpy<2,>=1 in /usr/local/lib/python3.10/dist-packages (from langchain-community) (1.25.2)\n",
            "Requirement already satisfied: requests<3,>=2 in /usr/local/lib/python3.10/dist-packages (from langchain-community) (2.31.0)\n",
            "Requirement already satisfied: tenacity!=8.4.0,<9.0.0,>=8.1.0 in /usr/local/lib/python3.10/dist-packages (from langchain-community) (8.4.1)\n",
            "Requirement already satisfied: aiosignal>=1.1.2 in /usr/local/lib/python3.10/dist-packages (from aiohttp<4.0.0,>=3.8.3->langchain-community) (1.3.1)\n",
            "Requirement already satisfied: attrs>=17.3.0 in /usr/local/lib/python3.10/dist-packages (from aiohttp<4.0.0,>=3.8.3->langchain-community) (23.2.0)\n",
            "Requirement already satisfied: frozenlist>=1.1.1 in /usr/local/lib/python3.10/dist-packages (from aiohttp<4.0.0,>=3.8.3->langchain-community) (1.4.1)\n",
            "Requirement already satisfied: multidict<7.0,>=4.5 in /usr/local/lib/python3.10/dist-packages (from aiohttp<4.0.0,>=3.8.3->langchain-community) (6.0.5)\n",
            "Requirement already satisfied: yarl<2.0,>=1.0 in /usr/local/lib/python3.10/dist-packages (from aiohttp<4.0.0,>=3.8.3->langchain-community) (1.9.4)\n",
            "Requirement already satisfied: async-timeout<5.0,>=4.0 in /usr/local/lib/python3.10/dist-packages (from aiohttp<4.0.0,>=3.8.3->langchain-community) (4.0.3)\n",
            "Collecting marshmallow<4.0.0,>=3.18.0 (from dataclasses-json<0.7,>=0.5.7->langchain-community)\n",
            "  Downloading marshmallow-3.21.3-py3-none-any.whl (49 kB)\n",
            "\u001b[2K     \u001b[90m━━━━━━━━━━━━━━━━━━━━━━━━━━━━━━━━━━━━━━━━\u001b[0m \u001b[32m49.2/49.2 kB\u001b[0m \u001b[31m5.0 MB/s\u001b[0m eta \u001b[36m0:00:00\u001b[0m\n",
            "\u001b[?25hCollecting typing-inspect<1,>=0.4.0 (from dataclasses-json<0.7,>=0.5.7->langchain-community)\n",
            "  Downloading typing_inspect-0.9.0-py3-none-any.whl (8.8 kB)\n",
            "Requirement already satisfied: langchain-text-splitters<0.3.0,>=0.2.0 in /usr/local/lib/python3.10/dist-packages (from langchain<0.3.0,>=0.2.6->langchain-community) (0.2.2)\n",
            "Requirement already satisfied: pydantic<3,>=1 in /usr/local/lib/python3.10/dist-packages (from langchain<0.3.0,>=0.2.6->langchain-community) (2.7.4)\n",
            "Requirement already satisfied: jsonpatch<2.0,>=1.33 in /usr/local/lib/python3.10/dist-packages (from langchain-core<0.3.0,>=0.2.10->langchain-community) (1.33)\n",
            "Requirement already satisfied: packaging<25,>=23.2 in /usr/local/lib/python3.10/dist-packages (from langchain-core<0.3.0,>=0.2.10->langchain-community) (24.1)\n",
            "Requirement already satisfied: orjson<4.0.0,>=3.9.14 in /usr/local/lib/python3.10/dist-packages (from langsmith<0.2.0,>=0.1.0->langchain-community) (3.10.5)\n",
            "Requirement already satisfied: charset-normalizer<4,>=2 in /usr/local/lib/python3.10/dist-packages (from requests<3,>=2->langchain-community) (3.3.2)\n",
            "Requirement already satisfied: idna<4,>=2.5 in /usr/local/lib/python3.10/dist-packages (from requests<3,>=2->langchain-community) (3.7)\n",
            "Requirement already satisfied: urllib3<3,>=1.21.1 in /usr/local/lib/python3.10/dist-packages (from requests<3,>=2->langchain-community) (2.0.7)\n",
            "Requirement already satisfied: certifi>=2017.4.17 in /usr/local/lib/python3.10/dist-packages (from requests<3,>=2->langchain-community) (2024.6.2)\n",
            "Requirement already satisfied: typing-extensions>=4.6.0 in /usr/local/lib/python3.10/dist-packages (from SQLAlchemy<3,>=1.4->langchain-community) (4.12.2)\n",
            "Requirement already satisfied: greenlet!=0.4.17 in /usr/local/lib/python3.10/dist-packages (from SQLAlchemy<3,>=1.4->langchain-community) (3.0.3)\n",
            "Requirement already satisfied: jsonpointer>=1.9 in /usr/local/lib/python3.10/dist-packages (from jsonpatch<2.0,>=1.33->langchain-core<0.3.0,>=0.2.10->langchain-community) (3.0.0)\n",
            "Requirement already satisfied: annotated-types>=0.4.0 in /usr/local/lib/python3.10/dist-packages (from pydantic<3,>=1->langchain<0.3.0,>=0.2.6->langchain-community) (0.7.0)\n",
            "Requirement already satisfied: pydantic-core==2.18.4 in /usr/local/lib/python3.10/dist-packages (from pydantic<3,>=1->langchain<0.3.0,>=0.2.6->langchain-community) (2.18.4)\n",
            "Collecting mypy-extensions>=0.3.0 (from typing-inspect<1,>=0.4.0->dataclasses-json<0.7,>=0.5.7->langchain-community)\n",
            "  Downloading mypy_extensions-1.0.0-py3-none-any.whl (4.7 kB)\n",
            "Installing collected packages: mypy-extensions, marshmallow, typing-inspect, dataclasses-json, langchain-community\n",
            "Successfully installed dataclasses-json-0.6.7 langchain-community-0.2.6 marshmallow-3.21.3 mypy-extensions-1.0.0 typing-inspect-0.9.0\n"
          ]
        }
      ],
      "source": [
        "!pip install langchain-community"
      ]
    },
    {
      "cell_type": "code",
      "execution_count": null,
      "metadata": {
        "colab": {
          "base_uri": "https://localhost:8080/"
        },
        "collapsed": true,
        "id": "jPsCE9CkUofY",
        "outputId": "a5669c72-06c9-4919-dcfa-95cd166ffcb2"
      },
      "outputs": [
        {
          "output_type": "stream",
          "name": "stdout",
          "text": [
            "Collecting langchainhub\n",
            "  Downloading langchainhub-0.1.20-py3-none-any.whl (5.0 kB)\n",
            "Requirement already satisfied: packaging<25,>=23.2 in /usr/local/lib/python3.10/dist-packages (from langchainhub) (24.1)\n",
            "Requirement already satisfied: requests<3,>=2 in /usr/local/lib/python3.10/dist-packages (from langchainhub) (2.31.0)\n",
            "Collecting types-requests<3.0.0.0,>=2.31.0.2 (from langchainhub)\n",
            "  Downloading types_requests-2.32.0.20240622-py3-none-any.whl (15 kB)\n",
            "Requirement already satisfied: charset-normalizer<4,>=2 in /usr/local/lib/python3.10/dist-packages (from requests<3,>=2->langchainhub) (3.3.2)\n",
            "Requirement already satisfied: idna<4,>=2.5 in /usr/local/lib/python3.10/dist-packages (from requests<3,>=2->langchainhub) (3.7)\n",
            "Requirement already satisfied: urllib3<3,>=1.21.1 in /usr/local/lib/python3.10/dist-packages (from requests<3,>=2->langchainhub) (2.0.7)\n",
            "Requirement already satisfied: certifi>=2017.4.17 in /usr/local/lib/python3.10/dist-packages (from requests<3,>=2->langchainhub) (2024.6.2)\n",
            "Installing collected packages: types-requests, langchainhub\n",
            "Successfully installed langchainhub-0.1.20 types-requests-2.32.0.20240622\n"
          ]
        }
      ],
      "source": [
        "!pip install langchainhub"
      ]
    },
    {
      "cell_type": "code",
      "execution_count": null,
      "metadata": {
        "colab": {
          "base_uri": "https://localhost:8080/"
        },
        "collapsed": true,
        "id": "HEsO3sK5J2AL",
        "outputId": "5583c6cf-0494-4fe6-fb27-c0b6b94a12c9"
      },
      "outputs": [
        {
          "output_type": "stream",
          "name": "stdout",
          "text": [
            "Collecting accelerate\n",
            "  Downloading accelerate-0.31.0-py3-none-any.whl (309 kB)\n",
            "\u001b[2K     \u001b[90m━━━━━━━━━━━━━━━━━━━━━━━━━━━━━━━━━━━━━━━━\u001b[0m \u001b[32m309.4/309.4 kB\u001b[0m \u001b[31m2.2 MB/s\u001b[0m eta \u001b[36m0:00:00\u001b[0m\n",
            "\u001b[?25hRequirement already satisfied: numpy>=1.17 in /usr/local/lib/python3.10/dist-packages (from accelerate) (1.25.2)\n",
            "Requirement already satisfied: packaging>=20.0 in /usr/local/lib/python3.10/dist-packages (from accelerate) (24.1)\n",
            "Requirement already satisfied: psutil in /usr/local/lib/python3.10/dist-packages (from accelerate) (5.9.5)\n",
            "Requirement already satisfied: pyyaml in /usr/local/lib/python3.10/dist-packages (from accelerate) (6.0.1)\n",
            "Requirement already satisfied: torch>=1.10.0 in /usr/local/lib/python3.10/dist-packages (from accelerate) (2.3.0+cu121)\n",
            "Requirement already satisfied: huggingface-hub in /usr/local/lib/python3.10/dist-packages (from accelerate) (0.23.4)\n",
            "Requirement already satisfied: safetensors>=0.3.1 in /usr/local/lib/python3.10/dist-packages (from accelerate) (0.4.3)\n",
            "Requirement already satisfied: filelock in /usr/local/lib/python3.10/dist-packages (from torch>=1.10.0->accelerate) (3.15.3)\n",
            "Requirement already satisfied: typing-extensions>=4.8.0 in /usr/local/lib/python3.10/dist-packages (from torch>=1.10.0->accelerate) (4.12.2)\n",
            "Requirement already satisfied: sympy in /usr/local/lib/python3.10/dist-packages (from torch>=1.10.0->accelerate) (1.12.1)\n",
            "Requirement already satisfied: networkx in /usr/local/lib/python3.10/dist-packages (from torch>=1.10.0->accelerate) (3.3)\n",
            "Requirement already satisfied: jinja2 in /usr/local/lib/python3.10/dist-packages (from torch>=1.10.0->accelerate) (3.1.4)\n",
            "Requirement already satisfied: fsspec in /usr/local/lib/python3.10/dist-packages (from torch>=1.10.0->accelerate) (2023.6.0)\n",
            "Collecting nvidia-cuda-nvrtc-cu12==12.1.105 (from torch>=1.10.0->accelerate)\n",
            "  Using cached nvidia_cuda_nvrtc_cu12-12.1.105-py3-none-manylinux1_x86_64.whl (23.7 MB)\n",
            "Collecting nvidia-cuda-runtime-cu12==12.1.105 (from torch>=1.10.0->accelerate)\n",
            "  Using cached nvidia_cuda_runtime_cu12-12.1.105-py3-none-manylinux1_x86_64.whl (823 kB)\n",
            "Collecting nvidia-cuda-cupti-cu12==12.1.105 (from torch>=1.10.0->accelerate)\n",
            "  Using cached nvidia_cuda_cupti_cu12-12.1.105-py3-none-manylinux1_x86_64.whl (14.1 MB)\n",
            "Collecting nvidia-cudnn-cu12==8.9.2.26 (from torch>=1.10.0->accelerate)\n",
            "  Using cached nvidia_cudnn_cu12-8.9.2.26-py3-none-manylinux1_x86_64.whl (731.7 MB)\n",
            "Collecting nvidia-cublas-cu12==12.1.3.1 (from torch>=1.10.0->accelerate)\n",
            "  Using cached nvidia_cublas_cu12-12.1.3.1-py3-none-manylinux1_x86_64.whl (410.6 MB)\n",
            "Collecting nvidia-cufft-cu12==11.0.2.54 (from torch>=1.10.0->accelerate)\n",
            "  Using cached nvidia_cufft_cu12-11.0.2.54-py3-none-manylinux1_x86_64.whl (121.6 MB)\n",
            "Collecting nvidia-curand-cu12==10.3.2.106 (from torch>=1.10.0->accelerate)\n",
            "  Using cached nvidia_curand_cu12-10.3.2.106-py3-none-manylinux1_x86_64.whl (56.5 MB)\n",
            "Collecting nvidia-cusolver-cu12==11.4.5.107 (from torch>=1.10.0->accelerate)\n",
            "  Using cached nvidia_cusolver_cu12-11.4.5.107-py3-none-manylinux1_x86_64.whl (124.2 MB)\n",
            "Collecting nvidia-cusparse-cu12==12.1.0.106 (from torch>=1.10.0->accelerate)\n",
            "  Using cached nvidia_cusparse_cu12-12.1.0.106-py3-none-manylinux1_x86_64.whl (196.0 MB)\n",
            "Collecting nvidia-nccl-cu12==2.20.5 (from torch>=1.10.0->accelerate)\n",
            "  Using cached nvidia_nccl_cu12-2.20.5-py3-none-manylinux2014_x86_64.whl (176.2 MB)\n",
            "Collecting nvidia-nvtx-cu12==12.1.105 (from torch>=1.10.0->accelerate)\n",
            "  Using cached nvidia_nvtx_cu12-12.1.105-py3-none-manylinux1_x86_64.whl (99 kB)\n",
            "Requirement already satisfied: triton==2.3.0 in /usr/local/lib/python3.10/dist-packages (from torch>=1.10.0->accelerate) (2.3.0)\n",
            "Collecting nvidia-nvjitlink-cu12 (from nvidia-cusolver-cu12==11.4.5.107->torch>=1.10.0->accelerate)\n",
            "  Downloading nvidia_nvjitlink_cu12-12.5.40-py3-none-manylinux2014_x86_64.whl (21.3 MB)\n",
            "\u001b[2K     \u001b[90m━━━━━━━━━━━━━━━━━━━━━━━━━━━━━━━━━━━━━━━━\u001b[0m \u001b[32m21.3/21.3 MB\u001b[0m \u001b[31m44.8 MB/s\u001b[0m eta \u001b[36m0:00:00\u001b[0m\n",
            "\u001b[?25hRequirement already satisfied: requests in /usr/local/lib/python3.10/dist-packages (from huggingface-hub->accelerate) (2.31.0)\n",
            "Requirement already satisfied: tqdm>=4.42.1 in /usr/local/lib/python3.10/dist-packages (from huggingface-hub->accelerate) (4.66.4)\n",
            "Requirement already satisfied: MarkupSafe>=2.0 in /usr/local/lib/python3.10/dist-packages (from jinja2->torch>=1.10.0->accelerate) (2.1.5)\n",
            "Requirement already satisfied: charset-normalizer<4,>=2 in /usr/local/lib/python3.10/dist-packages (from requests->huggingface-hub->accelerate) (3.3.2)\n",
            "Requirement already satisfied: idna<4,>=2.5 in /usr/local/lib/python3.10/dist-packages (from requests->huggingface-hub->accelerate) (3.7)\n",
            "Requirement already satisfied: urllib3<3,>=1.21.1 in /usr/local/lib/python3.10/dist-packages (from requests->huggingface-hub->accelerate) (2.0.7)\n",
            "Requirement already satisfied: certifi>=2017.4.17 in /usr/local/lib/python3.10/dist-packages (from requests->huggingface-hub->accelerate) (2024.6.2)\n",
            "Requirement already satisfied: mpmath<1.4.0,>=1.1.0 in /usr/local/lib/python3.10/dist-packages (from sympy->torch>=1.10.0->accelerate) (1.3.0)\n",
            "Installing collected packages: nvidia-nvtx-cu12, nvidia-nvjitlink-cu12, nvidia-nccl-cu12, nvidia-curand-cu12, nvidia-cufft-cu12, nvidia-cuda-runtime-cu12, nvidia-cuda-nvrtc-cu12, nvidia-cuda-cupti-cu12, nvidia-cublas-cu12, nvidia-cusparse-cu12, nvidia-cudnn-cu12, nvidia-cusolver-cu12, accelerate\n",
            "Successfully installed accelerate-0.31.0 nvidia-cublas-cu12-12.1.3.1 nvidia-cuda-cupti-cu12-12.1.105 nvidia-cuda-nvrtc-cu12-12.1.105 nvidia-cuda-runtime-cu12-12.1.105 nvidia-cudnn-cu12-8.9.2.26 nvidia-cufft-cu12-11.0.2.54 nvidia-curand-cu12-10.3.2.106 nvidia-cusolver-cu12-11.4.5.107 nvidia-cusparse-cu12-12.1.0.106 nvidia-nccl-cu12-2.20.5 nvidia-nvjitlink-cu12-12.5.40 nvidia-nvtx-cu12-12.1.105\n",
            "Requirement already satisfied: transformers in /usr/local/lib/python3.10/dist-packages (4.41.2)\n",
            "Collecting transformers\n",
            "  Downloading transformers-4.42.3-py3-none-any.whl (9.3 MB)\n",
            "\u001b[2K     \u001b[90m━━━━━━━━━━━━━━━━━━━━━━━━━━━━━━━━━━━━━━━━\u001b[0m \u001b[32m9.3/9.3 MB\u001b[0m \u001b[31m24.7 MB/s\u001b[0m eta \u001b[36m0:00:00\u001b[0m\n",
            "\u001b[?25hRequirement already satisfied: filelock in /usr/local/lib/python3.10/dist-packages (from transformers) (3.15.3)\n",
            "Requirement already satisfied: huggingface-hub<1.0,>=0.23.2 in /usr/local/lib/python3.10/dist-packages (from transformers) (0.23.4)\n",
            "Requirement already satisfied: numpy<2.0,>=1.17 in /usr/local/lib/python3.10/dist-packages (from transformers) (1.25.2)\n",
            "Requirement already satisfied: packaging>=20.0 in /usr/local/lib/python3.10/dist-packages (from transformers) (24.1)\n",
            "Requirement already satisfied: pyyaml>=5.1 in /usr/local/lib/python3.10/dist-packages (from transformers) (6.0.1)\n",
            "Requirement already satisfied: regex!=2019.12.17 in /usr/local/lib/python3.10/dist-packages (from transformers) (2024.5.15)\n",
            "Requirement already satisfied: requests in /usr/local/lib/python3.10/dist-packages (from transformers) (2.31.0)\n",
            "Requirement already satisfied: safetensors>=0.4.1 in /usr/local/lib/python3.10/dist-packages (from transformers) (0.4.3)\n",
            "Requirement already satisfied: tokenizers<0.20,>=0.19 in /usr/local/lib/python3.10/dist-packages (from transformers) (0.19.1)\n",
            "Requirement already satisfied: tqdm>=4.27 in /usr/local/lib/python3.10/dist-packages (from transformers) (4.66.4)\n",
            "Requirement already satisfied: fsspec>=2023.5.0 in /usr/local/lib/python3.10/dist-packages (from huggingface-hub<1.0,>=0.23.2->transformers) (2023.6.0)\n",
            "Requirement already satisfied: typing-extensions>=3.7.4.3 in /usr/local/lib/python3.10/dist-packages (from huggingface-hub<1.0,>=0.23.2->transformers) (4.12.2)\n",
            "Requirement already satisfied: charset-normalizer<4,>=2 in /usr/local/lib/python3.10/dist-packages (from requests->transformers) (3.3.2)\n",
            "Requirement already satisfied: idna<4,>=2.5 in /usr/local/lib/python3.10/dist-packages (from requests->transformers) (3.7)\n",
            "Requirement already satisfied: urllib3<3,>=1.21.1 in /usr/local/lib/python3.10/dist-packages (from requests->transformers) (2.0.7)\n",
            "Requirement already satisfied: certifi>=2017.4.17 in /usr/local/lib/python3.10/dist-packages (from requests->transformers) (2024.6.2)\n",
            "Installing collected packages: transformers\n",
            "  Attempting uninstall: transformers\n",
            "    Found existing installation: transformers 4.41.2\n",
            "    Uninstalling transformers-4.41.2:\n",
            "      Successfully uninstalled transformers-4.41.2\n",
            "Successfully installed transformers-4.42.3\n",
            "Requirement already satisfied: torch in /usr/local/lib/python3.10/dist-packages (2.3.0+cu121)\n",
            "Requirement already satisfied: filelock in /usr/local/lib/python3.10/dist-packages (from torch) (3.15.3)\n",
            "Requirement already satisfied: typing-extensions>=4.8.0 in /usr/local/lib/python3.10/dist-packages (from torch) (4.12.2)\n",
            "Requirement already satisfied: sympy in /usr/local/lib/python3.10/dist-packages (from torch) (1.12.1)\n",
            "Requirement already satisfied: networkx in /usr/local/lib/python3.10/dist-packages (from torch) (3.3)\n",
            "Requirement already satisfied: jinja2 in /usr/local/lib/python3.10/dist-packages (from torch) (3.1.4)\n",
            "Requirement already satisfied: fsspec in /usr/local/lib/python3.10/dist-packages (from torch) (2023.6.0)\n",
            "Requirement already satisfied: nvidia-cuda-nvrtc-cu12==12.1.105 in /usr/local/lib/python3.10/dist-packages (from torch) (12.1.105)\n",
            "Requirement already satisfied: nvidia-cuda-runtime-cu12==12.1.105 in /usr/local/lib/python3.10/dist-packages (from torch) (12.1.105)\n",
            "Requirement already satisfied: nvidia-cuda-cupti-cu12==12.1.105 in /usr/local/lib/python3.10/dist-packages (from torch) (12.1.105)\n",
            "Requirement already satisfied: nvidia-cudnn-cu12==8.9.2.26 in /usr/local/lib/python3.10/dist-packages (from torch) (8.9.2.26)\n",
            "Requirement already satisfied: nvidia-cublas-cu12==12.1.3.1 in /usr/local/lib/python3.10/dist-packages (from torch) (12.1.3.1)\n",
            "Requirement already satisfied: nvidia-cufft-cu12==11.0.2.54 in /usr/local/lib/python3.10/dist-packages (from torch) (11.0.2.54)\n",
            "Requirement already satisfied: nvidia-curand-cu12==10.3.2.106 in /usr/local/lib/python3.10/dist-packages (from torch) (10.3.2.106)\n",
            "Requirement already satisfied: nvidia-cusolver-cu12==11.4.5.107 in /usr/local/lib/python3.10/dist-packages (from torch) (11.4.5.107)\n",
            "Requirement already satisfied: nvidia-cusparse-cu12==12.1.0.106 in /usr/local/lib/python3.10/dist-packages (from torch) (12.1.0.106)\n",
            "Requirement already satisfied: nvidia-nccl-cu12==2.20.5 in /usr/local/lib/python3.10/dist-packages (from torch) (2.20.5)\n",
            "Requirement already satisfied: nvidia-nvtx-cu12==12.1.105 in /usr/local/lib/python3.10/dist-packages (from torch) (12.1.105)\n",
            "Requirement already satisfied: triton==2.3.0 in /usr/local/lib/python3.10/dist-packages (from torch) (2.3.0)\n",
            "Requirement already satisfied: nvidia-nvjitlink-cu12 in /usr/local/lib/python3.10/dist-packages (from nvidia-cusolver-cu12==11.4.5.107->torch) (12.5.40)\n",
            "Requirement already satisfied: MarkupSafe>=2.0 in /usr/local/lib/python3.10/dist-packages (from jinja2->torch) (2.1.5)\n",
            "Requirement already satisfied: mpmath<1.4.0,>=1.1.0 in /usr/local/lib/python3.10/dist-packages (from sympy->torch) (1.3.0)\n"
          ]
        }
      ],
      "source": [
        "!pip install -U accelerate\n",
        "!pip install -U transformers\n",
        "!pip install torch"
      ]
    },
    {
      "cell_type": "markdown",
      "metadata": {
        "id": "bH7mR86mPgto"
      },
      "source": [
        "**Loading the documents**"
      ]
    },
    {
      "cell_type": "code",
      "execution_count": null,
      "metadata": {
        "colab": {
          "base_uri": "https://localhost:8080/"
        },
        "id": "kHF7XKrZ6S8Y",
        "outputId": "ab33b8cd-432b-471d-ed15-e10177fcdc9c"
      },
      "outputs": [
        {
          "output_type": "stream",
          "name": "stdout",
          "text": [
            "Setup completed successfully\n"
          ]
        }
      ],
      "source": [
        "from IPython import get_ipython\n",
        "\n",
        "ipython = get_ipython()\n",
        "\n",
        "def setup():\n",
        "    #ipython.magic(\"sx wget https://cdn1.byjus.com/wp-content/uploads/2020/05/lakhmir-singh-solutions-for-class-8-science-chapter-9.pdf\")\n",
        "    ipython.magic(\"sx wget https://cdn1.byjus.com/wp-content/uploads/2023/05/ncert-textbook-for-class-8-science-chapter-6.pdf\") #reproduction in animals\n",
        "    ipython.magic(\"sx wget https://cdn1.byjus.com/wp-content/uploads/2023/05/ncert-textbook-for-class-8-science-chapter-2.pdf\") #Micro organisms and foe\n",
        "    ipython.magic(\"sx wget https://cdn1.byjus.com/wp-content/uploads/2023/05/ncert-textbook-for-class-8-science-chapter-5.pdf\") #Conservation of Plants and Animals\n",
        "    ipython.magic(\"sx wget https://cdn1.byjus.com/wp-content/uploads/2023/05/ncert-textbook-for-class-8-science-chapter-7.pdf\") #Reaching the Age of Adolescence\n",
        "    ipython.magic(\"sx wget https://cdn1.byjus.com/wp-content/uploads/2023/05/ncert-textbook-for-class-8-science-chapter-1.pdf\") #Crop production\n",
        "    ipython.magic(\"sx wget https://github.com/iisc-ts-group6/capstone/blob/main/data/8/hesc102.pdf\") #Cell - Structure and Functions\n",
        "    print(\"Setup completed successfully\")\n",
        "    return\n",
        "#https://ncert.nic.in/textbook.php?hesc1=6-13\n",
        "setup()"
      ]
    },
    {
      "cell_type": "code",
      "execution_count": null,
      "metadata": {
        "colab": {
          "base_uri": "https://localhost:8080/"
        },
        "id": "uVBH-azK6qXM",
        "outputId": "623643b9-57c2-4864-d106-abc4d06f0e94"
      },
      "outputs": [
        {
          "output_type": "stream",
          "name": "stdout",
          "text": [
            "Collecting PyPDF2\n",
            "  Downloading pypdf2-3.0.1-py3-none-any.whl (232 kB)\n",
            "\u001b[2K     \u001b[90m━━━━━━━━━━━━━━━━━━━━━━━━━━━━━━━━━━━━━━━━\u001b[0m \u001b[32m232.6/232.6 kB\u001b[0m \u001b[31m1.9 MB/s\u001b[0m eta \u001b[36m0:00:00\u001b[0m\n",
            "\u001b[?25hInstalling collected packages: PyPDF2\n",
            "Successfully installed PyPDF2-3.0.1\n"
          ]
        }
      ],
      "source": [
        "!pip install PyPDF2"
      ]
    },
    {
      "cell_type": "code",
      "execution_count": null,
      "metadata": {
        "id": "MOL5qdCbPjzH"
      },
      "outputs": [],
      "source": [
        "from langchain_community.document_loaders import PyPDFLoader\n",
        "\n",
        "\n",
        "# Load PDF pypdf2\n",
        "loaders = [\n",
        "\n",
        "    PyPDFLoader(\"/content/ncert-textbook-for-class-8-science-chapter-1.pdf\"),\n",
        "    PyPDFLoader(\"/content/ncert-textbook-for-class-8-science-chapter-2.pdf\"),\n",
        "    PyPDFLoader(\"/content/ncert-textbook-for-class-8-science-chapter-5.pdf\"),\n",
        "    PyPDFLoader(\"/content/ncert-textbook-for-class-8-science-chapter-6.pdf\"),\n",
        "    PyPDFLoader(\"/content/ncert-textbook-for-class-8-science-chapter-7.pdf\"),\n",
        "\n",
        "]\n",
        "docs = []\n",
        "for loader in loaders:\n",
        "    docs.extend(loader.load())\n",
        "\n",
        "# Read files/documents\n"
      ]
    },
    {
      "cell_type": "code",
      "execution_count": null,
      "metadata": {
        "colab": {
          "base_uri": "https://localhost:8080/"
        },
        "id": "R6L5CxF19TWL",
        "outputId": "39b450c5-d5d6-48eb-e021-79865c63520d"
      },
      "outputs": [
        {
          "output_type": "stream",
          "name": "stdout",
          "text": [
            "page_content=\"Photosynthesis is a process that plants use to make their own food. In this process, plants take in carbon dioxide (CO₂) from the air through tiny openings in their leaves called stomata. They also absorb water (H₂O) from the soil through their roots. Using energy from sunlight, plants convert carbon dioxide and water into glucose, a type of sugar, and oxygen (O₂). The glucose provides energy and building materials for the plant, while the oxygen is released into the air as a byproduct.\\n\\nCarbon dioxide is a gas that is naturally present in the Earth's atmosphere. It consists of one carbon atom and two oxygen atoms (CO₂). It is essential for photosynthesis because it provides the carbon that plants need to make glucose.\\n\\ntypically Photosynthesis requires sunlight, water, and carbon dioxide to occur.\\n\\nOn the other hand, carbon monoxide (CO) is a different gas that consists of one carbon atom and one oxygen atom. Unlike carbon dioxide, carbon monoxide is poisonous. It can bind to hemoglobin in our blood more effectively than oxygen, preventing oxygen from being transported to cells and tissues. This can be very dangerous for humans and animals.\\n\\nThe main difference between carbon dioxide and carbon monoxide is their chemical composition and effects on living organisms. Carbon dioxide is non-toxic and necessary for plants to perform photosynthesis, while carbon monoxide is toxic and harmful if inhaled in large amounts.\\n\\nIn summary, photosynthesis is vital for plants and life on Earth as it produces oxygen and food. Carbon dioxide is crucial for this process, whereas carbon monoxide is harmful and should be avoided.\" metadata={'source': '/content/Grade_8.txt'}\n"
          ]
        }
      ],
      "source": [
        "\n",
        "from langchain_community.document_loaders import TextLoader\n",
        "\n",
        "\n",
        "# Create a TextLoader instance\n",
        "loader = TextLoader(\"/content/Grade_8.txt\")\n",
        "\n",
        "# Load the text file\n",
        "docs_text = loader.load()\n",
        "\n",
        "# Print the loaded documents\n",
        "for doc in docs_text:\n",
        "    print(doc)"
      ]
    },
    {
      "cell_type": "markdown",
      "metadata": {
        "id": "D69Cig3gPlf_"
      },
      "source": [
        "**print them**"
      ]
    },
    {
      "cell_type": "code",
      "execution_count": null,
      "metadata": {
        "colab": {
          "base_uri": "https://localhost:8080/"
        },
        "collapsed": true,
        "id": "r5M3hqjpPqCy",
        "outputId": "241a18d5-f20d-4657-84f0-556b7fd1bd13"
      },
      "outputs": [
        {
          "output_type": "stream",
          "name": "stdout",
          "text": [
            "CROP PRODUCTION  AND MANAGEMENT CROP PRODUCTION  AND MANAGEMENT\n",
            "Paheli and Boojho went to their\n",
            "uncle’s house during the summer\n",
            "vacation. Their uncle is a far mer.\n",
            "One day they saw some tools like khurpi ,\n",
            "sickle, shovel, plough, etc., in the field.\n",
            "In order to provide food for a large\n",
            "population— regular production, proper\n",
            "management and distribution is\n",
            "necessary.\n",
            "1.1Agricultural Practices\n",
            "Till 10,000 B.C.E. people wer e\n",
            "nomadic. They were wandering in\n",
            "groups from place to place in search\n",
            "of food and shelter . They ate raw\n",
            "fruits and vegetables and started\n",
            "hunting animals for food. Later , they\n",
            "could cultivate land and produce rice,\n",
            "wheat and other food crops. Thus,\n",
            "was born ‘Agriculture’.\n",
            "When plants of the same kind are\n",
            "cultivated at one place on a large scale,\n",
            "it is called a crop. For example, crop of\n",
            "wheat means that all the plants grown\n",
            "in a field are that of wheat.\n",
            "You alr eady know that cr ops ar e of\n",
            "different types like cereals, vegetables\n",
            "and fruits. These can be classified on the\n",
            "basis of the season in which they grow.\n",
            "India is a vast country. The climatic\n",
            "conditions like temperature, humidity\n",
            "and rainfall vary from one region to\n",
            "another . Accordingly, ther e is a richYou have lear nt that all living\n",
            "organisms require food. Plants can make\n",
            "their food themselves. Can you recall\n",
            "how green plants synthesise their own\n",
            "food? Animals including humans can\n",
            "not make their own food. So, where do\n",
            "animals get their food from?\n",
            "But, first of all why do we have to eat\n",
            "food?\n",
            "You alr eady know that ener gy from\n",
            "the food is utilised by organisms for\n",
            "carrying out their various body\n",
            "functions, such as digestion, respiration\n",
            "and excr\n",
            "etion. W e get our food fr om\n",
            "plants, or animals, or both.\n",
            "Since we all need food,\n",
            "how can we provide\n",
            "food to a large number\n",
            "of people in our\n",
            "country?Food has to be\n",
            "produced on a large\n",
            "scale.\n",
            "I want to know\n",
            "where and how we\n",
            "use these tools.\n",
            "Rationalised-2023-24\n",
            "\n"
          ]
        }
      ],
      "source": [
        "print(docs[0].page_content)"
      ]
    },
    {
      "cell_type": "markdown",
      "metadata": {
        "id": "gCG_WyBHPr9v"
      },
      "source": [
        "# Splitting of document"
      ]
    },
    {
      "cell_type": "code",
      "execution_count": null,
      "metadata": {
        "id": "8hYnSzNiPvkB"
      },
      "outputs": [],
      "source": [
        "from langchain_text_splitters import RecursiveCharacterTextSplitter"
      ]
    },
    {
      "cell_type": "code",
      "execution_count": null,
      "metadata": {
        "id": "MCUJ4AEbsOM3"
      },
      "outputs": [],
      "source": [
        "# Split\n",
        "#from langchain.text_splitter import RecursiveCharacterTextSplitter\n",
        "text_splitter = RecursiveCharacterTextSplitter(\n",
        "    chunk_size = 500,\n",
        "    chunk_overlap = 50\n",
        ")"
      ]
    },
    {
      "cell_type": "code",
      "execution_count": null,
      "metadata": {
        "colab": {
          "base_uri": "https://localhost:8080/"
        },
        "collapsed": true,
        "id": "5JcYJx44sSSM",
        "outputId": "9cffea31-8583-4503-d8d5-e661a66d8639"
      },
      "outputs": [
        {
          "output_type": "stream",
          "name": "stdout",
          "text": [
            "307\n"
          ]
        },
        {
          "output_type": "execute_result",
          "data": {
            "text/plain": [
              "[Document(page_content='CROP PRODUCTION  AND MANAGEMENT CROP PRODUCTION  AND MANAGEMENT\\nPaheli and Boojho went to their\\nuncle’s house during the summer\\nvacation. Their uncle is a far mer.\\nOne day they saw some tools like khurpi ,\\nsickle, shovel, plough, etc., in the field.\\nIn order to provide food for a large\\npopulation— regular production, proper\\nmanagement and distribution is\\nnecessary.\\n1.1Agricultural Practices\\nTill 10,000 B.C.E. people wer e\\nnomadic. They were wandering in\\ngroups from place to place in search', metadata={'source': '/content/ncert-textbook-for-class-8-science-chapter-1.pdf', 'page': 0}),\n",
              " Document(page_content='groups from place to place in search\\nof food and shelter . They ate raw\\nfruits and vegetables and started\\nhunting animals for food. Later , they\\ncould cultivate land and produce rice,\\nwheat and other food crops. Thus,\\nwas born ‘Agriculture’.\\nWhen plants of the same kind are\\ncultivated at one place on a large scale,\\nit is called a crop. For example, crop of\\nwheat means that all the plants grown\\nin a field are that of wheat.\\nYou alr eady know that cr ops ar e of', metadata={'source': '/content/ncert-textbook-for-class-8-science-chapter-1.pdf', 'page': 0}),\n",
              " Document(page_content='You alr eady know that cr ops ar e of\\ndifferent types like cereals, vegetables\\nand fruits. These can be classified on the\\nbasis of the season in which they grow.\\nIndia is a vast country. The climatic\\nconditions like temperature, humidity\\nand rainfall vary from one region to\\nanother . Accordingly, ther e is a richYou have lear nt that all living\\norganisms require food. Plants can make\\ntheir food themselves. Can you recall\\nhow green plants synthesise their own\\nfood? Animals including humans can', metadata={'source': '/content/ncert-textbook-for-class-8-science-chapter-1.pdf', 'page': 0}),\n",
              " Document(page_content='food? Animals including humans can\\nnot make their own food. So, where do\\nanimals get their food from?\\nBut, first of all why do we have to eat\\nfood?\\nYou alr eady know that ener gy from\\nthe food is utilised by organisms for\\ncarrying out their various body\\nfunctions, such as digestion, respiration\\nand excr\\netion. W e get our food fr om\\nplants, or animals, or both.\\nSince we all need food,\\nhow can we provide\\nfood to a large number\\nof people in our\\ncountry?Food has to be\\nproduced on a large\\nscale.', metadata={'source': '/content/ncert-textbook-for-class-8-science-chapter-1.pdf', 'page': 0}),\n",
              " Document(page_content='country?Food has to be\\nproduced on a large\\nscale.\\nI want to know\\nwhere and how we\\nuse these tools.\\nRationalised-2023-24', metadata={'source': '/content/ncert-textbook-for-class-8-science-chapter-1.pdf', 'page': 0}),\n",
              " Document(page_content='SCIENCE 2variety of crops grown in different parts\\nof the country. Despite this diversity,\\ntwo broad cropping patterns can be\\nidentified. These are:\\n(i) Kharif Crops : The crops which are\\nsown in the rainy season are called\\nkharif crops. The rainy season in India\\nis generally fr om June to September .\\nPaddy, maize, soyabean, groundnut and\\ncotton are kharif crops.\\n(ii) Rabi Crops : The crops grown in the\\nwinter season (October to March) are\\ncalled rabi crops. Examples of rabi', metadata={'source': '/content/ncert-textbook-for-class-8-science-chapter-1.pdf', 'page': 1}),\n",
              " Document(page_content='called rabi crops. Examples of rabi\\ncrops are wheat, gram, pea, mustard\\nand linseed.\\nBesides these, pulses and vegetables\\nare grown during summer at many\\nplaces.\\n1.2Basic Practices of Crop\\nProductionto as agricultural practices  which are\\nlisted below:\\n(i)Preparation of soil\\n(ii)Sowing\\n(iii)Adding manure and fertilisers\\n(iv)Irrigation\\n(v)Protecting from weeds\\n(vi)Harvesting\\n(vii)Storage\\n1.3 Preparation of Soil\\nThe preparation of soil is the first step\\nbefore growing a crop. One of the most', metadata={'source': '/content/ncert-textbook-for-class-8-science-chapter-1.pdf', 'page': 1}),\n",
              " Document(page_content='before growing a crop. One of the most\\nimportant tasks in agriculture is to turn\\nthe soil and loosen it. This allows the\\nroots to penetrate deep into the soil. The\\nloose soil allows the roots to breathe\\neasily even when they go deep into the\\nsoil. Why does the loosening of soil allow\\nthe roots to breathe easily?\\nThe loosened soil helps in the growth\\nof earthworms and microbes present in\\nthe soil. These organisms are friends of\\nthe farmer since they further turn and', metadata={'source': '/content/ncert-textbook-for-class-8-science-chapter-1.pdf', 'page': 1}),\n",
              " Document(page_content='the farmer since they further turn and\\nloosen the soil and add humus to it.\\nBut why the soil needs to be turned and\\nloosened?\\nYou have lear nt  in the pr evious\\nclasses that soil contains minerals,\\nwater , air and some living organisms.\\nIn addition, dead plants and animals\\nget decomposed by soil organisms. In\\nthis way, various nutrients in the dead\\norganisms are released back into the\\nsoil. These nutrients are again absorbed\\nby plants.\\nSince only a few centimetres of the', metadata={'source': '/content/ncert-textbook-for-class-8-science-chapter-1.pdf', 'page': 1}),\n",
              " Document(page_content='by plants.\\nSince only a few centimetres of the\\ntop layer of soil supports plant growth,\\nturning and loosening of soil brings the\\nnutrient-rich soil to the top so that\\nplants can use these nutrients. Thus,Why  paddy can not be\\ngrown in the winter season?\\nPaddy requires a lot of\\nwater . Ther efore, it is gr own\\nonly in the rainy season.\\nCultivation of crops involves several\\nactivities undertaken by farmers over a\\nperiod of time. Y ou may find that these\\nactivities are similar to those carried out', metadata={'source': '/content/ncert-textbook-for-class-8-science-chapter-1.pdf', 'page': 1}),\n",
              " Document(page_content='activities are similar to those carried out\\nby a gardener or even by you when you\\ngrow ornamental plants in your house.\\nThese activities or tasks are referred\\nRationalised-2023-24', metadata={'source': '/content/ncert-textbook-for-class-8-science-chapter-1.pdf', 'page': 1}),\n",
              " Document(page_content='CROP PRODUCTION  AND MANAGEMENT 3turning and loosening of soil is very\\nimportant for cultivation of crops.\\nThe process of loosening and turning\\nof the soil is called  tilling  or ploughing .\\nThis is done by using a plough. Ploughs\\nare made of wood or iron. If the soil is\\nvery dry, it may need watering before\\nploughing. The ploughed field may have\\nbig clumps of soil called crumbs. It is\\nnecessary to break these crumbs.\\nLevelling the field is beneficial for', metadata={'source': '/content/ncert-textbook-for-class-8-science-chapter-1.pdf', 'page': 2}),\n",
              " Document(page_content='Levelling the field is beneficial for\\nsowing as well as for irrigation. Levelling\\nof soil is done with the help of a leveller .\\nSometimes, manure is added to the\\nsoil before tilling. This helps in proper\\nmixing of manure with soil. The soil is\\nmoistened before sowing.\\nAgricultural Implements\\nBefore sowing the seeds, it is necessary to\\nbreak soil clumps to get better yield. This\\nis done with the help of various tools.\\nThe main tools used for this purpose are', metadata={'source': '/content/ncert-textbook-for-class-8-science-chapter-1.pdf', 'page': 2}),\n",
              " Document(page_content='The main tools used for this purpose are\\nthe plough, hoe and cultivator .Plough :  This is being used since\\nancient times for tilling the soil, adding\\nfertili sers to the crop, removing the weeds\\nand turning the  soil. This is made of\\nwood and is drawn by a pair of bulls or\\nother animals  (horses and camels) . It\\ncontains a strong triangular iron strip\\ncalled ploughshare. The main part of the\\nplough is a long log of wood which is\\ncalled a ploughshaft. There is a handle', metadata={'source': '/content/ncert-textbook-for-class-8-science-chapter-1.pdf', 'page': 2}),\n",
              " Document(page_content='called a ploughshaft. There is a handle\\nat one end of the shaft. The other end is\\nattached to a beam which is placed on\\nthe bulls’ necks. One pair of bulls and a\\nman can easily operate the plough\\n[Fig. 1.1 (a)].\\nThe indigenous wooden plough is\\nincreasingly being replaced by iron\\nploughs nowadays.\\nHoe : It is a simple tool which is used\\nfor removing weeds and for loosening\\nthe soil. It has a long rod of wood or\\niron. A strong, broad and bent plate of\\niron is fixed to one of its ends and', metadata={'source': '/content/ncert-textbook-for-class-8-science-chapter-1.pdf', 'page': 2}),\n",
              " Document(page_content='iron is fixed to one of its ends and\\nFig. 1.1 (a) :  The plough\\nploughshaft\\nploughsharebeam\\nRationalised-2023-24', metadata={'source': '/content/ncert-textbook-for-class-8-science-chapter-1.pdf', 'page': 2}),\n",
              " Document(page_content='SCIENCE 4Activity 1.1\\nTake a beaker and fill half of it\\nwith water . Put a handful of wheat\\nseeds and stir well.  Wait for some\\ntime.\\nAre there seeds which float on\\nwater? W ould those be lighter or\\nheavier than those which sink? Why\\nwould they be lighter? Damaged seeds\\nbecome hollow  and ar e thus lighter .\\nTherefore, they float o\\nn water .\\nThis is a good method for\\nseparating good, healthy seeds from\\nthe damaged ones.\\nBefore sowing , one of the important\\ntasks is to know about the tools used', metadata={'source': '/content/ncert-textbook-for-class-8-science-chapter-1.pdf', 'page': 3}),\n",
              " Document(page_content='tasks is to know about the tools used\\nfor sowing seeds [Fig. 1.2 (a), (b)].\\nTraditional tool : The tool used\\ntraditionally for sowing seeds is\\nshaped like a funnel [Fig. 1.2 (a)]. The\\nseeds are filled into the funnel,\\npassed down through two or three\\npipes having sharp ends. These\\nends pierce into the soil and place\\nseeds there.Cultivator : Nowadays ploughing is\\ndone by tractor -driven cultivator . The\\nuse of cultivator saves labour and time.\\n[Fig. 1.1 (c)].\\nFig. 1.1 (b) : A hoe', metadata={'source': '/content/ncert-textbook-for-class-8-science-chapter-1.pdf', 'page': 3}),\n",
              " Document(page_content='[Fig. 1.1 (c)].\\nFig. 1.1 (b) : A hoe\\nFig. 1.2 (a) :  Traditional method of sowing\\nFig.  1.1 (c) :  Cultivator driven by a tractor\\n1.4 Sowing\\nSowing is an important part of crop\\nproduction. Before sowing, good quality,\\nclean and healthy seeds of a good\\nvariety —are selected. Farmers prefer to\\nuse seeds which give high yield.\\nSelection of Seedsgrip beam\\nbent plate\\nrodhandle\\nOne day I saw my mother put\\nsome gram seeds in a vessel\\nand pour some water on\\nthem. After a few minutes', metadata={'source': '/content/ncert-textbook-for-class-8-science-chapter-1.pdf', 'page': 3}),\n",
              " Document(page_content='and pour some water on\\nthem. After a few minutes\\nsome seeds started to float\\non top. I wonder why some\\nseeds float on water!works like a blade. It is pulled by\\nanimals [Fig. 1.1 (b)].\\nRationalised-2023-24', metadata={'source': '/content/ncert-textbook-for-class-8-science-chapter-1.pdf', 'page': 3}),\n",
              " Document(page_content='CROP PRODUCTION  AND MANAGEMENT 5Seed drill :  Nowadays the seed drill [Fig.\\n1.2 (b)] is used for sowing with the help\\nof tractors. This sows the seeds\\nuniformly at equal distance and depth.\\nIt ensures that seeds get covered by the\\nsoil after sowing. This protects seeds\\nfrom being eaten by birds. Sowing by\\nusing a seed drill saves time and labour .Fig. 1.2 (b) :  A seed drill\\nThere is a nursery near my\\nschool. I found that little\\nplants were kept in small\\nbags. Why are they\\nkept like this?', metadata={'source': '/content/ncert-textbook-for-class-8-science-chapter-1.pdf', 'page': 4}),\n",
              " Document(page_content='bags. Why are they\\nkept like this?\\nSeeds  of a few plants\\nsuch as paddy are first\\ngrown in a nursery. When\\nthey grow into seedlings,\\nthey are transplanted to\\nthe field manually. Some\\nforest plants and flowering\\nplants are also grown in\\nthe nursery.\\nAppropriate distance between the\\nseeds is necessary to avoid overcrowding\\nof plants. This allows plants to get\\nI saw a healthy crop growing\\nin a farm. In the neighbouring\\nfarm, the plants were weak.\\nWhy do some plants grow', metadata={'source': '/content/ncert-textbook-for-class-8-science-chapter-1.pdf', 'page': 4}),\n",
              " Document(page_content='Why do some plants grow\\nbetter than others?sufficient sunlight, nutrients and water\\nfrom the soil. At times a few plants\\nmay have to be removed to prevent\\novercrowding.\\n1.5Adding Manure  and\\nFertilisers\\nThe substances which are added to the\\nsoil in the form of nutrients for the\\nhealthy growth of plants are called\\nmanure  and fertilisers .\\nSoil supplies mineral nutrients to the\\ncrop plants. These nutrients are\\nessential for the growth of plants. In\\ncertain areas, farmers grow crop after', metadata={'source': '/content/ncert-textbook-for-class-8-science-chapter-1.pdf', 'page': 4}),\n",
              " Document(page_content='certain areas, farmers grow crop after\\ncrop in the same field. The field is never\\nleft uncultivated or fallow. Imagine what\\nhappens to the nutrients?\\nContinuous cultivation of crops\\nmakes the soil poor in nutrients.\\nTherefore, farmers have to add manure\\nto the fields to replenish the soil with\\nnutrients. This process is called\\nmanuring . Improper or insufficient\\nmanuring results in weak plants.\\nManure is an organic substance\\nobtained from the decomposition of', metadata={'source': '/content/ncert-textbook-for-class-8-science-chapter-1.pdf', 'page': 4}),\n",
              " Document(page_content='obtained from the decomposition of\\nplant or animal wastes. Farmers dump\\nplant and animal waste in pits at open\\nplaces and allow it to decompose. The\\ndecomposition is caused by some\\nmicroorganisms. The decomposed\\nmatter is used as organic manure.\\nYou have alr eady lear nt about\\nvermicomposting in Class VI.\\nRationalised-2023-24', metadata={'source': '/content/ncert-textbook-for-class-8-science-chapter-1.pdf', 'page': 4}),\n",
              " Document(page_content='SCIENCE 6Activity 1.2\\nTake moong  or gram seeds and\\ngerminate them. Select three equal\\nsized seedlings . Take three empty\\nglasses or similar vessels. Mark them\\nA, B and C. To glass A add little\\namount of soil mixed with a little cow\\ndung manure. In glass B put the\\nsame amount of soil mixed with a\\nlittle urea. Take the s a\\nme amount\\nof soil in glass C without adding\\nanything [Fig. 1.3(a)]. Now pour the\\nsame amount of water in each glass\\nand plant the seedlings in them.', metadata={'source': '/content/ncert-textbook-for-class-8-science-chapter-1.pdf', 'page': 5}),\n",
              " Document(page_content='and plant the seedlings in them.\\nKeep them in a safe place and water\\nthem daily . After 7 to 10 days\\nobserve their growth [Fig. 1.3(b)].better growth of plants? In which glass\\nwas the growth fastest?\\nFertilisers are chemical s  which are\\nrich in a particular nutrient. How are\\nthey different from manure? Fertilisers\\nare produced in factories. Some\\nexamples of fertilisers are — urea,\\nammonium sulphate, super\\nphosphate, potash, NPK (Nitrogen,\\nPhosphorus, Potassium).', metadata={'source': '/content/ncert-textbook-for-class-8-science-chapter-1.pdf', 'page': 5}),\n",
              " Document(page_content='Phosphorus, Potassium).\\nThe use of fertilisers has helped\\nfarmers to get  better yield of crops\\nsuch as wheat, paddy and maize. But\\nexcessive use of fertilisers has made\\nthe soil less fertile. Fertilisers have  also\\nbecome a source of water pollution.\\nTherefore, in order to maintain  the\\nfertility of the soil, we have to\\nsubstitute fertilisers with organic\\nmanure or leave the field uncultivated\\n(fallow) in between two crops.\\nThe use of manure improves soil\\ntexture as well as its water retaining', metadata={'source': '/content/ncert-textbook-for-class-8-science-chapter-1.pdf', 'page': 5}),\n",
              " Document(page_content='texture as well as its water retaining\\ncapacity. It replenishes the soil with\\nnutrients.\\nAnother method of replenishing\\nthe soil with nutrients is through crop\\nrotation . This can be done by growing\\ndifferent crops alter nately.  Earlier ,\\nfarmers in northern India used to\\ngrow legumes as fodder in one season\\nand wheat in the next season. This\\nhelped in the replenishment of the soil\\nwith nitrogen. Farmers are being\\nencouraged to adopt this practice.\\nIn the previous classes, you have', metadata={'source': '/content/ncert-textbook-for-class-8-science-chapter-1.pdf', 'page': 5}),\n",
              " Document(page_content='In the previous classes, you have\\nlearnt about Rhizobium  bacteria.\\nThese are present in the nodules of\\nroots of leguminous plants. They fix\\natmospheric nitrogen.\\nFig. 1.3 (a) : Preparation of the experiment\\nDid  plants in all the glasses grow at\\nthe same pace? Which glass showed\\nFig. 1.3 (b) :Growing seedlings with manure\\nand fertiliser\\nRationalised-2023-24', metadata={'source': '/content/ncert-textbook-for-class-8-science-chapter-1.pdf', 'page': 5}),\n",
              " Document(page_content='CROP PRODUCTION  AND MANAGEMENT 7\\nTable 1.1 gives the  differences\\nbetween a fertili ser and manure.\\nAdvantages of Manure : The organic\\nmanure is considered better than\\nfertilisers. This is  because\\n/circle6it enhances the water holding\\ncapacity of the soil.\\n/circle6it makes the soil porous due to which\\nexchange of gases becomes easy.\\n/circle6it increases the number of friendly\\nmicrobes.\\n/circle6it improves the texture of the soil.\\n1.6 Irrigation\\nAll living beings need water to live.', metadata={'source': '/content/ncert-textbook-for-class-8-science-chapter-1.pdf', 'page': 6}),\n",
              " Document(page_content='All living beings need water to live.\\nWater is important for pr oper gr owth\\nand development. W ater is absorbed by\\nthe plant r oots. Along with water ,\\nminerals and fertilisers are also\\nabsorbed. Plants contain nearly 90%\\nwater . Water is essential because\\ngermination of seeds does not take place\\nunder dry conditions. Nutrients\\ndissolved in water are transported to\\neach part of the plant. W ater alsoprotects the crop from both frost and\\nhot air currents. To maintain the', metadata={'source': '/content/ncert-textbook-for-class-8-science-chapter-1.pdf', 'page': 6}),\n",
              " Document(page_content='hot air currents. To maintain the\\nmoisture of the soil for healthy crop\\ngrowth, fields have to be watered\\nregularly.\\nThe supply of water to crops at\\nregular intervals is called irrigation . The\\ntime and frequency of irrigation varies\\nfrom crop to crop, soil to soil and season\\nto season. In summer , the fr equency of\\nwatering is higher . Why is it so? Could\\nit be due to the increased rate of\\nevaporation of water from the soil and\\nthe leaves?Table 1.1 : Differences between Fertiliser and Manure', metadata={'source': '/content/ncert-textbook-for-class-8-science-chapter-1.pdf', 'page': 6}),\n",
              " Document(page_content='S. No. Fertiliser Manure\\n1. Fertiliser is a man-made Manure is a natural substance obtained\\ninorganic salt. by the decomposition of cattle dung\\nand plant residues.\\n2. Fertiliser is prepared in Manure can be prepared in the fields.\\nfactories.\\n3. Fertiliser does not provide Manure provides a lot of humus to the soil.\\nany humus to the soil.\\n4. Fertilisers are very rich in Manure is relatively less rich in plant\\nplant nutrients like nitrogen, nutrients.\\nphosphorus and potassium.', metadata={'source': '/content/ncert-textbook-for-class-8-science-chapter-1.pdf', 'page': 6}),\n",
              " Document(page_content='phosphorus and potassium.\\nSources of irrigation : The sources of\\nwater for irrigation are— wells,\\ntubewells, ponds, lakes, rivers, dams\\nand  canals.I am very careful this\\nyear about watering\\nthe plants. Last\\nsummer my plants\\ndried up and died.\\nRationalised-2023-24', metadata={'source': '/content/ncert-textbook-for-class-8-science-chapter-1.pdf', 'page': 6}),\n",
              " Document(page_content='SCIENCE 8\\nFig. 1.4 (a) :  Moat\\nFig. 1.4 (b) :  Chain pump\\nFig. 1.4 (d) :  RahatFig. 1.4 (c) : DhekliTraditional Methods of\\nIrrigation\\nThe water available in wells,\\nlakes and canals is lifted up\\nby different methods in\\ndifferent regions, for taking it\\nto the fields.\\nCattle or human labour is\\nused in these methods. So\\nthese methods ar e cheaper ,\\nbut less efficient. The various\\ntraditional ways are:\\n(i)moat (pulle y-system)\\n(ii)chain pump\\n(iii)dhekli, and\\n(iv)rahat\\n (Lever system)', metadata={'source': '/content/ncert-textbook-for-class-8-science-chapter-1.pdf', 'page': 7}),\n",
              " Document(page_content='(iii)dhekli, and\\n(iv)rahat\\n (Lever system)\\n[Figs. 1.4 (a)- (d)].\\nPumps are commonly\\nused for lifting water . Diesel,\\nbiogas, electricity and\\nsolar energy is used to run\\nthese pumps.\\nRationalised-2023-24', metadata={'source': '/content/ncert-textbook-for-class-8-science-chapter-1.pdf', 'page': 7}),\n",
              " Document(page_content='CROP PRODUCTION  AND MANAGEMENT 9Modern Methods of\\nIrrigation\\nModern methods of irrigation\\nhelp us to use water\\neconomically. The main\\nmethods used are as follows:\\n(i)Sprinkler System: This\\nsystem is more useful on the\\nuneven land where sufficient\\nwater is not available. The\\nperpendicular pipes, having\\nrotating nozzles on top, are\\njoined to the main pipeline\\nat regular intervals. When\\nwater is allowed to flow\\nthrough the main pipe under pressure\\nwith the help of a pump, it escapes from', metadata={'source': '/content/ncert-textbook-for-class-8-science-chapter-1.pdf', 'page': 8}),\n",
              " Document(page_content='with the help of a pump, it escapes from\\nthe rotating nozzles. It gets sprinkled\\non the crop as if it is raining.\\nSprinkler is very useful for lawns, coffee\\nplantation and several other crops\\n[Fig. 1.5 (a)].\\nFig. 1.5 (b) :  Drip System\\nFig. 1.5 (a) :  Sprinkler system\\n(ii)Drip system : In this system, the\\nwater falls drop by drop directly near\\nthe roots. So it is called drip system. It\\nis the best technique for watering fruit\\nplants,  gardens and trees [Fig. 1.5(b)].', metadata={'source': '/content/ncert-textbook-for-class-8-science-chapter-1.pdf', 'page': 8}),\n",
              " Document(page_content='plants,  gardens and trees [Fig. 1.5(b)].\\nWater is  not wasted at all. It is a boon in\\nregions wher e availability of water is poor .\\nRationalised-2023-24', metadata={'source': '/content/ncert-textbook-for-class-8-science-chapter-1.pdf', 'page': 8}),\n",
              " Document(page_content='SCIENCE 101.7 Pr otection fr om W eeds\\nBoojho and Paheli went to a nearby\\nwheat field and saw that there were some\\nother plants in the field, growing along\\nwith wheat plants.\\nHave these other\\nplants been planted\\npurposely?\\nIn a field many other undesirable\\nplants may grow naturally along with\\nthe crop. These undesirable plants are\\ncalled weeds .\\nThe removal of weeds is called\\nweeding. W eeding is necessary since\\nweeds compete with the crop plants for\\nwater , nutrients, space and light. Thus,', metadata={'source': '/content/ncert-textbook-for-class-8-science-chapter-1.pdf', 'page': 9}),\n",
              " Document(page_content='water , nutrients, space and light. Thus,\\nthey affect the growth of the crop. Some\\nweeds inter fere even in harvesting and\\nmay be poisonous for animals and\\nhuman beings.\\nFarmers adopt many ways to remove\\nweeds and contr ol their growth. T illing\\nbefore sowing of crops helps in\\nuprooting and killing of weeds, which\\nmay then dry up and get mixed with\\nthe soil. The best time for the removal\\nof weeds is before they produce flowers\\nand seeds. The manual removal includes', metadata={'source': '/content/ncert-textbook-for-class-8-science-chapter-1.pdf', 'page': 9}),\n",
              " Document(page_content='and seeds. The manual removal includes\\nphysical removal of weeds by uprooting\\nor cutting them close to the ground,\\nfrom time to time. This is done with the\\nhelp of a \\nkhurpi. A seed drill [Fig. 1.2(b)]\\nis also used to uproot weeds.\\nWeeds ar e also controlled by using\\ncertain chemicals, called weedicides ,\\nlike 2,4-D. These are sprayed in the\\nfields to kill the weeds. They do not\\ndamage the crops. The weedicides are\\ndiluted with water to the extent required', metadata={'source': '/content/ncert-textbook-for-class-8-science-chapter-1.pdf', 'page': 9}),\n",
              " Document(page_content='diluted with water to the extent required\\nand sprayed in the fields with a sprayer .\\n(Fig. 1.6).\\nDo weedicides have any\\neffect on the person handling\\nthe weedicide sprayer?Fig. 1.6 : Spraying weedicide\\nAs already mentioned, the  weedicides\\nare sprayed during the vegetative growth\\nof weeds before flowering and seed\\nformation. Spraying of weedicides may\\naffect the health of  farmer s. So they\\nshould use these chemicals very carefully.\\nThey should cover their nose and mouth', metadata={'source': '/content/ncert-textbook-for-class-8-science-chapter-1.pdf', 'page': 9}),\n",
              " Document(page_content='They should cover their nose and mouth\\nwith a piece of cloth during spraying of\\nthese chemicals.\\n1.8Harvesting\\nHarvesting of a crop is an important\\ntask. The cutting of crop after it is\\nmature is called harvesting . In\\nharvesting, crops are pulled out or cut\\nclose to the ground. It usually takes 3\\nto 4 months for a cereal crop to mature.\\nHarvesting in our\\ncountry is either done\\nmanually by sickle\\n(Fig. 1.7) or by a machine\\ncalled harvester . In the\\nharvested crop, the grain', metadata={'source': '/content/ncert-textbook-for-class-8-science-chapter-1.pdf', 'page': 9}),\n",
              " Document(page_content='harvested crop, the grain\\nseeds need to be separatedFig. 1.7 :\\nSickle\\nRationalised-2023-24', metadata={'source': '/content/ncert-textbook-for-class-8-science-chapter-1.pdf', 'page': 9}),\n",
              " Document(page_content='CROP PRODUCTION  AND MANAGEMENT 11from the chaff. This process is called\\nthreshing . This is carried out with the\\nhelp of a machine called ‘combine’ which\\nis in fact a  harvester as well as a  thresher\\n(Fig. 1.8).\\nFig. 1.8 :  Combine\\nAfter harvesting, sometimes\\nstubs are left in the field, which\\nare burnt by farmers. Paheli is\\nworried. She knows that it\\ncauses pollution. It may also\\ncatch fire and damage the crops\\nlying in the fields.\\nHarvest Festivals\\nAfter three or four months of hard', metadata={'source': '/content/ncert-textbook-for-class-8-science-chapter-1.pdf', 'page': 10}),\n",
              " Document(page_content='After three or four months of hard\\nwork there comes the day of the\\nharvest. The sight of golden fields\\nof standing crop, laden with grain,\\nfills the hearts of farmers with joy\\nand a sense of well -being. The\\nefforts of the past season have\\nborne fruit and it is time to relax\\nand enjoy a little. The period of\\nharvest is, thus, of great joy and\\nhappiness in all parts of India.\\nMen and women celebrate it with\\ngreat enthusiasm. Special\\nfestivals associated with the\\nharvest season are Pongal,', metadata={'source': '/content/ncert-textbook-for-class-8-science-chapter-1.pdf', 'page': 10}),\n",
              " Document(page_content='harvest season are Pongal,\\nBaisakhi, Holi, Diwali, Nabanya\\nand Bihu.\\n1.9Storage\\nStorage of produce is an important task.\\nIf the harvested grains are to be kept\\nfor longer time, they should be safe\\nfrom moisture, insects, rats and\\nmicroorganisms. Harvested grains have\\nmore moisture. If freshly harvested\\ngrains (seeds) are stored without drying,\\nthey may get spoilt or attacked by\\norganisms, making them unfit for use\\nor for germination. Hence, before\\nstoring them, the grains are properly', metadata={'source': '/content/ncert-textbook-for-class-8-science-chapter-1.pdf', 'page': 10}),\n",
              " Document(page_content='storing them, the grains are properly\\ndried in the sun to reduce the moisture\\nin them. This prevents the attack by\\ninsect pests, bacteria and fungi.Farmers with small holdings of land\\ndo the separation of grain and chaff by\\nwinnowing (Fig. 1.9). Y ou have alr eady\\nstudied this in Class VI.\\nFig. 1.9 : Winnowing machine\\nI saw my mother putting\\nsome dried neem leaves\\nin an iron drum\\ncontaining wheat.\\nI wonder why?\\nRationalised-2023-24', metadata={'source': '/content/ncert-textbook-for-class-8-science-chapter-1.pdf', 'page': 10}),\n",
              " Document(page_content='SCIENCE 121.10 Food from Animals\\nFig. 1.10 (a) :  Silos for storage of grains\\nFig. 1.10 (b) : Storage of grains in\\ngunny bags in granaries\\nFarmers store grains in jute bags or\\nmetallic bins. However , large scale\\nstorage of grains is done in silos  and\\ngranaries  to protect them from pests\\nlike rats and insects [Fig. 1.10 (a)\\nand (b)].\\nDried neem leaves are used for\\nstoring food grains at home. For storing\\nlarge quantities of grains in big\\ngodowns, specific chemical treatments', metadata={'source': '/content/ncert-textbook-for-class-8-science-chapter-1.pdf', 'page': 11}),\n",
              " Document(page_content='godowns, specific chemical treatments\\nare required to protect them from pests\\nand microorganisms.Activity 1.3\\nMake the following Table in your\\nnote book and complete it.\\nS.No. Food Sources\\n1. Milk Cow, Buffalo, She-\\ngoat, She-camel . . .\\n2.\\n3.\\n4.\\nFish is good for health.\\nWe get cod liver oil fr om fish\\nwhich is rich in vitamin D.After completing this Table, you\\nmust have seen that, like plants,\\nanimals also provide us with different\\nkinds of food. Many people living in the', metadata={'source': '/content/ncert-textbook-for-class-8-science-chapter-1.pdf', 'page': 11}),\n",
              " Document(page_content='kinds of food. Many people living in the\\ncoastal areas consume fish as a major\\npart of their diet. In the previous classes\\nyou have learnt about the food that we\\nobtain fr om plants. W e have just seen\\nthat the process of crop production\\ninvolves a number of steps like selection\\nof seeds, sowing, etc. Similarly, animals\\nreared at home or in farms, have to be\\nprovided with proper food, shelter and\\ncare. When this is done on a large scale,\\nit is called animal husbandry.\\nRationalised-2023-24', metadata={'source': '/content/ncert-textbook-for-class-8-science-chapter-1.pdf', 'page': 11}),\n",
              " Document(page_content='CROP PRODUCTION  AND MANAGEMENT 13\\n     KEYWORDSKEYWORDSKEYWORDSKEYWORDSKEYWORDS\\nAGRICULTURAL\\nPRACTICES\\nANIMAL HUSBANDRY\\nCROP\\nFERTILISER\\nGRANARIES\\nHARVESTING\\nIRRIGA TION\\nKHARIF\\nMANURE\\nPLOUGH\\nRABI\\nSEEDS\\nSILO\\nSOWING\\nSTORAGE\\nTHRESHING\\nWEEDS\\nWEEDICIDE\\nWINNOWING WHA  WHA WHA  WHA WHA T YT YT Y T YT YOU HA OU HAOU HA OU HAOU HA VE LEARNTVE LEARNTVE LEARNTVE LEARNTVE LEARNT\\n/circlerightIn order to provide food to our growing\\npopulation, we need to adopt certain\\nagricultural practices.', metadata={'source': '/content/ncert-textbook-for-class-8-science-chapter-1.pdf', 'page': 12}),\n",
              " Document(page_content='agricultural practices.\\n/circlerightSame kind of plants cultivated at a place\\nconstitute a crop.\\n/circlerightIn India, crops can be broadly categorised into\\ntwo types based on seasons - rabi and kharif\\ncrops.\\n/circlerightIt is necessary to prepare soil by tilling and\\nlevelling. Ploughs and levellers are used for\\nthis purpose.\\n/circlerightSowing of seeds at appropriate depths and\\ndistances gives good yield. Good variety of\\nseeds are sown after selection of healthy seeds.', metadata={'source': '/content/ncert-textbook-for-class-8-science-chapter-1.pdf', 'page': 12}),\n",
              " Document(page_content='seeds are sown after selection of healthy seeds.\\nSowing is done by seed drills.\\n/circlerightSoil needs replenishment and enrichment\\nthrough the use of organic manure and\\nfertilisers. Use of chemical fertilisers has\\nincreased tremendously with the introduction\\nof new crop varieties.\\n/circlerightSupply of water to crops at appropriate\\nintervals is called irrigation.\\n/circlerightWeeding involves r emoval of unwanted and\\nuncultivated plants called weeds.', metadata={'source': '/content/ncert-textbook-for-class-8-science-chapter-1.pdf', 'page': 12}),\n",
              " Document(page_content='uncultivated plants called weeds.\\n/circlerightHarvesting is the cutting of the mature crop\\nmanually or by machines.\\n/circlerightSeparation of the grains from the chaff is called\\nthreshing.\\n/circlerightProper storage of grains is necessary to protect\\nthem from pests and microorganisms.\\n/circlerightFood is also obtained  from animals for which\\nanimals are reared. This is called animal\\nhusbandry.\\nExercises\\n  1.Select the correct word from the following list and fill in the blanks.', metadata={'source': '/content/ncert-textbook-for-class-8-science-chapter-1.pdf', 'page': 12}),\n",
              " Document(page_content='float, water , crop, nutrients, pr eparation\\n(a)The same kind of plants grown and cultivated on a large scale at a\\nplace is called _____________ .\\n(b)The first step before growing crops is _____________  of the soil.\\nRationalised-2023-24', metadata={'source': '/content/ncert-textbook-for-class-8-science-chapter-1.pdf', 'page': 12}),\n",
              " Document(page_content='SCIENCE 14(c)Damaged seeds would _____________  on top of water .\\n(d)For growing a crop, sufficient sunlight and _____________  and\\n_____________  from the soil are essential.\\n  2.Match items in column A  with those in column B\\n.\\nA B\\n(i)Kharif crops (a)Food for cattle\\n(ii)Rabi crops (b)Urea and super phosphate\\n(iii)Chemical fertilisers (c)Animal excreta, cow dung\\nurine and plant waste\\n(iv)Organic manure (d)Wheat, gram, pea\\n(e)Paddy and maize\\n  3.Give two examples of each.\\n(a) Kharif  crop', metadata={'source': '/content/ncert-textbook-for-class-8-science-chapter-1.pdf', 'page': 13}),\n",
              " Document(page_content='3.Give two examples of each.\\n(a) Kharif  crop\\n(b) Rabi crop\\n  4.Write a paragraph in your own wor ds on each of the following.\\n(a)Preparation of soil (b)    Sowing\\n(c)Weeding (d)    Threshing\\n  5.Explain how fertilisers are different from manure.\\n  6.What is irrigation? Describe two methods of irrigation which conserve water .\\n  7.If wheat is sown in the kharif season, what would happen? Discuss.\\n  8.Explain how soil gets affected by the continuous plantation of crops in\\na field.', metadata={'source': '/content/ncert-textbook-for-class-8-science-chapter-1.pdf', 'page': 13}),\n",
              " Document(page_content='a field.\\n 9.What are weed s? How can we control them?\\n10.Arrange the following boxes in proper order to make a flow chart of\\nsugarcane crop production.E X E R C I S E S\\nSending crop to\\nsugar factoryIrrigation Harvesting Sowing\\n1 2 3 4\\nPreparation of\\nsoilPloughing the\\nfieldManuring\\n5 6 7\\nRationalised-2023-24', metadata={'source': '/content/ncert-textbook-for-class-8-science-chapter-1.pdf', 'page': 13}),\n",
              " Document(page_content='CROP PRODUCTION  AND MANAGEMENT 1511.Complete the following word puzzle with the help of clues given below.\\nDown\\n1.Providing water to the crops.\\n2.Keeping crop grains for a long time under proper conditions.\\n5.Certain plants of the same kind grown on a large scale.\\nAcross\\n3.A machine used for cutting the matured crop.\\n4.A rabi crop that is also one of the pulses.\\n6.A process of separating the grain from chaff.E X E R C I S E S\\nExtended Learning — Activities and Projects', metadata={'source': '/content/ncert-textbook-for-class-8-science-chapter-1.pdf', 'page': 14}),\n",
              " Document(page_content='Extended Learning — Activities and Projects\\n1.Sow some seeds in the soil and arrange to water them by drip\\nirrigation. Observe daily.\\n(i)Do you think it can save water?\\n(ii)Note the changes in the seed.\\n2.Collect different types of seeds and put them in small bags.\\nLabel them.\\n3.Collect pictures of some other agricultural machines and paste them\\nin a file. W rite their names and uses.\\n4.Project W ork\\nVisit a farm, nursery or a garden nearby. Gather information about', metadata={'source': '/content/ncert-textbook-for-class-8-science-chapter-1.pdf', 'page': 14}),\n",
              " Document(page_content='(i)importance of seed selection.\\n(ii)method of irrigation.\\nRationalised-2023-24', metadata={'source': '/content/ncert-textbook-for-class-8-science-chapter-1.pdf', 'page': 14}),\n",
              " Document(page_content='SCIENCE 16An Example for Field T rip W ork\\nHimanshu and his friends were very anxious and curious to go to Thikri village.\\nThey went to Shri Jiwan Patel’s farmhouse. They had taken bags to collect some\\nseeds and other things.\\nHimanshu :Sir namaskar , I am Himanshu. Her e are my friends Mohan, David\\nand Sabiha. W e want some infor mation about cr ops. Please guide\\nus.\\nShri Patel :Namaskar  and welcome all of you. What are your queries?', metadata={'source': '/content/ncert-textbook-for-class-8-science-chapter-1.pdf', 'page': 15}),\n",
              " Document(page_content='Sabiha :When did you start this work and what are the main crops that\\nyou grow?\\nShri Patel :About 75 years ago, my grandfather started this work. The main\\ncrops that we grow are wheat, gram, soyabean and moong .\\nDavid :Sir, can you tell us the dif ference between traditional and moder n\\nagricultural practices?\\nShri Patel :Earlier we used traditional tools like sickle, bullock plough, trowel,\\netc., and depended on rain water for irrigation. But now we use', metadata={'source': '/content/ncert-textbook-for-class-8-science-chapter-1.pdf', 'page': 15}),\n",
              " Document(page_content='moder n methods of irrigation. W e use implements like tractors,\\ncultivators, seed drill and harvester . We get good quality seeds.\\nWe carry out soil testing and use manur e and fertilisers. New\\ninformation about agricultur e is obtained thr ough radio, T .V. and\\nother sources. As a result we are able to get good crops on a large\\nscale. This year we got 9 to 11 quintals of gram crop/acre and 20\\nto 25 quintals of wheat/acre. In my opinion awareness of new', metadata={'source': '/content/ncert-textbook-for-class-8-science-chapter-1.pdf', 'page': 15}),\n",
              " Document(page_content='technology is important for better crop yield.\\nMohan :Sabiha, come here and see some earthworms. Are they helpful to\\nthe farmers?\\nSabiha :Oh Mohan! we learnt about it in Class VI.\\nShri Patel :Earthworms turn the soil and loosen it for proper aeration, so\\nthey help the far mer.\\nDavid :Can we have some seeds of the crops you grow here?\\n[They put some seeds, fertilisers and soil sample in the bags.]\\nHimanshu :Sir, we ar e thankful to you for making this visit pleasant and for', metadata={'source': '/content/ncert-textbook-for-class-8-science-chapter-1.pdf', 'page': 15}),\n",
              " Document(page_content='providing useful information.(iii)effect of extreme cold and extreme hot weather on the plants.\\n(iv)effect of continuous rain on the plants.\\n(v)fertilisers/manure used.\\nRationalised-2023-24', metadata={'source': '/content/ncert-textbook-for-class-8-science-chapter-1.pdf', 'page': 15}),\n",
              " Document(page_content='MICROORGANISMS  : FRIEND AND FOE MICROORGANISMS  : FRIEND AND FOE\\nYou have seen several kinds of\\nplants and animals. However ,\\nthere are other living organisms\\naround us which we normally cannot\\nsee. These are called microorganisms\\nor microbes . For example, you might\\nhave observed that during the rainy\\nseason moist bread gets spoilt and its\\nsurface gets cover ed with gr eyish white\\npatches. Observe these patches through\\na magnifying glass. Y ou will see tiny,', metadata={'source': '/content/ncert-textbook-for-class-8-science-chapter-2.pdf', 'page': 0}),\n",
              " Document(page_content='a magnifying glass. Y ou will see tiny,\\nblack rounded structures. Do you know\\nwhat these structures are and where d o\\nthese come from?\\n2.1 Microorganisms\\nActivity 2.1\\nCollect some moist soil from the\\nfield in a beaker and add water to\\nit. After the soil particles have\\nsettled  down , observe a drop of\\nwater from the beaker under a\\nmicroscope. What do you see ?\\nActivity 2.2\\nTake a few drops of water from a\\npond. Spread on a glass slide and\\nobserve through a microscope.', metadata={'source': '/content/ncert-textbook-for-class-8-science-chapter-2.pdf', 'page': 0}),\n",
              " Document(page_content='observe through a microscope.\\nDo you find tiny organisms moving\\naround?These observations show that water\\nand soil are full of tiny organisms,\\nthough not all of them fall into the\\ncategory of microbes. These\\nmicroorganisms or microbes are so\\nsmall in size that they cannot be seen\\nwith the unaided eye. Some of these,\\nsuch as the fungus that grows on bread,\\ncan be seen with a magnifying glass.\\nOthers cannot be seen without the help\\nof a microscope. That is why these are', metadata={'source': '/content/ncert-textbook-for-class-8-science-chapter-2.pdf', 'page': 0}),\n",
              " Document(page_content='of a microscope. That is why these are\\ncalled microorganisms or microbes.\\nMicroorganisms are classified into\\nfour major groups. These groups are\\nbacteria , fungi ,  protozoa  and some\\nalgae . Some of these common\\nmicroorganisms are shown in\\nFigs. 2.1 - 2.4.\\nViruses are also microscopic but are\\ndifferent from other microorganisms .\\nThey, however , reproduce only inside the\\ncells of the host organism, which may be\\na bacterium, plant or animal. Some of the\\nviruses are shown in Fig. 2.5. Common', metadata={'source': '/content/ncert-textbook-for-class-8-science-chapter-2.pdf', 'page': 0}),\n",
              " Document(page_content='viruses are shown in Fig. 2.5. Common\\nailments like cold, influenza (flu) and\\nmost coughs are caused by viruses.\\nSerious diseases like polio and chicken\\npox are also caused by viruses.\\nDiseases like dysentery and malaria\\nare caused by protozoa(protozoans)\\nwhereas  typhoid and tuberculosis (TB)\\nare bacterial diseases.\\nYou have lear nt about some of\\nthese microorganisms in Classes VI\\nand VII.\\nRationalised-2023-24', metadata={'source': '/content/ncert-textbook-for-class-8-science-chapter-2.pdf', 'page': 0}),\n",
              " Document(page_content='SCIENCE 18Fig. 2.4 :  Fungi\\nFig. 2.1:  Bacteria\\nChlamydomonas Spirogyra\\nFig. 2.2 :  AlgaeAmoeba\\nParamecium\\nFig. 2.3 :  Protozoa\\nBread mould PenicilliumAspergillus\\nRationalised-2023-24', metadata={'source': '/content/ncert-textbook-for-class-8-science-chapter-2.pdf', 'page': 1}),\n",
              " Document(page_content='MICROORGANISMS  : FRIEND AND FOE 192.2Where do Microorganisms\\nLive?\\nMicroorganisms may be single-celled\\nlike bacteria, some algae and protozoa,\\nor multicellular , such as many algae and\\nfungi. They live in all types of\\nenvironment, ranging from ice cold\\nclimate to hot springs; and deserts to\\nmarshy lands. They are also found\\ninside the bodies of animals including\\nhumans. Some microorganisms\\ngrow on other organisms while others\\nexist freely.\\n2.3 Microorganisms and Us', metadata={'source': '/content/ncert-textbook-for-class-8-science-chapter-2.pdf', 'page': 2}),\n",
              " Document(page_content='exist freely.\\n2.3 Microorganisms and Us\\nMicroorganisms play an important role\\nin our lives. Some of them are beneficial\\nin many ways whereas some others are\\nharmful and cause diseases. Let us\\nstudy about them in detail.Microorganisms have been used for\\nthe production of alcohol since ages.Friendly Microorganisms\\nMicroorganisms are used for various\\npurposes. They are used in the\\npreparation of curd, bread and cake.\\nCurd contains several micro-\\norganisms. Of these, the bacterium ,', metadata={'source': '/content/ncert-textbook-for-class-8-science-chapter-2.pdf', 'page': 2}),\n",
              " Document(page_content='organisms. Of these, the bacterium ,\\nLactobacillus   promotes the formation\\nof curd. It multiplies in milk and\\nconverts it into curd. Bacteria are also\\ninvolved in the making of cheese,\\npickles and many other food items. An\\nimportant ingredient of rava (sooji)\\nidlis and \\nbhaturas  is curd. Can you\\nguess why? Bacteria and yeast are also\\nhelpful for fermentation of rice idlis\\nand dosa batter .\\nFig. 2.5 :  Viruses\\nI saw that my mother\\nadded a little curd to warm\\nmilk to set curd for the', metadata={'source': '/content/ncert-textbook-for-class-8-science-chapter-2.pdf', 'page': 2}),\n",
              " Document(page_content='milk to set curd for the\\nnext day. I wonder why?They are also used in cleaning up\\nof the environment. For example, the\\norganic wastes (vegetable peels, remains\\nof animals,  faeces , etc.) are broken\\ndown into harmless and usable\\nsubstances by bacteria. Recall that\\nbacteria are also used in the\\npreparation of medicines. In agriculture\\nthey are used to increase soil fertility\\nby fixing nitrogen.\\nMaking of Curd and Bread\\nYou have lear nt in Class VII that milk is\\nturned into curd by bacteria.', metadata={'source': '/content/ncert-textbook-for-class-8-science-chapter-2.pdf', 'page': 2}),\n",
              " Document(page_content='turned into curd by bacteria.\\nRationalised-2023-24', metadata={'source': '/content/ncert-textbook-for-class-8-science-chapter-2.pdf', 'page': 2}),\n",
              " Document(page_content='SCIENCE 20spoon of yeast powder to the sugar\\nsolution. Keep it covered in a warm\\nplace for 4-5 hours. Now smell the\\nsolution.  Can you get a smell?\\nLouis Pasteur\\ndiscovered\\nfermentation\\nin 1857.\\nIn 1929, Alexander\\nFleming was working\\non a culture of disease-\\ncausing bacteria.\\nSuddenly he found the\\nspores of a little green mould in one of\\nhis culture plates. He observed that\\nthe presence of mould prevented the\\ngrowth of bacteria. In fact, it also killed\\nmany of these bacteria. From this the', metadata={'source': '/content/ncert-textbook-for-class-8-science-chapter-2.pdf', 'page': 3}),\n",
              " Document(page_content='many of these bacteria. From this the\\nmould penicillin was prepared.\\nThis is the smell of alcohol as sugar\\nhas been converted into alcohol by yeast.\\nThis process of conversion of sugar into\\nalcohol is known as fermentation.Activity 2.3\\nTake ½ kg flour ( atta or maida ),\\nadd some sugar and mix with\\nwarm water . Add a small amount\\nof yeast powder and knead to\\nmake a soft dough. What do you\\nobserve after two hours? Did you\\nfind the dough rising?\\nMaida with yeast powder\\nRaised maida\\nFig. 2.6', metadata={'source': '/content/ncert-textbook-for-class-8-science-chapter-2.pdf', 'page': 3}),\n",
              " Document(page_content='Maida with yeast powder\\nRaised maida\\nFig. 2.6\\nYeast r eproduces rapidly and\\nproduces carbon dioxide during\\nrespiration. Bubbles of the gas fill the\\ndough and increase its volume (Fig. 2.6).\\nThis is the basis of the use of  yeast in\\nthe baking industry for making breads,\\npastries and cakes.\\nCommercial Use of Microorganisms\\nMicroorganisms are used for the large scale\\nproduction of alcohol, wine and acetic acid\\n(vinegar). Y east is used for commer cial\\nproduction of alcohol and wine. For this', metadata={'source': '/content/ncert-textbook-for-class-8-science-chapter-2.pdf', 'page': 3}),\n",
              " Document(page_content='production of alcohol and wine. For this\\npurpose yeast is grown on natural sugars\\npresent in grains like barley, wheat, rice,\\ncrushed fruit juices , etc.\\nActivity 2.4\\nTake a 500 mL beaker filled upto\\n¾ with water . Dissolve 2-3\\nteaspoons of sugar in it. Add half a\\nMedicinal Use of Microorganisms\\nWhen ever you fall ill the doctor may\\ngive you some antibiotic tablets,\\ncapsules or injections such as of\\npenicillin. The source of these\\nmedicines is microorganisms. These', metadata={'source': '/content/ncert-textbook-for-class-8-science-chapter-2.pdf', 'page': 3}),\n",
              " Document(page_content='medicines is microorganisms. These\\nmedicines kill or stop the growth of the\\ndisease -causing microorganisms. Such\\nmedicines are called antibiotics . These\\ndays a number of antibiotics are being\\nproduced from bacteria and fungi.\\nStreptomycin, tetracycline and\\nerythromycin are some of the\\nRationalised-2023-24', metadata={'source': '/content/ncert-textbook-for-class-8-science-chapter-2.pdf', 'page': 3}),\n",
              " Document(page_content='MICROORGANISMS  : FRIEND AND FOE 21commonly known antibiotics which are\\nmade from fungi and bacteria. The\\nantibiotics are manufactured by\\ngrowing specific microorganisms and\\nare used to cure a variety of diseases.\\nAntibiotics are even mixed with the\\nfeed of livestock and poultry to check\\nmicrobial infection in animals. They are\\nalso used to control many plant\\ndiseases.\\nIt is important to remember that\\nantibiotics should be taken only on\\nthe advi ce of a qualified doctor . Also', metadata={'source': '/content/ncert-textbook-for-class-8-science-chapter-2.pdf', 'page': 4}),\n",
              " Document(page_content='the advi ce of a qualified doctor . Also\\nyou must complete  the course\\nprescribed by the doctor . If you take\\nantibiotics when not needed or in\\nwrong doses, it may make the drug\\nless effective when you might need\\nit in future. Also antibiotics taken\\nunnecessarily may kill the beneficial\\nbacteria in the body. Antibiotics,\\nhowever , are not ef fective against\\ncold and flu as these are caused by\\nviruses.\\nVaccinefrom the disease-causing microbes for\\never. This is how a vaccine works.', metadata={'source': '/content/ncert-textbook-for-class-8-science-chapter-2.pdf', 'page': 4}),\n",
              " Document(page_content='ever. This is how a vaccine works.\\nSeveral diseases, including cholera,\\ntuberculosis, smallpox and hepatitis can\\nbe prevented by vaccination.\\nEdward Jenner\\ndiscovered the\\nvaccine for small-\\npox in 1798.\\nWhy are children/infants\\ngiven vaccination?\\nWhen a disease-carrying microbe enters\\nour body, the body produces antibodies\\nto fight the invader . The body also\\nremembers how to fight the microbe if\\nit enters again. If dead or weakened\\nmicrobes are introduced in to a healthy', metadata={'source': '/content/ncert-textbook-for-class-8-science-chapter-2.pdf', 'page': 4}),\n",
              " Document(page_content='microbes are introduced in to a healthy\\nbody , the body fights and kills\\nthe invading bacteria  by producing\\nsuitable antibodies. The antibodies\\nremain in the body and we are protected\\nIn your childhood, you must have\\nbeen given injections to protect\\nyourself against several diseases.\\nCan you prepare a list of these\\ndiseases? Y ou may take help fr om\\nyour parents.\\nIt is essential to protect all children\\nagainst these diseases. Necessary\\nvaccines are available in the nearby', metadata={'source': '/content/ncert-textbook-for-class-8-science-chapter-2.pdf', 'page': 4}),\n",
              " Document(page_content='vaccines are available in the nearby\\nhospitals. Y ou might have seen the\\nadvertisement on TV and newspapers\\nregarding protection of children against\\npolio under the Pulse Polio Programme.\\nPolio drops given to children are\\nactually a vaccine.\\nA worldwide campaign against\\nsmallpox has finally led to its eradication\\nfrom most parts of the world.\\nThese days vaccines are made on a\\nlarge scale from microorganisms  to\\nprotect humans and other animals from\\nseveral diseases.\\nIncreasing Soil Fertility', metadata={'source': '/content/ncert-textbook-for-class-8-science-chapter-2.pdf', 'page': 4}),\n",
              " Document(page_content='several diseases.\\nIncreasing Soil Fertility\\nSome bacteria  (Fig. 2.7) are able to fix\\nnitrogen from the atmosphere to enrich\\nsoil with nitrogen and increase its\\nfertility. These microbes are commonly\\ncalled biological nitrogen fixers.\\nRationalised-2023-24', metadata={'source': '/content/ncert-textbook-for-class-8-science-chapter-2.pdf', 'page': 4}),\n",
              " Document(page_content='SCIENCE 22Cleaning the Environment\\nBoojho and Paheli had observed the\\nschool gardener making manure. Along\\nwith their friends, they collected wastes\\nof plants, vegetables and fruit s from\\nnearby houses and  gardens. They put\\nthem in a pit meant for waste disposal.\\nAfter some time , it decomposed and got\\nconverted to manure. Boojho and\\nPaheli wanted to know how this had\\nhappen ed.\\nActivity 2.5\\nTake two pots and fill each pot half\\nwith soil. Mark them A and B. Put', metadata={'source': '/content/ncert-textbook-for-class-8-science-chapter-2.pdf', 'page': 5}),\n",
              " Document(page_content='with soil. Mark them A and B. Put\\nplant waste in pot A and things like\\npolythene bags, empty glass bottles\\nand broken plastic toys in pot B.\\nPut the pots aside. Observe them\\nafter 3-4 weeks.\\nDo you find any difference in the\\ncontents of the two pots? If so, what is\\nthe dif ference? Y ou will find that plant\\nwaste  in pot A, has been decomposed.\\nHow did this happen? The plant waste\\nhas been converted into manure by the\\naction of microbes. The nutrientsreleased in the process can be used by', metadata={'source': '/content/ncert-textbook-for-class-8-science-chapter-2.pdf', 'page': 5}),\n",
              " Document(page_content='the plants again.\\nDid you notice that in pot B , the\\npolythene bags, empty glasses, bottles\\nand broken toy parts did not undergo\\nany such change? The microbes could\\nnot ‘act’ on them and convert them into\\nmanure.\\nYou often see lar ge amounts of\\ndead organic matter in the form of\\ndecaying plants and sometimes dead\\nanimals on the gr ound. Y\\nou find\\nthat they disappear after some time.\\nThis is because the microorganisms\\ndecompose dead organic waste of plants\\nand animals converting them into', metadata={'source': '/content/ncert-textbook-for-class-8-science-chapter-2.pdf', 'page': 5}),\n",
              " Document(page_content='and animals converting them into\\nsimple substances. These substances\\nare again used by other plants and\\nanimals.  Thus, microorganisms can\\nbe used to degrade the harmful and\\nsmelly substances and thereby clean\\nup the environment.\\n2.4Harmful Microorganisms\\nMicroorganisms are harmful in many\\nways. Some of the microorganisms\\ncause diseases in human beings, plants\\nand animals. Such disease-causingFig. 2.7 :  The Nitrogen fixing cyanobacteria (blue green algae)\\nRationalised-2023-24', metadata={'source': '/content/ncert-textbook-for-class-8-science-chapter-2.pdf', 'page': 5}),\n",
              " Document(page_content='MICROORGANISMS  : FRIEND AND FOE 23\\nmicroorganisms are called pathogens.\\nSome microorganisms spoil food,\\nclothing and leather . Let us study mor e\\nabout their harmful activities.\\nDisease causing Microorganisms\\nin Humans\\nPathogens enter our body through the\\nair we breathe, the water we drink or\\nthe food we eat. They can also get\\ntransmitted by direct contact with an\\ninfected person or carried by an animal.\\nMicrobial diseases that can spread from\\nan infected person to a healthy person', metadata={'source': '/content/ncert-textbook-for-class-8-science-chapter-2.pdf', 'page': 6}),\n",
              " Document(page_content='an infected person to a healthy person\\nthrough air , water , food or physical\\ncontact are called communicable\\ndiseases . Examples of such diseases\\ninclude cholera, common cold, chicken\\npox and tuberculosis.\\nWhen a person suffering from\\ncommon cold sneezes, fine droplets of\\nmoisture carrying thousands of viruses\\nare spread in the air . The virus may enter\\nthe body of a healthy person while\\nbreathing and cause infection.There are some insects and animals\\nwhich act as carriers  of disease-', metadata={'source': '/content/ncert-textbook-for-class-8-science-chapter-2.pdf', 'page': 6}),\n",
              " Document(page_content='which act as carriers  of disease-\\ncausing microbes. Housefly is one such\\ncarrier . The flies sit on the garbage and\\nanimal excreta. Pathogens stick to their\\nbodies. When these flies sit on uncovered\\nfood they may transfer the pathogens.\\nWhoever eats the contaminated food is\\nlikely to get sick. So, it is advisable to\\nalways keep food covered. Avoid\\nconsuming uncovered items of food.\\nAnother example of a carrier is the\\nfemale Anopheles  mosquito (Fig. 2.8),\\nwhich carries the parasite of malaria', metadata={'source': '/content/ncert-textbook-for-class-8-science-chapter-2.pdf', 'page': 6}),\n",
              " Document(page_content='which carries the parasite of malaria\\n(Plasmodium). Female Aedes  mosquito\\nacts as carrier of dengue virus.\\nHow can we control the spread of malaria\\nor dengue?\\nThen how do you\\nprevent the spread of\\ncommunicable\\ndiseases?\\n We should keep a\\nhandkerchief on the\\nnose and mouth while\\nsneezing. It is better to\\nkeep a distance from\\ninfected persons.\\nFig. 2.8 : Female Anopheles mosquito\\nWhy does the teacher\\nkeep telling us not\\nto let water collect\\nanywhere in the\\nneighbourhood?', metadata={'source': '/content/ncert-textbook-for-class-8-science-chapter-2.pdf', 'page': 6}),\n",
              " Document(page_content='anywhere in the\\nneighbourhood?\\nAll mosquitoes br eed in water . Hence,\\none should not let water collect\\nanywhere, in coolers, tyres, flower pot,\\netc. By keeping the surroundings clean\\nand dry we can prevent mosquitoes from\\nbreeding. T ry to make a list of measur es\\nwhich help to avoid the spread of\\nmalaria.\\nRationalised-2023-24', metadata={'source': '/content/ncert-textbook-for-class-8-science-chapter-2.pdf', 'page': 6}),\n",
              " Document(page_content='SCIENCE 24\\nSome of the common diseases\\naffecting humans, their mode of\\ntransmission and few general methods\\nof prevention are shown in Table 2.1.\\nDisease causing Microorganisms\\nin Animals\\nSeveral microorganisms not only cause\\ndiseases in humans and plants, but alsoin other animals. For example, anthrax\\nis a dangerous human and cattle\\ndisease caused by a bacterium. Foot\\nand mouth disease of cattle is caused\\nby a virus.\\nDisease causing Microorganisms\\nin Plants\\nSeveral microorganisms cause', metadata={'source': '/content/ncert-textbook-for-class-8-science-chapter-2.pdf', 'page': 7}),\n",
              " Document(page_content='in Plants\\nSeveral microorganisms cause\\ndiseases in plants like wheat,  rice, potato,\\nsugarcane, orange,  apple and others.\\nThe diseases  reduce the yield of crops.\\nSee Table 2.2 for some such plant\\ndiseases. They can be controlled by theHuman Disease Causative Mode of Preventive Measures\\nMicroorganism Transmission (General)\\nTuberculosis Bacteria Air\\nMeasles Virus Air\\nChicken Pox Virus Air/Contact\\nPolio Virus Air/W ater\\nCholera Bacteria Water/Food\\nTyphoid Bacteria Water\\nHepatitis A Virus Water', metadata={'source': '/content/ncert-textbook-for-class-8-science-chapter-2.pdf', 'page': 7}),\n",
              " Document(page_content='Typhoid Bacteria Water\\nHepatitis A Virus Water\\nMalaria Protozoa Mosquito\\nRobert Köch (1876)\\ndiscovered the bacterium\\n(Bacillus anthracis) which\\ncauses anthrax disease.Keep the patient in complete\\nisolation. Keep the personal\\nbelongings of the patient away\\nfrom those of the others.\\nVaccination to be given at\\nsuitable age.\\nMaintain personal hygiene\\nand good sanitary habits.\\nConsume properly cooked food\\nand boiled drinking water .\\nVaccination.\\nDrink boiled drinking water .\\nVaccination.', metadata={'source': '/content/ncert-textbook-for-class-8-science-chapter-2.pdf', 'page': 7}),\n",
              " Document(page_content='Drink boiled drinking water .\\nVaccination.\\nUse mosquito net and\\nrepellents. Spray insecticides\\nand control breeding of\\nmosquitoes by not allowing\\nwater to collect in the\\nsurroundings.\\nTable 2.1: Some Common Human Diseases caused by Microorganisms\\nRationalised-2023-24', metadata={'source': '/content/ncert-textbook-for-class-8-science-chapter-2.pdf', 'page': 7}),\n",
              " Document(page_content='MICROORGANISMS  : FRIEND AND FOE 25\\nuse of certain chemicals which kill the\\nmicrobes.\\nFood Poisoning\\nBoojho was invited by his friend to a\\nparty and he ate a variety of foodstuff.\\nOn reaching home he started vomiting\\nand had to be taken to a hospital. The\\ndoctor said that this condition could be\\ndue to food poisoning.make the food poisonous causing\\nserious illness and even death. So, it\\nis very important that we preserve\\nfood to prevent it from being spoilt.\\n2.5 Food Preservation', metadata={'source': '/content/ncert-textbook-for-class-8-science-chapter-2.pdf', 'page': 8}),\n",
              " Document(page_content='2.5 Food Preservation\\nIn Chapter 1, we have learnt about the\\nmethods used to preserve and store food\\ngrains. How do we preserve cooked  food\\nat home? Y ou know that br ead left\\nunused under moist conditions is\\nattacked by fungus. Microorganisms\\nspoil our food. Spoiled food emits bad\\nsmell and has a bad taste and changed\\ncolour . Is spoiling of food a chemical\\nreaction?\\nPaheli bought some mangoes but she\\ncould not eat them for a few days. Later\\nshe found that they were spoilt and', metadata={'source': '/content/ncert-textbook-for-class-8-science-chapter-2.pdf', 'page': 8}),\n",
              " Document(page_content='she found that they were spoilt and\\nrotten. But she knows that the mango\\npickle her grandmother makes does not\\nspoil for a long time. She is confused.Plant Micro- Mode of\\nDiseases organism Transmission\\nCitrus Bacteria Air\\ncanker\\nRust of Fungi Air,\\nwheat seeds\\nYellow vein Virus Insect\\nmosaic of\\nbhindi  (Okra)\\nPaheli wonders how\\nfood can become a\\n‘poison’.\\nTable 2.2: Some Common Plant Diseases caused by Microorganisms\\nFood poisoning could be due to the\\nconsumption of food spoilt by some', metadata={'source': '/content/ncert-textbook-for-class-8-science-chapter-2.pdf', 'page': 8}),\n",
              " Document(page_content='consumption of food spoilt by some\\nmicroorganisms. Microorganisms\\nthat grow on our food sometimes\\nproduce toxic substances. These\\nRationalised-2023-24', metadata={'source': '/content/ncert-textbook-for-class-8-science-chapter-2.pdf', 'page': 8}),\n",
              " Document(page_content='SCIENCE 26Let us study the common methods\\nof pr eserving food in our homes. W e\\nhave to save it from the attack of\\nmicroorganisms.\\nChemical Method\\nSalts and edible oils are the common\\nchemicals generally used to check the\\ngrowth of microorganisms. Therefore\\nthey ar e called preservatives . We add\\nsalt or acid preservatives to pickles to\\nprevent the attack of microbes. Sodium\\nbenzoate and sodium metabisulphite are\\ncommon preservatives. These are also\\nused in jams and squashes to check', metadata={'source': '/content/ncert-textbook-for-class-8-science-chapter-2.pdf', 'page': 9}),\n",
              " Document(page_content='used in jams and squashes to check\\ntheir spoilage .\\nPreservation by Common Salt\\nCommon salt has been used to preserve\\nmeat and fish for ages. Meat and fish\\nare covered with dry salt to check\\nthe growth of bacteria. Salting is also\\nused to preserve amla\\n, raw mangoes,\\ntamarind, etc.\\nPreservation by Sugar\\nJams, jellies and squashes are preserved\\nby sugar . Sugar r educes the moistur e\\ncontent which inhibits the growth of\\nbacteria which spoil food.\\nPreservation by Oil and Vinegar', metadata={'source': '/content/ncert-textbook-for-class-8-science-chapter-2.pdf', 'page': 9}),\n",
              " Document(page_content='Preservation by Oil and Vinegar\\nUse of oil and vinegar prevents spoilage\\nof pickles because bacteria cannot live\\nin such an envir onment. V egetables,\\nfruits, fish and meat are often preserved\\nby this method.\\nHeat and Cold Treatments\\nYou must have observed your mother\\nboiling milk before it is stored or used.\\nBoiling kills many microorganisms.Similarly, we keep our food in the\\nrefrigerator . Low temperatur e inhibits\\nthe growth of microbes.\\nPasteurised milk can be consumed', metadata={'source': '/content/ncert-textbook-for-class-8-science-chapter-2.pdf', 'page': 9}),\n",
              " Document(page_content='Pasteurised milk can be consumed\\nwithout boiling as it is free from harmful\\nmicrobes. The milk is heated to about\\n700C for 15 to 30 seconds and then\\nsuddenly chilled and stored. By doing\\nso, it prevents the growth of microbes.\\nThis process was discovered by Louis\\nPasteur . It is called pasteurisation .\\nStorage and Packing\\nThese days dry fruits and even\\nvegetables are sold in sealed air tight\\npackets to prevent the attack of\\nmicrobes.\\n2.6Nitrogen Fixation\\nYou have lear nt about the bacterium', metadata={'source': '/content/ncert-textbook-for-class-8-science-chapter-2.pdf', 'page': 9}),\n",
              " Document(page_content='You have lear nt about the bacterium\\nRhizobium   in Classes VI and VII. It is\\ninvolved in the  fixation of nitrogen in\\nleguminous plants (pulses). Recall that\\nRhizobium  lives in the root nodules of\\nleguminous plants  (Fig. 2.9), such as\\nbeans and peas, with which it has a\\nsymbiotic relationship. Sometimes\\nnitrogen gets fixed through the action\\nof lightning. But you know that the\\namount of nitrogen in the atmosphere\\nremains constant. Y ou may wonder\\nhow? Let us understand this in the next', metadata={'source': '/content/ncert-textbook-for-class-8-science-chapter-2.pdf', 'page': 9}),\n",
              " Document(page_content='how? Let us understand this in the next\\nsection.\\nWhy does the milk that\\ncomes in packets not spoil?\\nMy mother told me that the\\nmilk is ‘pasteurised’. What\\nis pasteurisation?\\nRationalised-2023-24', metadata={'source': '/content/ncert-textbook-for-class-8-science-chapter-2.pdf', 'page': 9}),\n",
              " Document(page_content='MICROORGANISMS  : FRIEND AND FOE 27nitrogen cannot be taken directly by\\nplants and animals. Certain bacteria and\\nblue green algae  present in the soil fix\\nnitrogen from the atmosphere and\\nconvert it into compounds of nitrogen.\\nOnce nitrogen is converted into these\\nusable compounds, it can be utilised by\\nplants from the soil through their root\\nsystem. Nitrogen is then used for the\\nsynthesis of plant proteins and other\\ncompounds. Animals feeding on plants\\nget these proteins and other nitrogen', metadata={'source': '/content/ncert-textbook-for-class-8-science-chapter-2.pdf', 'page': 10}),\n",
              " Document(page_content='get these proteins and other nitrogen\\ncompounds (Fig. 2.10).\\nWhen plants and animals die,\\nbacteria and fungi present in the soil\\nconvert the nitrogenous wastes into\\nnitrogenous compounds to be used by\\nplants again. Certain other bacteria\\nconvert some part of them to nitrogen\\ngas which goes back into the\\natmosphere. As a result, the percentage\\nof nitrogen in the atmosphere remains\\nmore or less constant.\\nFig. 2.10  : Nitrogen cycle\\nFig. 2.9 : Roots of a leguminous plant with root\\nnodules', metadata={'source': '/content/ncert-textbook-for-class-8-science-chapter-2.pdf', 'page': 10}),\n",
              " Document(page_content='nodules\\n2.7 Nitrogen cycle\\nOur atmosphere has 78% nitrogen gas.\\nNitrogen is one of the essential\\nconstituents of all living organisms as\\npart of proteins, chlorophyll, nucleic\\nacids and vitamins. The atmospheric\\nRationalised-2023-24', metadata={'source': '/content/ncert-textbook-for-class-8-science-chapter-2.pdf', 'page': 10}),\n",
              " Document(page_content='SCIENCE 28\\n KEYWORDS KEYWORDS KEYWORDS KEYWORDS KEYWORDS\\nALGAE\\nANTIBIOTICS\\nANTIBODIES\\nBACTERIA\\nCARRIER\\nCOMMUNICABLE\\nDISEASES\\nFERMENT ATION\\nFUNGI\\nLACTOBACILLUS\\nMICROORGANISM\\nNITROGEN CYCLE\\nNITROGEN FIXA TION\\nPASTEURISA TION\\nPATHOGEN\\nPRESER VATION\\nPROTOZOA\\nRHIZOBIUM\\nVACCINE\\nVIRUS\\nYEAST WHA  WHA WHA  WHA WHA T YT YT Y T YT YOU HA OU HAOU HA OU HAOU HA VE LEARNTVE LEARNTVE LEARNTVE LEARNTVE LEARNT\\n/circlerightMicroorganisms are too small and are not\\nvisible to the unaided eye.', metadata={'source': '/content/ncert-textbook-for-class-8-science-chapter-2.pdf', 'page': 11}),\n",
              " Document(page_content='visible to the unaided eye.\\n/circlerightThey can live in all kinds of environment,\\nranging from ice cold climate to hot springs\\nand deserts to marshy lands.\\n/circlerightMicroorganisms are found in air , water and\\nin the bodies of plants and animals.\\n/circlerightThey may be unicellular or multicellular .\\n/circlerightMicroorganisms include bacteria, fungi,\\nprotozoa and some algae. Viruses, though\\ndifferent from the above mentioned living\\norganisms, are considered microbes.', metadata={'source': '/content/ncert-textbook-for-class-8-science-chapter-2.pdf', 'page': 11}),\n",
              " Document(page_content='organisms, are considered microbes.\\n/circlerightViruses are quite different from other\\nmicroorganisms. They reproduce only inside\\nthe host organism: bacterium, plant or ani-\\nmal cell.\\n/circlerightSome microorganisms are useful for\\ncommercial production of medicines and\\nalcohol.\\n/circlerightSome microorganisms decompose the organic\\nwaste and dead plants and animals into simple\\nsubstances and clean up the environment.\\n/circlerightProtozoans cause serious diseases like\\ndysentery and malaria.', metadata={'source': '/content/ncert-textbook-for-class-8-science-chapter-2.pdf', 'page': 11}),\n",
              " Document(page_content='dysentery and malaria.\\n/circlerightSome of the microorganisms grow on our food\\nand cause food poisoning.\\n/circlerightSome microorganisms reside in the root\\nnodules of leguminous plants. They can fix\\nnitrogen from air into soil and increase the\\nsoil fertility.\\n/circlerightSome bacteria  present in the soil fix nitrogen\\nfrom the atmosphere and convert into\\nnitrogenous compounds.\\n/circlerightCertain bacteria convert compounds of nitro-\\ngen present in the soil into nitrogen gas which', metadata={'source': '/content/ncert-textbook-for-class-8-science-chapter-2.pdf', 'page': 11}),\n",
              " Document(page_content='gen present in the soil into nitrogen gas which\\nis released to the atmosphere.\\nRationalised-2023-24', metadata={'source': '/content/ncert-textbook-for-class-8-science-chapter-2.pdf', 'page': 11}),\n",
              " Document(page_content='MICROORGANISMS  : FRIEND AND FOE 29Exercises\\n1.Fill in the blanks.\\n(a)Microorganisms can be seen with the help of a ____________.\\n(b)Blue green algae fix __________ directly from air and enhance fertility\\nof soil.\\n(c)Alcohol is produced with the help of   __________.\\n(d)Cholera is caused by __________.\\n2.Tick the corr ect answer .\\n(a)Yeast is used in the pr oduction of\\n(i) sugar     (ii) alcohol     (iii) hydrochloric acid     (iv) oxygen\\n(b)The following is an antibiotic', metadata={'source': '/content/ncert-textbook-for-class-8-science-chapter-2.pdf', 'page': 12}),\n",
              " Document(page_content='(b)The following is an antibiotic\\n(i) Sodium bicarbonate     (ii) Str eptomycin     (iii) Alcohol     (iv) Y east\\n(c)Carrier of malaria-causing protozoan is\\n(i)female Anopheles  mosquito (ii)cockroach\\n(iii)housefly (iv) butterfly\\n(d)The most common carrier of communicable diseases is\\n(i) ant    (ii) housefly    (iii) dragonfly    (iv) spider\\n(e)The bread or idli dough rises because of\\n(i) heat    (ii) grinding      (iii) growth of yeast cells  (iv) kneading', metadata={'source': '/content/ncert-textbook-for-class-8-science-chapter-2.pdf', 'page': 12}),\n",
              " Document(page_content='(f)The process of conversion of sugar into alcohol is called\\n(i)  nitrogen fixation  (ii) moulding  (iii) fermentation  (iv)  infection\\n3.Match the organisms in Column A with their action in\\nColumn B.\\nA B\\n(i)Bacteria (a)Fixing nitrogen\\n(ii)Rhizobium (b)Setting of curd\\n(iii) Lactobacillus (c)Baking of bread\\n(iv)Yeast (d)Causing malaria\\n(v)A protozoan (e)Causing cholera\\n(vi)A virus (f)Causing AIDS\\n(g)Producing antibodies\\n4.Can microorganisms be seen with the naked eye? If not, how can they be', metadata={'source': '/content/ncert-textbook-for-class-8-science-chapter-2.pdf', 'page': 12}),\n",
              " Document(page_content='seen?\\nRationalised-2023-24', metadata={'source': '/content/ncert-textbook-for-class-8-science-chapter-2.pdf', 'page': 12}),\n",
              " Document(page_content='SCIENCE 305.What are the major groups of microorganisms?\\n6.Name the microorganisms which can fix atmospheric nitrogen in the soil.\\n7.Write 10 lines on the usefulness of micr oorganisms in our lives.\\n8.Write a short paragraph on the har mful ef fects of micr oorganisms.\\n9.What are antibiotics? What precautions must be taken while taking\\nantibiotics?E X E R C I S E S\\nA BExtended Learning — Activities and Projects\\n1.Pull out a gram or bean plant fr om the field. Observe its r oots. Y ou', metadata={'source': '/content/ncert-textbook-for-class-8-science-chapter-2.pdf', 'page': 13}),\n",
              " Document(page_content='will find round structures called root nodules on the roots. Draw a\\ndiagram of the root and show the root nodules.\\n2.Collect the labels fr om the bottles of jams and jellies. W rite down\\nthe list of contents printed on the labels.\\n3.Visit a doctor . Find out why antibiotics should not be overused.\\nPrepare  a short report.\\n4.Project : Requir ements – 2 test tubes, marker pen, sugar , yeast\\npowder , 2 balloons and lime water .\\nTake two test tube s and mark  them  A and B. Clamp these tubes in', metadata={'source': '/content/ncert-textbook-for-class-8-science-chapter-2.pdf', 'page': 13}),\n",
              " Document(page_content='a stand and f ill the\\nm with water leaving some space at the top. Put\\ntwo spoonfuls of sugar in each\\nof the test tubes. Add a spoonful\\nof yeast in test tube B. Inflate the\\ntwo balloons incompletely . Now\\ntie the balloons on the mouth s\\nof each test tube. Keep them in\\na warm place , away from\\nsunlight. W atch the setup  every\\nday for next 3-4 days. Record\\nyour observations and think of\\nan explanation.\\n   Now take another test tube\\nfilled 1/4 with lime water .\\nRemove the balloon from test', metadata={'source': '/content/ncert-textbook-for-class-8-science-chapter-2.pdf', 'page': 13}),\n",
              " Document(page_content='Remove the balloon from test\\ntube B in such a manner that\\ngas inside the balloon does not\\nescape. Fit the balloon on the\\ntest tube and shake well.\\nObserve and explain.\\nRationalised-2023-24', metadata={'source': '/content/ncert-textbook-for-class-8-science-chapter-2.pdf', 'page': 13}),\n",
              " Document(page_content='MICROORGANISMS  : FRIEND AND FOE 31Did Y ou Know?\\nBacteria have lived on the earth for much longer than human beings.\\nThey are such hardy organisms that they can live under extreme conditions.\\nThey have been found living in boiling mudpots and extremly cold icy waters.\\nThey have been found in lakes of caustic soda and in pools of concentrated\\nsulphuric acid. They can survive at depths of several kilometres. They\\nprobably can survive in space, too. A kind of bacterium was recovered', metadata={'source': '/content/ncert-textbook-for-class-8-science-chapter-2.pdf', 'page': 14}),\n",
              " Document(page_content='from a camera which stood on the moon for two years.There is probably no\\nenvironment in which bacteria cannot survive.\\nRationalised-2023-24', metadata={'source': '/content/ncert-textbook-for-class-8-science-chapter-2.pdf', 'page': 14}),\n",
              " Document(page_content='CONSERVATION  OF PLANTS AND ANIMALS CONSERVATION  OF PLANTS AND ANIMALS\\nWe saw in Class VII that\\nPaheli  and  Boojho  had visited\\nthe forest along with Professor\\nAhmad and T ibu. They wer e eager to\\nshare their experiences with their\\nclassmates. Other children in the class\\nwere also eager to share their experiences\\nas some of them had visited Bharatpur\\nSanctuary. Some others had heard\\nabout  Kaziranga National Park,\\nLockchao Wildlife Sanctuary, Great\\nNicobar Biospher e Reserve and T iger', metadata={'source': '/content/ncert-textbook-for-class-8-science-chapter-5.pdf', 'page': 0}),\n",
              " Document(page_content='Nicobar Biospher e Reserve and T iger\\nReserve, etc.Some natural causes of deforestation\\nare forest fires and severe droughts.\\nActivity 5.1\\nAdd more causes of deforestation to\\nyour list and classify them into\\nnatural and man-made.\\n5.2Consequences of\\nDeforestation\\nPaheli and Boojho recalled the\\nconsequences of deforestation. They\\nremembered that deforestation increases\\nthe temperature and pollution level on\\nthe earth. It increases the level of carbon\\ndioxide in the atmosphere. Ground water', metadata={'source': '/content/ncert-textbook-for-class-8-science-chapter-5.pdf', 'page': 0}),\n",
              " Document(page_content='dioxide in the atmosphere. Ground water\\nlevel also gets lowered. They know that\\ndeforestation disturbs the balance in\\nnature. They were told by Professor\\nAhmad that if cutting of trees continues,\\nrainfall and the  fertility of the soil will\\n5.1 Deforestation and Its\\nCauses\\nA great variety of plants and animals\\nexist on earth. They are essential for the\\nwell-being and survival of mankind.\\nToday, a major threat to survival of these\\norganisms is deforestation . We know', metadata={'source': '/content/ncert-textbook-for-class-8-science-chapter-5.pdf', 'page': 0}),\n",
              " Document(page_content='organisms is deforestation . We know\\nthat deforestation means clearing of\\nforests and using that land for other\\npurposes. T r\\nees in the for est ar e cut for\\nsome of the purposes mentioned below:\\nlProcuring land for cultivation.\\nlBuilding houses and factories.\\nlMaking furniture or using wood as\\nfuel.How does deforestation reduce\\nrainfall on the one hand and\\nlead to floods on the other?\\ndecr ease. Mor eover , ther e will be\\nincreased chances of natural calamities\\nsuch as floods and droughts.', metadata={'source': '/content/ncert-textbook-for-class-8-science-chapter-5.pdf', 'page': 0}),\n",
              " Document(page_content='such as floods and droughts.\\nRecall that plants need carbon\\ndioxide for photosynthesis. Fewer trees\\nwould mean that less carbon dioxide will\\nbe used up resulting in its increasedWhat is the purpose of\\nmaking national parks,\\nwildlife sanctuaries and\\nbiosphere reserves?\\nRationalised-2023-24', metadata={'source': '/content/ncert-textbook-for-class-8-science-chapter-5.pdf', 'page': 0}),\n",
              " Document(page_content='SCIENCE 54amount in the atmosphere. This will lead\\nto global warming as carbon dioxide\\ntraps the heat rays reflected by the earth.\\nThe increase in temperature on the earth\\ndisturbs the water cycle and may reduce\\nrainfall. This could cause droughts .\\nDeforestation is a major cause which\\nleads to the change in soil properties.\\nPhysical properties of the soil get affected\\nby plantation and vegetation. Fewer\\ntrees result in more soil erosion.\\nRemoval of the top layer of the soil', metadata={'source': '/content/ncert-textbook-for-class-8-science-chapter-5.pdf', 'page': 1}),\n",
              " Document(page_content='Removal of the top layer of the soil\\nexposes the lower , har d and r ocky\\nlayers. This soil has less humus and is\\nless fertile. Gradually the fertile land\\ngets converted into deserts. It is called\\ndesertification .\\nDeforestation also leads to a decrease\\nin the water holding capacity of the soil.\\nThe movement of water from the soil\\nsurface into the gr ound (infiltration rate)\\nis reduced. So, there are floods. The\\nother properties of the soil like nutrient\\ncontent, texture etc., also change', metadata={'source': '/content/ncert-textbook-for-class-8-science-chapter-5.pdf', 'page': 1}),\n",
              " Document(page_content='content, texture etc., also change\\nbecause of deforestation.\\nWe have studied in Class VII that we\\nget many products from forests. List these\\nproducts. Will we face shortage of these\\nproducts if we continue cutting trees?\\nActivity 5.2\\nAnimal life is also affected by\\ndeforestation. How? List the points\\nand discuss them in your class.\\n5.3 Conservation of Forest\\nand Wildlife\\nHaving become aware of the effects of\\ndeforestation, Paheli and Boojho are\\nworried. They go to Professor Ahmad', metadata={'source': '/content/ncert-textbook-for-class-8-science-chapter-5.pdf', 'page': 1}),\n",
              " Document(page_content='worried. They go to Professor Ahmad\\nand ask him how forests and wildlife\\ncan be saved.Biosphere is that part of the earth in\\nwhich living organisms exist or which\\nsupports life. Biological diversity or\\nbiodiversity, refers  to the variety of\\norganisms existing on the earth, their\\ninterrelationships and their\\nrelationship with the environment.\\nProfessor  Ahmad organi ses a visit to\\na biosphere reserve for Paheli, Boojho and\\ntheir classmates. He selects a place', metadata={'source': '/content/ncert-textbook-for-class-8-science-chapter-5.pdf', 'page': 1}),\n",
              " Document(page_content='their classmates. He selects a place\\nnamed Pachmarhi Biosphere Reserve. He\\nknows that the plants and animals found\\nhere are similar to those of the upper\\nHimalayan peaks and to those belonging\\nto the lower western ghats. Professor\\nAhmad believes that the biodiversity\\nfound here is unique. He requests\\nMadhavji, a forest employee, to guide the\\nchildren inside the biosphere reserve. He\\nexplains that preserving areas of such\\nbiological importance make them a part\\nof our national heritage .', metadata={'source': '/content/ncert-textbook-for-class-8-science-chapter-5.pdf', 'page': 1}),\n",
              " Document(page_content='of our national heritage .\\nMadhavji explains to the children\\nthat apart from our personal efforts and\\nefforts of the society, government\\nTo protect our flora and fauna and their\\nhabitats, protected areas  called\\nwildlife sanctuaries, national parks\\nand biosphere reserves have been\\nearmarked. Plantation, cultivation,\\ngrazing, felling trees, hunting and\\npoaching are prohibited there.\\nWildlife Sanctuary :  Areas where\\nanimals are protected from any\\ndisturbance to them and their habitat .', metadata={'source': '/content/ncert-textbook-for-class-8-science-chapter-5.pdf', 'page': 1}),\n",
              " Document(page_content='disturbance to them and their habitat .\\nNational Park : Areas reserved for\\nwild life where they can freely use the\\nhabitats and natural resources.\\nBiosphere Reserve : Large areas of\\nprotected land for conservation of wild\\nlife, plant and animal resources and\\ntraditional life of the tribals living in\\nthe area.\\nRationalised-2023-24', metadata={'source': '/content/ncert-textbook-for-class-8-science-chapter-5.pdf', 'page': 1}),\n",
              " Document(page_content='CONSER VATION OF PLANTS AND ANIMALS 55agencies also take care of the forests and\\nanimals. The government lays down\\nrules, methods and policies to protect\\nand conserve them. Wildlife sanctuaries,\\nnational parks, biosphere reserves etc.,\\nare protected areas for conservation\\nof plants and animals present in\\nthat area.\\nActivity 5.3\\nFind out the number of national\\nparks, wildlife sanctuaries and\\nbiosphere reserves in your district,\\nstate and country. Record in  Table', metadata={'source': '/content/ncert-textbook-for-class-8-science-chapter-5.pdf', 'page': 2}),\n",
              " Document(page_content='state and country. Record in  Table\\n5.1. Show these areas in an outline\\nmap of your state and India.\\nFig. 5.1 :  Pachmarhi Biosphere Reserve5.4Biosphere Reserve\\nChildren along with Professor Ahmad\\nand Madhavji enter the biosphere\\nreserve area. Madhavji explains that\\nbiosphere reserves  are the areas meant\\nfor conservation of biodiversity. As you\\nare aware that biodiversity is the variety\\nof plants, animals and microorganisms\\ngenerally found in an area.  The', metadata={'source': '/content/ncert-textbook-for-class-8-science-chapter-5.pdf', 'page': 2}),\n",
              " Document(page_content='generally found in an area.  The\\nbiosphere reserves  help to maintain the\\nbiodiversity and culture of that area. A\\nbiosphere reserve may also contain\\nother protected areas in it. The\\nPachmarhi Biosphere Reserve consists\\nof one national park named Satpura and\\ntwo wildlife sanctuaries named Bori and\\nPachmarhi (Fig. 5.1).\\nPACHMARHI SANCTUARY\\nTO PIP ARIYATAW\\nA\\nRESERVIOR\\nCHURNA\\nBORI SANCTUARYDHAINBORISATPURA NA TIONAL PARKNEEMGHANPANARP ANI GA TE\\nPACHMARHI↑N', metadata={'source': '/content/ncert-textbook-for-class-8-science-chapter-5.pdf', 'page': 2}),\n",
              " Document(page_content='PACHMARHI↑N\\nTable 5.1 : Protected Areas for Conservation\\nProtected Areas — National Park Wildlife Sanctuary Biosphere Reserve\\nIn my district\\nIn my state\\nIn my country\\nRationalised-2023-24', metadata={'source': '/content/ncert-textbook-for-class-8-science-chapter-5.pdf', 'page': 2}),\n",
              " Document(page_content='SCIENCE 56\\n(d)             (e) (f)\\nFig. \\xa05.2  : (a) W ild dog (b) Cheetal (c) Wolf (d) Leopar d (e) Fern (f) Jamun tr eeActivity  5.4\\nList the factors disturbing the\\nbiodiversity of your area. Some of\\nthese factors and human activities\\nmay disturb the biodiversity\\nunknowingly. List these human\\nactivities. How can these be checked?\\nDiscuss in your class and write a\\nbrief report in your notebook.\\n5.5  Flora and Fauna\\nAs the children walk around the', metadata={'source': '/content/ncert-textbook-for-class-8-science-chapter-5.pdf', 'page': 3}),\n",
              " Document(page_content='As the children walk around the\\nbiosphere reserve they appreciate thegreen wealth of the forest. They are\\nvery happy to see tall teak trees and\\nanimals inside the forest. Suddenly,\\nPaheli finds a rabbit and wants to\\ncatch it. She starts running after it.\\nProfessor Ahmad stops her . He\\nexplains that animals are comfortable\\nand happy in their own habitat. W e\\nshould not disturb them. Madhavji\\nexplains that some animals and plants\\ntypically belong to a particular area.', metadata={'source': '/content/ncert-textbook-for-class-8-science-chapter-5.pdf', 'page': 3}),\n",
              " Document(page_content='typically belong to a particular area.\\nThe plants and animals found in a\\nparticular area are termed flora  and\\nfauna  respectively  of that area.\\nSal, teak, mango, jamun , silver ferns, arjun,  etc., are the flora and chinkara , blue-\\nbull, barking deer , cheetal , leopar d, wild dog, wolf, etc. ar e examples of the fauna\\nof the Pachmarhi Biosphere Reserve (Fig. 5.2).\\n(a) (b) (c)\\nRationalised-2023-24', metadata={'source': '/content/ncert-textbook-for-class-8-science-chapter-5.pdf', 'page': 3}),\n",
              " Document(page_content='CONSER VATION OF PLANTS AND ANIMALS 57\\nI have heard that some of the\\nendemic species may vanish.\\nIs it true?Activity 5.5\\nTry to identify the flora and fauna\\nof your area and list them.\\n5.6Endemic Species\\nSoon the group quietly enters the deep\\nforest. Children are surprised to see a\\nvery big squirrel. This squirrel has a big\\nfluffy tail. They are very curious to know\\nabout it. Madhavji tells them that this\\nis known as the giant squirrel and is\\nendemic to this area.', metadata={'source': '/content/ncert-textbook-for-class-8-science-chapter-5.pdf', 'page': 4}),\n",
              " Document(page_content='endemic to this area.\\nEndemic species  are those species\\nof plants and animals which are found\\nexclusively in a particular area. They are\\nnot naturally found  anywhere else. A\\nparticular type of animal or plant may\\nbe endemic to a zone, a state or a country.\\nMadhavji shows sal  and wild mango\\n(Fig. 5.3 (a)] as two examples of the\\nFig. 5.3 (a) : Wild Mango\\nFig. 5.3 (b) :  Giant squirrelendemic flora of the Pachmarhi\\nBiosphere Reserve. Bison, Indian giant', metadata={'source': '/content/ncert-textbook-for-class-8-science-chapter-5.pdf', 'page': 4}),\n",
              " Document(page_content='Biosphere Reserve. Bison, Indian giant\\nsquirrel [Fig. 5.3 (b)] and flying squirrel\\nare endemic fauna of this area. Professor\\nAhmad explains that the destruction of\\ntheir habitat,  increasing population and\\nintroduction of new species may affect\\nthe natural habitat of endemic species\\nand endanger their existence.\\nSpecies  is a group of population\\nwhich are capable of interbreeding.\\nThis means that the members of a\\nspecies can reproduce fertile offspring\\nonly with the members of their own', metadata={'source': '/content/ncert-textbook-for-class-8-science-chapter-5.pdf', 'page': 4}),\n",
              " Document(page_content='only with the members of their own\\nspecies and not with members of\\nother species. Members of a species\\nhave common characteristics.\\nActivity 5.6\\nFind out the endemic plants and\\nanimals of the region where you live.\\nRationalised-2023-24', metadata={'source': '/content/ncert-textbook-for-class-8-science-chapter-5.pdf', 'page': 4}),\n",
              " Document(page_content='SCIENCE 585.7 Wildlife Sanctuary\\nSoon Paheli sees a board with ‘Pachmarhi\\nWildlife Sanctuary’ written on it.\\nProfessor Ahmad explains that killing\\n(poaching) or capturing animals in general\\nis strictly prohibited and punishable\\nby law in all such places. Wildlife\\nSanctuaries  like reserve forests provide\\nprotection and suitable living conditions\\nto wild animals. He also tells them that\\npeople living in wildlife sanctuaries are\\nallowed to do certain activities such as', metadata={'source': '/content/ncert-textbook-for-class-8-science-chapter-5.pdf', 'page': 5}),\n",
              " Document(page_content='allowed to do certain activities such as\\ngrazing by their livestock, collecting\\nmedicinal plants, firewood, etc.instead of  their natural habitat? In\\nyour opinion, will the animals be\\ncomfortable in a zoo or in their\\nnatural habitat?\\n5.8  National Park\\nOn the roadside there was another\\nboard on which was written ‘Satpura\\nNational Park’.\\nChildren are now eager to go there.\\nMadhavji tells them that these reserves\\nare large and diverse enough to protect\\nwhole sets of ecosystems. They preserve', metadata={'source': '/content/ncert-textbook-for-class-8-science-chapter-5.pdf', 'page': 5}),\n",
              " Document(page_content='whole sets of ecosystems. They preserve\\nflora, fauna, landscape and historic\\nobjects of an area. Satpura National\\nPark is the first Reserve Forest of India.\\nThe finest Indian teak is found in this\\nforest.  There are more than one hundred\\nNational Parks i n India.\\n It is a pity that even protected forests\\nare not safe because people living in the\\nneighbourhood encroach upon them\\nand destroy them.\\nChildren are reminded of their visit\\nto the zoo. They recall that zoos are also', metadata={'source': '/content/ncert-textbook-for-class-8-science-chapter-5.pdf', 'page': 5}),\n",
              " Document(page_content='to the zoo. They recall that zoos are also\\nplaces where animals receive protection.Some of the threatened wild animals\\nlike black buck, white eyed buck,\\nelephant, golden cat, pink headed\\nduck, gharial, marsh crocodile,\\npython, rhinoceros, etc., are\\nprotected and preserved in our wild\\nlife sanctuaries. Indian sanctuaries\\nhave unique landscapes—broad level\\nforests, mountain forests and bush\\nlands in deltas of big rivers.\\nActivity 5.7\\nVisit a nearby zoo. Observe the', metadata={'source': '/content/ncert-textbook-for-class-8-science-chapter-5.pdf', 'page': 5}),\n",
              " Document(page_content='Activity 5.7\\nVisit a nearby zoo. Observe the\\nconditions provided to the animals.\\nWere they suitable for the animals?\\nCan animals live in artificial settingRock shelters are also found inside\\nthe Satpura National Park. These are\\nevidences of prehistoric human life\\nin these jungles. These give us an\\nidea of the life of primitive people.\\nRock paintings are found in these\\nshelters. A total of 55 rock shelters\\nhave been identified in Pachmarhi\\nBiosphere Reserve.\\nFigures of animals and men', metadata={'source': '/content/ncert-textbook-for-class-8-science-chapter-5.pdf', 'page': 5}),\n",
              " Document(page_content='Biosphere Reserve.\\nFigures of animals and men\\nfighting, hunting, dancing and\\nplaying musical instruments are\\ndepicted in these paintings. Many\\ntribals still live in the area.\\nAs children move ahead, they see a\\nboar d with ‘Satpura T iger Reserve’\\nwritten on it. Madhavji explains that\\nProject Tiger  was launched by the\\ngovernment to protect the tigers in the\\ncountry. The objective of this project\\nwas to ensure the survival and\\nmaintenance of the tiger population in', metadata={'source': '/content/ncert-textbook-for-class-8-science-chapter-5.pdf', 'page': 5}),\n",
              " Document(page_content='maintenance of the tiger population in\\nthe country.What is the difference between\\na zoo and a wildlife sanctuary?\\nRationalised-2023-24', metadata={'source': '/content/ncert-textbook-for-class-8-science-chapter-5.pdf', 'page': 5}),\n",
              " Document(page_content='CONSER VATION OF PLANTS AND ANIMALS 59Are tigers still found in this\\nforest? I hope I can see a tiger!\\nTiger (Fig. 5.4) is one of the many\\nspecies which are slowly disappearing\\nfrom our for ests. But, the Satpura T iger\\nReserve is unique in the sense that a\\nsignificant increase in the population of\\ntigers has been seen here. Once upon a\\ntime, animals like lions, elephants, wild\\nanimals has become difficult because of\\ndisturbances in their natural habitat.\\nProfessor Ahmad tells them that in order', metadata={'source': '/content/ncert-textbook-for-class-8-science-chapter-5.pdf', 'page': 6}),\n",
              " Document(page_content='Professor Ahmad tells them that in order\\nto protect plants and animals strict rules\\nare imposed in all National Parks.\\nHuman activities such as grazing,\\npoaching, hunting, capturing of animals\\nFig. 5.4 :  Tiger\\nbuffaloes (Fig. 5 .5) and barasingha\\n(Fig. 5.6) were also found in the Satpura\\nNational Park. Animals whose numbers\\nare diminishing to a level that they might\\nface extinction are known as the\\nendangered animals . Boojho is\\nreminded of the dinosaurs which became', metadata={'source': '/content/ncert-textbook-for-class-8-science-chapter-5.pdf', 'page': 6}),\n",
              " Document(page_content='reminded of the dinosaurs which became\\nextinct a long time ago. Survival of some\\nFig. 5.5 :  Wild buffaloFig. 5.6 :  Barasingha\\nAre only big animals\\nfacing extinction?\\nMadhavji tells Paheli that small\\nanimals are much more in danger of\\nbecoming extinct than the bigger\\nanimals. At times, we kill snakes, frogs,\\nlizards, bats and owls ruthlessly without\\nrealising their importance in the\\necosystem. By killing them we are\\nharming ourselves. They might be small\\nin size but their role in the ecosystem', metadata={'source': '/content/ncert-textbook-for-class-8-science-chapter-5.pdf', 'page': 6}),\n",
              " Document(page_content='in size but their role in the ecosystem\\ncannot be ignored. They form part of\\nfood chains and food webs.\\nAn ecosystem  is made of all the\\nplants, animals and microorganisms in\\nan area along with non-living\\ncomponents such as climate, soil,\\nriver deltas etc.or collection of firewood,\\nmdicinal plants, etc. are\\nnot allowed\\nRationalised-2023-24', metadata={'source': '/content/ncert-textbook-for-class-8-science-chapter-5.pdf', 'page': 6}),\n",
              " Document(page_content='SCIENCE 605.9Red Data Book\\nProfessor  Ahmad explains about Red\\nData Book to the children. He tells\\nthem that Red Data Book  is the\\nsource book which keeps a record of\\nall the endangered animals and\\nplants. Red  Data Book is maintained\\ninternationally by an organisation .\\nIndia also maintains Red Data Book\\nfor plants and animal s found\\nin India.\\n5.10  Migration\\nThe excursion party then enters deeper\\ninto the forest under the guidance of\\nMadhavji. They sit near the Tawa\\nWhat would happen if we', metadata={'source': '/content/ncert-textbook-for-class-8-science-chapter-5.pdf', 'page': 7}),\n",
              " Document(page_content='What would happen if we\\nhad no wood? Is there\\nany alternative\\navailable to wood?\\nI know that paper is one\\nof the important products\\nwe get from forests.\\nI wonder whether\\nthere are any alternatives\\navailable for paper!Is there any permanent\\nsolution to the problem\\nof deforestation?Reservoir to relax for some time. Paheli\\nobserves some of the birds near the\\nriver. Madhavji tells the childr en that\\nthese are migratory birds. These birds\\nhave flown here from other parts of\\nthe world.', metadata={'source': '/content/ncert-textbook-for-class-8-science-chapter-5.pdf', 'page': 7}),\n",
              " Document(page_content='have flown here from other parts of\\nthe world.\\nMigratory birds fly to far away areas\\nevery year during a particular time\\nbecause of climatic changes. They fly\\nfor laying eggs as the weather in their\\nnatural habitat becomes very cold and\\ninhospitable. Birds who cover long\\ndistances to reach another land are\\nknown as migratory birds.\\n5.11  Recycling of Paper\\nProfessor  Ahmad draws attention of\\nthe children to another cause of\\ndeforestation. He tells them that it', metadata={'source': '/content/ncert-textbook-for-class-8-science-chapter-5.pdf', 'page': 7}),\n",
              " Document(page_content='deforestation. He tells them that it\\ntakes 17 full grown trees to make one\\ntonne of paper . Ther efore, we should\\nsave paper . Professor  Ahmad also tells\\nthat paper can be recycled five to seven\\ntimes for use. If each student saves at\\nleast one sheet of paper in a day, we\\ncan save many tr ees in a year . We\\nshould save, reuse used paper and\\nrecycle it. By this we not only save\\ntrees but also save  energy and water\\nneeded for manufacturing paper .\\nMoreover , the amount of har mful', metadata={'source': '/content/ncert-textbook-for-class-8-science-chapter-5.pdf', 'page': 7}),\n",
              " Document(page_content='Moreover , the amount of har mful\\nchemicals used in paper making will\\nalso be reduced.I wonder if there is\\nany record of all\\nendangered species!\\nRationalised-2023-24', metadata={'source': '/content/ncert-textbook-for-class-8-science-chapter-5.pdf', 'page': 7}),\n",
              " Document(page_content='CONSER VATION OF PLANTS AND ANIMALS 615.12  Reforestation\\nProfessor Ahmad suggests that the\\nanswer to deforestation is reforestation.\\nReforestation is restocking of the\\ndestroyed forests by planting new trees.\\nThe planted trees should generally be\\nof the same species which were found\\nin that for est. W e should plant at least\\nas many trees as we cut. Reforestation\\ncan take place naturally also. If the\\ndeforested area is left undisturbed, it re-\\nestablishes itself. In natural reforestation', metadata={'source': '/content/ncert-textbook-for-class-8-science-chapter-5.pdf', 'page': 8}),\n",
              " Document(page_content='establishes itself. In natural reforestation\\nthere is no r ole of human beings. W e\\nhave already caused tremendous\\ndamage to our forests. If we have toretain our green wealth for future\\ngenerations, plantation of more trees is\\nthe only option.\\nProfessor Ahmad told them that in\\nIndia we have the Forest (Conservation)\\nAct. This act is aimed at preservation\\nand conservation of natural forests and\\nmeeting the basic needs of the people\\nliving in or near the forests.\\nAfter some rest Madhavji asks the', metadata={'source': '/content/ncert-textbook-for-class-8-science-chapter-5.pdf', 'page': 8}),\n",
              " Document(page_content='After some rest Madhavji asks the\\nchildren to start heading back because\\nit is not advisable to stay in the\\njungle after sunset. On getting back,\\nProfessor Ahmad and the children\\nthank Madhavji for guiding them\\nthrough this exciting experience.\\nRationalised-2023-24', metadata={'source': '/content/ncert-textbook-for-class-8-science-chapter-5.pdf', 'page': 8}),\n",
              " Document(page_content='SCIENCE 62\\n WHAT YOU HAVE LEARNT WHAT YOU HAVE LEARNT WHAT YOU HAVE LEARNT WHAT YOU HAVE LEARNT WHAT YOU HAVE LEARNT\\nÜWildlife sanctuary, national park and bio-\\nsphere reserve are names given to the areas\\nmeant for conservation and preservation of\\nforest and wild animals.\\nÜBiodiversity refers to the variety of living\\norganisms in a specific area.\\nÜPlants and animals of a particular area are\\nknown as the flora and  fauna of  that area.\\nÜEndemic species are found only in a particular\\narea.', metadata={'source': '/content/ncert-textbook-for-class-8-science-chapter-5.pdf', 'page': 9}),\n",
              " Document(page_content='area.\\nÜEndangered species are those which are facing\\nthe danger of extinction.\\nÜRed Data Book contains a record of\\nendangered species.\\nÜMigration is the phenomenon of movement of\\na species from its own habitat to some other\\nhabitat for a particular time period every year\\nfor a specific purpose like breeding.\\nÜWe should save, r euse and r ecycle paper to\\nsave trees, ener gy and water .\\nÜReforestation is the restocking of destroyed\\nforests by planting new trees.\\nExercises\\n  1.Fill in the blanks.', metadata={'source': '/content/ncert-textbook-for-class-8-science-chapter-5.pdf', 'page': 9}),\n",
              " Document(page_content='Exercises\\n  1.Fill in the blanks.\\n(a)A place where animals are protected in their natural habitat is\\ncalled .\\n(b)Species found only in a particular area is known as .\\n(c)Migratory birds fly to far away places because of  changes.\\n  2.Differentiate between the following.\\n(a)Wildlife sanctuary and biosphere reserve\\n(b)Zoo and wildlife sanctuary\\n(c)Endangered and extinct species\\n(d)Flora and fauna KEYWORDS KEYWORDS KEYWORDS KEYWORDS KEYWORDS\\nBIODIVERSITY\\nBIOSPHERE RESERVE\\nDEFOREST ATION', metadata={'source': '/content/ncert-textbook-for-class-8-science-chapter-5.pdf', 'page': 9}),\n",
              " Document(page_content='BIODIVERSITY\\nBIOSPHERE RESERVE\\nDEFOREST ATION\\nDESER TIFICA TION\\nECOSYSTEM\\nENDANGERED\\nSPECIES\\nENDEMIC SPECIES\\nEXTINCT\\nFAUNA\\nFLORA\\nMIGRA TORY BIRDS\\nNATIONAL PARK\\nRED DA TA BOOK\\nREFOREST ATION\\nSANCTUARY\\nRationalised-2023-24', metadata={'source': '/content/ncert-textbook-for-class-8-science-chapter-5.pdf', 'page': 9}),\n",
              " Document(page_content='CONSER VATION OF PLANTS AND ANIMALS 63  3.Discuss the effects of deforestation on the following.\\n(a)Wild animals\\n(b)Environment\\n(c)Villages (Rural areas)\\n(d)Cities (Urban areas)\\n(e)Earth\\n(f)The next generation\\n  4.What will happen if.\\n(a)we go on cutting trees.\\n(b)the habitat of an animal is disturbed.\\n(c)the top layer of soil is exposed.\\n  5.Answer in brief.\\n(a)Why should we conserve biodiversity?\\n(b)Protected forests are also not completely safe for wild animals. Why?', metadata={'source': '/content/ncert-textbook-for-class-8-science-chapter-5.pdf', 'page': 10}),\n",
              " Document(page_content='(c)Some tribals depend on the jungle. How?\\n(d)What are the causes and consequences of deforestation?\\n(e)What is Red Data Book?\\n(f)What do you understand by the term migration?\\n  6.In order to meet the ever -increasing demand in factories and for shelter ,\\ntrees are being continually cut. Is it justified to cut trees for such projects?\\nDiscuss and prepare a brief report.\\n  7.How can you contribute to the maintenance of green wealth of your locality?\\nMake a list of actions to be taken by you.', metadata={'source': '/content/ncert-textbook-for-class-8-science-chapter-5.pdf', 'page': 10}),\n",
              " Document(page_content='Make a list of actions to be taken by you.\\n  8.Explain how deforestation leads to reduced rainfall.\\n  9.Find out about national parks in your state. Identify and show their location\\non the outline map of India.\\n10.Why should paper be saved?  Prepare a list of ways by which you can save\\npaper .E X E R C I S E S\\nRationalised-2023-24', metadata={'source': '/content/ncert-textbook-for-class-8-science-chapter-5.pdf', 'page': 10}),\n",
              " Document(page_content='SCIENCE 64\\nE X E R C I S E S11.Complete the word puzzle.\\nDown\\n1.Species on the verge of extinction.\\n2.A book carrying information about endangered species.\\n5.Consequence of deforestation.\\nAcross\\n1.Species which have vanished.\\n3.Species found only in a particular habitat.\\n4.Variety of plants, animals and micr oorganisms found in an ar ea.\\nExtended Learning - Activities and Projects\\n1.Plant at least five different plants in your locality during this', metadata={'source': '/content/ncert-textbook-for-class-8-science-chapter-5.pdf', 'page': 11}),\n",
              " Document(page_content='academic year and ensure their maintenance till they grow.\\n2.Promise yourself that this year you will gift at least 5 plants to your\\nfriends and relatives on their achievements, or on occasions like\\nbirthdays. Ask your friends to take proper care of these plants and\\nencourage them to gift plants to their friends on such occasions. At\\nthe end of the year count the plants that have been gifted through\\nthis chain.\\nRationalised-2023-24', metadata={'source': '/content/ncert-textbook-for-class-8-science-chapter-5.pdf', 'page': 11}),\n",
              " Document(page_content='CONSER VATION OF PLANTS AND ANIMALS 65Did Y ou Know?\\n1.India has more than half of the world’s wild tigers, 65% of the Asian\\nelephants, 85% of the great one-horned rhinoceros and 100% of the\\nAsian lions.\\n2.India is sixth on a list of 12 mega-biodiversity countries in the world. It\\ncontains two of the 34 biodiversity hotspots of the world – Eastern\\nHimalayas and the W ester n Ghats. These ar eas ar e very rich in\\nbiodiversity.', metadata={'source': '/content/ncert-textbook-for-class-8-science-chapter-5.pdf', 'page': 12}),\n",
              " Document(page_content='biodiversity.\\n3.One of the most important factors that threatens wildlife today is habitat\\ndestruction due to encroachment.\\n4.India contains 172 species  of animals considered globally threatened\\nor 2.9% of the world’s total number of threatened  species. Eastern\\nHimalayas hotspot has merely 163 globally threatened species\\nincluding several animal and plant species. India contains globally\\nimportant population of some of Asia’s rarest animals such as the', metadata={'source': '/content/ncert-textbook-for-class-8-science-chapter-5.pdf', 'page': 12}),\n",
              " Document(page_content='Bengal fox , Marbled cat , Asiatic lion, Indian elephant, Asiatic wild ass,\\nIndian r hinocer os, gaur, Wild asiatic water buf falo, etc.\\nFor knowing more, you may contact:\\nlMinistry of Environment, Forest and Climate Change, Govt. of India\\nEnvironment, Forest and Wildlife Department\\nIndira Paryavaran Bhavan, Jor Bagh Road, New Delhi -110003\\nWebsite: http: //envfor .nic.in3.Is it justified to prevent tribals from staying in the core area of the', metadata={'source': '/content/ncert-textbook-for-class-8-science-chapter-5.pdf', 'page': 12}),\n",
              " Document(page_content='forest? Discuss the matter in your class and note down the points for\\nand against the motion in your notebook.\\n4.Study the biodiversity of a park nearby. Prepare a detailed report with\\nphotographs and sketches of the flora and fauna.\\n5.Make a list of the new infor mation you have gather ed from this chapter .\\nWhich information did you find the most interesting and why?\\n6.Make a list of various uses of papers. Observe currency notes carefully.', metadata={'source': '/content/ncert-textbook-for-class-8-science-chapter-5.pdf', 'page': 12}),\n",
              " Document(page_content='Do you find any difference between a currency paper and paper of your\\nnotebook? Find out where currency paper is made.\\n7.Karnataka Government had launched ‘Project Elephant’ to save Asian\\nelephants in the state. Find out about this and other such campaigns\\nlaunched to protect threatened species.\\nRationalised-2023-24', metadata={'source': '/content/ncert-textbook-for-class-8-science-chapter-5.pdf', 'page': 12}),\n",
              " Document(page_content='REPRODUCTION  IN ANIMALS REPRODUCTION  IN ANIMALS\\nDo you recall the processes of\\ndigestion, circulation and\\nrespiration which you have\\nstudied in your previous classes? These\\nprocesses are essential for the survival\\nof every individual. Y ou have also lear nt\\nabout the process of reproduction in\\nplants. Reproduction is essential for the\\ncontinuation of a species. Imagine what\\nwould have happened if organisms had\\nnot r eproduced. Y ou will r ealise that\\nreproduction is very important as it', metadata={'source': '/content/ncert-textbook-for-class-8-science-chapter-6.pdf', 'page': 0}),\n",
              " Document(page_content='reproduction is very important as it\\nensures the continuation of similar\\nkinds of individuals, generation after\\ngeneration.\\nYou have alr eady lear nt in your\\nprevious class about reproduction in\\nplants. In this chapter , we shall lear n\\nhow reproduction takes place in\\nanimals.\\n6.1 Modes of Reproduction\\nHave you seen the young ones\\nof dif ferent animals? T ry to name some\\nof the young ones by completing\\nTable 6.1 shown in examples at S. No.\\n1 and 5.\\nYou must have seen the young', metadata={'source': '/content/ncert-textbook-for-class-8-science-chapter-6.pdf', 'page': 0}),\n",
              " Document(page_content='1 and 5.\\nYou must have seen the young\\nones of various animals being born.\\nCan you tell how chicks and\\ncaterpillars are born? How are kittens\\nand puppies born? Do you think that\\nthese young ones looked the same\\nbefore they were born as they do now?\\nLet us find out.Just as in plants, there are two modes\\nby which animals reproduce. These are:\\n(i)Sexual reproduction, and\\n(ii)Asexual reproduction.\\n6.2 Sexual Reproduction\\nTry to r ecall r eproduction in plants', metadata={'source': '/content/ncert-textbook-for-class-8-science-chapter-6.pdf', 'page': 0}),\n",
              " Document(page_content='Try to r ecall r eproduction in plants\\nwhich you studied in Class VII. Y ou will\\nremember that plants that reproduce\\nsexually have male and female\\nreproductive parts. Can you name these\\nparts? In animals also, males and\\nfemales have different reproductive parts\\nor organs. Like plants, the reproductive\\nparts in animals also produce gametes\\nthat fuse to form a zygote. It is the zygote\\nwhich develops into a new individual.\\nThis type of reproduction beginning\\nfrom the fusion of male and female', metadata={'source': '/content/ncert-textbook-for-class-8-science-chapter-6.pdf', 'page': 0}),\n",
              " Document(page_content='from the fusion of male and female\\ngametes is called sexual reproduction .\\nLet us find out the reproductive partsTable 6.1\\nS. No. Animal Young one\\n1. Human Baby\\n2. Cat\\n3. Dog\\n4. Butterfly\\n5. Hen Chick\\n6. Cow\\n7. Frog\\nRationalised-2023-24', metadata={'source': '/content/ncert-textbook-for-class-8-science-chapter-6.pdf', 'page': 0}),\n",
              " Document(page_content='in humans and study the process of\\nreproduction in them.\\nMale Reproductive Organs\\nThe male reproductive organs include a\\npair of testes (singular , testis), two sper m\\nducts and a penis (Fig. 6.1). The testes\\nproduce the male gametes called\\nsperms . Millions of sperms are produced\\nby the testes. Look at Fig. 6.2 which\\nshows the picture of a sperm. Though\\nsperms are very small in size, each has\\na head, a middle piece and a tail. Does', metadata={'source': '/content/ncert-textbook-for-class-8-science-chapter-6.pdf', 'page': 1}),\n",
              " Document(page_content='a head, a middle piece and a tail. Does\\nit appear to be a single cell? Indeed, eachsperm is a single cell with all the usual\\ncell components.\\nFig. 6.1: Male reproductive\\norgans in humansWhat purpose does the\\ntail in a sperm serve?\\nFig. 6.3 : Female reproductive organs in\\nhumansFemale Reproductive Organs\\nThe female reproductive organs are a pair\\nof ovaries, oviducts (fallopian tubes) and\\nthe uterus (Fig. 6.3). The ovary produces\\nOviduct\\nOvary\\nUterus\\nHead\\nMiddle piece\\nTail\\nFig. 6.2 :  Human sperm', metadata={'source': '/content/ncert-textbook-for-class-8-science-chapter-6.pdf', 'page': 1}),\n",
              " Document(page_content='Head\\nMiddle piece\\nTail\\nFig. 6.2 :  Human sperm\\nREPRODUCTION  IN ANIMALS 67\\nSperm\\nduct\\nTestisPenis\\nRationalised-2023-24', metadata={'source': '/content/ncert-textbook-for-class-8-science-chapter-6.pdf', 'page': 1}),\n",
              " Document(page_content='SCIENCE 68Boojho recalls that the size\\nof eggs in animals varies.\\nThe egg may be very small\\nas in humans, much larger\\nas in hens. Ostrich egg is\\nthe largest!\\nFertilisation\\nThe first step in the process of\\nreproduction is the fusion of a sperm\\nand an ovum. When sperms come in\\ncontact with an egg, one of the sperms\\nmay fuse with the egg. Such fusion of\\nthe egg and the sperm is called\\nfertilisation (Fig. 6.5). During\\nfertilisation, the nuclei of the sperm and\\nthe egg fuse to form a single nucleus.', metadata={'source': '/content/ncert-textbook-for-class-8-science-chapter-6.pdf', 'page': 2}),\n",
              " Document(page_content='the egg fuse to form a single nucleus.\\nThis results in the formation of a\\nfertilised egg or zygote (Fig. 6.6). Did\\nFig. 6.5 :  Fertilisation\\nFig. 6.4 :  Human OvumNucleusSperms\\nOvum\\nFusing\\nnuclei\\nThe process of fertilisation is the\\nmeeting of an egg cell from the mother\\nand a sper m cell fr om the father . So,\\nthe new individual inherits some\\ncharacteristics  from the mother and\\nsome fr om the father . Look at your\\nbrother or sister . See if you can r ecognise', metadata={'source': '/content/ncert-textbook-for-class-8-science-chapter-6.pdf', 'page': 2}),\n",
              " Document(page_content='brother or sister . See if you can r ecognise\\nsome characters in them similar to those\\nof your mother or your father .\\nFertilisation which takes place inside\\nthe female body is called internal\\nfertilisation . Internal fertilisation\\noccurs in many animals including\\nhumans, cows, dogs and hens.Fig. 6.6 :  Zygotefemale gametes called ova (eggs)\\n(Fig. 6.4). In human beings, a single\\nmatured egg is released into the oviduct\\nby one of the ovaries every month.\\nUterus is the part where development of', metadata={'source': '/content/ncert-textbook-for-class-8-science-chapter-6.pdf', 'page': 2}),\n",
              " Document(page_content='Uterus is the part where development of\\nthe baby takes place. Like the sperm,\\nan egg is also a single cell.\\nyou know that the zygote is the\\nbeginning of a new individual?\\nRationalised-2023-24', metadata={'source': '/content/ncert-textbook-for-class-8-science-chapter-6.pdf', 'page': 2}),\n",
              " Document(page_content='REPRODUCTION  IN ANIMALS 69Why do fish and\\nfrogs lay eggs in\\nhundreds whereas a\\nhen lays only one\\negg at a time?\\nHave you heard of\\ntest tube babies?\\nBoojho and Paheli’s teacher once told\\nthem in the class that in some women\\noviducts are blocked. These women\\nare unable to bear babies because\\nsperms cannot reach the egg for\\nfertilisation. In such cases, doctors\\ncollect freshly released egg and\\nsperms and keep them together for a\\nfew hours for IVF or in vitro', metadata={'source': '/content/ncert-textbook-for-class-8-science-chapter-6.pdf', 'page': 3}),\n",
              " Document(page_content='few hours for IVF or in vitro\\nfertilisation  (fertilisation outside the\\nbody). In case fertilisation occurs,\\nthe zygote is allowed to develop for\\nabout a week and then it is placed in\\nthe mother’s uterus. Complete\\ndevelopment takes place in the uterus\\nand the baby is born like any other\\nbaby. Babies born through this\\ntechnique are called test-tube\\nbabies . This term is actually\\nmisleading because babies cannot\\ngrow in test tubes.female lays hundreds of eggs. Unlike', metadata={'source': '/content/ncert-textbook-for-class-8-science-chapter-6.pdf', 'page': 3}),\n",
              " Document(page_content='hen’s egg, frog’s egg is not covered by a\\nshell and it is comparatively very\\ndelicate. A layer of jelly holds the eggs\\ntogether and provides protection to the\\neggs (Fig. 6.7).\\nYou will be surprised to know that\\nin many animals fertili sation takes\\nplace outside the body of the female.\\nIn these animals, fertili sation takes\\nplace in water . Let us find out how\\nthis happens.\\nActivity 6.1\\nVisit some ponds or slow-flowing\\nstreams during spring or rainy\\nseason. Look out for clusters of', metadata={'source': '/content/ncert-textbook-for-class-8-science-chapter-6.pdf', 'page': 3}),\n",
              " Document(page_content='season. Look out for clusters of\\nfrog’s eggs floating in water .\\nWrite down the colour and size of\\nthe eggs.\\nDuring spring or rainy season, frogs\\nand toads move to ponds and slow-\\nflowing streams. When the male and\\nfemale come together in water , theAs the eggs are laid, the male\\ndeposits sperms over them. Each\\nsperm swims randomly in water with\\nthe help of its long tail. The sperms\\ncome in contact with the eggs. This\\nresults in fertili sation. This type of', metadata={'source': '/content/ncert-textbook-for-class-8-science-chapter-6.pdf', 'page': 3}),\n",
              " Document(page_content='results in fertili sation. This type of\\nfertilis ation in which the fusion of a\\nmale and a female gamete takes place\\noutside the body of the female is called\\nexternal fertili sation . It is very\\ncommon in aquatic animals such as\\nfish, star fish\\n, etc.\\nFig. 6.7 :  Eggs of frog\\nRationalised-2023-24', metadata={'source': '/content/ncert-textbook-for-class-8-science-chapter-6.pdf', 'page': 3}),\n",
              " Document(page_content='SCIENCE 70\\nDevelopment of Embryo\\nFertilisation results in the formation of\\nzygote which begins to develop into an\\nembryo [Fig. 6.8(a)]. The zygote divides\\nrepeatedly to give rise to a ball of cells\\n[Fig. 6.8(b)]. The cells then begin to form\\ngroups that develop into different tissues\\nand organs of the body. This developing\\nstructure is termed an embryo . The\\nembryo gets embedded in the wall of the\\nuterus for further development\\n[Fig. 6.8(c)].\\nThe embryo continues to develop in', metadata={'source': '/content/ncert-textbook-for-class-8-science-chapter-6.pdf', 'page': 4}),\n",
              " Document(page_content='[Fig. 6.8(c)].\\nThe embryo continues to develop in\\nthe uterus. It gradually develops body\\nFig. 6.8 : (a) Zygote formation and development of an embryo from the zygote; (b) Ball of cells\\n(enlarged); (c) Embedding of the embryo in the uterus (enlarged)How could a single cell\\nbecome such a big\\nindividual?\\n(b)\\n(a)\\n(c)Uterus\\nEmbedding\\nembryoOvary\\nOvulationZygote\\nUterus\\nwall\\nDeveloping\\nembryo\\nThough these animals lay\\nhundreds of eggs and release\\nmillions of sperms, all the eggs', metadata={'source': '/content/ncert-textbook-for-class-8-science-chapter-6.pdf', 'page': 4}),\n",
              " Document(page_content='millions of sperms, all the eggs\\ndo not get fertilised and develop\\ninto new individuals.\\nThis is because the eggs and\\nsperms get exposed to  water\\nmovement, wind and rainfall.\\nAlso, there are other animals in\\nthe pond which may feed\\non eggs. Thus, production\\nof large number of eggs and\\nsperms is necessary to\\nensure fertilisation\\nof at least\\na few of them.\\nRationalised-2023-24', metadata={'source': '/content/ncert-textbook-for-class-8-science-chapter-6.pdf', 'page': 4}),\n",
              " Document(page_content='REPRODUCTION  IN ANIMALS 71parts such as hands, legs, head, eyes,\\nears etc. The stage of the embryo in\\nwhich all the body parts can be\\nidentified is called a foetus (Fig. 6.9).\\nWhen the development of the foetus is\\ncomplete,  the mother gives birth to\\nthe baby.place inside the egg shell during this\\nperiod? After the chick is completely\\ndeveloped it bursts open the egg shell.\\nIn animals which undergo external\\nfertilisation, development of the embryo\\ntakes place outside the female body. The', metadata={'source': '/content/ncert-textbook-for-class-8-science-chapter-6.pdf', 'page': 5}),\n",
              " Document(page_content='takes place outside the female body. The\\nembryos continue to grow within their\\negg coverings. After the embryos develop,\\nthe eggs hatch. Y\\nou must have seen\\nnumerous tadpoles swimming in ponds\\nand streams.\\nViviparous and Oviparous Animals\\nWe have learnt that some animals give\\nbirth to young ones while some animals\\nlay eggs which later develop into young\\nones. The animals which give birth to\\nyoung ones are called viviparous\\nanimals. Those animals which lay eggs\\nare called oviparous animals. The', metadata={'source': '/content/ncert-textbook-for-class-8-science-chapter-6.pdf', 'page': 5}),\n",
              " Document(page_content='are called oviparous animals. The\\nfollowing activity will help you\\nunderstand better and differentiate\\nbetween viviparous and oviparous\\nanimals.\\nActivity 6.2\\nTry to observe eggs of the following\\norganisms – fr og, lizar d, butter fly\\nor moth, hen and crow or any other\\nbir\\nd. Were you able to observe eggs\\nof all of them? Make drawings of  the\\neggs that you have observed.\\nThe eggs of a few animals are easy\\nto observe because their mothers lay\\nthem outside their bodies. These are', metadata={'source': '/content/ncert-textbook-for-class-8-science-chapter-6.pdf', 'page': 5}),\n",
              " Document(page_content='them outside their bodies. These are\\nexamples of oviparous animals. But you\\nwould not be able to collect the eggs of\\na dog, cow or cat. This is because they\\ndo not lay eggs. The mother gives birth\\nto the young ones. These are examples\\nof viviparous animals.Internal fertilisation takes place in\\nhens also. But, do hens give birth to\\nbabies like human beings and cows? Y ou\\nknow that they do not. Then, how are\\nchicks born? Let us find out.\\nSoon after fertilisation, the zygote', metadata={'source': '/content/ncert-textbook-for-class-8-science-chapter-6.pdf', 'page': 5}),\n",
              " Document(page_content='Soon after fertilisation, the zygote\\ndivides repeatedly and travels down the\\noviduct. As it travels down, many\\nprotective layers are formed around it.\\nThe hard shell that you see in a hen’s\\negg is one such pr otective layer .\\nAfter the hard shell is formed around\\nthe developing embryo, the hen finally\\nlays the egg. The embryo takes about 3\\nweeks to develop into a chick. Y ou must\\nhave seen the hen sitting on the eggs to\\nprovide sufficient warmth. Did you know', metadata={'source': '/content/ncert-textbook-for-class-8-science-chapter-6.pdf', 'page': 5}),\n",
              " Document(page_content='provide sufficient warmth. Did you know\\nthat development of the chick takesFig. 6.9 :  Foetus in the uterusUterus\\nRationalised-2023-24', metadata={'source': '/content/ncert-textbook-for-class-8-science-chapter-6.pdf', 'page': 5}),\n",
              " Document(page_content='SCIENCE 72Can you now give some more\\nexamples of viviparous and oviparous\\nanimals?\\nYoung Ones to Adults\\nThe new individuals which are born or\\nhatched from the eggs continue to grow\\ntill they become adults. In some\\nanimals, the young ones may look very\\ndifferent from the adults. The life cycle\\nof frog is shown in Fig. 6.10.\\nObserve the different stages of frog\\nstarting from the egg to the adult stage.\\nWe find that ther e are thr ee distinct\\nstages, that is, egg → tadpole (larva) →', metadata={'source': '/content/ncert-textbook-for-class-8-science-chapter-6.pdf', 'page': 6}),\n",
              " Document(page_content='stages, that is, egg → tadpole (larva) →\\nadult. Don’t the tadpoles look so\\ndifferent from the adults? Can you\\nimagine that these tadpoles would some\\nday become frogs?The tadpoles transform into adults\\ncapable of jumping and swimming. The\\ntransformation of the larva into an adult\\nthrough drastic changes is called\\nmetamorphosis . What about the\\nchanges that we observe in our body as\\nwe grow? Do you think we too undergo\\nmetamorphosis? In human beings,\\nbody parts similar to those present in', metadata={'source': '/content/ncert-textbook-for-class-8-science-chapter-6.pdf', 'page': 6}),\n",
              " Document(page_content='body parts similar to those present in\\nthe adults are present from the time\\nof birth.\\n6.3 Asexual Reproduction\\nSo far , we have lear nt about r eproduction\\nin some familiar animals. But what\\nabout very small animals like hydra and\\nmicroscopic organisms like amoeba? Do\\nyou know how they reproduce? Let us\\nfind out.\\nFig. 6.10 :  Life cycle of frog\\n(a) Eggs(b) Early tadpole\\n(c) Late tadpole\\n(d) Adult frog\\nRationalised-2023-24', metadata={'source': '/content/ncert-textbook-for-class-8-science-chapter-6.pdf', 'page': 6}),\n",
              " Document(page_content='REPRODUCTION  IN ANIMALS 73\\nActivity 6.3\\nGet permanent slides of\\nhydra.  Observe them using\\nhand lens or a microscope.\\nLook out for any bulges\\nfrom the parent body.\\nCount the number of\\nbulges that you see in\\ndifferent slides. Also, note\\nthe size of the bulges. Draw\\nthe diagram of hydra, as\\nyou see it. Compare it with\\nthe Fig. 6.11.Fig. 6.11 :  Budding in Hydra\\nFig. 6.12 :  Binary fission in Amoeba(a)\\n(b)\\n(c)\\n(d)Dividing nucleus\\nDaughter amoebaeIn each hydra, there may be one or', metadata={'source': '/content/ncert-textbook-for-class-8-science-chapter-6.pdf', 'page': 7}),\n",
              " Document(page_content='more  bulges. These bulges are the\\ndeveloping new individuals and they are\\ncalled buds. Recall the presence of buds\\nin yeast. In hydra too the new individuals\\ndevelop as outgrowths from a single\\nparent. This type of reproduction in\\nwhich only a single parent is involved is\\ncalled asexual reproduction . Since new\\nindividuals develop from the buds in\\nhydra, this type of asexual reproduction\\nis called budding .\\nAnother method of asexual\\nreproduction is observed in the', metadata={'source': '/content/ncert-textbook-for-class-8-science-chapter-6.pdf', 'page': 7}),\n",
              " Document(page_content='reproduction is observed in the\\nmicroscopic organism, amoeba. Let us\\nsee how this happens.\\nYou have alr eady lear nt about the\\nstructur e of amoeba. Y ou will r ecall that\\namoeba is a single-celled organism\\n[Fig. 6.12(a)]. It begins the process of\\nreproduction by the division of its\\nnucleus into two nuclei [Fig. 6.12(b)].\\nThis is followed by division of its body\\ninto two, each part receiving a nucleus\\n[Fig. 6.12(c)]. Finally, two amoebae are\\nproduced from one parent amoeba', metadata={'source': '/content/ncert-textbook-for-class-8-science-chapter-6.pdf', 'page': 7}),\n",
              " Document(page_content='produced from one parent amoeba\\n[Fig. 6.12(d)]. This type of asexual\\nRationalised-2023-24', metadata={'source': '/content/ncert-textbook-for-class-8-science-chapter-6.pdf', 'page': 7}),\n",
              " Document(page_content='SCIENCE 74Story of Dolly, the Clone\\nCloning is the production of an exact copy of a cell, any other living part, or a\\ncomplete organism. Cloning of an animal was successfully performed for the first\\ntime by Ian Wilmut and his colleagues at the Roslin Institute in Edinburgh,\\nScotland. They successfully cloned a sheep named Dolly [Fig. 6.13 (c)]. Dolly was\\nborn on 5th July 1996 and was the first mammal to be cloned.\\n(a) Finn Dorsett sheep (b) Scottish blackface ewe (c) Dolly\\nFig. 6.13', metadata={'source': '/content/ncert-textbook-for-class-8-science-chapter-6.pdf', 'page': 8}),\n",
              " Document(page_content='Fig. 6.13\\nDuring the process of cloning Dolly, a cell was collected from the mammary gland\\nof a female Finn Dorsett sheep [Fig. 6.13 (a)]. Simultaneously, an egg was obtained\\nfrom a Scottish blackface ewe [Fig. 6.13 (b)]. The nucleus was removed from the\\negg. Then, the nucleus of the mammary gland cell from the Finn Dorsett sheep\\nwas inserted into the egg of the Scottish blackface ewe whose nucleus had been\\nremoved. The egg thus produced was implanted into the Scottish blackface ewe.', metadata={'source': '/content/ncert-textbook-for-class-8-science-chapter-6.pdf', 'page': 8}),\n",
              " Document(page_content='Development of this egg followed normally and finally Dolly was born. Though\\nDolly was given birth by the Scottish blackface ewe, it was found to be absolutely\\nidentical to the Finn Dorsett sheep from which the nucleus was taken. Since the\\nnucleus from the egg of the Scottish blackface ewe was removed, Dolly did not\\nshow any character of the Scottish blackface ewe. Dolly was a healthy clone of\\nthe Finn Dorsett sheep and produced several offspring of her own through normal', metadata={'source': '/content/ncert-textbook-for-class-8-science-chapter-6.pdf', 'page': 8}),\n",
              " Document(page_content='sexual means. Unfortunately, Dolly died on 14th February 2003 due to a certain\\nlung disease.\\nSince Dolly, several attempts have been made to produce cloned mammals.\\nHowever , many die befor e birth or die soon after birth. The cloned animals ar e\\nmany-a-times found to be born with severe abnormalities.\\nreproduction in which an animal\\nreproduces by dividing into two\\nindividuals is called binary fission .\\nApart from budding and binary fission,there are other methods by which a', metadata={'source': '/content/ncert-textbook-for-class-8-science-chapter-6.pdf', 'page': 8}),\n",
              " Document(page_content='single parent reproduces young ones.\\nYou will study about these in your\\nhigher classes.\\nRationalised-2023-24', metadata={'source': '/content/ncert-textbook-for-class-8-science-chapter-6.pdf', 'page': 8}),\n",
              " Document(page_content='REPRODUCTION  IN ANIMALS 75\\n KEYWORDS KEYWORDS KEYWORDS KEYWORDS KEYWORDS\\nASEXUAL\\nREPRODUCTION\\nBINARY FISSION\\nBUDDING\\nEGGS\\nEMBRYO\\nEXTERNAL\\nFERTILISA TION\\nFERTILISA TION\\nFOETUS\\nINTERNAL\\nFERTILISA TION\\nMETAMORPHOSIS\\nOVIPAROUS ANIMALS\\nSEXUAL\\nREPRODUCTION\\nSPERMS\\nVIVIP AROUS ANIMALS\\nZYGOTE WHAT YOU HAVE LEARNT WHAT YOU HAVE LEARNT WHAT YOU HAVE LEARNT WHAT YOU HAVE LEARNT WHAT YOU HAVE LEARNT\\nÜThere are two modes by which animals repro-\\nduce. These are: (i) Sexual reproduction, and', metadata={'source': '/content/ncert-textbook-for-class-8-science-chapter-6.pdf', 'page': 9}),\n",
              " Document(page_content='duce. These are: (i) Sexual reproduction, and\\n(ii) Asexual reproduction.\\nÜReproduction resulting from the fusion of male\\nand  female gametes is called sexual\\nreproduction.\\nÜThe reproductive organs in the female include\\novaries, oviducts and uterus.\\nÜThe reproductive organs in male include\\ntestes, sperm ducts and penis.\\nÜThe ovary produces female gametes called ova\\nand the testes produce male gametes called\\nsperms.\\nÜThe fusion of ovum and sperm is called fertilisation.', metadata={'source': '/content/ncert-textbook-for-class-8-science-chapter-6.pdf', 'page': 9}),\n",
              " Document(page_content='The fertilised egg is called a zygote.\\nÜFertilisation that takes place inside the female\\nbody is called internal fertilisation. This is\\nobserved in human beings and other animals\\nsuch as hens, cows and dogs.\\nÜFertilisation that takes place outside the\\nfemale body is called external fertilisation. This\\nis observed in frogs, fish, starfish, etc.\\nÜThe zygote divides repeatedly to give rise to an\\nembryo.\\nÜThe embryo gets embedded in the wall of the\\nuterus for further development.', metadata={'source': '/content/ncert-textbook-for-class-8-science-chapter-6.pdf', 'page': 9}),\n",
              " Document(page_content='uterus for further development.\\nÜThe stage of the embryo in which all the body\\nparts are identifiable is called foetus.\\nÜAnimals such as human beings, cows and\\ndogs which give birth to young ones are called\\nviviparous animals.\\nÜAnimals such as hen, frog, lizard  and butterfly\\nwhich lay eggs are called oviparous animals.\\nÜThe transformation of the larva into adult\\nthrough drastic changes is called\\nmetamorphosis.\\nÜThe type of reproduction in which only a single', metadata={'source': '/content/ncert-textbook-for-class-8-science-chapter-6.pdf', 'page': 9}),\n",
              " Document(page_content='ÜThe type of reproduction in which only a single\\nparent is involved is called asexual\\nreproduction.\\nÜIn hydra, new individuals develop from buds.\\nThis method of asexual reproduction is called\\nbudding.\\nÜAmoeba  reproduces by dividing itself into two.\\nThis type of asexual reproduction is called\\nbinary fission.\\nRationalised-2023-24', metadata={'source': '/content/ncert-textbook-for-class-8-science-chapter-6.pdf', 'page': 9}),\n",
              " Document(page_content='SCIENCE 76Exercises\\n1.Explain the importance of reproduction in organisms.\\n2.Describe the process of fertilisation in human beings.\\n3.Choose the most appr opriate answer .\\n(a)Internal fertilisation occurs\\n(i)in female body.\\n(ii)outside female body.\\n(iii)in male body.\\n(iv)outside male body.\\n(b)A tadpole develops into an adult frog by the process of\\n(i)    fertilisation    (ii) metamorphosis    (iii) embedding    (iv) budding\\n(c)The number of nuclei present in a zygote is', metadata={'source': '/content/ncert-textbook-for-class-8-science-chapter-6.pdf', 'page': 10}),\n",
              " Document(page_content='(c)The number of nuclei present in a zygote is\\n(i) none (ii) one (iii) two (iv) four\\n4.Indicate whether the following statements are True (T) or False (F).\\n(a)Oviparous animals give birth to young ones. (    )\\n(b)Each sperm is a single cell. (    )\\n(c)External fertilisation takes place in frog. (    )\\n(d)A new human individual develops from a cell called gamete. (    )\\n(e)Egg laid after fertilisation is made up of a single cell. (    )\\n(f)Amoeba reproduces by budding. (    )', metadata={'source': '/content/ncert-textbook-for-class-8-science-chapter-6.pdf', 'page': 10}),\n",
              " Document(page_content='(f)Amoeba reproduces by budding. (    )\\n(g)Fertilisation is necessary even in asexual reproduction. (    )\\n(h)Binary fission is a method of asexual reproduction. (    )\\n(i)A zygote is formed as a result of fertilisation. (    )\\n(j)An embryo is made up of a single cell. (    )\\n5.Give two differences between a zygote and a foetus.\\n6.Define asexual reproduction. Describe two methods of asexual reproduction\\nin animals.\\n7.In which female reproductive organ does the embryo get embedded?', metadata={'source': '/content/ncert-textbook-for-class-8-science-chapter-6.pdf', 'page': 10}),\n",
              " Document(page_content='8.What is metamorphosis? Give examples.\\n9.Differentiate between internal fertilisation and external fertilisation.\\nRationalised-2023-24', metadata={'source': '/content/ncert-textbook-for-class-8-science-chapter-6.pdf', 'page': 10}),\n",
              " Document(page_content='REPRODUCTION  IN ANIMALS 77E X E R C I S E S10.Complete the crossword puzzle using the hints given below.\\nAcross\\n1.The process of the fusion of the gametes.\\n6.The type of fertilisation in hen.\\n7.The term used for bulges observed on the sides of the body of hydra.\\n8.Eggs are produced here.\\nDown\\n2.Sperms are produced in these male reproductive organs.\\n3.Another term for in vitro fertilisation.\\n4.These animals lay eggs.\\n5.A type of fission in amoeba.\\nExtended Learning — Activities and Projects', metadata={'source': '/content/ncert-textbook-for-class-8-science-chapter-6.pdf', 'page': 11}),\n",
              " Document(page_content='Extended Learning — Activities and Projects\\n1.Visit a poultry farm. Talk to the manager of the farm and try to find\\nout the answers to the following.\\n(a)What are layers and broilers  in a poultry farm?\\n(b)Do hens lay unfertilised eggs?\\n(c)How can you obtain fertilised and unfertilised eggs?\\n(d)Are the eggs that we get in the stores fertilised or unfertilised?\\n(e)Can you consume fertilised eggs?\\n(f)Is there any difference in the nutritional value of fertilised\\nand unfertilised eggs?', metadata={'source': '/content/ncert-textbook-for-class-8-science-chapter-6.pdf', 'page': 11}),\n",
              " Document(page_content='and unfertilised eggs?\\nRationalised-2023-24', metadata={'source': '/content/ncert-textbook-for-class-8-science-chapter-6.pdf', 'page': 11}),\n",
              " Document(page_content='SCIENCE 782.Observe live hydra yourself and learn how they reproduce by doing\\nthe following activity:\\nDuring the summer months collect water weeds from ponds or ditches\\nalong with the pond water and put them in a glass jar . After a day or\\nso you may see several hydra clinging to the sides of the jar .\\nHydra is transparent, jelly-like and with tentacles. It clings to the\\njar with the base of its body. If the jar is shaken, the hydra will', metadata={'source': '/content/ncert-textbook-for-class-8-science-chapter-6.pdf', 'page': 12}),\n",
              " Document(page_content='contract instantly into a small blob, at the same time drawing its\\ntentacles in.\\nNow take out few hydras from the jar and put them on a watch\\nglass. Using a hand lens or a binocular or dissection microscope,\\nobserve the changes that are taking place in their body. Note down\\nyour observations.\\n3.The eggs we get from the market are generally the unfertilised ones.\\nIn case you wish to observe a developing chick embryo, get a fertilised', metadata={'source': '/content/ncert-textbook-for-class-8-science-chapter-6.pdf', 'page': 12}),\n",
              " Document(page_content='egg from the poultry or hatchery which has been incubated for 36\\nhours or mor e. You may then be able to see a white  disc-like structur e\\non the yolk. This is the developing embryo. Sometimes if the heart\\nand blood vessels have developed you may even see a red spot.\\n4.Talk to a doctor . Find out how twinning occurs. Look for any twins\\nin your neighbourhood, or among your friends. Find out  if the twins\\nare identical or non-identical. Also find out why identical twins are', metadata={'source': '/content/ncert-textbook-for-class-8-science-chapter-6.pdf', 'page': 12}),\n",
              " Document(page_content='always of the same sex? If you know of any story about twins, write\\nit in your own words.\\nFor more information on animal reproduction, you can visit :\\nl www.saburchill.com\\nl www.teenshealth.org/teen/sexual-health\\nDid Y ou Know?\\nAn interesting organisation is observed in a honey bee hive, a colony of several\\nthousand bees. Only one bee i n the colony lays eggs. This bee is called the\\nqueen bee. All other female bees are worker bees. Their main job is to build the', metadata={'source': '/content/ncert-textbook-for-class-8-science-chapter-6.pdf', 'page': 12}),\n",
              " Document(page_content='hive, look after the young and feed the queen bee adequately to keep her\\nhealthy so that she can lay eggs. A queen bee lays thousands of eggs. The\\nfertili sed eggs hatch into females, while the unfertili sed eggs give rise to males ,\\ncalled drones. It is the job of the worker bees to maintain the temperature of\\nthe hive at around 35 °C to incubate the eggs.\\nRationalised-2023-24', metadata={'source': '/content/ncert-textbook-for-class-8-science-chapter-6.pdf', 'page': 12}),\n",
              " Document(page_content='In the pr evious chapter , you have\\nlearnt how animals reproduce. It is\\nonly after ‘growing up’ to a certain\\nage that human beings and many other\\nanimals can reproduce. Why can\\nhumans reproduce only after a certain\\nage?\\nIn this chapter , you will lear n about\\nchanges that take place in the human\\nbody after which a person becomes\\ncapable of reproduction.\\nIn Chapter 6, you \\nhave learnt about\\nhuman reproductive organs. Here, we\\nshall discuss the role that hormones play', metadata={'source': '/content/ncert-textbook-for-class-8-science-chapter-7.pdf', 'page': 0}),\n",
              " Document(page_content='shall discuss the role that hormones play\\nin bringing about changes that make a\\nchild grow into an adult.\\n7.1 Adolescence and Puberty\\nBoojho was celebrating his 12th\\nbirthday. After his friends left, Boojho\\nand Paheli began chatting with their\\nparents. Paheli studies in an all-girls\\nschool. She started laughing. She\\nremarked that many of Boojho’s  school\\nfriends, whom she met after a year , had\\nsuddenly shot up in height. Some of\\nthem were looking very funny with a', metadata={'source': '/content/ncert-textbook-for-class-8-science-chapter-7.pdf', 'page': 0}),\n",
              " Document(page_content='them were looking very funny with a\\nhairy line above their lips. Her mother\\nexplained that the boys had grown up.\\nGrowth begins from the day one is\\nborn. But upon crossing the age of 10\\nor 11, there is a sudden spurt in growth\\nwhich becomes noticeable. The changes\\ntaking place in the body are part of\\ngrowing up. They indicate that you areI wonder how long this\\nperiod marked by changes\\nin the body will last!\\nno longer  a child but are on the way to\\nbecoming an adult.', metadata={'source': '/content/ncert-textbook-for-class-8-science-chapter-7.pdf', 'page': 0}),\n",
              " Document(page_content='becoming an adult.\\nIt is a strange period of life\\nwhen you are neither a child nor\\nan adult. I wonder whether this\\nperiod between childhood and\\nadulthood had a special name!\\nGrowing up is a natural process. The\\nperiod of life, when the body undergoes\\nchanges, leading to reproductive\\nmaturity, is called adolescence.\\nAdolescence begins around the age of\\n11 and lasts upto 18 or 19 years of age.\\nSince this period covers the ‘teens’ (13\\nto 18 or 19 years of age), adolescents', metadata={'source': '/content/ncert-textbook-for-class-8-science-chapter-7.pdf', 'page': 0}),\n",
              " Document(page_content='to 18 or 19 years of age), adolescents\\nare also called ‘teenagers’. In girls,\\nadolescence may begin a year or two\\nearlier than in boys. Also, the period of\\nadolescence  varies  from person to person.\\nThe human body undergoes several\\nchanges during adolescence. These\\nchanges mark the onset of puberty . The\\nmost important change which marks\\npuberty is that boys and girls become\\ncapable of reproduction. Puberty ends\\nwhen an adolescent reaches reproductive\\nmaturity.', metadata={'source': '/content/ncert-textbook-for-class-8-science-chapter-7.pdf', 'page': 0}),\n",
              " Document(page_content='when an adolescent reaches reproductive\\nmaturity.\\nREACHING  THE AGE OF ADOLESCENCE REACHING  THE AGE OF ADOLESCENCE\\nRationalised-2023-24', metadata={'source': '/content/ncert-textbook-for-class-8-science-chapter-7.pdf', 'page': 0}),\n",
              " Document(page_content='SCIENCE 80\\n% of full height\\nBoys Girls\\n8 72% 77%\\n9 75% 81%\\n10 78% 84%\\n11 81% 88%\\n12 84% 91%\\n13 88% 95%\\n14 92% 98%\\n15 95% 99%\\n16 98% 99.5%\\n17 99% 100%\\n18 100% 100%Age in\\nYearsPaheli and Boojho\\nrealised that sudden\\nincrease in height and\\nhairy line above the lips\\nin boys were signs of\\nadolescence. They\\nwanted to know more\\nabout other changes at\\npuberty.\\n7.2 Changes at Puberty\\nIncrease in Height\\nThe most conspicuous change during\\npuberty is the sudden increase in', metadata={'source': '/content/ncert-textbook-for-class-8-science-chapter-7.pdf', 'page': 1}),\n",
              " Document(page_content='puberty is the sudden increase in\\nheight. At this time the long bones, that\\nis, the bones of the arms and the legs\\nelongate and make a person tall.\\nActivity 7.1\\nThe following chart gives the\\naverage rate of growth in height of\\nboys and girls with age. The figures\\nin columns 2 and 3, give the\\npercentage of the height a person\\nhas reached at the age given in\\ncolumn 1. For example, by the age\\n11, a boy has reached 81% of his\\nprobable full height, while a girl\\nhas reached 88% of her full', metadata={'source': '/content/ncert-textbook-for-class-8-science-chapter-7.pdf', 'page': 1}),\n",
              " Document(page_content='has reached 88% of her full\\nheight. These figures are only\\nrepresentative and there may be\\nindividual variations.\\nUse the Table for your friends\\nand work out how tall they are likely\\nto be. Find out who is likely to beCalculation for full height (cm)\\n( )100Presentheight cm\\n%of fullheightatthisage×\\n    (as given in the chart)\\nExample:\\nA boy is 9 years old and 120 cm\\ntall. At the end of the growth period\\nhe is likely to be\\n×12010075 cm = 160 cm tallthe tallest and who might be the', metadata={'source': '/content/ncert-textbook-for-class-8-science-chapter-7.pdf', 'page': 1}),\n",
              " Document(page_content='shortest in your class.\\nRationalised-2023-24', metadata={'source': '/content/ncert-textbook-for-class-8-science-chapter-7.pdf', 'page': 1}),\n",
              " Document(page_content='REACHING  THE AGE OF ADOLESCENCE 81There is no need for Paheli to worry.\\nAll parts of the body do not grow at the\\nsame rate. Sometimes the arms and legs\\nor hands and feet of adolescents look\\noversized and out of proportion with the\\nbody. But soon the other parts catch\\nup and result in a proportionate body.\\nYou must have noticed that height\\nof an individual is more or less similar\\nto that of some family member . This is\\nbecause height depends on the genes', metadata={'source': '/content/ncert-textbook-for-class-8-science-chapter-7.pdf', 'page': 2}),\n",
              " Document(page_content='because height depends on the genes\\ninherited fr om par ents. It is, however ,\\nvery important to eat the right kind of\\nfood during these growing years. This\\nhelps the bones, muscles and other\\nparts of the body get adequate\\nnourishment for gr owth. Y ou will find\\nnutritional needs of adolescents\\ndiscussed later in the lesson.\\nChange in Body Shape\\nHave you noticed that boys in your class\\nhave broader shoulders and wider chests\\nthan boys in  junior classes? This is', metadata={'source': '/content/ncert-textbook-for-class-8-science-chapter-7.pdf', 'page': 2}),\n",
              " Document(page_content='than boys in  junior classes? This is\\nbecause they have entered the age of\\npuberty when shoulders generally\\nbroaden as a result of growth. In girls,\\nthe region below the waist becomes\\nwider .\\nIn boys, the muscles of the body grow\\nmore prominently than in the girls.\\nThus, changes occurring in adolescent\\nboys and girls are different.\\nVoice Change\\nDid you notice that sometimes the voice\\nof some of the boys in your class cracks?\\nAt puberty, the voice box  or the larynx', metadata={'source': '/content/ncert-textbook-for-class-8-science-chapter-7.pdf', 'page': 2}),\n",
              " Document(page_content='At puberty, the voice box  or the larynx\\nbegins to grow. Boys develop larger voice\\nboxes. The growing voice box in boys can\\nbe seen as a protruding part of the throatActivity 7.2\\nUse the data given in Activity 7.1 to\\ndraw a graph. Take age on the\\nX-axis and per cent growth in height\\non the Y-axis. Highlight the point\\nrepresenting your age on the graph.\\nFind out the percentage of height\\nyou have already reached. Calculate\\nthe height you might eventually\\nreach. Tally your graph with the one', metadata={'source': '/content/ncert-textbook-for-class-8-science-chapter-7.pdf', 'page': 2}),\n",
              " Document(page_content='reach. Tally your graph with the one\\ngiven here (Fig. 7.1).\\nFig. 7.1 : Graph showing percentage of height\\nwith age\\nI am worried. Though I\\nhave become taller , my\\nface looks much smaller\\ncompared to my body.\\nInitially, girls grow faster than boys\\nbut by about 18 years of age, both reach\\ntheir maximum height. The rate of\\ngrowth in height varies in different\\nindividuals. Some may grow suddenly\\nat puberty and then slow down, while\\nothers may grow gradually.\\nRationalised-2023-24', metadata={'source': '/content/ncert-textbook-for-class-8-science-chapter-7.pdf', 'page': 2}),\n",
              " Document(page_content='SCIENCE 82and pimples on the face at this time\\nbecause of the increased activity of these\\nglands in the skin.\\nDevelopment of Sex Organs\\nLook up Fig. 6.1 and 6.3 of the\\nprevious lesson which show sex\\norgans of humans. At puberty, male\\nsex organs like the testes and penis\\ndevelop completely. The testes also\\nbegin to produce sperms. In girls, the\\novaries enlarge and eggs begin to\\nmature. Also ovaries start releasing\\nmature eggs.\\nReaching Mental, Intellectual and\\nEmotional Maturity', metadata={'source': '/content/ncert-textbook-for-class-8-science-chapter-7.pdf', 'page': 3}),\n",
              " Document(page_content='Emotional Maturity\\nAdolescence is also a period of change\\nin a person’s way of thinking.\\nAdolescents are more independent than\\nbefore and are also self conscious.\\nIntellectual development takes place and\\nthey tend to spend considerable time\\nthinking. In fact, it is often the time in\\none’s life when the brain has the\\ngreatest capacity for learning.\\nSometimes, however , an adolescent may\\nfeel insecure while trying to adjust to\\nthe changes in the body and mind. But', metadata={'source': '/content/ncert-textbook-for-class-8-science-chapter-7.pdf', 'page': 3}),\n",
              " Document(page_content='the changes in the body and mind. But\\nas adolescent learners, you should know\\nthat there is no reason to feel insecure.\\nThese changes are a natural part of\\ngrowing up.\\n7.3 Secondary Sexual\\nCharacters\\nYou have lear nt in Chapter 6, that\\ntestes and ovaries are the reproductive\\norgans. They produce the gametes,\\nthat is, sperms and ova. In girls,\\nbreasts begin to develop at pubertyMany of my classmates\\nhave a hoarse voice. Now I\\nknow why?', metadata={'source': '/content/ncert-textbook-for-class-8-science-chapter-7.pdf', 'page': 3}),\n",
              " Document(page_content='have a hoarse voice. Now I\\nknow why?\\nFig. 7.2 : Adam’s apple in a grown up boycalled Adam’s apple  (Fig. 7.2). In girls,\\nthe larynx is hardly visible from the\\noutside because of its small size.\\nGenerally, girls have a high pitched voice,\\nwhereas boys have a deep voice. In\\nadolescent boys, sometimes, the muscles\\nof the growing voice box go out of control\\nand the voice becomes hoarse. This state\\nmay remain for a few days or weeks after\\nwhich the voice becomes normal.', metadata={'source': '/content/ncert-textbook-for-class-8-science-chapter-7.pdf', 'page': 3}),\n",
              " Document(page_content='which the voice becomes normal.\\nA few glands such as sweat glands,\\noil glands and salivary glands release\\ntheir secretions through ducts.\\nEndocrine glands release hormones\\ndirectly into the bloodstream. So, they\\nare also termed ductless glands.Increased Activity of Sweat and\\nSebaceous Glands\\nDuring puberty the secretion of sweat\\nglands and sebaceous glands (oil glands)\\nincreases. Many young people get acneAdam’s\\napple\\nRationalised-2023-24', metadata={'source': '/content/ncert-textbook-for-class-8-science-chapter-7.pdf', 'page': 3}),\n",
              " Document(page_content='REACHING  THE AGE OF ADOLESCENCE 83and boys begin to gr ow facial hair , that\\nis, moustaches and beard. As these\\nfeatures help to distinguish the male\\nfrom the female they are called\\nsecondary sexual characters . Boys\\nalso develop hair on their chest. In\\nboth, boys and girls, hair grows under\\nthe arms and in the region above the\\nthighs or the pubic region.\\nPaheli and Boojho have now\\nunderstood that puberty marks the\\nbeginning of the reproductive period\\nwhen one becomes capable of', metadata={'source': '/content/ncert-textbook-for-class-8-science-chapter-7.pdf', 'page': 4}),\n",
              " Document(page_content='when one becomes capable of\\nreproduction. But they want to know\\nif reproductive life, once begun,\\ncontinues, or it ends some time.The testes and ovaries secrete sex\\nhormones. Y ou have just lear nt that\\nthese hormones are responsible for the\\nmale and female secondary sexual\\ncharacters. Further , the sex hor mones\\nare under the control of hormones from\\nthe pituitary gland (Fig. 7.3). The\\npituitary secretes many hormones, one\\nof which makes ova mature in the\\novaries and sperms form in the testes.', metadata={'source': '/content/ncert-textbook-for-class-8-science-chapter-7.pdf', 'page': 4}),\n",
              " Document(page_content='ovaries and sperms form in the testes.\\nBoth Boojho and Paheli wish to know\\nwhat initiates changes at puberty.\\nFig. 7.3 : The onset of puberty is controlled by\\nhormonesThe changes which occur at\\nadolescence are controlled by\\nhormones. Hormones are chemical\\nsubstances. These are secretions from\\nendocrine glands , or endocrine system.\\nThe male hormone or testosterone\\nbegins to be released by the testes at\\nthe onset of puberty. This causes\\nchanges in boys about which you have', metadata={'source': '/content/ncert-textbook-for-class-8-science-chapter-7.pdf', 'page': 4}),\n",
              " Document(page_content='changes in boys about which you have\\njust learnt, for example, the growth of\\nfacial hair . Once puberty is r eached in\\ngirls, ovaries begin to produce the female\\nhormone\\n or estrogen which makes the\\nbreasts develop. Milk secreting glands\\nor mammary glands develop inside the\\nbreasts. The production of these\\nhormones is under the control of\\nanother hormone secreted from an\\nendocrine gland called pituitary gland .\\n7.4 Role of Hormones in\\nInitiating Reproductive\\nFunction', metadata={'source': '/content/ncert-textbook-for-class-8-science-chapter-7.pdf', 'page': 4}),\n",
              " Document(page_content='Initiating Reproductive\\nFunction\\nEndocrine glands release hormones\\ninto the bloodstream to reach a\\nparticular body part called target site .\\nThe target site responds to the\\nhormone. There are many endocrine\\nglands  or ductless glands in the body.\\nRationalised-2023-24', metadata={'source': '/content/ncert-textbook-for-class-8-science-chapter-7.pdf', 'page': 4}),\n",
              " Document(page_content='SCIENCE 847.5 Reproductive Phase of\\nLife in Humans\\nAdolescents become capable of\\nreproduction when their testes and\\novaries begin to produce gametes. The\\ncapacity for maturation  and production\\nof gametes lasts for a much longer time\\nin males than in females.\\nIn females, the reproductive phase of\\nlife begins at puberty (10 to 12 years of\\nage) and generally lasts till the age of\\napproximately 45 to 50 years. The ova\\nbegin to mature with the onset of\\npuberty. One ovum matures and is', metadata={'source': '/content/ncert-textbook-for-class-8-science-chapter-7.pdf', 'page': 5}),\n",
              " Document(page_content='puberty. One ovum matures and is\\nreleased by one of the ovaries once in\\nabout 28 to 30 days. During this\\nperiod, the wall of the uterus becomes\\nthick so as to receive the egg, in case\\nit is fertilised and begins to develop.\\nThis results in pregnancy. If\\nfertilisation does not occur , the\\nreleased egg, and the thickened lining\\nof the uterus along with its blood\\nvessels are shed off. This causes\\nbleeding in women which is called\\nmenstruation . Menstruation occurs', metadata={'source': '/content/ncert-textbook-for-class-8-science-chapter-7.pdf', 'page': 5}),\n",
              " Document(page_content='menstruation . Menstruation occurs\\nonce in about 28 to 30 days. The first\\nmenstrual flow begins at puberty  and\\nis termed menarche . At 45 to 50 years\\nof age, the menstrual cycle stops.\\nStoppage of menstruation is termed\\nmenopause.  Initially, menstrual cycle\\nmay be irr egular . It take some time to\\nbecome r egular .Menstrual cycle is controlled by\\nhormones. The cycle includes the\\nmaturation of the egg, its release,\\nthickening of uterine wall and its\\nbreakdown if pregnancy does not', metadata={'source': '/content/ncert-textbook-for-class-8-science-chapter-7.pdf', 'page': 5}),\n",
              " Document(page_content='breakdown if pregnancy does not\\noccur . In case the egg is fertilised it\\nbegins to divide and then gets\\nembedded in the uterus for further\\ndevelopment as you have learnt in\\nChapter 6 (Fig. 6.8).\\n7.6 How is the Sex of the\\nBaby Determined?\\nI heard my mother and my\\naunt talking about my cousin\\nwho is going to have a baby.\\nThey were discussing whether\\nshe would give birth to a boy\\nor a girl. I wonder what makes\\nthe fertilised egg develop\\neither into a boy or a girl!\\nPaheli says that the', metadata={'source': '/content/ncert-textbook-for-class-8-science-chapter-7.pdf', 'page': 5}),\n",
              " Document(page_content='either into a boy or a girl!\\nPaheli says that the\\nreproductive life of a\\nwoman lasts from\\nmenarche to menopause.\\nIs she right?Boy or Girl?\\nInside the fertilised egg or zygote is the\\ninstruction for determining the sex of\\nthe baby. This instruction is present in\\nthe thread-like structures, called\\nchromosomes  in the fertilised egg.\\nChromosomes are present inside the\\nnucleus of every cell. All human beings\\nhave 23 pairs of chromosomes in the\\nnuclei of their cells. Two chromosomes', metadata={'source': '/content/ncert-textbook-for-class-8-science-chapter-7.pdf', 'page': 5}),\n",
              " Document(page_content='nuclei of their cells. Two chromosomes\\nout of these are the sex chromosomes,\\nnamed X and Y . A female has two X\\nchromosomes, while a male has one X\\nand one Y chromosome. The gametes\\n(egg and sperm) have only one set of\\nchromosomes. The unfertilised egg\\nalways has one X chromosome. But\\nRationalised-2023-24', metadata={'source': '/content/ncert-textbook-for-class-8-science-chapter-7.pdf', 'page': 5}),\n",
              " Document(page_content='REACHING  THE AGE OF ADOLESCENCE 85sperms are of two kinds. One kind has\\nan X chromosome, and the other kind\\nhas a Y chromosome.\\nSee Fig. 7.4. When a sperm\\ncontaining X chromosome fertilises the\\negg, the zygote would have two X\\nchromosomes and develop into a female\\nchild. If the sperm contributes a Y\\nchromosome to the egg (ovum) at\\nfertilisation, the zygote would develop\\ninto a male child.and ovaries to produce their hormones.\\nYou have alr eady lear nt that the', metadata={'source': '/content/ncert-textbook-for-class-8-science-chapter-7.pdf', 'page': 6}),\n",
              " Document(page_content='You have alr eady lear nt that the\\npituitary gland is an endocrine gland.\\nIt is attached to the brain.\\nApart from the pituitary, the testes\\nand the ovaries, there are other\\nendocrine glands in the body such as\\nthyroid, pancreas and adrenals\\n(Fig. 7.5).\\nFig. 7.4 : Sex determination in humansboy girlsperms\\neggs\\nNow you know that the sex\\nchromosomes of the father determine the\\nsex of an unborn baby. The belief that\\nthe mother is responsible for the sex of\\nher baby is completely wrong and to', metadata={'source': '/content/ncert-textbook-for-class-8-science-chapter-7.pdf', 'page': 6}),\n",
              " Document(page_content='her baby is completely wrong and to\\nblame her for this is totally unjustified.\\n7.7 Hormones other than\\nSex Hormones\\nLook at Fig. 7.3 again. The hormones\\nsecreted by the pituitary stimulate testesFig. 7.5 :Position of endocrine glands in the\\nhuman body\\npituitary\\ngland\\nthyroid gland\\nadrenal\\ngland\\npancreas\\ntestisposition of\\nthe ovary in\\nthe female\\nBoojho and Paheli had once visited\\ntheir aunt who was a doctor and\\nremembered that a boy named Kaka had\\na very big and bulging throat. Their aunt', metadata={'source': '/content/ncert-textbook-for-class-8-science-chapter-7.pdf', 'page': 6}),\n",
              " Document(page_content='a very big and bulging throat. Their aunt\\nhad told them that Kaka was suffering\\nfrom ‘goitre’, a disease of the thyroid\\ngland . Kaka’s thyroid gland was not\\nproducing the hormone thyroxine .\\nRationalised-2023-24', metadata={'source': '/content/ncert-textbook-for-class-8-science-chapter-7.pdf', 'page': 6}),\n",
              " Document(page_content='SCIENCE 86Their aunt also told them that their\\nuncle was suffering from ‘diabetes’\\nbecause his pancreas was not producing\\nthe hormone insulin  in sufficient\\nquantities. Boojho and Paheli then\\nasked their aunt about the adrenal\\nglands, which are also shown in the\\nchart hung on the wall of her clinic. The\\naunt told them that adrenal glands\\nsecrete hormones which maintain the\\ncorrect salt balance in the blood.\\nAdrenals also produce the hormone\\nadrenalin. It helps the body to adjust', metadata={'source': '/content/ncert-textbook-for-class-8-science-chapter-7.pdf', 'page': 7}),\n",
              " Document(page_content='adrenalin. It helps the body to adjust\\nto stress when one is very angry,\\nembarrassed or worried.\\nThyroid and adrenals secrete their\\nhormones when they receive orders from\\nthe pituitary through its hormones.\\nPituitary also secretes growth hormone\\nwhich is necessary for the normal\\ngrowth of a person.controlled by insect hormones.  In a\\nfrog, it is controlled by thyroxine, the\\nhormone produced by thyroid.\\nThyroxine production requires the\\npresence of iodine in water . If the water', metadata={'source': '/content/ncert-textbook-for-class-8-science-chapter-7.pdf', 'page': 7}),\n",
              " Document(page_content='presence of iodine in water . If the water\\nin which the tadpoles are growing does\\nnot contain sufficient iodine, the\\ntadpoles cannot become adults.\\n7.8 Role of Hormones in\\nCompleting the Life\\nHistory of Insects and\\nFrogs\\nYou have alr eady lear nt about the life\\ncycle of the frog. The tadpole passes\\nthrough certain stages to become a frog\\n(Chapter 6). This change from larva to\\nadult is called metamorphosis\\n(Fig. 6.10). Metamorphosis in insects isCollect information from magazines', metadata={'source': '/content/ncert-textbook-for-class-8-science-chapter-7.pdf', 'page': 7}),\n",
              " Document(page_content='or from doctors and prepare a note\\non the importance of consuming\\niodised salt. Y ou can also look for\\nthis information on the internet.\\n7.9 Reproductive Health\\nThe physical and mental well being of\\nan individual is regarded as an\\nindividual’s health. To keep the body\\nhealthy, every human being, at any age,\\nneeds to have a balanced diet. The\\nperson must also observe personal\\nhygiene and undertake adequate\\nphysical exercise.\\nDuring adolescence, however , these', metadata={'source': '/content/ncert-textbook-for-class-8-science-chapter-7.pdf', 'page': 7}),\n",
              " Document(page_content='During adolescence, however , these\\nbecome even more essential as the body\\nis growing.\\nNutritional Needs of the Adolescents\\nAdolescence is a stage of rapid growth\\nand development. Hence the diet for an\\nAre there hormones in\\nother animals also? Have\\nthey any role to play in\\nreproduction?\\nIf people do not have\\nenough iodine in their diet,\\nwill they get goitre caused\\nby lack of thyroxine?\\nActivity 7.3\\nRationalised-2023-24', metadata={'source': '/content/ncert-textbook-for-class-8-science-chapter-7.pdf', 'page': 7}),\n",
              " Document(page_content='REACHING  THE AGE OF ADOLESCENCE 87adolescent has to be carefully planned.\\nYou have alr eady lear nt what a balanced\\ndiet is. Recall that a balanced diet means\\nthat the meals include proteins,\\ncarbohydrates, fats and vitamins in\\nrequisite proportions. Our Indian meal\\nof roti/rice,  dal (pulses) and vegetables\\nis a balanced meal. Milk is a balanced\\nfood in itself. Fruits also provide\\nnourishment. For infants, mother’s milk\\nprovides all the nourishment that\\nthey need.', metadata={'source': '/content/ncert-textbook-for-class-8-science-chapter-7.pdf', 'page': 8}),\n",
              " Document(page_content='provides all the nourishment that\\nthey need.\\nIron builds blood and iron-rich food\\nsuch as leafy vegetables, jaggery, meat,\\ncitrus, Indian gooseberry (amla)  are good\\nfor adolescents.\\nCheck items for lunch and dinner in\\nyour meal. Is the meal balanced and\\nnutritious? Does it include cereals\\nwhich give energy and milk, meat, nuts\\nand pulses which provide proteins for\\ngrowth? Also, does it include fats and\\nsugar that give energy? What about\\nfruits and vegetables which are', metadata={'source': '/content/ncert-textbook-for-class-8-science-chapter-7.pdf', 'page': 8}),\n",
              " Document(page_content='fruits and vegetables which are\\nprotective foods? Chips and packed or\\ntinned snacks, though very tasty\\nshould never replace regular meals as\\nthey do not have adequate nutritional\\nvalue.\\nActivity 7.4\\nMake a group with your friends.\\nWrite down the items of food in your\\nbreakfast, lunch and dinner you\\nhad on the previous day. Identify\\nthe items responsible for proper\\ngrowth. Also identified the  junk\\nfood that you consumed the\\nprevious day.Personal Hygiene\\nEveryone should have a bath at least', metadata={'source': '/content/ncert-textbook-for-class-8-science-chapter-7.pdf', 'page': 8}),\n",
              " Document(page_content='Everyone should have a bath at least\\nonce everyday. It is more necessary for\\nteenagers because the increased activity\\nof sweat glands sometimes makes the\\nbody smelly. All parts of the body should\\nbe washed and cleaned everyday. If\\nmeat\\nvegetables\\nfruitsmilk and\\neggs\\ngrains\\nFig. 7.6 : Nutritious items of foodActivity 7.5\\nGet ideas from the pictures given in\\nFig.7.6. Prepare charts or posters\\nand paste them in the class so that\\nyou are aware of the diet for\\nadolescents. Y ou may use your', metadata={'source': '/content/ncert-textbook-for-class-8-science-chapter-7.pdf', 'page': 8}),\n",
              " Document(page_content='adolescents. Y ou may use your\\ncreative ideas and present it like an\\nadvertisement. Y ou may even\\norganise a competition on this topic.\\nRationalised-2023-24', metadata={'source': '/content/ncert-textbook-for-class-8-science-chapter-7.pdf', 'page': 8}),\n",
              " Document(page_content='SCIENCE 88cleanliness is not maintained there are\\nchances of catching bacterial  infection.\\nGirls  should take special care of\\ncleanliness during the time of menstrual\\nflow. They should keep track of their\\nmenstrual cycle and be prepared for the\\nonset of menstruation. Use sanitary\\nnapkin or clean homemade pads.\\nChange pads after every 4–5 hours as\\nper the requirement.\\nPhysical exercise\\nWalking and playing in fresh air keeps\\nthe body fit and healthy. All young boys', metadata={'source': '/content/ncert-textbook-for-class-8-science-chapter-7.pdf', 'page': 9}),\n",
              " Document(page_content='the body fit and healthy. All young boys\\nand girls should take walks, exercise\\nand play outdoor games.Activity 7.6\\nCollect data on the number of\\nchildren in your class who exercise\\nregularly and who do not exercise\\nregularly. Did you notice any\\ndifference in their fitness and\\nhealth? Prepare a report on the\\nbenefits of regular exercise.\\nSay “NO” to Drugs\\nAdolescence is a period of much\\nactivity in the body and mind which\\nis a normal part of growing up. So do\\nnot feel confused or insecure. If', metadata={'source': '/content/ncert-textbook-for-class-8-science-chapter-7.pdf', 'page': 9}),\n",
              " Document(page_content='not feel confused or insecure. If\\nanybody suggests that you will get\\nrelief if you take some drugs, just say\\n‘No’ unless pr escribed by the doctor .\\nDrugs are addictive. If you take them\\nonce, you feel like taking them again\\nand again. They harm the body in the\\nlong run. They ruin health and\\nhappiness.\\nYou must have hear d about AIDS\\nwhich is caused by a dangerous virus,\\nHIV. This virus can pass on to a\\nnormal person from an infected\\nperson by sharing the syringes used', metadata={'source': '/content/ncert-textbook-for-class-8-science-chapter-7.pdf', 'page': 9}),\n",
              " Document(page_content='person by sharing the syringes used\\nfor injecting drugs. It can also be\\ntransmitted to an infant from the\\ninfected  mother through her milk. The\\nvirus  can also be transmitted through\\nsexual contact with a person infected\\nwith HIV .\\nAdolescent Pregnancy\\nYou might be knowing that in our country, the legal age for marriage is 18 years\\nfor girls and 21 years for boys. This is because teenage mothers are not prepared\\nmentally or physically for motherhood. Early marriage and motherhood cause health', metadata={'source': '/content/ncert-textbook-for-class-8-science-chapter-7.pdf', 'page': 9}),\n",
              " Document(page_content='problems in the mother and the child. It also curtails employment opportunities for\\nthe young woman and may cause mental agony as she is not ready for\\nresponsibilities of motherhood.Myths, Taboos, Do’s and Don’ts\\nYou have lear nt her e and fr om Chapter\\n6 the scientific facts related to human\\nreproduction. There are many wrong\\nnotions which you should now be able\\nto discard as informed adolescents. For\\nexample, there are myths and taboos\\nregarding bodily changes that', metadata={'source': '/content/ncert-textbook-for-class-8-science-chapter-7.pdf', 'page': 9}),\n",
              " Document(page_content='regarding bodily changes that\\nadolescents experience. Some of these\\nare given below and you can now argue\\nwhy these are myths and not facts.\\n1.A girl becomes pregnant if\\nshe looks at boys during\\nmenstruation.\\n2.The mother is responsible for the\\nsex of her child.\\n3.A girl should not be allowed to\\nwork in the kitchen during\\nmenstruation.\\nYou may come acr oss many other myths\\nand taboos. Discard them.\\nRationalised-2023-24', metadata={'source': '/content/ncert-textbook-for-class-8-science-chapter-7.pdf', 'page': 9}),\n",
              " Document(page_content='REACHING  THE AGE OF ADOLESCENCE 89\\n KEYWORDS KEYWORDS KEYWORDS KEYWORDS KEYWORDS\\nADAM’S APPLE\\nADOLESCENCE\\nADRENALIN\\nBALANCED DIET\\nENDOCRINE GLANDS\\nESTROGEN\\nHORMONES\\nINSULIN\\nLARYNX\\nPITUIT ARY GLAND\\nPUBERTY\\nREPRODUCTIVE\\nHEALTH\\nSECONDARY SEXUAL\\nCHARACTERS\\nSEX CHROMOSOMES\\nTARGET SITE\\nTESTOSTERONE\\nTHYROXINE\\nVOICE BOX WHAT YOU HAVE LEARNT WHAT YOU HAVE LEARNT WHAT YOU HAVE LEARNT WHAT YOU HAVE LEARNT WHAT YOU HAVE LEARNT\\nÜHumans become capable of reproduction', metadata={'source': '/content/ncert-textbook-for-class-8-science-chapter-7.pdf', 'page': 10}),\n",
              " Document(page_content='ÜHumans become capable of reproduction\\nafter puberty sets in. Children between the\\nages of 11 and 19 years  are called adolescents.\\nÜThe onset of puberty brings about growth of\\nthe reproductive organs. Hair grow at\\nvarious places on the body. Breasts develop\\nin girls and facial hair (moustache and beard)\\nappear in boys. V oice of boys becomes hoarse\\nas voice box enlarges during adolescence.\\nÜChildren gain height during adolescence.\\nÜThe onset of puberty and maturity of', metadata={'source': '/content/ncert-textbook-for-class-8-science-chapter-7.pdf', 'page': 10}),\n",
              " Document(page_content='ÜThe onset of puberty and maturity of\\nreproductive parts are controlled by hormones.\\nÜHormones are secretions of endocrine glands\\nwhich pour them directly into the blood stream.\\nÜPituitary gland secretes hormones which\\ninclude growth hormone and hormones that\\nmake other glands such as the testes, ovaries,\\nthyroids and adrenals, secrete hormones.\\nPancreas secretes insulin, thyroid produces\\nthyroxine and adrenals produce adrenalin.\\nÜTestosterone is the male hormone and', metadata={'source': '/content/ncert-textbook-for-class-8-science-chapter-7.pdf', 'page': 10}),\n",
              " Document(page_content='ÜTestosterone is the male hormone and\\nestrogen, the female hormone. The uterine wall\\nin females prepares itself to receive the\\ndeveloping fertilised egg. In case there is no\\nfertilisation, the thickened lining of the uterine\\nwall breaks down and goes out of the body\\nalong with blood. This is called menstruation.\\nÜSex of the unborn child depends on whether\\nthe zygote has XX or XY chromosomes.\\nÜIt is important to eat balanced food and\\nmaintain personal hygiene during\\nadolescence.', metadata={'source': '/content/ncert-textbook-for-class-8-science-chapter-7.pdf', 'page': 10}),\n",
              " Document(page_content='maintain personal hygiene during\\nadolescence.\\nRationalised-2023-24', metadata={'source': '/content/ncert-textbook-for-class-8-science-chapter-7.pdf', 'page': 10}),\n",
              " Document(page_content='SCIENCE 90Exercises\\n1.What is the term used for chemical secretions of endocrine glands\\nresponsible for changes taking place in the body?\\n2.Define adolescence.\\n3.What is menstruation? Explain.\\n4.List changes in the body that take place at puberty.\\n5.Prepare a Table having two columns depicting names of endocrine glands\\nand hormones secreted by them.\\n6.What are sex hormones? Why are they named so? State their function.\\n7.Choose the correct option.', metadata={'source': '/content/ncert-textbook-for-class-8-science-chapter-7.pdf', 'page': 11}),\n",
              " Document(page_content='7.Choose the correct option.\\n(a) Adolescents should be careful about what they eat, because\\n(i)proper diet develops their brains.\\n(ii)proper diet is needed for the rapid growth taking place in their\\nbody.\\n(iii)adolescents feel hungry all the time.\\n(iv)taste buds are well developed in teenagers.\\n(b)Reproductive age in women starts when their\\n(i)menstruation starts.\\n(ii)breasts start developing.\\n(iii)body weight increases.\\n(iv)height increases.\\n(c) The right meal for adolescents consists of', metadata={'source': '/content/ncert-textbook-for-class-8-science-chapter-7.pdf', 'page': 11}),\n",
              " Document(page_content='(c) The right meal for adolescents consists of\\n(i)chips, noodles, coke.\\n(ii)chapati , dal, vegetables.\\n(iii)rice, noodles and bur ger.\\n(iv)vegetable cutlets, chips and lemon drink.\\n8.Write notes on—\\n(a)Adam’s apple.\\n(b)Secondary sexual characters.\\n(c)Sex determination in the unborn baby.\\nRationalised-2023-24', metadata={'source': '/content/ncert-textbook-for-class-8-science-chapter-7.pdf', 'page': 11}),\n",
              " Document(page_content='REACHING  THE AGE OF ADOLESCENCE 919.Word game : Use the clues to work out the wor ds.\\nAcross\\n3.Protruding voice box in boys\\n4.Glands without ducts\\n7.Endocrine gland attached to brain\\n8.Secretion of endocrine glands\\n9.Pancreatic hormone\\n10.Female hormone\\nDown\\n1.Male hormone\\n2.Secretes thyroxine\\n3.Another term for teenage\\n5.Hormone reaches here through blood stream\\n6.Voice box\\n7.Term for changes at adolescenceE X E R C I S E S\\nRationalised-2023-24', metadata={'source': '/content/ncert-textbook-for-class-8-science-chapter-7.pdf', 'page': 12}),\n",
              " Document(page_content='SCIENCE 9210.The table below shows the data on likely heights of boys and girls as they\\ngrow in age. Draw graphs showing height and age for both boys and\\ngirls on the same graph paper . What conclusions can be drawn fr om\\nthese graphs?\\nHeight (cm)\\nBoys Girls\\n0 53 53\\n4 96 92\\n8 114 110\\n12 129 133\\n16 150 150\\n20 173 165Age\\n(Years)\\nExtended Learning — Activities and Projects\\n1.Find out from your elder relatives about their awareness of the', metadata={'source': '/content/ncert-textbook-for-class-8-science-chapter-7.pdf', 'page': 13}),\n",
              " Document(page_content='legal status of early marriage. Y ou yourself may get infor mation on\\nit from your teacher , parents, a doctor or the inter net. W rite a two-\\nminute speech explaining why early marriage is not good for the\\ncouple.\\n2.Collect newspaper cuttings and information in magazines about HIV/\\nAIDS. W rite a one page article of 15 to 20 sentences on HIV/AIDS.\\n3.In our country, according to 2011 census, there are 940 adolescent\\nfemales for every 1000 males. Find out.', metadata={'source': '/content/ncert-textbook-for-class-8-science-chapter-7.pdf', 'page': 13}),\n",
              " Document(page_content='females for every 1000 males. Find out.\\n(a)the concerns of the community regarding this low ratio.\\nRemember that the chance of having a boy or a girl is equal.\\n(b)what amniocentesis is and how useful this technique is. Why\\nis its use for identification of sex of the unborn child banned\\nin India?\\n4.Put your ideas together and write a short note on the importance of\\nknowing facts about reproduction.\\nFor more information visit :\\nl www.teenshealth.org/teen/sexual_health/\\nl www.adolescenthealth.com', metadata={'source': '/content/ncert-textbook-for-class-8-science-chapter-7.pdf', 'page': 13}),\n",
              " Document(page_content='l www.adolescenthealth.com\\nRationalised-2023-24', metadata={'source': '/content/ncert-textbook-for-class-8-science-chapter-7.pdf', 'page': 13})]"
            ]
          },
          "metadata": {},
          "execution_count": 27
        }
      ],
      "source": [
        "splits = text_splitter.split_documents(docs)\n",
        "print(len(splits))\n",
        "splits"
      ]
    },
    {
      "cell_type": "code",
      "execution_count": null,
      "metadata": {
        "colab": {
          "base_uri": "https://localhost:8080/"
        },
        "collapsed": true,
        "id": "Bex2KHls8kLF",
        "outputId": "0496c234-6fe5-4038-80c9-037a6ae8bb94"
      },
      "outputs": [
        {
          "output_type": "stream",
          "name": "stdout",
          "text": [
            "54\n"
          ]
        },
        {
          "output_type": "execute_result",
          "data": {
            "text/plain": [
              "[Document(page_content='REPRODUCTION  IN ANIMALS REPRODUCTION  IN ANIMALS\\nDo you recall the processes of\\ndigestion, circulation and\\nrespiration which you have\\nstudied in your previous classes? These\\nprocesses are essential for the survival\\nof every individual. Y ou have also lear nt\\nabout the process of reproduction in\\nplants. Reproduction is essential for the\\ncontinuation of a species. Imagine what\\nwould have happened if organisms had\\nnot r eproduced. Y ou will r ealise that\\nreproduction is very important as it', metadata={'source': '/content/hesc106.pdf', 'page': 0}),\n",
              " Document(page_content='reproduction is very important as it\\nensures the continuation of similar\\nkinds of individuals, generation after\\ngeneration.\\nYou have alr eady lear nt in your\\nprevious class about reproduction in\\nplants. In this chapter , we shall lear n\\nhow reproduction takes place in\\nanimals.\\n6.1 Modes of Reproduction\\nHave you seen the young ones\\nof dif ferent animals? T ry to name some\\nof the young ones by completing\\nTable 6.1 shown in examples at S. No.\\n1 and 5.\\nYou must have seen the young', metadata={'source': '/content/hesc106.pdf', 'page': 0}),\n",
              " Document(page_content='1 and 5.\\nYou must have seen the young\\nones of various animals being born.\\nCan you tell how chicks and\\ncaterpillars are born? How are kittens\\nand puppies born? Do you think that\\nthese young ones looked the same\\nbefore they were born as they do now?\\nLet us find out.Just as in plants, there are two modes\\nby which animals reproduce. These are:\\n(i)Sexual reproduction, and\\n(ii)Asexual reproduction.\\n6.2 Sexual Reproduction\\nTry to r ecall r eproduction in plants', metadata={'source': '/content/hesc106.pdf', 'page': 0}),\n",
              " Document(page_content='Try to r ecall r eproduction in plants\\nwhich you studied in Class VII. Y ou will\\nremember that plants that reproduce\\nsexually have male and female\\nreproductive parts. Can you name these\\nparts? In animals also, males and\\nfemales have different reproductive parts\\nor organs. Like plants, the reproductive\\nparts in animals also produce gametes\\nthat fuse to form a zygote. It is the zygote\\nwhich develops into a new individual.\\nThis type of reproduction beginning\\nfrom the fusion of male and female', metadata={'source': '/content/hesc106.pdf', 'page': 0}),\n",
              " Document(page_content='from the fusion of male and female\\ngametes is called sexual reproduction .\\nLet us find out the reproductive partsTable 6.1\\nS. No. Animal Young one\\n1. Human Baby\\n2. Cat\\n3. Dog\\n4. Butterfly\\n5. Hen Chick\\n6. Cow\\n7. Frog\\n2024-25', metadata={'source': '/content/hesc106.pdf', 'page': 0}),\n",
              " Document(page_content='in humans and study the process of\\nreproduction in them.\\nMale Reproductive Organs\\nThe male reproductive organs include a\\npair of testes (singular , testis), two sper m\\nducts and a penis (Fig. 6.1). The testes\\nproduce the male gametes called\\nsperms . Millions of sperms are produced\\nby the testes. Look at Fig. 6.2 which\\nshows the picture of a sperm. Though\\nsperms are very small in size, each has\\na head, a middle piece and a tail. Does', metadata={'source': '/content/hesc106.pdf', 'page': 1}),\n",
              " Document(page_content='a head, a middle piece and a tail. Does\\nit appear to be a single cell? Indeed, eachsperm is a single cell with all the usual\\ncell components.\\nFig. 6.1: Male reproductive\\norgans in humansWhat purpose does the\\ntail in a sperm serve?\\nFig. 6.3 : Female reproductive organs in\\nhumansFemale Reproductive Organs\\nThe female reproductive organs are a pair\\nof ovaries, oviducts (fallopian tubes) and\\nthe uterus (Fig. 6.3). The ovary produces\\nOviduct\\nOvary\\nUterus\\nHead\\nMiddle piece\\nTail\\nFig. 6.2 :  Human sperm', metadata={'source': '/content/hesc106.pdf', 'page': 1}),\n",
              " Document(page_content='Head\\nMiddle piece\\nTail\\nFig. 6.2 :  Human sperm\\nREPRODUCTION  IN ANIMALS 67\\nSperm\\nduct\\nTestisPenis\\n2024-25', metadata={'source': '/content/hesc106.pdf', 'page': 1}),\n",
              " Document(page_content='SCIENCE 68Boojho recalls that the size\\nof eggs in animals varies.\\nThe egg may be very small\\nas in humans, much larger\\nas in hens. Ostrich egg is\\nthe largest!\\nFertilisation\\nThe first step in the process of\\nreproduction is the fusion of a sperm\\nand an ovum. When sperms come in\\ncontact with an egg, one of the sperms\\nmay fuse with the egg. Such fusion of\\nthe egg and the sperm is called\\nfertilisation (Fig. 6.5). During\\nfertilisation, the nuclei of the sperm and\\nthe egg fuse to form a single nucleus.', metadata={'source': '/content/hesc106.pdf', 'page': 2}),\n",
              " Document(page_content='the egg fuse to form a single nucleus.\\nThis results in the formation of a\\nfertilised egg or zygote (Fig. 6.6). Did\\nFig. 6.5 :  Fertilisation\\nFig. 6.4 :  Human OvumNucleusSperms\\nOvum\\nFusing\\nnuclei\\nThe process of fertilisation is the\\nmeeting of an egg cell from the mother\\nand a sper m cell fr om the father . So,\\nthe new individual inherits some\\ncharacteristics  from the mother and\\nsome fr om the father . Look at your\\nbrother or sister . See if you can r ecognise', metadata={'source': '/content/hesc106.pdf', 'page': 2}),\n",
              " Document(page_content='brother or sister . See if you can r ecognise\\nsome characters in them similar to those\\nof your mother or your father .\\nFertilisation which takes place inside\\nthe female body is called internal\\nfertilisation . Internal fertilisation\\noccurs in many animals including\\nhumans, cows, dogs and hens.Fig. 6.6 :  Zygotefemale gametes called ova (eggs)\\n(Fig. 6.4). In human beings, a single\\nmatured egg is released into the oviduct\\nby one of the ovaries every month.\\nUterus is the part where development of', metadata={'source': '/content/hesc106.pdf', 'page': 2}),\n",
              " Document(page_content='Uterus is the part where development of\\nthe baby takes place. Like the sperm,\\nan egg is also a single cell.\\nyou know that the zygote is the\\nbeginning of a new individual?\\n2024-25', metadata={'source': '/content/hesc106.pdf', 'page': 2}),\n",
              " Document(page_content='REPRODUCTION  IN ANIMALS 69Why do fish and\\nfrogs lay eggs in\\nhundreds whereas a\\nhen lays only one\\negg at a time?\\nHave you heard of\\ntest tube babies?\\nBoojho and Paheli’s teacher once told\\nthem in the class that in some women\\noviducts are blocked. These women\\nare unable to bear babies because\\nsperms cannot reach the egg for\\nfertilisation. In such cases, doctors\\ncollect freshly released egg and\\nsperms and keep them together for a\\nfew hours for IVF or in vitro', metadata={'source': '/content/hesc106.pdf', 'page': 3}),\n",
              " Document(page_content='few hours for IVF or in vitro\\nfertilisation  (fertilisation outside the\\nbody). In case fertilisation occurs,\\nthe zygote is allowed to develop for\\nabout a week and then it is placed in\\nthe mother’s uterus. Complete\\ndevelopment takes place in the uterus\\nand the baby is born like any other\\nbaby. Babies born through this\\ntechnique are called test-tube\\nbabies . This term is actually\\nmisleading because babies cannot\\ngrow in test tubes.female lays hundreds of eggs. Unlike', metadata={'source': '/content/hesc106.pdf', 'page': 3}),\n",
              " Document(page_content='hen’s egg, frog’s egg is not covered by a\\nshell and it is comparatively very\\ndelicate. A layer of jelly holds the eggs\\ntogether and provides protection to the\\neggs (Fig. 6.7).\\nYou will be surprised to know that\\nin many animals fertili sation takes\\nplace outside the body of the female.\\nIn these animals, fertili sation takes\\nplace in water . Let us find out how\\nthis happens.\\nActivity 6.1\\nVisit some ponds or slow-flowing\\nstreams during spring or rainy\\nseason. Look out for clusters of', metadata={'source': '/content/hesc106.pdf', 'page': 3}),\n",
              " Document(page_content='season. Look out for clusters of\\nfrog’s eggs floating in water .\\nWrite down the colour and size of\\nthe eggs.\\nDuring spring or rainy season, frogs\\nand toads move to ponds and slow-\\nflowing streams. When the male and\\nfemale come together in water , theAs the eggs are laid, the male\\ndeposits sperms over them. Each\\nsperm swims randomly in water with\\nthe help of its long tail. The sperms\\ncome in contact with the eggs. This\\nresults in fertili sation. This type of', metadata={'source': '/content/hesc106.pdf', 'page': 3}),\n",
              " Document(page_content='results in fertili sation. This type of\\nfertilis ation in which the fusion of a\\nmale and a female gamete takes place\\noutside the body of the female is called\\nexternal fertili sation . It is very\\ncommon in aquatic animals such as\\nfish, star fish\\n, etc.\\nFig. 6.7 :  Eggs of frog\\n2024-25', metadata={'source': '/content/hesc106.pdf', 'page': 3}),\n",
              " Document(page_content='SCIENCE 70\\nDevelopment of Embryo\\nFertilisation results in the formation of\\nzygote which begins to develop into an\\nembryo [Fig. 6.8(a)]. The zygote divides\\nrepeatedly to give rise to a ball of cells\\n[Fig. 6.8(b)]. The cells then begin to form\\ngroups that develop into different tissues\\nand organs of the body. This developing\\nstructure is termed an embryo . The\\nembryo gets embedded in the wall of the\\nuterus for further development\\n[Fig. 6.8(c)].\\nThe embryo continues to develop in', metadata={'source': '/content/hesc106.pdf', 'page': 4}),\n",
              " Document(page_content='[Fig. 6.8(c)].\\nThe embryo continues to develop in\\nthe uterus. It gradually develops body\\nFig. 6.8 : (a) Zygote formation and development of an embryo from the zygote; (b) Ball of cells\\n(enlarged); (c) Embedding of the embryo in the uterus (enlarged)How could a single cell\\nbecome such a big\\nindividual?\\n(b)\\n(a)\\n(c)Uterus\\nEmbedding\\nembryoOvary\\nOvulationZygote\\nUterus\\nwall\\nDeveloping\\nembryo\\nThough these animals lay\\nhundreds of eggs and release\\nmillions of sperms, all the eggs', metadata={'source': '/content/hesc106.pdf', 'page': 4}),\n",
              " Document(page_content='millions of sperms, all the eggs\\ndo not get fertilised and develop\\ninto new individuals.\\nThis is because the eggs and\\nsperms get exposed to  water\\nmovement, wind and rainfall.\\nAlso, there are other animals in\\nthe pond which may feed\\non eggs. Thus, production\\nof large number of eggs and\\nsperms is necessary to\\nensure fertilisation\\nof at least\\na few of them.\\n2024-25', metadata={'source': '/content/hesc106.pdf', 'page': 4}),\n",
              " Document(page_content='REPRODUCTION  IN ANIMALS 71parts such as hands, legs, head, eyes,\\nears etc. The stage of the embryo in\\nwhich all the body parts can be\\nidentified is called a foetus (Fig. 6.9).\\nWhen the development of the foetus is\\ncomplete,  the mother gives birth to\\nthe baby.place inside the egg shell during this\\nperiod? After the chick is completely\\ndeveloped it bursts open the egg shell.\\nIn animals which undergo external\\nfertilisation, development of the embryo\\ntakes place outside the female body. The', metadata={'source': '/content/hesc106.pdf', 'page': 5}),\n",
              " Document(page_content='takes place outside the female body. The\\nembryos continue to grow within their\\negg coverings. After the embryos develop,\\nthe eggs hatch. Y\\nou must have seen\\nnumerous tadpoles swimming in ponds\\nand streams.\\nViviparous and Oviparous Animals\\nWe have learnt that some animals give\\nbirth to young ones while some animals\\nlay eggs which later develop into young\\nones. The animals which give birth to\\nyoung ones are called viviparous\\nanimals. Those animals which lay eggs\\nare called oviparous animals. The', metadata={'source': '/content/hesc106.pdf', 'page': 5}),\n",
              " Document(page_content='are called oviparous animals. The\\nfollowing activity will help you\\nunderstand better and differentiate\\nbetween viviparous and oviparous\\nanimals.\\nActivity 6.2\\nTry to observe eggs of the following\\norganisms – fr og, lizar d, butter fly\\nor moth, hen and crow or any other\\nbir\\nd. Were you able to observe eggs\\nof all of them? Make drawings of  the\\neggs that you have observed.\\nThe eggs of a few animals are easy\\nto observe because their mothers lay\\nthem outside their bodies. These are', metadata={'source': '/content/hesc106.pdf', 'page': 5}),\n",
              " Document(page_content='them outside their bodies. These are\\nexamples of oviparous animals. But you\\nwould not be able to collect the eggs of\\na dog, cow or cat. This is because they\\ndo not lay eggs. The mother gives birth\\nto the young ones. These are examples\\nof viviparous animals.Internal fertilisation takes place in\\nhens also. But, do hens give birth to\\nbabies like human beings and cows? Y ou\\nknow that they do not. Then, how are\\nchicks born? Let us find out.\\nSoon after fertilisation, the zygote', metadata={'source': '/content/hesc106.pdf', 'page': 5}),\n",
              " Document(page_content='Soon after fertilisation, the zygote\\ndivides repeatedly and travels down the\\noviduct. As it travels down, many\\nprotective layers are formed around it.\\nThe hard shell that you see in a hen’s\\negg is one such pr otective layer .\\nAfter the hard shell is formed around\\nthe developing embryo, the hen finally\\nlays the egg. The embryo takes about 3\\nweeks to develop into a chick. Y ou must\\nhave seen the hen sitting on the eggs to\\nprovide sufficient warmth. Did you know', metadata={'source': '/content/hesc106.pdf', 'page': 5}),\n",
              " Document(page_content='provide sufficient warmth. Did you know\\nthat development of the chick takesFig. 6.9 :  Foetus in the uterusUterus\\n2024-25', metadata={'source': '/content/hesc106.pdf', 'page': 5}),\n",
              " Document(page_content='SCIENCE 72Can you now give some more\\nexamples of viviparous and oviparous\\nanimals?\\nYoung Ones to Adults\\nThe new individuals which are born or\\nhatched from the eggs continue to grow\\ntill they become adults. In some\\nanimals, the young ones may look very\\ndifferent from the adults. The life cycle\\nof frog is shown in Fig. 6.10.\\nObserve the different stages of frog\\nstarting from the egg to the adult stage.\\nWe find that ther e are thr ee distinct\\nstages, that is, egg → tadpole (larva) →', metadata={'source': '/content/hesc106.pdf', 'page': 6}),\n",
              " Document(page_content='stages, that is, egg → tadpole (larva) →\\nadult. Don’t the tadpoles look so\\ndifferent from the adults? Can you\\nimagine that these tadpoles would some\\nday become frogs?The tadpoles transform into adults\\ncapable of jumping and swimming. The\\ntransformation of the larva into an adult\\nthrough drastic changes is called\\nmetamorphosis . What about the\\nchanges that we observe in our body as\\nwe grow? Do you think we too undergo\\nmetamorphosis? In human beings,\\nbody parts similar to those present in', metadata={'source': '/content/hesc106.pdf', 'page': 6}),\n",
              " Document(page_content='body parts similar to those present in\\nthe adults are present from the time\\nof birth.\\n6.3 Asexual Reproduction\\nSo far , we have lear nt about r eproduction\\nin some familiar animals. But what\\nabout very small animals like hydra and\\nmicroscopic organisms like amoeba? Do\\nyou know how they reproduce? Let us\\nfind out.\\nFig. 6.10 :  Life cycle of frog\\n(a) Eggs(b) Early tadpole\\n(c) Late tadpole\\n(d) Adult frog\\n2024-25', metadata={'source': '/content/hesc106.pdf', 'page': 6}),\n",
              " Document(page_content='REPRODUCTION  IN ANIMALS 73\\nActivity 6.3\\nGet permanent slides of\\nhydra.  Observe them using\\nhand lens or a microscope.\\nLook out for any bulges\\nfrom the parent body.\\nCount the number of\\nbulges that you see in\\ndifferent slides. Also, note\\nthe size of the bulges. Draw\\nthe diagram of hydra, as\\nyou see it. Compare it with\\nthe Fig. 6.11.Fig. 6.11 :  Budding in Hydra\\nFig. 6.12 :  Binary fission in Amoeba(a)\\n(b)\\n(c)\\n(d)Dividing nucleus\\nDaughter amoebaeIn each hydra, there may be one or', metadata={'source': '/content/hesc106.pdf', 'page': 7}),\n",
              " Document(page_content='more  bulges. These bulges are the\\ndeveloping new individuals and they are\\ncalled buds. Recall the presence of buds\\nin yeast. In hydra too the new individuals\\ndevelop as outgrowths from a single\\nparent. This type of reproduction in\\nwhich only a single parent is involved is\\ncalled asexual reproduction . Since new\\nindividuals develop from the buds in\\nhydra, this type of asexual reproduction\\nis called budding .\\nAnother method of asexual\\nreproduction is observed in the', metadata={'source': '/content/hesc106.pdf', 'page': 7}),\n",
              " Document(page_content='reproduction is observed in the\\nmicroscopic organism, amoeba. Let us\\nsee how this happens.\\nYou have alr eady lear nt about the\\nstructur e of amoeba. Y ou will r ecall that\\namoeba is a single-celled organism\\n[Fig. 6.12(a)]. It begins the process of\\nreproduction by the division of its\\nnucleus into two nuclei [Fig. 6.12(b)].\\nThis is followed by division of its body\\ninto two, each part receiving a nucleus\\n[Fig. 6.12(c)]. Finally, two amoebae are\\nproduced from one parent amoeba', metadata={'source': '/content/hesc106.pdf', 'page': 7}),\n",
              " Document(page_content='produced from one parent amoeba\\n[Fig. 6.12(d)]. This type of asexual\\n2024-25', metadata={'source': '/content/hesc106.pdf', 'page': 7}),\n",
              " Document(page_content='SCIENCE 74Story of Dolly, the Clone\\nCloning is the production of an exact copy of a cell, any other living part, or a\\ncomplete organism. Cloning of an animal was successfully performed for the first\\ntime by Ian Wilmut and his colleagues at the Roslin Institute in Edinburgh,\\nScotland. They successfully cloned a sheep named Dolly [Fig. 6.13 (c)]. Dolly was\\nborn on 5th July 1996 and was the first mammal to be cloned.\\n(a) Finn Dorsett sheep (b) Scottish blackface ewe (c) Dolly\\nFig. 6.13', metadata={'source': '/content/hesc106.pdf', 'page': 8}),\n",
              " Document(page_content='Fig. 6.13\\nDuring the process of cloning Dolly, a cell was collected from the mammary gland\\nof a female Finn Dorsett sheep [Fig. 6.13 (a)]. Simultaneously, an egg was obtained\\nfrom a Scottish blackface ewe [Fig. 6.13 (b)]. The nucleus was removed from the\\negg. Then, the nucleus of the mammary gland cell from the Finn Dorsett sheep\\nwas inserted into the egg of the Scottish blackface ewe whose nucleus had been\\nremoved. The egg thus produced was implanted into the Scottish blackface ewe.', metadata={'source': '/content/hesc106.pdf', 'page': 8}),\n",
              " Document(page_content='Development of this egg followed normally and finally Dolly was born. Though\\nDolly was given birth by the Scottish blackface ewe, it was found to be absolutely\\nidentical to the Finn Dorsett sheep from which the nucleus was taken. Since the\\nnucleus from the egg of the Scottish blackface ewe was removed, Dolly did not\\nshow any character of the Scottish blackface ewe. Dolly was a healthy clone of\\nthe Finn Dorsett sheep and produced several offspring of her own through normal', metadata={'source': '/content/hesc106.pdf', 'page': 8}),\n",
              " Document(page_content='sexual means. Unfortunately, Dolly died on 14th February 2003 due to a certain\\nlung disease.\\nSince Dolly, several attempts have been made to produce cloned mammals.\\nHowever , many die befor e birth or die soon after birth. The cloned animals ar e\\nmany-a-times found to be born with severe abnormalities.\\nreproduction in which an animal\\nreproduces by dividing into two\\nindividuals is called binary fission .\\nApart from budding and binary fission,there are other methods by which a', metadata={'source': '/content/hesc106.pdf', 'page': 8}),\n",
              " Document(page_content='single parent reproduces young ones.\\nYou will study about these in your\\nhigher classes.\\n2024-25', metadata={'source': '/content/hesc106.pdf', 'page': 8}),\n",
              " Document(page_content='REPRODUCTION  IN ANIMALS 75\\n KEYWORDS KEYWORDS KEYWORDS KEYWORDS KEYWORDS\\nASEXUAL\\nREPRODUCTION\\nBINARY FISSION\\nBUDDING\\nEGGS\\nEMBRYO\\nEXTERNAL\\nFERTILISA TION\\nFERTILISA TION\\nFOETUS\\nINTERNAL\\nFERTILISA TION\\nMETAMORPHOSIS\\nOVIPAROUS ANIMALS\\nSEXUAL\\nREPRODUCTION\\nSPERMS\\nVIVIP AROUS ANIMALS\\nZYGOTE WHAT YOU HAVE LEARNT WHAT YOU HAVE LEARNT WHAT YOU HAVE LEARNT WHAT YOU HAVE LEARNT WHAT YOU HAVE LEARNT\\nÜThere are two modes by which animals repro-\\nduce. These are: (i) Sexual reproduction, and', metadata={'source': '/content/hesc106.pdf', 'page': 9}),\n",
              " Document(page_content='duce. These are: (i) Sexual reproduction, and\\n(ii) Asexual reproduction.\\nÜReproduction resulting from the fusion of male\\nand  female gametes is called sexual\\nreproduction.\\nÜThe reproductive organs in the female include\\novaries, oviducts and uterus.\\nÜThe reproductive organs in male include\\ntestes, sperm ducts and penis.\\nÜThe ovary produces female gametes called ova\\nand the testes produce male gametes called\\nsperms.\\nÜThe fusion of ovum and sperm is called fertilisation.', metadata={'source': '/content/hesc106.pdf', 'page': 9}),\n",
              " Document(page_content='The fertilised egg is called a zygote.\\nÜFertilisation that takes place inside the female\\nbody is called internal fertilisation. This is\\nobserved in human beings and other animals\\nsuch as hens, cows and dogs.\\nÜFertilisation that takes place outside the\\nfemale body is called external fertilisation. This\\nis observed in frogs, fish, starfish, etc.\\nÜThe zygote divides repeatedly to give rise to an\\nembryo.\\nÜThe embryo gets embedded in the wall of the\\nuterus for further development.', metadata={'source': '/content/hesc106.pdf', 'page': 9}),\n",
              " Document(page_content='uterus for further development.\\nÜThe stage of the embryo in which all the body\\nparts are identifiable is called foetus.\\nÜAnimals such as human beings, cows and\\ndogs which give birth to young ones are called\\nviviparous animals.\\nÜAnimals such as hen, frog, lizard  and butterfly\\nwhich lay eggs are called oviparous animals.\\nÜThe transformation of the larva into adult\\nthrough drastic changes is called\\nmetamorphosis.\\nÜThe type of reproduction in which only a single', metadata={'source': '/content/hesc106.pdf', 'page': 9}),\n",
              " Document(page_content='ÜThe type of reproduction in which only a single\\nparent is involved is called asexual\\nreproduction.\\nÜIn hydra, new individuals develop from buds.\\nThis method of asexual reproduction is called\\nbudding.\\nÜAmoeba  reproduces by dividing itself into two.\\nThis type of asexual reproduction is called\\nbinary fission.\\n2024-25', metadata={'source': '/content/hesc106.pdf', 'page': 9}),\n",
              " Document(page_content='SCIENCE 76Exercises\\n1.Explain the importance of reproduction in organisms.\\n2.Describe the process of fertilisation in human beings.\\n3.Choose the most appr opriate answer .\\n(a)Internal fertilisation occurs\\n(i)in female body.\\n(ii)outside female body.\\n(iii)in male body.\\n(iv)outside male body.\\n(b)A tadpole develops into an adult frog by the process of\\n(i)    fertilisation    (ii) metamorphosis    (iii) embedding    (iv) budding\\n(c)The number of nuclei present in a zygote is', metadata={'source': '/content/hesc106.pdf', 'page': 10}),\n",
              " Document(page_content='(c)The number of nuclei present in a zygote is\\n(i) none (ii) one (iii) two (iv) four\\n4.Indicate whether the following statements are True (T) or False (F).\\n(a)Oviparous animals give birth to young ones. (    )\\n(b)Each sperm is a single cell. (    )\\n(c)External fertilisation takes place in frog. (    )\\n(d)A new human individual develops from a cell called gamete. (    )\\n(e)Egg laid after fertilisation is made up of a single cell. (    )\\n(f)Amoeba reproduces by budding. (    )', metadata={'source': '/content/hesc106.pdf', 'page': 10}),\n",
              " Document(page_content='(f)Amoeba reproduces by budding. (    )\\n(g)Fertilisation is necessary even in asexual reproduction. (    )\\n(h)Binary fission is a method of asexual reproduction. (    )\\n(i)A zygote is formed as a result of fertilisation. (    )\\n(j)An embryo is made up of a single cell. (    )\\n5.Give two differences between a zygote and a foetus.\\n6.Define asexual reproduction. Describe two methods of asexual reproduction\\nin animals.\\n7.In which female reproductive organ does the embryo get embedded?', metadata={'source': '/content/hesc106.pdf', 'page': 10}),\n",
              " Document(page_content='8.What is metamorphosis? Give examples.\\n9.Differentiate between internal fertilisation and external fertilisation.\\n2024-25', metadata={'source': '/content/hesc106.pdf', 'page': 10}),\n",
              " Document(page_content='REPRODUCTION  IN ANIMALS 77E X E R C I S E S10.Complete the crossword puzzle using the hints given below.\\nAcross\\n1.The process of the fusion of the gametes.\\n6.The type of fertilisation in hen.\\n7.The term used for bulges observed on the sides of the body of hydra.\\n8.Eggs are produced here.\\nDown\\n2.Sperms are produced in these male reproductive organs.\\n3.Another term for in vitro fertilisation.\\n4.These animals lay eggs.\\n5.A type of fission in amoeba.\\nExtended Learning — Activities and Projects', metadata={'source': '/content/hesc106.pdf', 'page': 11}),\n",
              " Document(page_content='Extended Learning — Activities and Projects\\n1.Visit a poultry farm. Talk to the manager of the farm and try to find\\nout the answers to the following.\\n(a)What are layers and broilers  in a poultry farm?\\n(b)Do hens lay unfertilised eggs?\\n(c)How can you obtain fertilised and unfertilised eggs?\\n(d)Are the eggs that we get in the stores fertilised or unfertilised?\\n(e)Can you consume fertilised eggs?\\n(f)Is there any difference in the nutritional value of fertilised\\nand unfertilised eggs?\\n2024-25', metadata={'source': '/content/hesc106.pdf', 'page': 11}),\n",
              " Document(page_content='SCIENCE 782.Observe live hydra yourself and learn how they reproduce by doing\\nthe following activity:\\nDuring the summer months collect water weeds from ponds or ditches\\nalong with the pond water and put them in a glass jar . After a day or\\nso you may see several hydra clinging to the sides of the jar .\\nHydra is transparent, jelly-like and with tentacles. It clings to the\\njar with the base of its body. If the jar is shaken, the hydra will', metadata={'source': '/content/hesc106.pdf', 'page': 12}),\n",
              " Document(page_content='contract instantly into a small blob, at the same time drawing its\\ntentacles in.\\nNow take out few hydras from the jar and put them on a watch\\nglass. Using a hand lens or a binocular or dissection microscope,\\nobserve the changes that are taking place in their body. Note down\\nyour observations.\\n3.The eggs we get from the market are generally the unfertilised ones.\\nIn case you wish to observe a developing chick embryo, get a fertilised', metadata={'source': '/content/hesc106.pdf', 'page': 12}),\n",
              " Document(page_content='egg from the poultry or hatchery which has been incubated for 36\\nhours or mor e. You may then be able to see a white  disc-like structur e\\non the yolk. This is the developing embryo. Sometimes if the heart\\nand blood vessels have developed you may even see a red spot.\\n4.Talk to a doctor . Find out how twinning occurs. Look for any twins\\nin your neighbourhood, or among your friends. Find out  if the twins\\nare identical or non-identical. Also find out why identical twins are', metadata={'source': '/content/hesc106.pdf', 'page': 12}),\n",
              " Document(page_content='always of the same sex? If you know of any story about twins, write\\nit in your own words.\\nFor more information on animal reproduction, you can visit :\\nl www.saburchill.com\\nl www.teenshealth.org/teen/sexual-health\\nDid Y ou Know?\\nAn interesting organisation is observed in a honey bee hive, a colony of several\\nthousand bees. Only one bee i n the colony lays eggs. This bee is called the\\nqueen bee. All other female bees are worker bees. Their main job is to build the', metadata={'source': '/content/hesc106.pdf', 'page': 12}),\n",
              " Document(page_content='hive, look after the young and feed the queen bee adequately to keep her\\nhealthy so that she can lay eggs. A queen bee lays thousands of eggs. The\\nfertili sed eggs hatch into females, while the unfertili sed eggs give rise to males ,\\ncalled drones. It is the job of the worker bees to maintain the temperature of\\nthe hive at around 35 °C to incubate the eggs.\\n2024-25', metadata={'source': '/content/hesc106.pdf', 'page': 12})]"
            ]
          },
          "metadata": {},
          "execution_count": 43
        }
      ],
      "source": [
        "splits = text_splitter.split_documents(docs)\n",
        "print(len(splits))\n",
        "splits"
      ]
    },
    {
      "cell_type": "markdown",
      "metadata": {
        "id": "a2mjo2yPPxCg"
      },
      "source": [
        "# Embeddings"
      ]
    },
    {
      "cell_type": "code",
      "execution_count": null,
      "metadata": {
        "id": "o54StfVCP2tD"
      },
      "outputs": [],
      "source": [
        "from langchain_openai import OpenAIEmbeddings\n",
        "embedding = OpenAIEmbeddings()"
      ]
    },
    {
      "cell_type": "code",
      "execution_count": null,
      "metadata": {
        "colab": {
          "base_uri": "https://localhost:8080/"
        },
        "id": "qnYAmVbssYg_",
        "outputId": "20bcb18e-5f44-4701-d410-6280f3b9b46d"
      },
      "outputs": [
        {
          "output_type": "execute_result",
          "data": {
            "text/plain": [
              "OpenAIEmbeddings(client=<openai.resources.embeddings.Embeddings object at 0x7f0de2321570>, async_client=<openai.resources.embeddings.AsyncEmbeddings object at 0x7f0de2317700>, model='text-embedding-ada-002', dimensions=None, deployment='text-embedding-ada-002', openai_api_version='', openai_api_base=None, openai_api_type='', openai_proxy='', embedding_ctx_length=8191, openai_api_key=SecretStr('**********'), openai_organization=None, allowed_special=None, disallowed_special=None, chunk_size=1000, max_retries=2, request_timeout=None, headers=None, tiktoken_enabled=True, tiktoken_model_name=None, show_progress_bar=False, model_kwargs={}, skip_empty=False, default_headers=None, default_query=None, retry_min_seconds=4, retry_max_seconds=20, http_client=None, http_async_client=None, check_embedding_ctx_length=True)"
            ]
          },
          "metadata": {},
          "execution_count": 29
        }
      ],
      "source": [
        "embedding"
      ]
    },
    {
      "cell_type": "markdown",
      "metadata": {
        "id": "G_iPD93MP1q3"
      },
      "source": [
        "#Vectorstores"
      ]
    },
    {
      "cell_type": "code",
      "execution_count": null,
      "metadata": {
        "colab": {
          "base_uri": "https://localhost:8080/"
        },
        "id": "zEnPVguN-nLu",
        "outputId": "12ecc207-97c2-4cc2-ae8e-31bd3dcd60fc"
      },
      "outputs": [
        {
          "output_type": "stream",
          "name": "stdout",
          "text": [
            "No existing database directory found at: docs/chroma/\n"
          ]
        }
      ],
      "source": [
        "from langchain_community.vectorstores import Chroma # Light-weight and in memory\n",
        "import os\n",
        "import shutil\n",
        "\n",
        "persist_directory = 'docs/chroma/'\n",
        "\n",
        "# Function to delete the old database directory\n",
        "def remove_old_database(persist_directory):\n",
        "    if os.path.exists(persist_directory):\n",
        "        shutil.rmtree(persist_directory)\n",
        "        print(f\"Removed old database directory: {persist_directory}\")\n",
        "    else:\n",
        "        print(f\"No existing database directory found at: {persist_directory}\")\n",
        "\n",
        "# Remove old database files\n",
        "remove_old_database(persist_directory)"
      ]
    },
    {
      "cell_type": "code",
      "execution_count": null,
      "metadata": {
        "id": "LuXS5xRCAiFg"
      },
      "outputs": [],
      "source": [
        "# Ensure the directory exists and has write permissions\n",
        "os.makedirs(persist_directory, exist_ok=True)\n",
        "os.chmod(persist_directory, 0o777)  # Set the directory permissions to be writable\n",
        "\n"
      ]
    },
    {
      "cell_type": "code",
      "execution_count": null,
      "metadata": {
        "id": "mtmg5jUQP77i"
      },
      "outputs": [],
      "source": [
        "from langchain_community.vectorstores import Chroma # Light-weight and in memory"
      ]
    },
    {
      "cell_type": "code",
      "execution_count": null,
      "metadata": {
        "id": "seP5R0Pts-Z6"
      },
      "outputs": [],
      "source": [
        "persist_directory = 'docs/chroma/'\n",
        "!rm -rf ./docs/chroma  # remove old database files if any"
      ]
    },
    {
      "cell_type": "code",
      "execution_count": null,
      "metadata": {
        "colab": {
          "base_uri": "https://localhost:8080/"
        },
        "id": "lWlumi3KAoyZ",
        "outputId": "7636bccc-3ca4-4e56-fd38-61231b09872a"
      },
      "outputs": [
        {
          "output_type": "stream",
          "name": "stdout",
          "text": [
            "New vector database initialized and saved to: docs/chroma/\n"
          ]
        },
        {
          "output_type": "stream",
          "name": "stderr",
          "text": [
            "/usr/local/lib/python3.10/dist-packages/langchain_core/_api/deprecation.py:139: LangChainDeprecationWarning: Since Chroma 0.4.x the manual persistence method is no longer supported as docs are automatically persisted.\n",
            "  warn_deprecated(\n"
          ]
        }
      ],
      "source": [
        "# Assuming 'splits' and 'embedding' are already defined\n",
        "try:\n",
        "    vectordb = Chroma.from_documents(\n",
        "        documents=splits,  # Replace 'splits' with your actual document splits\n",
        "        embedding=embedding,  # Replace 'embedding' with your actual embedding\n",
        "        persist_directory=persist_directory  # Save the directory\n",
        "    )\n",
        "\n",
        "    # Persist the new database\n",
        "    vectordb.persist()\n",
        "    print(f\"New vector database initialized and saved to: {persist_directory}\")\n",
        "except Exception as e:\n",
        "    print(f\"An error occurred: {e}\")"
      ]
    },
    {
      "cell_type": "code",
      "execution_count": null,
      "metadata": {
        "id": "yxRw5vkhtEVA"
      },
      "outputs": [],
      "source": [
        "vectordb.persist() # Let's **save vectordb** so we can use it later!"
      ]
    },
    {
      "cell_type": "code",
      "execution_count": null,
      "metadata": {
        "colab": {
          "base_uri": "https://localhost:8080/"
        },
        "id": "FQeJRg0JtFT0",
        "outputId": "f8ba6e17-8df4-48ee-bef8-d1d24518ecae"
      },
      "outputs": [
        {
          "output_type": "stream",
          "name": "stdout",
          "text": [
            "307\n"
          ]
        }
      ],
      "source": [
        "print(vectordb._collection.count()) # same as number of splits"
      ]
    },
    {
      "cell_type": "markdown",
      "metadata": {
        "id": "VKYq_B6oP8N5"
      },
      "source": [
        "# Retrieval + Question Answering : Connecting with LLMs"
      ]
    },
    {
      "cell_type": "code",
      "execution_count": null,
      "metadata": {
        "colab": {
          "base_uri": "https://localhost:8080/"
        },
        "id": "WZzSS-HPQB8_",
        "outputId": "09de1bdf-46b4-422d-847b-0bed61c658b3"
      },
      "outputs": [
        {
          "output_type": "stream",
          "name": "stdout",
          "text": [
            "gpt-3.5-turbo\n"
          ]
        }
      ],
      "source": [
        "llm_name = \"gpt-3.5-turbo\"\n",
        "print(llm_name)"
      ]
    },
    {
      "cell_type": "markdown",
      "metadata": {
        "id": "7shOc9ohQCbm"
      },
      "source": [
        "**Vector store-backed retriever**"
      ]
    },
    {
      "cell_type": "code",
      "execution_count": null,
      "metadata": {
        "id": "MJs6PE1eQGr5"
      },
      "outputs": [],
      "source": [
        "from langchain_openai import ChatOpenAI\n",
        "llm = ChatOpenAI(model_name=llm_name, temperature=0)"
      ]
    },
    {
      "cell_type": "code",
      "execution_count": null,
      "metadata": {
        "colab": {
          "base_uri": "https://localhost:8080/"
        },
        "id": "S_MNwbx-wFM3",
        "outputId": "aa298047-e6d6-454a-acfb-7567026d3efb"
      },
      "outputs": [
        {
          "output_type": "execute_result",
          "data": {
            "text/plain": [
              "ChatPromptTemplate(input_variables=['context', 'question'], metadata={'lc_hub_owner': 'rlm', 'lc_hub_repo': 'rag-prompt', 'lc_hub_commit_hash': '50442af133e61576e74536c6556cefe1fac147cad032f4377b60c436e6cdcb6e'}, messages=[HumanMessagePromptTemplate(prompt=PromptTemplate(input_variables=['context', 'question'], template=\"You are an assistant for question-answering tasks. Use the following pieces of retrieved context to answer the question. If you don't know the answer, just say that you don't know. Use three sentences maximum and keep the answer concise.\\nQuestion: {question} \\nContext: {context} \\nAnswer:\"))])"
            ]
          },
          "metadata": {},
          "execution_count": 122
        }
      ],
      "source": [
        "from langchain import hub\n",
        "prompt = hub.pull(\"rlm/rag-prompt\")\n",
        "prompt"
      ]
    },
    {
      "cell_type": "code",
      "execution_count": null,
      "metadata": {
        "id": "cCRt-QDowOkP"
      },
      "outputs": [],
      "source": [
        "# Build prompt\n",
        "from langchain.prompts import PromptTemplate\n",
        "template = \"\"\"Use the following pieces of context to answer the question at the end.\n",
        "explain the answer in 1-2 sentences\n",
        "\n",
        "If question is not from the uploaded document, just say that you don't know, don't try to make up an answer.\n",
        "{context}\n",
        "Question: {question}\n",
        "Helpful Answer:\"\"\"\n",
        "QA_CHAIN_PROMPT = PromptTemplate(input_variables=[\"context\", \"question\"],template=template,)"
      ]
    },
    {
      "cell_type": "code",
      "execution_count": null,
      "metadata": {
        "colab": {
          "base_uri": "https://localhost:8080/"
        },
        "id": "orbfTyaRwSxL",
        "outputId": "6c562450-74b9-41c7-9926-21ec47891ab7"
      },
      "outputs": [
        {
          "output_type": "execute_result",
          "data": {
            "text/plain": [
              "PromptTemplate(input_variables=['context', 'question'], template=\"Use the following pieces of context to answer the question at the end.\\nexplain the answer in 1-2 sentences\\n\\nIf question is not from the uploaded document, just say that you don't know, don't try to make up an answer.\\n{context}\\nQuestion: {question}\\nHelpful Answer:\")"
            ]
          },
          "metadata": {},
          "execution_count": 124
        }
      ],
      "source": [
        "QA_CHAIN_PROMPT"
      ]
    },
    {
      "cell_type": "code",
      "execution_count": null,
      "metadata": {
        "id": "iFdepsw4wUJc"
      },
      "outputs": [],
      "source": [
        "# Run chain\n",
        "from langchain.chains import RetrievalQA\n",
        "qa_chain = RetrievalQA.from_chain_type(llm,\n",
        "                                       retriever=vectordb.as_retriever(search_type=\"mmr\",search_kwargs={\"k\": 2, \"fetch_k\":6} ), # \"k\":2, \"fetch_k\":3\n",
        "                                       chain_type_kwargs={\"prompt\": QA_CHAIN_PROMPT},\n",
        "                                       return_source_documents=True\n",
        "                                       )"
      ]
    },
    {
      "cell_type": "code",
      "execution_count": null,
      "metadata": {
        "colab": {
          "base_uri": "https://localhost:8080/"
        },
        "id": "Kgx_hayswZZj",
        "outputId": "a631651d-9948-4075-d1fe-6eb2732fa216"
      },
      "outputs": [
        {
          "output_type": "execute_result",
          "data": {
            "text/plain": [
              "RetrievalQA(combine_documents_chain=StuffDocumentsChain(llm_chain=LLMChain(prompt=PromptTemplate(input_variables=['context', 'question'], template=\"Use the following pieces of context to answer the question at the end.\\nexplain the answer in 1-2 sentences\\n\\nIf question is not from the uploaded document, just say that you don't know, don't try to make up an answer.\\n{context}\\nQuestion: {question}\\nHelpful Answer:\"), llm=ChatOpenAI(client=<openai.resources.chat.completions.Completions object at 0x7f0de36379d0>, async_client=<openai.resources.chat.completions.AsyncCompletions object at 0x7f0dcef91870>, temperature=0.0, openai_api_key=SecretStr('**********'), openai_proxy='')), document_variable_name='context'), return_source_documents=True, retriever=VectorStoreRetriever(tags=['Chroma', 'OpenAIEmbeddings'], vectorstore=<langchain_community.vectorstores.chroma.Chroma object at 0x7f0de2349f00>, search_type='mmr', search_kwargs={'k': 2, 'fetch_k': 6}))"
            ]
          },
          "metadata": {},
          "execution_count": 126
        }
      ],
      "source": [
        "qa_chain"
      ]
    },
    {
      "cell_type": "code",
      "execution_count": null,
      "metadata": {
        "colab": {
          "base_uri": "https://localhost:8080/"
        },
        "id": "RV3133UOwmzB",
        "outputId": "99b84fd5-d1e6-4665-cb2b-1e7a90ca2a07"
      },
      "outputs": [
        {
          "output_type": "execute_result",
          "data": {
            "text/plain": [
              "[Document(page_content='such as floods and droughts.\\nRecall that plants need carbon\\ndioxide for photosynthesis. Fewer trees\\nwould mean that less carbon dioxide will\\nbe used up resulting in its increasedWhat is the purpose of\\nmaking national parks,\\nwildlife sanctuaries and\\nbiosphere reserves?\\nRationalised-2023-24', metadata={'page': 0, 'source': '/content/ncert-textbook-for-class-8-science-chapter-5.pdf'}),\n",
              " Document(page_content='All living beings need water to live.\\nWater is important for pr oper gr owth\\nand development. W ater is absorbed by\\nthe plant r oots. Along with water ,\\nminerals and fertilisers are also\\nabsorbed. Plants contain nearly 90%\\nwater . Water is essential because\\ngermination of seeds does not take place\\nunder dry conditions. Nutrients\\ndissolved in water are transported to\\neach part of the plant. W ater alsoprotects the crop from both frost and\\nhot air currents. To maintain the', metadata={'page': 6, 'source': '/content/ncert-textbook-for-class-8-science-chapter-1.pdf'})]"
            ]
          },
          "metadata": {},
          "execution_count": 127
        }
      ],
      "source": [
        "question = \"what does photosynthesis needs?\"\n",
        "result = qa_chain.invoke({\"query\": question})\n",
        "result[\"source_documents\"]"
      ]
    },
    {
      "cell_type": "code",
      "execution_count": null,
      "metadata": {
        "colab": {
          "base_uri": "https://localhost:8080/",
          "height": 36
        },
        "id": "SXyr_rGQxX4W",
        "outputId": "c4c52e03-22f5-4dd6-fe89-1fd31a7d552c"
      },
      "outputs": [
        {
          "output_type": "execute_result",
          "data": {
            "text/plain": [
              "'Photosynthesis needs carbon dioxide, water, minerals, and sunlight to occur.'"
            ],
            "application/vnd.google.colaboratory.intrinsic+json": {
              "type": "string"
            }
          },
          "metadata": {},
          "execution_count": 128
        }
      ],
      "source": [
        "result[\"result\"]"
      ]
    },
    {
      "cell_type": "code",
      "execution_count": null,
      "metadata": {
        "colab": {
          "base_uri": "https://localhost:8080/",
          "height": 36
        },
        "id": "nCl5gqr_yRwA",
        "outputId": "f6e2187c-4e5b-4f2e-ed55-bc97bc1c9344"
      },
      "outputs": [
        {
          "output_type": "execute_result",
          "data": {
            "text/plain": [
              "\"I'm sorry, I don't have that information.\""
            ],
            "application/vnd.google.colaboratory.intrinsic+json": {
              "type": "string"
            }
          },
          "metadata": {},
          "execution_count": 131
        }
      ],
      "source": [
        "#question = \"Convert the following temperature to celsius scale: a. 300 K b. 573 K\"\n",
        "question = \"who is Prime Minister of INDIA\"\n",
        "result = qa_chain.invoke({\"query\": question})\n",
        "result[\"result\"]\n"
      ]
    },
    {
      "cell_type": "markdown",
      "metadata": {
        "id": "kiZqVhDbQHJa"
      },
      "source": [
        "# Compare two sentences using GPT\n"
      ]
    },
    {
      "cell_type": "code",
      "source": [
        "from openai import OpenAI\n",
        "\n",
        "client = OpenAI()\n",
        "# Function to get the comparison and similarity score from GPT\n",
        "def compare_sentences(question, student_answer, llm_answer):\n",
        "    prompt = f\"\"\"\n",
        "    You are an assistant that evaluate a student's answer to a Correct answer.\n",
        "\n",
        "    question: \"{question}\"\n",
        "    Student's answer: \"{student_answer}\"\n",
        "    Correct answer: \"{llm_answer}\"\n",
        "\n",
        "    for the question the correct answer is the \"{llm_answer}\"\n",
        "    based on this fact evaluate the \"{student_answer}\"  and respond in below format\n",
        "\n",
        "    Answer:Correct/Incorrect/Partially Correct\n",
        "    Feedback:\n",
        "    \"\"\"\n",
        "\n",
        "    response = client.chat.completions.create(\n",
        "        model=\"gpt-3.5-turbo\",  # or \"gpt-4\" if you have access\n",
        "        messages=[\n",
        "            {\"role\": \"system\", \"content\": \"You are a helpful assistant.\"},\n",
        "            {\"role\": \"user\", \"content\": prompt}\n",
        "        ],\n",
        "        max_tokens=150,\n",
        "        temperature=0\n",
        "    )\n",
        "\n",
        "\n",
        "    # Print the raw response for debugging\n",
        "    #print(\"Raw response:\", response)\n",
        "\n",
        "    #score = float(response.choices[0].message['content'].strip())\n",
        "    result = response.choices[0].message.content\n",
        "    print(result)\n",
        "    # Print the extracted result for debugging\n",
        "\n",
        "\n",
        "    return response"
      ],
      "metadata": {
        "id": "HQPS4p3axyPs"
      },
      "execution_count": null,
      "outputs": []
    },
    {
      "cell_type": "code",
      "execution_count": null,
      "metadata": {
        "id": "6HjGsFMFkfzG",
        "colab": {
          "base_uri": "https://localhost:8080/"
        },
        "outputId": "956ac7bb-35a8-41d3-c8c1-adb07f17e1e5"
      },
      "outputs": [
        {
          "output_type": "stream",
          "name": "stdout",
          "text": [
            "Answer: Partially Correct\n",
            "\n",
            "Feedback: The student's answer correctly identifies that oviparous animals reproduce by laying eggs and that these eggs hatch outside the mother's body. However, the correct definition specifies that the eggs develop into young ones outside the female body, which is missing in the student's answer.\n"
          ]
        }
      ],
      "source": [
        "\n",
        "# Example sentences\n",
        "question = \"what are oviparous animals?\"\n",
        "student_answer = \"Animals that reproduce by laying eggs are oviparous. These eggs hatch outside the mother's body.\"\n",
        "result = qa_chain.invoke({\"query\": question})\n",
        "llm_answer = result[\"result\"]\n",
        "\n",
        "response1 = compare_sentences(question,student_answer, llm_answer)\n"
      ]
    },
    {
      "cell_type": "code",
      "execution_count": null,
      "metadata": {
        "id": "u3EjNhIstSK6",
        "colab": {
          "base_uri": "https://localhost:8080/"
        },
        "outputId": "ace9aa29-2cfd-4638-8a62-e611f4fad39a"
      },
      "outputs": [
        {
          "output_type": "stream",
          "name": "stdout",
          "text": [
            "Answer: Incorrect\n",
            "Feedback: The student's answer is incorrect because photosynthesis actually needs carbon dioxide, not oxygen, in order for plants to produce energy through the process of photosynthesis. While sunlight is also necessary for photosynthesis, the student's answer incorrectly includes oxygen as a requirement.\n"
          ]
        }
      ],
      "source": [
        "# Example sentences\n",
        "question = \"what does photosynthesis needs?\"\n",
        "student_answer = \"Photosynthesis needs oxygen , carbon dioxide and sunlight\"\n",
        "result = qa_chain.invoke({\"query\": question})\n",
        "llm_answer = result[\"result\"]\n",
        "\n",
        "response1 = compare_sentences(question,student_answer, llm_answer)"
      ]
    },
    {
      "cell_type": "code",
      "source": [
        "# Example sentences\n",
        "question = \"What are the different types of crops?\"\n",
        "#correct_answer = \"The different types of crops include cereals, vegetables, and fruits.\"\n",
        "student_answer = \"The different types of crops include cereals and fruits\"\n",
        "result = qa_chain.invoke({\"query\": question})\n",
        "llm_answer = result[\"result\"]\n",
        "\n",
        "response1 = compare_sentences(question,student_answer, llm_answer)"
      ],
      "metadata": {
        "colab": {
          "base_uri": "https://localhost:8080/"
        },
        "id": "cirTOUCIzJQA",
        "outputId": "b1158e3a-8e24-4290-a98a-6a0be16adfd0"
      },
      "execution_count": null,
      "outputs": [
        {
          "output_type": "stream",
          "name": "stdout",
          "text": [
            " Is each sperm a single cell?\n",
            "Answer: Incorrect\n",
            "\n",
            "Feedback: The student's answer is unrelated to the question asked about whether each sperm is a single cell. The correct answer should address the structure and characteristics of a sperm cell, not types of crops.\n"
          ]
        }
      ]
    },
    {
      "cell_type": "code",
      "source": [
        "# Example sentences\n",
        "#question = get_random_question()\n",
        "question = \"What are some components or organelles present in the cytoplasm?\"\n",
        "llm_answer = \"Some components or organelles present in the cytoplasm include the nucleus, mitochondria, endoplasmic reticulum, and ribosomes.\"\n",
        "student_answer = \"components or organelles present in the cytoplasm include the nucleus, mitochondria, endoplasmic reticulum.\"\n",
        "result = qa_chain.invoke({\"query\": question})\n",
        "#llm_answer = result[\"result\"]\n",
        "print(question)\n",
        "print(llm_answer)\n",
        "\n",
        "response1 = compare_sentences(question,student_answer, llm_answer)"
      ],
      "metadata": {
        "colab": {
          "base_uri": "https://localhost:8080/"
        },
        "id": "J51ND4VO69Cu",
        "outputId": "bed97ce3-dc75-4ecb-9e78-39d8a5074ae3"
      },
      "execution_count": null,
      "outputs": [
        {
          "output_type": "stream",
          "name": "stdout",
          "text": [
            "What are some components or organelles present in the cytoplasm?\n",
            "Some components or organelles present in the cytoplasm include the nucleus, mitochondria, endoplasmic reticulum, and ribosomes.\n",
            "Answer: Partially Correct\n",
            "Feedback: The student's answer is partially correct. They correctly identified the nucleus, mitochondria, and endoplasmic reticulum as components or organelles present in the cytoplasm. However, they missed mentioning ribosomes, which are also important components found in the cytoplasm.\n"
          ]
        }
      ]
    },
    {
      "cell_type": "markdown",
      "source": [
        "**Question is from Question bank**"
      ],
      "metadata": {
        "id": "AGcEikN7_U2s"
      }
    },
    {
      "cell_type": "code",
      "source": [
        "# Example sentences\n",
        "question = get_random_question()\n",
        "student_answer = \"components or organelles present in the cytoplasm include the nucleus, mitochondria, endoplasmic reticulum.\"\n",
        "result = qa_chain.invoke({\"query\": question})\n",
        "llm_answer = result[\"result\"]\n",
        "print(question)\n",
        "print(llm_answer)\n",
        "\n",
        "response1 = compare_sentences(question,student_answer, llm_answer)"
      ],
      "metadata": {
        "id": "UMSVtJoF8RxN"
      },
      "execution_count": null,
      "outputs": []
    },
    {
      "cell_type": "code",
      "source": [
        "\n",
        "print(result)\n",
        "src=result[\"source_documents\"]\n",
        "print(src)"
      ],
      "metadata": {
        "id": "d7Er0nvj2PiQ"
      },
      "execution_count": null,
      "outputs": []
    },
    {
      "cell_type": "markdown",
      "source": [
        "# Question random pick"
      ],
      "metadata": {
        "id": "01yMg4pK5RYG"
      }
    },
    {
      "cell_type": "code",
      "source": [
        "!pip install pandas openpyxl"
      ],
      "metadata": {
        "colab": {
          "base_uri": "https://localhost:8080/"
        },
        "id": "MqDBKAAi5Wp2",
        "outputId": "bbbb42ed-3a2c-4b0c-9a00-512fb261a7c2"
      },
      "execution_count": null,
      "outputs": [
        {
          "output_type": "stream",
          "name": "stdout",
          "text": [
            "Requirement already satisfied: pandas in /usr/local/lib/python3.10/dist-packages (2.0.3)\n",
            "Requirement already satisfied: openpyxl in /usr/local/lib/python3.10/dist-packages (3.1.4)\n",
            "Requirement already satisfied: python-dateutil>=2.8.2 in /usr/local/lib/python3.10/dist-packages (from pandas) (2.8.2)\n",
            "Requirement already satisfied: pytz>=2020.1 in /usr/local/lib/python3.10/dist-packages (from pandas) (2023.4)\n",
            "Requirement already satisfied: tzdata>=2022.1 in /usr/local/lib/python3.10/dist-packages (from pandas) (2024.1)\n",
            "Requirement already satisfied: numpy>=1.21.0 in /usr/local/lib/python3.10/dist-packages (from pandas) (1.25.2)\n",
            "Requirement already satisfied: et-xmlfile in /usr/local/lib/python3.10/dist-packages (from openpyxl) (1.1.0)\n",
            "Requirement already satisfied: six>=1.5 in /usr/local/lib/python3.10/dist-packages (from python-dateutil>=2.8.2->pandas) (1.16.0)\n"
          ]
        }
      ]
    },
    {
      "cell_type": "code",
      "source": [
        "import pandas as pd\n",
        "import random"
      ],
      "metadata": {
        "id": "SFgxEwLg5OmF"
      },
      "execution_count": null,
      "outputs": []
    },
    {
      "cell_type": "code",
      "source": [
        "# Load the Excel file\n",
        "file_path = '/content/Question_Bank.xlsx'\n",
        "df = pd.read_excel(file_path)"
      ],
      "metadata": {
        "id": "ekbixLZw5gYU"
      },
      "execution_count": null,
      "outputs": []
    },
    {
      "cell_type": "code",
      "source": [
        "df.head()"
      ],
      "metadata": {
        "colab": {
          "base_uri": "https://localhost:8080/",
          "height": 206
        },
        "id": "GReoBisO93C6",
        "outputId": "81600291-5ca0-4a99-96cb-f58fb55ca386"
      },
      "execution_count": null,
      "outputs": [
        {
          "output_type": "execute_result",
          "data": {
            "text/plain": [
              "                                            Question\n",
              "0    Why are chloroplasts found only in plant cells?\n",
              "1  Why are cells considered the basic structural ...\n",
              "2  What is the term for the component present in ...\n",
              "3    What is necessary for photosynthesis in a cell?\n",
              "4  Are there diseases that can be passed on from ..."
            ],
            "text/html": [
              "\n",
              "  <div id=\"df-f7d8e514-a291-4ccd-8277-ad5437e3c412\" class=\"colab-df-container\">\n",
              "    <div>\n",
              "<style scoped>\n",
              "    .dataframe tbody tr th:only-of-type {\n",
              "        vertical-align: middle;\n",
              "    }\n",
              "\n",
              "    .dataframe tbody tr th {\n",
              "        vertical-align: top;\n",
              "    }\n",
              "\n",
              "    .dataframe thead th {\n",
              "        text-align: right;\n",
              "    }\n",
              "</style>\n",
              "<table border=\"1\" class=\"dataframe\">\n",
              "  <thead>\n",
              "    <tr style=\"text-align: right;\">\n",
              "      <th></th>\n",
              "      <th>Question</th>\n",
              "    </tr>\n",
              "  </thead>\n",
              "  <tbody>\n",
              "    <tr>\n",
              "      <th>0</th>\n",
              "      <td>Why are chloroplasts found only in plant cells?</td>\n",
              "    </tr>\n",
              "    <tr>\n",
              "      <th>1</th>\n",
              "      <td>Why are cells considered the basic structural ...</td>\n",
              "    </tr>\n",
              "    <tr>\n",
              "      <th>2</th>\n",
              "      <td>What is the term for the component present in ...</td>\n",
              "    </tr>\n",
              "    <tr>\n",
              "      <th>3</th>\n",
              "      <td>What is necessary for photosynthesis in a cell?</td>\n",
              "    </tr>\n",
              "    <tr>\n",
              "      <th>4</th>\n",
              "      <td>Are there diseases that can be passed on from ...</td>\n",
              "    </tr>\n",
              "  </tbody>\n",
              "</table>\n",
              "</div>\n",
              "    <div class=\"colab-df-buttons\">\n",
              "\n",
              "  <div class=\"colab-df-container\">\n",
              "    <button class=\"colab-df-convert\" onclick=\"convertToInteractive('df-f7d8e514-a291-4ccd-8277-ad5437e3c412')\"\n",
              "            title=\"Convert this dataframe to an interactive table.\"\n",
              "            style=\"display:none;\">\n",
              "\n",
              "  <svg xmlns=\"http://www.w3.org/2000/svg\" height=\"24px\" viewBox=\"0 -960 960 960\">\n",
              "    <path d=\"M120-120v-720h720v720H120Zm60-500h600v-160H180v160Zm220 220h160v-160H400v160Zm0 220h160v-160H400v160ZM180-400h160v-160H180v160Zm440 0h160v-160H620v160ZM180-180h160v-160H180v160Zm440 0h160v-160H620v160Z\"/>\n",
              "  </svg>\n",
              "    </button>\n",
              "\n",
              "  <style>\n",
              "    .colab-df-container {\n",
              "      display:flex;\n",
              "      gap: 12px;\n",
              "    }\n",
              "\n",
              "    .colab-df-convert {\n",
              "      background-color: #E8F0FE;\n",
              "      border: none;\n",
              "      border-radius: 50%;\n",
              "      cursor: pointer;\n",
              "      display: none;\n",
              "      fill: #1967D2;\n",
              "      height: 32px;\n",
              "      padding: 0 0 0 0;\n",
              "      width: 32px;\n",
              "    }\n",
              "\n",
              "    .colab-df-convert:hover {\n",
              "      background-color: #E2EBFA;\n",
              "      box-shadow: 0px 1px 2px rgba(60, 64, 67, 0.3), 0px 1px 3px 1px rgba(60, 64, 67, 0.15);\n",
              "      fill: #174EA6;\n",
              "    }\n",
              "\n",
              "    .colab-df-buttons div {\n",
              "      margin-bottom: 4px;\n",
              "    }\n",
              "\n",
              "    [theme=dark] .colab-df-convert {\n",
              "      background-color: #3B4455;\n",
              "      fill: #D2E3FC;\n",
              "    }\n",
              "\n",
              "    [theme=dark] .colab-df-convert:hover {\n",
              "      background-color: #434B5C;\n",
              "      box-shadow: 0px 1px 3px 1px rgba(0, 0, 0, 0.15);\n",
              "      filter: drop-shadow(0px 1px 2px rgba(0, 0, 0, 0.3));\n",
              "      fill: #FFFFFF;\n",
              "    }\n",
              "  </style>\n",
              "\n",
              "    <script>\n",
              "      const buttonEl =\n",
              "        document.querySelector('#df-f7d8e514-a291-4ccd-8277-ad5437e3c412 button.colab-df-convert');\n",
              "      buttonEl.style.display =\n",
              "        google.colab.kernel.accessAllowed ? 'block' : 'none';\n",
              "\n",
              "      async function convertToInteractive(key) {\n",
              "        const element = document.querySelector('#df-f7d8e514-a291-4ccd-8277-ad5437e3c412');\n",
              "        const dataTable =\n",
              "          await google.colab.kernel.invokeFunction('convertToInteractive',\n",
              "                                                    [key], {});\n",
              "        if (!dataTable) return;\n",
              "\n",
              "        const docLinkHtml = 'Like what you see? Visit the ' +\n",
              "          '<a target=\"_blank\" href=https://colab.research.google.com/notebooks/data_table.ipynb>data table notebook</a>'\n",
              "          + ' to learn more about interactive tables.';\n",
              "        element.innerHTML = '';\n",
              "        dataTable['output_type'] = 'display_data';\n",
              "        await google.colab.output.renderOutput(dataTable, element);\n",
              "        const docLink = document.createElement('div');\n",
              "        docLink.innerHTML = docLinkHtml;\n",
              "        element.appendChild(docLink);\n",
              "      }\n",
              "    </script>\n",
              "  </div>\n",
              "\n",
              "\n",
              "<div id=\"df-f5d5a87f-742c-4b6a-8d44-18018f6b08c3\">\n",
              "  <button class=\"colab-df-quickchart\" onclick=\"quickchart('df-f5d5a87f-742c-4b6a-8d44-18018f6b08c3')\"\n",
              "            title=\"Suggest charts\"\n",
              "            style=\"display:none;\">\n",
              "\n",
              "<svg xmlns=\"http://www.w3.org/2000/svg\" height=\"24px\"viewBox=\"0 0 24 24\"\n",
              "     width=\"24px\">\n",
              "    <g>\n",
              "        <path d=\"M19 3H5c-1.1 0-2 .9-2 2v14c0 1.1.9 2 2 2h14c1.1 0 2-.9 2-2V5c0-1.1-.9-2-2-2zM9 17H7v-7h2v7zm4 0h-2V7h2v10zm4 0h-2v-4h2v4z\"/>\n",
              "    </g>\n",
              "</svg>\n",
              "  </button>\n",
              "\n",
              "<style>\n",
              "  .colab-df-quickchart {\n",
              "      --bg-color: #E8F0FE;\n",
              "      --fill-color: #1967D2;\n",
              "      --hover-bg-color: #E2EBFA;\n",
              "      --hover-fill-color: #174EA6;\n",
              "      --disabled-fill-color: #AAA;\n",
              "      --disabled-bg-color: #DDD;\n",
              "  }\n",
              "\n",
              "  [theme=dark] .colab-df-quickchart {\n",
              "      --bg-color: #3B4455;\n",
              "      --fill-color: #D2E3FC;\n",
              "      --hover-bg-color: #434B5C;\n",
              "      --hover-fill-color: #FFFFFF;\n",
              "      --disabled-bg-color: #3B4455;\n",
              "      --disabled-fill-color: #666;\n",
              "  }\n",
              "\n",
              "  .colab-df-quickchart {\n",
              "    background-color: var(--bg-color);\n",
              "    border: none;\n",
              "    border-radius: 50%;\n",
              "    cursor: pointer;\n",
              "    display: none;\n",
              "    fill: var(--fill-color);\n",
              "    height: 32px;\n",
              "    padding: 0;\n",
              "    width: 32px;\n",
              "  }\n",
              "\n",
              "  .colab-df-quickchart:hover {\n",
              "    background-color: var(--hover-bg-color);\n",
              "    box-shadow: 0 1px 2px rgba(60, 64, 67, 0.3), 0 1px 3px 1px rgba(60, 64, 67, 0.15);\n",
              "    fill: var(--button-hover-fill-color);\n",
              "  }\n",
              "\n",
              "  .colab-df-quickchart-complete:disabled,\n",
              "  .colab-df-quickchart-complete:disabled:hover {\n",
              "    background-color: var(--disabled-bg-color);\n",
              "    fill: var(--disabled-fill-color);\n",
              "    box-shadow: none;\n",
              "  }\n",
              "\n",
              "  .colab-df-spinner {\n",
              "    border: 2px solid var(--fill-color);\n",
              "    border-color: transparent;\n",
              "    border-bottom-color: var(--fill-color);\n",
              "    animation:\n",
              "      spin 1s steps(1) infinite;\n",
              "  }\n",
              "\n",
              "  @keyframes spin {\n",
              "    0% {\n",
              "      border-color: transparent;\n",
              "      border-bottom-color: var(--fill-color);\n",
              "      border-left-color: var(--fill-color);\n",
              "    }\n",
              "    20% {\n",
              "      border-color: transparent;\n",
              "      border-left-color: var(--fill-color);\n",
              "      border-top-color: var(--fill-color);\n",
              "    }\n",
              "    30% {\n",
              "      border-color: transparent;\n",
              "      border-left-color: var(--fill-color);\n",
              "      border-top-color: var(--fill-color);\n",
              "      border-right-color: var(--fill-color);\n",
              "    }\n",
              "    40% {\n",
              "      border-color: transparent;\n",
              "      border-right-color: var(--fill-color);\n",
              "      border-top-color: var(--fill-color);\n",
              "    }\n",
              "    60% {\n",
              "      border-color: transparent;\n",
              "      border-right-color: var(--fill-color);\n",
              "    }\n",
              "    80% {\n",
              "      border-color: transparent;\n",
              "      border-right-color: var(--fill-color);\n",
              "      border-bottom-color: var(--fill-color);\n",
              "    }\n",
              "    90% {\n",
              "      border-color: transparent;\n",
              "      border-bottom-color: var(--fill-color);\n",
              "    }\n",
              "  }\n",
              "</style>\n",
              "\n",
              "  <script>\n",
              "    async function quickchart(key) {\n",
              "      const quickchartButtonEl =\n",
              "        document.querySelector('#' + key + ' button');\n",
              "      quickchartButtonEl.disabled = true;  // To prevent multiple clicks.\n",
              "      quickchartButtonEl.classList.add('colab-df-spinner');\n",
              "      try {\n",
              "        const charts = await google.colab.kernel.invokeFunction(\n",
              "            'suggestCharts', [key], {});\n",
              "      } catch (error) {\n",
              "        console.error('Error during call to suggestCharts:', error);\n",
              "      }\n",
              "      quickchartButtonEl.classList.remove('colab-df-spinner');\n",
              "      quickchartButtonEl.classList.add('colab-df-quickchart-complete');\n",
              "    }\n",
              "    (() => {\n",
              "      let quickchartButtonEl =\n",
              "        document.querySelector('#df-f5d5a87f-742c-4b6a-8d44-18018f6b08c3 button');\n",
              "      quickchartButtonEl.style.display =\n",
              "        google.colab.kernel.accessAllowed ? 'block' : 'none';\n",
              "    })();\n",
              "  </script>\n",
              "</div>\n",
              "\n",
              "    </div>\n",
              "  </div>\n"
            ],
            "application/vnd.google.colaboratory.intrinsic+json": {
              "type": "dataframe",
              "variable_name": "df",
              "summary": "{\n  \"name\": \"df\",\n  \"rows\": 7,\n  \"fields\": [\n    {\n      \"column\": \"Question\",\n      \"properties\": {\n        \"dtype\": \"string\",\n        \"num_unique_values\": 7,\n        \"samples\": [\n          \"Why are chloroplasts found only in plant cells?\",\n          \"Why are cells considered the basic structural units of living organisms?\",\n          \"2. How are genetic diseases carried from parents to offspring?\"\n        ],\n        \"semantic_type\": \"\",\n        \"description\": \"\"\n      }\n    }\n  ]\n}"
            }
          },
          "metadata": {},
          "execution_count": 111
        }
      ]
    },
    {
      "cell_type": "code",
      "source": [
        "# Function to get a random question\n",
        "def get_random_question():\n",
        "    random_index = random.randint(0, len(df) - 1)\n",
        "    question = df.iloc[random_index][0]\n",
        "    return question"
      ],
      "metadata": {
        "id": "jOeL7uXq6XQK"
      },
      "execution_count": null,
      "outputs": []
    },
    {
      "cell_type": "code",
      "source": [
        "# Call the function and store the result in the variable\n",
        "random = get_random_question()\n"
      ],
      "metadata": {
        "id": "GDBTemvr5yvl"
      },
      "execution_count": null,
      "outputs": []
    },
    {
      "cell_type": "code",
      "source": [
        "# Display the question\n",
        "print(rand)"
      ],
      "metadata": {
        "colab": {
          "base_uri": "https://localhost:8080/"
        },
        "id": "7bOqaklM51Q8",
        "outputId": "58d559d6-8131-400b-ddfe-91efa32e7ea7"
      },
      "execution_count": null,
      "outputs": [
        {
          "output_type": "stream",
          "name": "stdout",
          "text": [
            "What is necessary for photosynthesis in a cell?\n"
          ]
        }
      ]
    }
  ],
  "metadata": {
    "accelerator": "GPU",
    "colab": {
      "gpuType": "T4",
      "provenance": []
    },
    "kernelspec": {
      "display_name": "Python 3",
      "name": "python3"
    },
    "language_info": {
      "name": "python"
    }
  },
  "nbformat": 4,
  "nbformat_minor": 0
}